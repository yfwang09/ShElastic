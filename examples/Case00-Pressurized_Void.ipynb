{
  "nbformat": 4,
  "nbformat_minor": 0,
  "metadata": {
    "kernelspec": {
      "display_name": "Python 3",
      "language": "python",
      "name": "python3"
    },
    "language_info": {
      "codemirror_mode": {
        "name": "ipython",
        "version": 3
      },
      "file_extension": ".py",
      "mimetype": "text/x-python",
      "name": "python",
      "nbconvert_exporter": "python",
      "pygments_lexer": "ipython3",
      "version": "3.6.8"
    },
    "toc": {
      "base_numbering": 1,
      "nav_menu": {},
      "number_sections": true,
      "sideBar": true,
      "skip_h1_title": false,
      "title_cell": "Table of Contents",
      "title_sidebar": "Contents",
      "toc_cell": false,
      "toc_position": {},
      "toc_section_display": true,
      "toc_window_display": false
    },
    "colab": {
      "name": "Case00-Pressurized_Void.ipynb",
      "provenance": [],
      "include_colab_link": true
    }
  },
  "cells": [
    {
      "cell_type": "markdown",
      "metadata": {
        "id": "view-in-github",
        "colab_type": "text"
      },
      "source": [
        "<a href=\"https://colab.research.google.com/github/yfwang09/ShElastic/blob/master/examples/Case00-Pressurized_Void.ipynb\" target=\"_parent\"><img src=\"https://colab.research.google.com/assets/colab-badge.svg\" alt=\"Open In Colab\"/></a>"
      ]
    },
    {
      "cell_type": "markdown",
      "metadata": {
        "id": "38e9Y4zBVl13",
        "colab_type": "text"
      },
      "source": [
        "# Solving the pressurized void problem\n",
        "\n",
        "**Run the following cell if you opened this notebook on Colab:**"
      ]
    },
    {
      "cell_type": "code",
      "metadata": {
        "id": "5y6nz5L5Y7Xp",
        "colab_type": "code",
        "colab": {
          "base_uri": "https://localhost:8080/",
          "height": 598
        },
        "outputId": "4c192a7c-841e-4264-f353-4d0d19a16ba9"
      },
      "source": [
        "# If you run this notebook on colab, run this cell\n",
        "import os\n",
        "codepath = '/content/ShElastic'\n",
        "if not os.path.exists(codepath):\n",
        "    !git clone https://github.com/yfwang09/ShElastic.git \n",
        "    !pip install pyshtools==4.6.2\n",
        "os.chdir(os.path.join(codepath, 'examples'))"
      ],
      "execution_count": 1,
      "outputs": [
        {
          "output_type": "stream",
          "text": [
            "Cloning into 'ShElastic'...\n",
            "remote: Enumerating objects: 114, done.\u001b[K\n",
            "remote: Counting objects: 100% (114/114), done.\u001b[K\n",
            "remote: Compressing objects: 100% (99/99), done.\u001b[K\n",
            "remote: Total 1195 (delta 57), reused 40 (delta 15), pack-reused 1081\u001b[K\n",
            "Receiving objects: 100% (1195/1195), 150.47 MiB | 31.00 MiB/s, done.\n",
            "Resolving deltas: 100% (443/443), done.\n",
            "Collecting pyshtools==4.6.2\n",
            "\u001b[?25l  Downloading https://files.pythonhosted.org/packages/11/24/f0428beea230f089b6e575abb62aa438e2aff34e4c7277c78bf9f94eaa68/pyshtools-4.6.2-cp36-cp36m-manylinux1_x86_64.whl (10.8MB)\n",
            "\u001b[K     |████████████████████████████████| 10.8MB 274kB/s \n",
            "\u001b[?25hRequirement already satisfied: astropy in /usr/local/lib/python3.6/dist-packages (from pyshtools==4.6.2) (4.0.1.post1)\n",
            "Requirement already satisfied: requests in /usr/local/lib/python3.6/dist-packages (from pyshtools==4.6.2) (2.23.0)\n",
            "Requirement already satisfied: numpy>=1.18.1 in /usr/local/lib/python3.6/dist-packages (from pyshtools==4.6.2) (1.18.5)\n",
            "Requirement already satisfied: scipy>=0.14.0 in /usr/local/lib/python3.6/dist-packages (from pyshtools==4.6.2) (1.4.1)\n",
            "Requirement already satisfied: xarray in /usr/local/lib/python3.6/dist-packages (from pyshtools==4.6.2) (0.15.1)\n",
            "Requirement already satisfied: matplotlib in /usr/local/lib/python3.6/dist-packages (from pyshtools==4.6.2) (3.2.2)\n",
            "Requirement already satisfied: chardet<4,>=3.0.2 in /usr/local/lib/python3.6/dist-packages (from requests->pyshtools==4.6.2) (3.0.4)\n",
            "Requirement already satisfied: urllib3!=1.25.0,!=1.25.1,<1.26,>=1.21.1 in /usr/local/lib/python3.6/dist-packages (from requests->pyshtools==4.6.2) (1.24.3)\n",
            "Requirement already satisfied: idna<3,>=2.5 in /usr/local/lib/python3.6/dist-packages (from requests->pyshtools==4.6.2) (2.10)\n",
            "Requirement already satisfied: certifi>=2017.4.17 in /usr/local/lib/python3.6/dist-packages (from requests->pyshtools==4.6.2) (2020.6.20)\n",
            "Requirement already satisfied: pandas>=0.25 in /usr/local/lib/python3.6/dist-packages (from xarray->pyshtools==4.6.2) (1.0.5)\n",
            "Requirement already satisfied: setuptools>=41.2 in /usr/local/lib/python3.6/dist-packages (from xarray->pyshtools==4.6.2) (50.3.0)\n",
            "Requirement already satisfied: python-dateutil>=2.1 in /usr/local/lib/python3.6/dist-packages (from matplotlib->pyshtools==4.6.2) (2.8.1)\n",
            "Requirement already satisfied: kiwisolver>=1.0.1 in /usr/local/lib/python3.6/dist-packages (from matplotlib->pyshtools==4.6.2) (1.2.0)\n",
            "Requirement already satisfied: pyparsing!=2.0.4,!=2.1.2,!=2.1.6,>=2.0.1 in /usr/local/lib/python3.6/dist-packages (from matplotlib->pyshtools==4.6.2) (2.4.7)\n",
            "Requirement already satisfied: cycler>=0.10 in /usr/local/lib/python3.6/dist-packages (from matplotlib->pyshtools==4.6.2) (0.10.0)\n",
            "Requirement already satisfied: pytz>=2017.2 in /usr/local/lib/python3.6/dist-packages (from pandas>=0.25->xarray->pyshtools==4.6.2) (2018.9)\n",
            "Requirement already satisfied: six>=1.5 in /usr/local/lib/python3.6/dist-packages (from python-dateutil>=2.1->matplotlib->pyshtools==4.6.2) (1.15.0)\n",
            "Installing collected packages: pyshtools\n",
            "Successfully installed pyshtools-4.6.2\n"
          ],
          "name": "stdout"
        }
      ]
    },
    {
      "cell_type": "code",
      "metadata": {
        "id": "SISbPN0fVl16",
        "colab_type": "code",
        "colab": {}
      },
      "source": [
        "import numpy as np\n",
        "import matplotlib.pyplot as plt\n",
        "import pyshtools\n",
        "import sys, os\n",
        "\n",
        "sys.path.append('..')\n",
        "from shelastic.shutil import SphCoord_to_CartCoord, CartCoord_to_SphCoord\n",
        "from shelastic.shutil import SHCilmToVector, SHVectorToCilm, lmk2K, K2lmk"
      ],
      "execution_count": 2,
      "outputs": []
    },
    {
      "cell_type": "markdown",
      "metadata": {
        "id": "aSrFHa6nVl2F",
        "colab_type": "text"
      },
      "source": [
        "**We first set up pressure $p$, radius of the spherical void $a$, shear modulus $\\mu$ and Poisson's ratio $\\nu$.**"
      ]
    },
    {
      "cell_type": "code",
      "metadata": {
        "id": "ODAW3s9VVl2L",
        "colab_type": "code",
        "colab": {}
      },
      "source": [
        "p = 1\n",
        "a = 1\n",
        "mu = 1\n",
        "nu = 1./3"
      ],
      "execution_count": 3,
      "outputs": []
    },
    {
      "cell_type": "markdown",
      "metadata": {
        "id": "-XPTutbXVl2U",
        "colab_type": "text"
      },
      "source": [
        "**Maximum size for loading coefficient matrix, $l_{J,max}$ for number of rows, $l_{K,max}$ for number of columns**"
      ]
    },
    {
      "cell_type": "code",
      "metadata": {
        "id": "88Z_9ZGYVl2W",
        "colab_type": "code",
        "colab": {}
      },
      "source": [
        "#### traction mode matrix info ####\n",
        "modepath = '../shelastic/default_modes'\n",
        "lJmax = 6 # max l degree for saving a single mode\n",
        "lKmax = 3 # max cutoff l degree for modes\n",
        "LJ = (lJmax+1)**2\n",
        "LK = (lKmax+1)**2"
      ],
      "execution_count": 4,
      "outputs": []
    },
    {
      "cell_type": "markdown",
      "metadata": {
        "id": "HTMnB00ZVl2d",
        "colab_type": "text"
      },
      "source": [
        "**Spherical and Cartesian coordinates of surface mesh on the void**"
      ]
    },
    {
      "cell_type": "code",
      "metadata": {
        "id": "irIFFcJbVl2e",
        "colab_type": "code",
        "colab": {}
      },
      "source": [
        "#### create meshgrid for evaluation ####\n",
        "## DH2 mesh\n",
        "#Ngrid = 100\n",
        "#theta = (np.arange(0,Ngrid)+0.0)/Ngrid*(np.pi)\n",
        "#phi = (np.arange(0,2*Ngrid)+0.0)/(2*Ngrid)*(2*np.pi)\n",
        "## GLQ mesh\n",
        "latglq, longlq = pyshtools.expand.GLQGridCoord(lJmax, extend=True)\n",
        "theta = np.deg2rad(90 - latglq)\n",
        "phi = np.deg2rad(longlq)\n",
        "\n",
        "THETA,PHI = np.meshgrid(theta, phi)\n",
        "R = np.ones_like(THETA)\n",
        "X, Y, Z = SphCoord_to_CartCoord(R, THETA, PHI)\n",
        "N = -np.stack((X/R, Y/R, Z/R), axis=-1)"
      ],
      "execution_count": 5,
      "outputs": []
    },
    {
      "cell_type": "code",
      "metadata": {
        "id": "4vL38kg0Vl2l",
        "colab_type": "code",
        "colab": {}
      },
      "source": [
        "#### generate boundary condition ####\n",
        "S_inf = np.zeros(X.shape+(3, 3))\n",
        "S_inf[...,0,0] = p\n",
        "S_inf[...,1,1] = p\n",
        "S_inf[...,2,2] = p\n",
        "\n",
        "T_inf = np.einsum('ijkl,ijl->ijk', S_inf, N)\n",
        "T_usr_mesh = T_inf.astype(np.complex)\n",
        "T_usr_vec = np.empty((3, LJ), dtype=np.complex)\n",
        "for k in range(3):\n",
        "    T_usr_grid = pyshtools.SHGrid.from_array(T_usr_mesh[...,k].T, grid='GLQ')\n",
        "    T_usr_cilm = T_usr_grid.expand()\n",
        "    T_usr_vec[k, :] = SHCilmToVector(T_usr_cilm.to_array(), lmax = lJmax)\n",
        "T_usr_vec = T_usr_vec.flatten()"
      ],
      "execution_count": 6,
      "outputs": []
    },
    {
      "cell_type": "code",
      "metadata": {
        "id": "DcHjE0byVl2t",
        "colab_type": "code",
        "colab": {
          "base_uri": "https://localhost:8080/",
          "height": 36
        },
        "outputId": "9f9e23e2-46fd-4251-8fa0-ee5ec24a85ee"
      },
      "source": [
        "#### load the full and sub matrix ####\n",
        "import scipy.sparse as spm\n",
        "from scipy.io import loadmat, savemat\n",
        "from shelastic.shbv import generate_submat\n",
        "import time\n",
        "\n",
        "ticT = time.time()\n",
        "shtype = 'irr'\n",
        "Tmodes = loadmat(os.path.join(modepath, 'Tmodes.mat'))\n",
        "Cmat = generate_submat(Tmodes, mu, nu, lKmax, lJmax, shtype=shtype)\n",
        "Umodes = loadmat(os.path.join(modepath, 'Umodes.mat'))\n",
        "Dmat = generate_submat(Umodes, mu, nu, lKmax, lJmax, shtype=shtype)\n",
        "Smodes = loadmat(os.path.join(modepath, 'Smodes.mat'))\n",
        "Smodes = generate_submat(Smodes, mu, nu, lKmax, lJmax, shtype=shtype)\n",
        "tocT = time.time()\n",
        "print('Time for loading SH modes: %.4fs'%(tocT-ticT))"
      ],
      "execution_count": 7,
      "outputs": [
        {
          "output_type": "stream",
          "text": [
            "Time for loading SH modes: 0.1453s\n"
          ],
          "name": "stdout"
        }
      ]
    },
    {
      "cell_type": "code",
      "metadata": {
        "id": "mg5kMhklVl22",
        "colab_type": "code",
        "colab": {
          "base_uri": "https://localhost:8080/",
          "height": 148
        },
        "outputId": "f2f770aa-e58d-4df2-c82c-91607af32ff3"
      },
      "source": [
        "from shelastic.shbv import print_SH_mode\n",
        "from scipy.sparse.linalg import lsqr\n",
        "\n",
        "ticA = time.time()\n",
        "A = lsqr(Cmat, T_usr_vec.T)\n",
        "tocA = time.time()\n",
        "print('Residual:', A[3], 'Time:', tocA-ticA)\n",
        "A_sol = np.zeros_like(A[0])\n",
        "A_sol[np.abs(A[0]) > 1e-8] = A[0][np.abs(A[0]) > 1e-8]\n",
        "print('Solution:', A_sol.size)\n",
        "index_sol = print_SH_mode(A_sol, m_dir=3)"
      ],
      "execution_count": 8,
      "outputs": [
        {
          "output_type": "stream",
          "text": [
            "Residual: 1.0422841565110273e-15 Time: 0.0010967254638671875\n",
            "Solution: 48\n",
            "index: 1 (1, -1, 0) coeff: (0.05567022142689044+8.396035419845377e-18j)\n",
            "index: 3 (1, 1, 0) coeff: (-0.055670221426890446+1.2339625481390787e-17j)\n",
            "index: 17 (1, -1, 1) coeff: (-1.27801084382471e-17+0.05567022142689044j)\n",
            "index: 19 (1, 1, 1) coeff: (8.830873854617681e-18+0.055670221426890446j)\n",
            "index: 34 (1, 0, 2) coeff: (-0.07872958216222174+7.065439344349434e-19j)\n"
          ],
          "name": "stdout"
        }
      ]
    },
    {
      "cell_type": "code",
      "metadata": {
        "scrolled": false,
        "id": "PqEfmUMZVl27",
        "colab_type": "code",
        "colab": {
          "base_uri": "https://localhost:8080/",
          "height": 316
        },
        "outputId": "57641254-90d6-44f6-ad4d-093fb3ea95fd"
      },
      "source": [
        "# Test the energy\n",
        "from shelastic.shbv import fast_energy_solution\n",
        "from shelastic.shvis import plotfv\n",
        "\n",
        "# orthogonization of the spherical harmonics\n",
        "E1 = -fast_energy_solution(A_sol, Dmat, Cmat)\n",
        "print('energy from SH method:', E1)\n",
        "\n",
        "# direct evaluation\n",
        "uvec = Dmat.dot(A_sol)\n",
        "Ku = np.nonzero(np.abs(uvec) > 1e-8)[0]\n",
        "Kt = np.nonzero(np.abs(T_usr_vec) > 1e-8)[0]\n",
        "np.set_printoptions(precision=4)\n",
        "print('uvec:')\n",
        "print('K', Ku)\n",
        "print(np.array(K2lmk(Ku, lJmax)))\n",
        "print('ulmk', uvec[Ku])\n",
        "print('Tvec:')\n",
        "print('K', Kt)\n",
        "print(np.array(K2lmk(Kt, lJmax)))\n",
        "print('Tlmk', T_usr_vec[Kt])\n",
        "\n",
        "cvec = uvec.reshape(3, -1)\n",
        "Tcvec= Cmat.dot(A_sol).reshape(3, -1)\n",
        "Tmesh = np.zeros_like(T_inf)\n",
        "umesh = np.zeros_like(T_inf)\n",
        "for k in range(3):\n",
        "    ucoeff = pyshtools.SHCoeffs.from_array(SHVectorToCilm(cvec[k, :]))\n",
        "    ugrid = ucoeff.expand('GLQ')\n",
        "    umesh[..., k] = ugrid.to_array().T.real\n",
        "    Tcoeff = pyshtools.SHCoeffs.from_array(SHVectorToCilm(Tcvec[k, :]))\n",
        "    Tgrid = Tcoeff.expand('GLQ')\n",
        "    Tmesh[..., k] = Tgrid.to_array().T.real\n",
        "\n",
        "dt = np.gradient(THETA, axis=1)\n",
        "dp = np.gradient(PHI, axis=0)\n",
        "dA = np.sin(THETA)*dp*dt\n",
        "E2 = (1/2 *np.sum(umesh*Tmesh, axis=-1)*dA).sum()\n",
        "\n",
        "print('numerical energy:', E2)\n",
        "plt.show()"
      ],
      "execution_count": 9,
      "outputs": [
        {
          "output_type": "stream",
          "text": [
            "energy from SH method: 1.5707963267948977\n",
            "uvec:\n",
            "K [  1   3  50  52 100]\n",
            "[[ 1  1  1  1  1]\n",
            " [-1  1 -1  1  0]\n",
            " [ 0  0  1  1  2]]\n",
            "ulmk [-1.0206e-01-1.0513e-17j  1.0206e-01-1.5939e-17j  1.6500e-17-1.0206e-01j\n",
            " -1.3973e-17-1.0206e-01j  1.4434e-01-1.4994e-18j]\n",
            "Tvec:\n",
            "K [  1   3  50  52 100]\n",
            "[[ 1  1  1  1  1]\n",
            " [-1  1 -1  1  0]\n",
            " [ 0  0  1  1  2]]\n",
            "Tlmk [ 4.0825e-01+3.4369e-17j -4.0825e-01+3.4369e-17j -1.6608e-18+4.0825e-01j\n",
            "  1.6608e-18+4.0825e-01j -5.7735e-01+0.0000e+00j]\n",
            "numerical energy: -1.6927529303386242\n"
          ],
          "name": "stdout"
        }
      ]
    },
    {
      "cell_type": "markdown",
      "metadata": {
        "id": "LR11ZEtnVl3C",
        "colab_type": "text"
      },
      "source": [
        "## Verify the SH method with FEM"
      ]
    },
    {
      "cell_type": "code",
      "metadata": {
        "id": "tK94H3FpVl3D",
        "colab_type": "code",
        "colab": {
          "base_uri": "https://localhost:8080/",
          "height": 36
        },
        "outputId": "665305cc-e909-430d-cdff-7b7e178b0150"
      },
      "source": [
        "from shelastic.shbv import fast_stress_solution\n",
        "\n",
        "x_grid = np.linspace(1.01, 4.5)\n",
        "Y, X, Z = np.meshgrid(x_grid, [0, ], [0, ])\n",
        "R, THETA, PHI = CartCoord_to_SphCoord(X,Y,Z)\n",
        "\n",
        "tic = time.time()\n",
        "sigma_tot = fast_stress_solution(A_sol, X, Y, Z, Smodes, lKmax, lJmax)\n",
        "toc = time.time()\n",
        "print(sigma_tot.shape, toc-tic)"
      ],
      "execution_count": 10,
      "outputs": [
        {
          "output_type": "stream",
          "text": [
            "(1, 50, 1, 3, 3) 0.01973271369934082\n"
          ],
          "name": "stdout"
        }
      ]
    },
    {
      "cell_type": "code",
      "metadata": {
        "id": "wEdPZEtzVl3J",
        "colab_type": "code",
        "colab": {
          "base_uri": "https://localhost:8080/",
          "height": 316
        },
        "outputId": "a25e546e-cf1f-406c-861a-133b23d32832"
      },
      "source": [
        "# FEM result\n",
        "FEM_1 = loadmat('../testdata/uniform_pressure_case_1.mat')['M'][2::4,:]\n",
        "FEM_2 = loadmat('../testdata/uniform_pressure_case_2.mat')['M']\n",
        "\n",
        "print(FEM_1.shape, FEM_2.shape)#, FEM.shape)\n",
        "\n",
        "C = -p * a**3\n",
        "D = 0\n",
        "srr = C/R**3 + D\n",
        "\n",
        "plt.plot(x_grid, srr.flatten(), label='Analytical')\n",
        "plt.plot(FEM_1[:, 0],-FEM_1[:, 1], 's', label='FEM1: 7m21s')\n",
        "plt.plot(FEM_2[:, 0],-FEM_2[:, 1], '*',  label='FEM2: 8s')\n",
        "total_time = 1000*(toc-tic+tocA-ticA)\n",
        "plt.plot(x_grid, sigma_tot[...,1,1].flatten(), 'o', label='ShElastic: %.0fms' % total_time)\n",
        "plt.xlim(1, 3)\n",
        "plt.ylim(-1, 0)\n",
        "plt.tick_params(labelsize=14)\n",
        "plt.xlabel(r'$x/r_0$', fontsize=20)\n",
        "plt.ylabel(r'$\\sigma_{rr}$', fontsize=20)\n",
        "plt.legend(fontsize=14)\n",
        "plt.tight_layout()\n",
        "plt.savefig('../figures/case1-result.png', dpi=1000, transparent=True)\n",
        "plt.show()"
      ],
      "execution_count": 11,
      "outputs": [
        {
          "output_type": "stream",
          "text": [
            "(30, 2) (19, 2)\n"
          ],
          "name": "stdout"
        },
        {
          "output_type": "display_data",
          "data": {
            "image/png": "[encoded data removed]",
            "text/plain": [
              "<Figure size 432x288 with 1 Axes>"
            ]
          },
          "metadata": {
            "tags": [],
            "needs_background": "light"
          }
        }
      ]
    }
  ]
}