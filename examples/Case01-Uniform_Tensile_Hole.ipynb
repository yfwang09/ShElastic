{
  "nbformat": 4,
  "nbformat_minor": 0,
  "metadata": {
    "kernelspec": {
      "display_name": "Python 3",
      "language": "python",
      "name": "python3"
    },
    "language_info": {
      "codemirror_mode": {
        "name": "ipython",
        "version": 3
      },
      "file_extension": ".py",
      "mimetype": "text/x-python",
      "name": "python",
      "nbconvert_exporter": "python",
      "pygments_lexer": "ipython3",
      "version": "3.6.7"
    },
    "toc": {
      "base_numbering": 1,
      "nav_menu": {},
      "number_sections": true,
      "sideBar": true,
      "skip_h1_title": false,
      "title_cell": "Table of Contents",
      "title_sidebar": "Contents",
      "toc_cell": false,
      "toc_position": {},
      "toc_section_display": true,
      "toc_window_display": false
    },
    "colab": {
      "name": "Case01-Uniform_Tensile_Hole.ipynb",
      "provenance": [],
      "include_colab_link": true
    }
  },
  "cells": [
    {
      "cell_type": "markdown",
      "metadata": {
        "id": "view-in-github",
        "colab_type": "text"
      },
      "source": [
        "<a href=\"https://colab.research.google.com/github/yfwang09/ShElastic/blob/master/examples/Case01-Uniform_Tensile_Hole.ipynb\" target=\"_parent\"><img src=\"https://colab.research.google.com/assets/colab-badge.svg\" alt=\"Open In Colab\"/></a>"
      ]
    },
    {
      "cell_type": "markdown",
      "metadata": {
        "id": "2qLmrrJzaCzy",
        "colab_type": "text"
      },
      "source": [
        "# Solving the spherical hole in a tensile field problem\n",
        "\n",
        "In this notebook, we develop the spherical harmonic solution of the tensile-hole problem. The problem can be described in the following figure:\n",
        "\n",
        "![Decompose tensile hole problem](https://github.com/yfwang09/ShElastic/blob/master/examples/figures/tensile_hole_decompose.png?raw=1)\n",
        "\n",
        "In this approach, we only solve the image stress problem (right figure).\n",
        "\n",
        "Here the image traction can be calculated as:\n",
        "\n",
        "$$\n",
        "\\mathbf{T}^\\infty = \\mathbf{\\sigma}\\cdot\\mathbf{n} = \\hat{\\mathbf{e}}_z S_0\\cos\\theta \\\\\n",
        "\\mathbf{T}^{img} = -\\mathbf{T}^\\infty = -\\hat{\\mathbf{e}}_z S_0\\cos\\theta =\n",
        "-\\hat{\\mathbf{e}}_z S_0\\sqrt\\frac{1}{3}Y_1^0\n",
        "$$\n",
        "\n",
        "Then we set up the basic conditions of the problem:"
      ]
    },
    {
      "cell_type": "code",
      "metadata": {
        "id": "vICZ5GYlaGHA",
        "colab_type": "code",
        "colab": {}
      },
      "source": [
        "# If you run this notebook on colab, run this cell\n",
        "import os\n",
        "codepath = '/content/ShElastic'\n",
        "if not os.path.exists(codepath):\n",
        "    !git clone https://github.com/yfwang09/ShElastic.git \n",
        "    !pip install pyshtools\n",
        "os.chdir(os.path.join(codepath, 'examples'))"
      ],
      "execution_count": 1,
      "outputs": []
    },
    {
      "cell_type": "code",
      "metadata": {
        "scrolled": true,
        "id": "7pOcGn9saCz0",
        "colab_type": "code",
        "colab": {
          "base_uri": "https://localhost:8080/",
          "height": 36
        },
        "outputId": "ecb9f88b-6228-4e18-8b58-b08ebbf3d69c"
      },
      "source": [
        "import numpy as np\n",
        "import matplotlib.pyplot as plt\n",
        "import pyshtools\n",
        "import sys, os\n",
        "sys.path.append('..')\n",
        "from shelastic.shutil import SphCoord_to_CartCoord, CartCoord_to_SphCoord\n",
        "from shelastic.shutil import SHCilmToVector, lmk2K, K2lmk\n",
        "import time\n",
        "\n",
        "S0 = 1\n",
        "a = 1\n",
        "mu = 1\n",
        "nu = 1./3\n",
        "\n",
        "#### traction mode matrix info ####\n",
        "modepath = '../shelastic/default_modes'\n",
        "lJmax = 7 # max l degree for saving a single mode\n",
        "lKmax = 4 # max cutoff l degree for modes\n",
        "LJ = (lJmax+1)**2\n",
        "LK = (lKmax+1)**2\n",
        "\n",
        "#### create meshgrid for evaluation ####\n",
        "x_grid = np.linspace(1.01, 5)\n",
        "Y, X, Z = np.meshgrid([0, ], x_grid, [0, ])\n",
        "\n",
        "R, THETA, PHI = CartCoord_to_SphCoord(X, Y, Z)\n",
        "\n",
        "T_usr_vec = np.empty(3*LJ, dtype=np.complex)\n",
        "for k in range(3):\n",
        "    T_usr_cilm = pyshtools.SHCoeffs.from_zeros(lmax=lJmax, kind='complex')\n",
        "    if k == 2:\n",
        "        T_usr_cilm.set_coeffs(-S0/np.sqrt(3), 1, 0)\n",
        "    T_usr_vec[LJ*k:LJ*(k+1)] = SHCilmToVector(T_usr_cilm.to_array(), lmax = lJmax)\n",
        "\n",
        "#### load the full and sub matrix ####\n",
        "import scipy.sparse as spm\n",
        "from scipy.io import loadmat, savemat\n",
        "from shelastic.shelastic import calSmode\n",
        "from shelastic.shbv import generate_submat\n",
        "\n",
        "ticT = time.time()\n",
        "shtype = 'irr'\n",
        "Tmodes = loadmat(os.path.join(modepath, 'Tmodes.mat'))\n",
        "Cmat = generate_submat(Tmodes, mu, nu, lKmax, lJmax, shtype=shtype)\n",
        "Umodes = loadmat(os.path.join(modepath, 'Umodes.mat'))\n",
        "Dmat = generate_submat(Umodes, mu, nu, lKmax, lJmax, shtype=shtype)\n",
        "Smodes = loadmat(os.path.join(modepath, 'Smodes.mat'))\n",
        "Smodes = generate_submat(Smodes, mu, nu, lKmax, lJmax, shtype=shtype)\n",
        "tocT = time.time()\n",
        "print('Time for loading SH modes: %.4fs'%(tocT-ticT))"
      ],
      "execution_count": 2,
      "outputs": [
        {
          "output_type": "stream",
          "text": [
            "Time for loading SH modes: 0.0844s\n"
          ],
          "name": "stdout"
        }
      ]
    },
    {
      "cell_type": "markdown",
      "metadata": {
        "id": "GeZh0MrpaC0C",
        "colab_type": "text"
      },
      "source": [
        "Then we solve the linear system:"
      ]
    },
    {
      "cell_type": "code",
      "metadata": {
        "id": "hEe_4f7paC0H",
        "colab_type": "code",
        "colab": {
          "base_uri": "https://localhost:8080/",
          "height": 241
        },
        "outputId": "c9171030-2a3e-439e-e736-78bcda84f594"
      },
      "source": [
        "from shelastic.shbv import print_SH_mode\n",
        "from scipy.sparse.linalg import lsqr\n",
        "\n",
        "ticA = time.time()\n",
        "A = lsqr(Cmat, T_usr_vec.transpose())\n",
        "tocA = time.time()\n",
        "print('Residual:', A[3], 'Time:', tocA-ticA)\n",
        "A_sol = np.zeros_like(A[0])\n",
        "A_sol[np.abs(A[0]) > 1e-8] = A[0][np.abs(A[0]) > 1e-8]\n",
        "print('Solution:', A_sol.size)\n",
        "index_sol = print_SH_mode(A_sol)"
      ],
      "execution_count": 3,
      "outputs": [
        {
          "output_type": "stream",
          "text": [
            "Residual: 3.132539518693837e-15 Time: 0.002273082733154297\n",
            "Solution: 75\n",
            "index: 1 (1, -1, 0) coeff: (-0.04523205490934833+2.1848893748264e-17j)\n",
            "index: 3 (1, 1, 0) coeff: (0.04523205490934837+1.6290467636687052e-17j)\n",
            "index: 11 (3, -1, 0) coeff: (-0.021661334692543284+1.9497128955659522e-17j)\n",
            "index: 13 (3, 1, 0) coeff: (0.021661334692543267+1.8562913800727373e-17j)\n",
            "index: 26 (1, -1, 1) coeff: (5.233894852762143e-18-0.045232054909348306j)\n",
            "index: 28 (1, 1, 1) coeff: (1.0447432191609e-18-0.045232054909348375j)\n",
            "index: 36 (3, -1, 1) coeff: (-7.29552747411706e-18-0.021661334692543298j)\n",
            "index: 38 (3, 1, 1) coeff: (7.646970924775108e-18-0.02166133469254323j)\n",
            "index: 52 (1, 0, 2) coeff: (-0.20666515317583167+1.348653981711064e-18j)\n",
            "index: 62 (3, 0, 2) coeff: (0.03751853224723945-5.194403544067268e-20j)\n"
          ],
          "name": "stdout"
        }
      ]
    },
    {
      "cell_type": "markdown",
      "metadata": {
        "id": "Kj2KmYHRaC0S",
        "colab_type": "text"
      },
      "source": [
        "And integrate the stress solution:"
      ]
    },
    {
      "cell_type": "code",
      "metadata": {
        "scrolled": true,
        "id": "_1_LGhJ0aC0V",
        "colab_type": "code",
        "colab": {
          "base_uri": "https://localhost:8080/",
          "height": 36
        },
        "outputId": "9e6d53ff-da44-4da3-d2bd-75c857ae4217"
      },
      "source": [
        "from shelastic.shbv import fast_stress_solution\n",
        "\n",
        "tic = time.time()\n",
        "sigma_tot = fast_stress_solution(A_sol, X, Y, Z, Smodes, lKmax, lJmax)\n",
        "toc = time.time()\n",
        "print(sigma_tot.shape, toc-tic)"
      ],
      "execution_count": 4,
      "outputs": [
        {
          "output_type": "stream",
          "text": [
            "(50, 1, 1, 3, 3) 0.019158363342285156\n"
          ],
          "name": "stdout"
        }
      ]
    },
    {
      "cell_type": "markdown",
      "metadata": {
        "id": "x3cWoGL6aC0d",
        "colab_type": "text"
      },
      "source": [
        "We compare the solution with the analytical solution of the problem:"
      ]
    },
    {
      "cell_type": "code",
      "metadata": {
        "scrolled": false,
        "id": "hZi2Of7kaC0f",
        "colab_type": "code",
        "colab": {
          "base_uri": "https://localhost:8080/",
          "height": 428
        },
        "outputId": "3def0f02-b8c4-4fec-cd54-0efce8ee037b"
      },
      "source": [
        "# Analytical result\n",
        "K1 = -5*S0*a**3/2/(7-5*nu)\n",
        "K2 = S0*(1-5*nu)*a**3/(7-5*nu)\n",
        "A1 = S0*a**5/2/(7-5*nu)\n",
        "\n",
        "sz = S0*(1+(4-5*nu)*a**3/2/(7-5*nu)/R**3+9*a**5/2/(7-5*nu)/R**5)\n",
        "err= np.abs(sz-sigma_tot[:, :, :, 2, 2] - S0)/(sz.max())\n",
        "print(X.shape, sz.shape, err.shape)\n",
        "\n",
        "# FEM result\n",
        "FEM = loadmat('../testdata/tensile_hole1.mat')['M'][::16, :]\n",
        "rF = FEM[:, 0]\n",
        "sz_FEM=S0*(1+(4-5*nu)*a**3/2/(7-5*nu)/rF**3+9*a**5/2/(7-5*nu)/rF**5)\n",
        "err_FEM = np.abs(sz_FEM+FEM[:,1]-1)/(sz_FEM.max())\n",
        "\n",
        "print(FEM.shape, np.abs(sz_FEM+FEM[:,1]-1)/sz_FEM)\n",
        "\n",
        "plt.plot(X.flatten(), sz.flatten(), label='Analytical')\n",
        "#plt.plot(rF, sz_FEM)\n",
        "plt.plot(FEM[:, 0], -FEM[:, 1]+1, 's', label='FEM')\n",
        "total_time = 1000*(toc-tic + tocA-ticA) #+ tocT-ticT\n",
        "plt.plot(X.flatten(), sigma_tot[:, :, :, 2, 2].flatten() + S0, 'o',label='ShElastic')\n",
        "plt.legend(fontsize=14)\n",
        "plt.xlabel(r'$x/r_0$', fontsize=20)\n",
        "plt.ylabel(r'$\\sigma_z/S_0$', fontsize=20)\n",
        "plt.xlim(1, 3)\n",
        "plt.ylim(1, 2.2)\n",
        "plt.tick_params(labelsize=14)\n",
        "plt.tight_layout()\n",
        "plt.savefig('../figures/case1-result.png') #, dpi=1000), transparent=True)\n",
        "plt.show()"
      ],
      "execution_count": 5,
      "outputs": [
        {
          "output_type": "stream",
          "text": [
            "(50, 1, 1) (50, 1, 1) (50, 1, 1)\n",
            "(31, 2) [0.02620815 0.00063735 0.00114668 0.00920845 0.00335156 0.01077921\n",
            " 0.00538657 0.00463259 0.00387901 0.00215444 0.00198832 0.00299757\n",
            " 0.00738325 0.00462743 0.00331101 0.0079818  0.00596547 0.00693202\n",
            " 0.00761445 0.0061786  0.00722109 0.00670993 0.00720561 0.00700455\n",
            " 0.00669977 0.00649784 0.00627261 0.00581221 0.00471659 0.00189815\n",
            " 0.00472782]\n"
          ],
          "name": "stdout"
        },
        {
          "output_type": "display_data",
          "data": {
            "image/png": "[encoded data removed]",
            "text/plain": [
              "<Figure size 432x288 with 1 Axes>"
            ]
          },
          "metadata": {
            "tags": [],
            "needs_background": "light"
          }
        }
      ]
    },
    {
      "cell_type": "code",
      "metadata": {
        "id": "bex-m23eaC0q",
        "colab_type": "code",
        "colab": {
          "base_uri": "https://localhost:8080/",
          "height": 92
        },
        "outputId": "f1778974-c165-42da-9f9e-d13ba12671c5"
      },
      "source": [
        "from scipy.io import savemat, whosmat\n",
        "\n",
        "n = 3\n",
        "filename = '../figures/case1-result.mat'\n",
        "obj_x = np.empty((n,), dtype=np.object)\n",
        "obj_y = np.empty((n,), dtype=np.object)\n",
        "obj_e = np.empty((n,), dtype=np.object)\n",
        "obj_label = np.empty((n,), dtype=np.object)\n",
        "\n",
        "obj_x[0], obj_x[1], obj_x[2] = (X.flatten(), FEM[:, 0], X.flatten())\n",
        "obj_y[0], obj_y[1], obj_y[2] = (sz.flatten(), -FEM[:, 1]+1, sigma_tot[:, :, :, 2, 2].flatten() + S0)\n",
        "obj_e[0], obj_e[1], obj_e[2] = (X.flatten()*0, err_FEM, err.flatten())\n",
        "obj_label[0] = 'Analytical'\n",
        "obj_label[1] = 'FEM'\n",
        "obj_label[2] = 'ShElastic'\n",
        "\n",
        "savemat(filename, {'X': obj_x, 'Y': obj_y,'E': obj_e, 'label': obj_label})\n",
        "whosmat(filename)"
      ],
      "execution_count": 6,
      "outputs": [
        {
          "output_type": "execute_result",
          "data": {
            "text/plain": [
              "[('X', (1, 3), 'cell'),\n",
              " ('Y', (1, 3), 'cell'),\n",
              " ('E', (1, 3), 'cell'),\n",
              " ('label', (1, 3), 'cell')]"
            ]
          },
          "metadata": {
            "tags": []
          },
          "execution_count": 6
        }
      ]
    },
    {
      "cell_type": "markdown",
      "metadata": {
        "id": "smfaRQGCaC00",
        "colab_type": "text"
      },
      "source": [
        "## Elastic Energy\n",
        "\n",
        "We then calculate the corresponding elastic energy:"
      ]
    },
    {
      "cell_type": "code",
      "metadata": {
        "id": "KC3_8qWjaC03",
        "colab_type": "code",
        "colab": {
          "base_uri": "https://localhost:8080/",
          "height": 36
        },
        "outputId": "14ef4427-6871-4d0d-a654-97aa48ceb70f"
      },
      "source": [
        "Uvec = Dmat.dot(A_sol)\n",
        "\n",
        "E=2*np.pi*np.vdot(Uvec, T_usr_vec) #np.multiply(Uvec, T_usr_vec).sum()\n",
        "print('total elastic energy from SH:', E)"
      ],
      "execution_count": 7,
      "outputs": [
        {
          "output_type": "stream",
          "text": [
            "total elastic energy from SH: (-0.785398163397448-4.7337841576759565e-18j)\n"
          ],
          "name": "stdout"
        }
      ]
    },
    {
      "cell_type": "code",
      "metadata": {
        "id": "2Mz4-8sbaC08",
        "colab_type": "code",
        "colab": {
          "base_uri": "https://localhost:8080/",
          "height": 36
        },
        "outputId": "f1bcbc9b-abd6-4d12-ab56-d7b207065e14"
      },
      "source": [
        "Emodes = np.dot(A_sol, 2*np.pi*Cmat.multiply(Dmat.conjugate()).sum(axis=0).T).flatten()\n",
        "print('total elastic energy from summing up SH modes', Emodes)"
      ],
      "execution_count": 8,
      "outputs": [
        {
          "output_type": "stream",
          "text": [
            "total elastic energy from summing up SH modes [[-0.5739857+12.21459631j]]\n"
          ],
          "name": "stdout"
        }
      ]
    },
    {
      "cell_type": "code",
      "metadata": {
        "scrolled": false,
        "id": "gVozk47yaC1E",
        "colab_type": "code",
        "colab": {}
      },
      "source": [
        "Ngrid = 30\n",
        "latglq, longlq = pyshtools.expand.GLQGridCoord(Ngrid)\n",
        "theta = np.radians(90-latglq)\n",
        "phi = np.radians(longlq)\n",
        "#print(theta)\n",
        "#print(phi)\n",
        "dtheta = np.gradient(theta)\n",
        "dphi = np.gradient(phi)\n",
        "#zero, w = pyshtools.expand.SHGLQ(lmax_sub)\n",
        "\n",
        "TT, PP = np.meshgrid(theta, phi)\n",
        "dT, dP = np.meshgrid(dtheta, dphi)\n",
        "dA = np.sin(TT)*dT*dP\n",
        "ZZ = np.cos(TT)\n",
        "XX = np.sin(TT)*np.cos(PP)\n",
        "YY = np.sin(TT)*np.sin(PP)\n",
        "RR = np.sqrt(XX**2+YY**2+ZZ**2)\n",
        "NN = np.stack((XX/RR, YY/RR, ZZ/RR), axis=-1)"
      ],
      "execution_count": 9,
      "outputs": []
    },
    {
      "cell_type": "code",
      "metadata": {
        "id": "xbXOe-U2aC1K",
        "colab_type": "code",
        "colab": {}
      },
      "source": [
        "from shelastic.shbv import fast_displacement_solution, fast_stress_solution\n",
        "Umesh = fast_displacement_solution(A_sol, XX, YY, ZZ, Dmat, lKmax, lJmax)\n",
        "Smesh = fast_stress_solution(A_sol, XX, YY, ZZ, Smodes, lKmax, lJmax)\n",
        "Tmesh = np.sum(Smesh*NN[...,np.newaxis,:], axis=-1)"
      ],
      "execution_count": 10,
      "outputs": []
    },
    {
      "cell_type": "code",
      "metadata": {
        "id": "TaAfKGSgaC1W",
        "colab_type": "code",
        "colab": {
          "base_uri": "https://localhost:8080/",
          "height": 73
        },
        "outputId": "0d4751b5-045d-47cc-de51-67bc62f0d081"
      },
      "source": [
        "W = (1/2*np.sum(Umesh*Tmesh, axis=-1)*dA).sum()\n",
        "print('numerical elastic energy:', W*mu/S0**2)\n",
        "print('total elastic energy from SH:', E*mu/S0**2)\n",
        "print('total elastic energy from summing up SH modes', Emodes*mu/S0**2)"
      ],
      "execution_count": 11,
      "outputs": [
        {
          "output_type": "stream",
          "text": [
            "numerical elastic energy: (-0.7854806313860262+4.734693324518527e-18j)\n",
            "total elastic energy from SH: (-0.785398163397448-4.7337841576759565e-18j)\n",
            "total elastic energy from summing up SH modes [[-0.5739857+12.21459631j]]\n"
          ],
          "name": "stdout"
        }
      ]
    },
    {
      "cell_type": "markdown",
      "metadata": {
        "id": "2QlZngBdaC1i",
        "colab_type": "text"
      },
      "source": [
        "This shows that the total elastic energy is different from the sum of per-mode elastic energy. If we calculate the cross terms of the energy, and trying to find energy eigen states:"
      ]
    },
    {
      "cell_type": "code",
      "metadata": {
        "id": "gz1GlKkDaC1z",
        "colab_type": "code",
        "colab": {
          "base_uri": "https://localhost:8080/",
          "height": 288
        },
        "outputId": "10295469-cfce-4966-988e-b8c8c857616d"
      },
      "source": [
        "Ecross = 2*np.pi*Dmat.H*Cmat\n",
        "A = Ecross.todense()\n",
        "w,v = np.linalg.eig(A)\n",
        "print(w.shape, v.shape)\n",
        "plt.spy(v,precision=1e-5)\n",
        "plt.show()"
      ],
      "execution_count": 12,
      "outputs": [
        {
          "output_type": "stream",
          "text": [
            "(75,) (75, 75)\n"
          ],
          "name": "stdout"
        },
        {
          "output_type": "display_data",
          "data": {
            "image/png": "[encoded data removed]",
            "text/plain": [
              "<Figure size 432x288 with 1 Axes>"
            ]
          },
          "metadata": {
            "tags": [],
            "needs_background": "light"
          }
        }
      ]
    },
    {
      "cell_type": "code",
      "metadata": {
        "id": "-cR8MohsaC1_",
        "colab_type": "code",
        "colab": {
          "base_uri": "https://localhost:8080/",
          "height": 269
        },
        "outputId": "99db915a-e27e-4f68-88b2-172a6a02646c"
      },
      "source": [
        "plt.spy(np.linalg.inv(v).dot(A).dot(v),precision=1e-8)\n",
        "plt.show()"
      ],
      "execution_count": 13,
      "outputs": [
        {
          "output_type": "display_data",
          "data": {
            "image/png": "[encoded data removed]",
            "text/plain": [
              "<Figure size 432x288 with 1 Axes>"
            ]
          },
          "metadata": {
            "tags": [],
            "needs_background": "light"
          }
        }
      ]
    },
    {
      "cell_type": "code",
      "metadata": {
        "id": "d0k_trKlaC2J",
        "colab_type": "code",
        "colab": {
          "base_uri": "https://localhost:8080/",
          "height": 298
        },
        "outputId": "26fa1a7e-4eab-4823-ca62-3473768c6706"
      },
      "source": [
        "print(np.diag(np.linalg.inv(v).dot(A).dot(v)).real)"
      ],
      "execution_count": 14,
      "outputs": [
        {
          "output_type": "stream",
          "text": [
            "[  -8.2894344  -207.43326114 -207.43326114  -84.4739358  -207.43326114\n",
            "   -8.2894344   -33.51032164 -431.47400186 -796.44144542 -796.44144542\n",
            " -796.44144542   -8.2894344   -33.51032164  -33.51032164 -796.44144542\n",
            " -796.44144542 -796.44144542 -431.47400186 -431.47400186 -431.47400186\n",
            " -431.47400186 -796.44144542  -44.68042885  -44.68042885  -44.68042885\n",
            "  -44.68042885  -11.70000181  -11.70000181  -11.70000181  -11.70000181\n",
            "  -11.70000181  -44.68042885  -15.1865233   -15.1865233   -15.1865233\n",
            "  -15.1865233   -15.1865233   -15.1865233   -15.1865233   -55.85053606\n",
            "  -55.85053606  -55.85053606  -55.85053606  -55.85053606  -55.85053606\n",
            " -250.39657002 -250.39657002 -250.39657002 -250.39657002 -250.39657002\n",
            " -250.39657002 -250.39657002 -250.39657002  -55.85053606 -250.39657002\n",
            " -469.08103642 -469.08103642 -469.08103642 -469.08103642 -469.08103642\n",
            " -469.08103642 -469.08103642 -469.08103642 -469.08103642 -469.08103642\n",
            " -469.08103642  -67.02064328  -67.02064328  -67.02064328  -67.02064328\n",
            "  -67.02064328  -67.02064328  -67.02064328  -67.02064328  -67.02064328]\n"
          ],
          "name": "stdout"
        }
      ]
    }
  ]
}