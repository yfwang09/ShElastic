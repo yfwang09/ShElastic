{
  "nbformat": 4,
  "nbformat_minor": 0,
  "metadata": {
    "kernelspec": {
      "display_name": "Python 3",
      "language": "python",
      "name": "python3"
    },
    "language_info": {
      "codemirror_mode": {
        "name": "ipython",
        "version": 3
      },
      "file_extension": ".py",
      "mimetype": "text/x-python",
      "name": "python",
      "nbconvert_exporter": "python",
      "pygments_lexer": "ipython3",
      "version": "3.6.7"
    },
    "colab": {
      "name": "Case04-Sphere_torsion.ipynb",
      "provenance": [],
      "include_colab_link": true
    }
  },
  "cells": [
    {
      "cell_type": "markdown",
      "metadata": {
        "id": "view-in-github",
        "colab_type": "text"
      },
      "source": [
        "<a href=\"https://colab.research.google.com/github/yfwang09/ShElastic/blob/master/examples/Case04-Sphere_torsion.ipynb\" target=\"_parent\"><img src=\"https://colab.research.google.com/assets/colab-badge.svg\" alt=\"Open In Colab\"/></a>"
      ]
    },
    {
      "cell_type": "markdown",
      "metadata": {
        "id": "xbaC8gIqWhV3",
        "colab_type": "text"
      },
      "source": [
        "# Solving sphere torsion problem\n",
        "\n",
        "In this notebook, we test the ShElastic package for solving the stress field induced by torsional traction force on a solid sphere. The problem can be described in the following figure:\n",
        "\n",
        "<img src=\"https://raw.githubusercontent.com/yfwang09/ShElastic/master/figures/case04.png\" width=\"200\" />\n",
        "\n",
        "Here the traction boundary is given as:\n",
        "\n",
        "$$\n",
        "\\mathbf{T}_{\\varphi} = S_0\\sin(2\\theta);\\quad\\mathbf{T}_{\\theta}=\\mathbf{T}_{R}=0\n",
        "$$\n",
        "\n",
        "Like opening a Gatcha capsule."
      ]
    },
    {
      "cell_type": "code",
      "metadata": {
        "id": "MuUr1TfYej0Q",
        "colab_type": "code",
        "colab": {
          "base_uri": "https://localhost:8080/",
          "height": 598
        },
        "outputId": "ce621955-abf8-4347-d659-9f68d9a73367"
      },
      "source": [
        "# If you run this notebook from colab, run this cell first\n",
        "import os\n",
        "codepath = '/content/ShElastic'\n",
        "if not os.path.exists(codepath):\n",
        "    !git clone https://github.com/yfwang09/ShElastic.git \n",
        "    !pip install pyshtools==4.6.2\n",
        "os.chdir(os.path.join(codepath, 'examples'))"
      ],
      "execution_count": 1,
      "outputs": [
        {
          "output_type": "stream",
          "text": [
            "Cloning into 'ShElastic'...\n",
            "remote: Enumerating objects: 130, done.\u001b[K\n",
            "remote: Counting objects: 100% (130/130), done.\u001b[K\n",
            "remote: Compressing objects: 100% (115/115), done.\u001b[K\n",
            "remote: Total 1211 (delta 66), reused 39 (delta 15), pack-reused 1081\u001b[K\n",
            "Receiving objects: 100% (1211/1211), 150.63 MiB | 33.21 MiB/s, done.\n",
            "Resolving deltas: 100% (452/452), done.\n",
            "Collecting pyshtools==4.6.2\n",
            "\u001b[?25l  Downloading https://files.pythonhosted.org/packages/11/24/f0428beea230f089b6e575abb62aa438e2aff34e4c7277c78bf9f94eaa68/pyshtools-4.6.2-cp36-cp36m-manylinux1_x86_64.whl (10.8MB)\n",
            "\u001b[K     |████████████████████████████████| 10.8MB 197kB/s \n",
            "\u001b[?25hRequirement already satisfied: matplotlib in /usr/local/lib/python3.6/dist-packages (from pyshtools==4.6.2) (3.2.2)\n",
            "Requirement already satisfied: xarray in /usr/local/lib/python3.6/dist-packages (from pyshtools==4.6.2) (0.15.1)\n",
            "Requirement already satisfied: scipy>=0.14.0 in /usr/local/lib/python3.6/dist-packages (from pyshtools==4.6.2) (1.4.1)\n",
            "Requirement already satisfied: astropy in /usr/local/lib/python3.6/dist-packages (from pyshtools==4.6.2) (4.0.1.post1)\n",
            "Requirement already satisfied: numpy>=1.18.1 in /usr/local/lib/python3.6/dist-packages (from pyshtools==4.6.2) (1.18.5)\n",
            "Requirement already satisfied: requests in /usr/local/lib/python3.6/dist-packages (from pyshtools==4.6.2) (2.23.0)\n",
            "Requirement already satisfied: python-dateutil>=2.1 in /usr/local/lib/python3.6/dist-packages (from matplotlib->pyshtools==4.6.2) (2.8.1)\n",
            "Requirement already satisfied: pyparsing!=2.0.4,!=2.1.2,!=2.1.6,>=2.0.1 in /usr/local/lib/python3.6/dist-packages (from matplotlib->pyshtools==4.6.2) (2.4.7)\n",
            "Requirement already satisfied: cycler>=0.10 in /usr/local/lib/python3.6/dist-packages (from matplotlib->pyshtools==4.6.2) (0.10.0)\n",
            "Requirement already satisfied: kiwisolver>=1.0.1 in /usr/local/lib/python3.6/dist-packages (from matplotlib->pyshtools==4.6.2) (1.2.0)\n",
            "Requirement already satisfied: pandas>=0.25 in /usr/local/lib/python3.6/dist-packages (from xarray->pyshtools==4.6.2) (1.0.5)\n",
            "Requirement already satisfied: setuptools>=41.2 in /usr/local/lib/python3.6/dist-packages (from xarray->pyshtools==4.6.2) (50.3.0)\n",
            "Requirement already satisfied: certifi>=2017.4.17 in /usr/local/lib/python3.6/dist-packages (from requests->pyshtools==4.6.2) (2020.6.20)\n",
            "Requirement already satisfied: urllib3!=1.25.0,!=1.25.1,<1.26,>=1.21.1 in /usr/local/lib/python3.6/dist-packages (from requests->pyshtools==4.6.2) (1.24.3)\n",
            "Requirement already satisfied: idna<3,>=2.5 in /usr/local/lib/python3.6/dist-packages (from requests->pyshtools==4.6.2) (2.10)\n",
            "Requirement already satisfied: chardet<4,>=3.0.2 in /usr/local/lib/python3.6/dist-packages (from requests->pyshtools==4.6.2) (3.0.4)\n",
            "Requirement already satisfied: six>=1.5 in /usr/local/lib/python3.6/dist-packages (from python-dateutil>=2.1->matplotlib->pyshtools==4.6.2) (1.15.0)\n",
            "Requirement already satisfied: pytz>=2017.2 in /usr/local/lib/python3.6/dist-packages (from pandas>=0.25->xarray->pyshtools==4.6.2) (2018.9)\n",
            "Installing collected packages: pyshtools\n",
            "Successfully installed pyshtools-4.6.2\n"
          ],
          "name": "stdout"
        }
      ]
    },
    {
      "cell_type": "code",
      "metadata": {
        "scrolled": true,
        "id": "Qf3D-ujEWhV6",
        "colab_type": "code",
        "colab": {
          "base_uri": "https://localhost:8080/",
          "height": 73
        },
        "outputId": "b71299f5-259b-484f-ff44-ec56b4b86384"
      },
      "source": [
        "import numpy as np\n",
        "import matplotlib.pyplot as plt\n",
        "import pyshtools\n",
        "import sys, os\n",
        "sys.path.append('..')\n",
        "from shelastic.shutil import SphCoord_to_CartCoord, CartCoord_to_SphCoord\n",
        "from shelastic.shutil import SHCilmToVector, lmk2K, K2lmk\n",
        "import time\n",
        "\n",
        "S0 = 1\n",
        "a = 1\n",
        "mu = 1\n",
        "nu = 1./3\n",
        "\n",
        "#### traction mode matrix info ####\n",
        "modepath = '../shelastic/default_modes'\n",
        "lJmax = 4 # max l degree for saving a single mode\n",
        "lKmax = 4 # max cutoff l degree for modes\n",
        "LJ = (lJmax+1)**2\n",
        "LK = (lKmax+1)**2\n",
        "\n",
        "#### create meshgrid for evaluation ####\n",
        "Ngrid = 100\n",
        "theta = (np.arange(0,Ngrid)+0.0)/Ngrid*(np.pi)\n",
        "phi = (np.arange(0,2*Ngrid)+0.0)/(2*Ngrid)*(2*np.pi)\n",
        "\n",
        "THETA, PHI = np.meshgrid(theta, phi)\n",
        "Z = np.cos(THETA)\n",
        "X = np.sin(THETA)*np.cos(PHI)\n",
        "Y = np.sin(THETA)*np.sin(PHI)\n",
        "R = np.sqrt(X**2+Y**2+Z**2)\n",
        "N = np.stack((X/R, Y/R, Z/R), axis=-1)\n",
        "\n",
        "T_mag = S0*np.sin(2*THETA)\n",
        "T_usr_mesh = np.zeros(THETA.shape+(3,))\n",
        "T_usr_mesh[...,0] = T_mag*np.cos(np.pi/2+PHI)\n",
        "T_usr_mesh[...,1] = T_mag*np.sin(np.pi/2+PHI)\n",
        "\n",
        "T_usr_vec = np.array([])\n",
        "for k in range(3):\n",
        "    T_usr_cilm = pyshtools.expand.SHExpandDHC(T_usr_mesh[...,k].T, sampling=2, lmax_calc=lJmax)\n",
        "    T_usr_vec = np.hstack((T_usr_vec, SHCilmToVector(T_usr_cilm, lmax = lJmax)))\n",
        "\n",
        "print(T_usr_vec[np.nonzero(np.abs(T_usr_vec)>1e-8)])\n",
        "### load the full and sub matrix ####\n",
        "import scipy.sparse as spm\n",
        "from scipy.io import loadmat, savemat\n",
        "from shelastic.shelastic import calSmode\n",
        "from shelastic.shbv import generate_submat\n",
        "from shelastic.shvis import visualize_Cmat\n",
        "import time\n",
        "ticT = time.time()\n",
        "shtype = 'reg'\n",
        "Tmodes = loadmat(os.path.join(modepath, 'Tmodes.mat'))\n",
        "Cmat = generate_submat(Tmodes, mu, nu, lKmax, lJmax, shtype=shtype)\n",
        "Umodes = loadmat(os.path.join(modepath, 'Umodes.mat'))\n",
        "Dmat = generate_submat(Umodes, mu, nu, lKmax, lJmax, shtype=shtype)\n",
        "Smodes = loadmat(os.path.join(modepath, 'Smodes.mat'))\n",
        "Smodes = generate_submat(Smodes, mu, nu, lKmax, lJmax, shtype=shtype)\n",
        "tocT = time.time()\n",
        "print('Time for loading SH modes: %.4fs'%(tocT-ticT))"
      ],
      "execution_count": 2,
      "outputs": [
        {
          "output_type": "stream",
          "text": [
            "[-6.69498607e-17+3.65148372e-01j  7.00098213e-17+3.65148372e-01j\n",
            " -3.65148372e-01-6.32304312e-17j  3.65148372e-01-6.47120665e-17j]\n",
            "Time for loading SH modes: 0.1287s\n"
          ],
          "name": "stdout"
        }
      ]
    },
    {
      "cell_type": "markdown",
      "metadata": {
        "id": "ufHCYOZYWhWM",
        "colab_type": "text"
      },
      "source": [
        "Then we solve the linear system:"
      ]
    },
    {
      "cell_type": "code",
      "metadata": {
        "scrolled": true,
        "id": "LNB12nszWhWS",
        "colab_type": "code",
        "colab": {
          "base_uri": "https://localhost:8080/",
          "height": 840
        },
        "outputId": "189a8788-3527-4401-cec6-dbe330620b4b"
      },
      "source": [
        "from shelastic.shbv import print_SH_mode\n",
        "from scipy.sparse.linalg import lsqr\n",
        "import time\n",
        "\n",
        "tic = time.time()\n",
        "A = lsqr(Cmat, T_usr_vec.transpose())\n",
        "toc = time.time()\n",
        "print('Residual:', A[3], 'Time:', toc-tic)\n",
        "A_sol = A[0]\n",
        "print('Solution:', A_sol.size)\n",
        "print(T_usr_vec.T-np.dot(Cmat.todense(), A[0]))\n",
        "index_sol = print_SH_mode(A_sol, m_dir=3)"
      ],
      "execution_count": 3,
      "outputs": [
        {
          "output_type": "stream",
          "text": [
            "Residual: 1.166589508035791e-14 Time: 0.001173257827758789\n",
            "Solution: 75\n",
            "[[-6.90512406e-20-4.56793662e-50j  1.69463165e-18+5.17618514e-17j\n",
            "  -9.05988249e-18-1.75715263e-33j -9.54211464e-19+7.08844162e-17j\n",
            "  -8.74602343e-19-3.11013681e-18j  1.51810794e-16+7.77156117e-16j\n",
            "  -1.14919280e-18+1.02071071e-33j -1.71489977e-16+8.32667268e-16j\n",
            "  -8.74602343e-19+3.11013681e-18j  4.79272713e-19+2.00808238e-18j\n",
            "   4.70938583e-18+6.57116574e-17j -3.10587583e-19+7.41005466e-18j\n",
            "  -7.79477285e-18+2.73005082e-33j  6.34053423e-19+8.95516794e-18j\n",
            "   4.70938583e-18-6.57116574e-17j -1.61493240e-18+7.15543813e-18j\n",
            "  -2.56896134e-18+4.86446919e-18j  2.89038217e-15-1.63076129e-16j\n",
            "  -4.65395799e-19-3.37885761e-18j  5.98953468e-16+3.10615275e-15j\n",
            "  -2.18101974e-18+6.39927952e-34j -5.88237652e-16+3.10988560e-15j\n",
            "  -4.65395799e-19+3.37885761e-18j -2.88448726e-15-1.76705264e-16j\n",
            "  -2.56896134e-18-4.86446919e-18j  4.89692581e-20-9.82591554e-51j\n",
            "  -5.98781214e-17-1.71313322e-18j -4.62215511e-17+2.05044298e-33j\n",
            "   9.20467563e-17-1.53757141e-19j -3.06605918e-18+1.47212799e-18j\n",
            "   6.10622664e-16+4.39634814e-17j -8.19527250e-20+3.64061039e-34j\n",
            "  -6.10622664e-16+2.42842987e-17j -3.06605918e-18-1.47212799e-18j\n",
            "  -6.12653945e-18-3.76560975e-18j -2.47489571e-18+8.62148328e-18j\n",
            "   8.51415126e-19+1.61908470e-18j -5.50804083e-17+8.55913179e-34j\n",
            "   6.42762895e-17+4.05289134e-19j -2.47489571e-18-8.62148328e-18j\n",
            "   1.12738952e-17-2.62995006e-18j  1.69900764e-18+3.90251901e-18j\n",
            "  -1.59796964e-15-3.15158400e-15j -2.17260358e-18+1.54862004e-18j\n",
            "  -4.16900510e-15-1.04488796e-16j  1.27871797e-19+3.81690843e-34j\n",
            "   4.07098054e-15-8.80451193e-17j -2.17260358e-18-1.54862004e-18j\n",
            "   1.58434051e-15-3.15747891e-15j  1.69900764e-18-3.90251901e-18j\n",
            "   7.74206941e-18+2.46278300e-32j  4.72391367e-18+1.31825156e-17j\n",
            "   3.05844300e-19-1.86385239e-17j -4.72391367e-18+1.31825156e-17j\n",
            "  -2.54935188e-17-4.16333634e-16j  8.09942343e-19+1.44448814e-19j\n",
            "  -5.57224089e-17+6.30911802e-17j -8.09942343e-19+1.44448814e-19j\n",
            "  -4.51727015e-17+4.82801362e-16j  8.87281720e-19-1.43423888e-17j\n",
            "   1.74030056e-18-6.60861513e-18j  6.08258257e-18+6.90288224e-17j\n",
            "  -8.61761395e-20+7.00413852e-18j -6.08258257e-18+6.90288224e-17j\n",
            "   2.82357138e-19-1.10817924e-17j -8.87281720e-19-1.43423888e-17j\n",
            "  -3.40277035e-15+9.45006968e-16j  6.90099611e-19+9.64983370e-19j\n",
            "  -4.03460738e-16+2.49298195e-15j  8.46725741e-19-1.12572438e-18j\n",
            "   3.85147260e-16+3.47231025e-17j -8.46725741e-19-1.12572438e-18j\n",
            "  -3.74803188e-16-2.44547057e-15j -6.90099611e-19+9.64983370e-19j\n",
            "  -3.40277035e-15-9.45006968e-16j]]\n",
            "index: 5 (2, -1, 0) coeff: (8.516779149105254e-17-0.2738612787525832j)\n",
            "index: 7 (2, 1, 0) coeff: (-8.68708899917321e-17-0.2738612787525832j)\n",
            "index: 30 (2, -1, 1) coeff: (0.27386127875258337+1.0829456232434688e-17j)\n",
            "index: 32 (2, 1, 1) coeff: (-0.2738612787525833+1.253255473311426e-17j)\n"
          ],
          "name": "stdout"
        }
      ]
    },
    {
      "cell_type": "markdown",
      "metadata": {
        "id": "abVM-YUDWhWd",
        "colab_type": "text"
      },
      "source": [
        "And integrate the stress solution:"
      ]
    },
    {
      "cell_type": "code",
      "metadata": {
        "id": "ZTd1zSmtWhWh",
        "colab_type": "code",
        "colab": {
          "base_uri": "https://localhost:8080/",
          "height": 36
        },
        "outputId": "38e84ee1-baf3-440e-cdd3-0b88f0381d4b"
      },
      "source": [
        "from shelastic.shbv import fast_stress_solution\n",
        "\n",
        "X = np.linspace(0.01, np.sqrt(2)/2, 30)\n",
        "Z = np.linspace(0.01, np.sqrt(2)/2, 30)\n",
        "Y = np.zeros_like(Z)\n",
        "\n",
        "R,THETA,PHI = CartCoord_to_SphCoord(X, Y, Z)\n",
        "\n",
        "tic = time.time()\n",
        "sigma_tot = fast_stress_solution(A_sol, X, Y, Z, Smodes, lKmax, lJmax, shtype=shtype)\n",
        "toc = time.time()\n",
        "print(sigma_tot.shape, toc-tic)"
      ],
      "execution_count": 4,
      "outputs": [
        {
          "output_type": "stream",
          "text": [
            "(30, 3, 3) 0.03421473503112793\n"
          ],
          "name": "stdout"
        }
      ]
    },
    {
      "cell_type": "markdown",
      "metadata": {
        "id": "hnBa-ElAWhWr",
        "colab_type": "text"
      },
      "source": [
        "We compare the solution with the analytical solution of the problem:"
      ]
    },
    {
      "cell_type": "code",
      "metadata": {
        "id": "FjZ6z1PAWhWt",
        "colab_type": "code",
        "colab": {
          "base_uri": "https://localhost:8080/",
          "height": 36
        },
        "outputId": "3a264bfa-9ef4-42f3-f30b-08a31e8a60cf"
      },
      "source": [
        "E3 = 2*S0/3/a\n",
        "R = np.sqrt(X**2+Y**2+Z**2)\n",
        "THETA = np.arccos(Z/R)\n",
        "PHI = np.arctan2(Y, X)\n",
        "\n",
        "srp = 3*E3*R*np.sin(THETA)*np.cos(THETA)\n",
        "stp = -3*E3*R*np.sin(THETA)**2\n",
        "print(X.shape, srp.shape, stp.shape)"
      ],
      "execution_count": 5,
      "outputs": [
        {
          "output_type": "stream",
          "text": [
            "(30,) (30,) (30,)\n"
          ],
          "name": "stdout"
        }
      ]
    },
    {
      "cell_type": "code",
      "metadata": {
        "id": "fn52NGAhWhW1",
        "colab_type": "code",
        "colab": {}
      },
      "source": [
        "Q = np.zeros(THETA.shape+(3,3))\n",
        "Q[...,0,0] = np.sin(THETA)*np.cos(PHI)\n",
        "Q[...,0,1] = np.sin(THETA)*np.sin(PHI)\n",
        "Q[...,0,2] = np.cos(THETA)\n",
        "Q[...,1,0] = np.cos(THETA)*np.cos(PHI)\n",
        "Q[...,1,1] = np.cos(THETA)*np.sin(PHI)\n",
        "Q[...,1,2] = -np.sin(THETA)\n",
        "Q[...,2,0] = -np.sin(PHI)\n",
        "Q[...,2,1] = np.cos(PHI)\n",
        "Q[...,2,2] = 0\n",
        "sigma_sph = np.zeros_like(sigma_tot)\n",
        "for i in np.ndindex(THETA.shape):\n",
        "    #print(i, sigma_tot[i].shape)\n",
        "    sigma_sph[i] = np.dot(Q[i], np.dot(sigma_tot[i], Q[i].T))"
      ],
      "execution_count": 6,
      "outputs": []
    },
    {
      "cell_type": "code",
      "metadata": {
        "id": "2zuks5GSWhW_",
        "colab_type": "code",
        "colab": {
          "base_uri": "https://localhost:8080/",
          "height": 282
        },
        "outputId": "1850dc94-364d-4c2e-d660-0c846e18eac6"
      },
      "source": [
        "#plt.plot(X.flatten(), np.sqrt(sigma_tot.real[..., 1, 2].flatten()**2 + sigma_tot.real[..., 0, 2].flatten()**2) , 'x')\n",
        "plt.plot(X.flatten(), sigma_sph.real[...,0, 2], 'x')\n",
        "plt.plot(X.flatten(), srp)\n",
        "plt.legend(['ShElastic Solution', 'Analytical Solution'])\n",
        "plt.xlabel('r(unit $a$)')\n",
        "plt.ylabel(r'$\\sigma_z$(unit $S_0$)')\n",
        "#plt.savefig('tensile_hole_sz.png')\n",
        "plt.show()"
      ],
      "execution_count": 7,
      "outputs": [
        {
          "output_type": "display_data",
          "data": {
            "image/png": "[encoded data removed]",
            "text/plain": [
              "<Figure size 432x288 with 1 Axes>"
            ]
          },
          "metadata": {
            "tags": [],
            "needs_background": "light"
          }
        }
      ]
    },
    {
      "cell_type": "markdown",
      "metadata": {
        "id": "lVmovOueWhXI",
        "colab_type": "text"
      },
      "source": [
        "## Test whether the stress field satisfy the equilibrium condition (force balance) numerically"
      ]
    },
    {
      "cell_type": "code",
      "metadata": {
        "id": "nwcg_IYRWhXJ",
        "colab_type": "code",
        "colab": {}
      },
      "source": [
        "Ngrid = 100\n",
        "theta = (np.arange(0,Ngrid)+0.0)/Ngrid*(np.pi)\n",
        "phi = (np.arange(0,2*Ngrid)+0.0)/(2*Ngrid)*(2*np.pi)\n",
        "\n",
        "THETA, PHI = np.meshgrid(theta, phi)\n",
        "Z = np.cos(THETA)\n",
        "X = np.sin(THETA)*np.cos(PHI)\n",
        "Y = np.sin(THETA)*np.sin(PHI)\n",
        "R = np.sqrt(X**2+Y**2+Z**2)\n",
        "N = np.stack((X/R, Y/R, Z/R), axis=-1)\n",
        "\n",
        "sigma_surf = fast_stress_solution(A_sol, X, Y, Z, Smodes, lKmax, lJmax, shtype=shtype)"
      ],
      "execution_count": 8,
      "outputs": []
    },
    {
      "cell_type": "code",
      "metadata": {
        "id": "Cd9i7xNlWhXP",
        "colab_type": "code",
        "colab": {
          "base_uri": "https://localhost:8080/",
          "height": 36
        },
        "outputId": "ce78c2a0-3f2b-4843-a4a2-77ad097d2ab1"
      },
      "source": [
        "print(np.linalg.norm(T_usr_mesh-np.sum(sigma_surf.real*N[...,np.newaxis], axis=-2)))"
      ],
      "execution_count": 9,
      "outputs": [
        {
          "output_type": "stream",
          "text": [
            "1.5427720602634301e-12\n"
          ],
          "name": "stdout"
        }
      ]
    },
    {
      "cell_type": "code",
      "metadata": {
        "id": "xk_tG2HiWhXX",
        "colab_type": "code",
        "colab": {
          "base_uri": "https://localhost:8080/",
          "height": 794
        },
        "outputId": "73971bd7-68ba-42c6-dae3-ba0f74ca6af5"
      },
      "source": [
        "#from SHUtil import CartCoord_to_SphCoord, SphCoord_to_CartCoord, eval_GridC\n",
        "\n",
        "# The order (Y,X,Z) makes sure that axis 0,1,2 corresponds to X,Y,Z\n",
        "xgrid = np.linspace(-0.5, 0.5, 20)\n",
        "Y, X, Z = np.meshgrid(xgrid, xgrid, xgrid)\n",
        "R, THETA, PHI = CartCoord_to_SphCoord(X, Y, Z)\n",
        "LAT = 90 - np.rad2deg(THETA)\n",
        "LON = np.rad2deg(PHI)\n",
        "\n",
        "MU = 1\n",
        "NU = 1./3\n",
        "\n",
        "S_grid = fast_stress_solution(A_sol, X, Y, Z, Smodes, lKmax, lJmax, shtype=shtype)\n",
        "\n",
        "for i in range(3):\n",
        "    f0 = np.gradient(np.real(S_grid[:,:,:,i,0]), X[:,0,0],Y[0,:,0],Z[0,0,:])[0] +\\\n",
        "         np.gradient(np.real(S_grid[:,:,:,i,1]), X[:,0,0],Y[0,:,0],Z[0,0,:])[1] +\\\n",
        "         np.gradient(np.real(S_grid[:,:,:,i,2]), X[:,0,0],Y[0,:,0],Z[0,0,:])[2]\n",
        "\n",
        "    plt.figure()\n",
        "    plt.contourf(X[:,:,0],Y[:,:,0],f0[:,:,0])\n",
        "    plt.colorbar()\n",
        "plt.show()"
      ],
      "execution_count": 10,
      "outputs": [
        {
          "output_type": "display_data",
          "data": {
            "image/png": "[encoded data removed]",
            "text/plain": [
              "<Figure size 432x288 with 2 Axes>"
            ]
          },
          "metadata": {
            "tags": [],
            "needs_background": "light"
          }
        },
        {
          "output_type": "display_data",
          "data": {
            "image/png": "[encoded data removed]",
            "text/plain": [
              "<Figure size 432x288 with 2 Axes>"
            ]
          },
          "metadata": {
            "tags": [],
            "needs_background": "light"
          }
        },
        {
          "output_type": "display_data",
          "data": {
            "image/png": "[encoded data removed]",
            "text/plain": [
              "<Figure size 432x288 with 2 Axes>"
            ]
          },
          "metadata": {
            "tags": [],
            "needs_background": "light"
          }
        }
      ]
    },
    {
      "cell_type": "markdown",
      "metadata": {
        "id": "GbdRuCg0mUR9",
        "colab_type": "text"
      },
      "source": [
        "The force is 0 everywhere, which means the equilibrium condition is satisfied."
      ]
    }
  ]
}