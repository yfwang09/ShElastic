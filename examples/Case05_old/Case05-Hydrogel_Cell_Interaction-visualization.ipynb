{
 "cells": [
  {
   "cell_type": "markdown",
   "metadata": {},
   "source": [
    "# Visualizing the Hydrogel-Cell Interaction Solution\n",
    "\n",
    "In this notebook, we visualize the hydrogel-cell interaction solution from the optimization algorithm. First we load the necessary libraries in the first input cell, then in the second cell there is the settings of the simulation."
   ]
  },
  {
   "cell_type": "code",
   "execution_count": null,
   "metadata": {
    "collapsed": true
   },
   "outputs": [],
   "source": [
    "import numpy as np\n",
    "import scipy as sp\n",
    "import scipy.sparse as spm\n",
    "from scipy.io import loadmat, savemat\n",
    "\n",
    "import matplotlib.pyplot as plt\n",
    "from matplotlib import cm, colors\n",
    "from mpl_toolkits.mplot3d import Axes3D\n",
    "from mpl_toolkits.mplot3d.art3d import Line3DCollection\n",
    "import sys, time, os.path\n",
    "from itertools import permutations\n",
    "\n",
    "module_path = '../module/'\n",
    "sys.path.append(module_path)\n",
    "from SHUtil import SphCoord_to_CartCoord, CartCoord_to_SphCoord\n",
    "\n",
    "import pyshtools\n",
    "from SHUtil import SHCilmToVector, SHVectorToCilm, lmk2K, K2lmk\n",
    "from SHUtil import plotfv, TransMat, l_coeffs, m_coeffs, LM_list\n",
    "from ShElastic import calSmode, calUmode\n",
    "from SHBV import generate_submat, visualize_Cmat, print_SH_mode\n",
    "\n",
    "from scipy.sparse.linalg import lsqr, spsolve\n",
    "from scipy.interpolate import RectBivariateSpline\n",
    "from scipy.optimize import minimize\n",
    "\n",
    "from Case05_utilities import d2v, d2e, d2f\n",
    "from Case05_utilities import Uvec2Tvec, Tvec2Uvec\n",
    "from Case05_utilities import SHVec2mesh, visSHVec, visSH3d\n",
    "from Case05_utilities import SHvec_rtoc, SHvec_ctor\n",
    "from Case05_utilities import generate_fcache, generate_Xneigh, generate_Eneigh, generate_Fneigh"
   ]
  },
  {
   "cell_type": "markdown",
   "metadata": {},
   "source": [
    "## The following cell is the setting of the simulation\n",
    "\n",
    "`shapename` is the number of the shape.\n",
    "`smoothed` indicates whether the shape is smoothed or not.\n",
    "`dilated` indicates the traction-free mask, `_smoothed` for smoothing of the edge, `_1um_dilated` for dilation of the edge."
   ]
  },
  {
   "cell_type": "code",
   "execution_count": null,
   "metadata": {
    "collapsed": true
   },
   "outputs": [],
   "source": [
    "############################# change inputs here #################################\n",
    "# Data file name\n",
    "datadir = '../testdata'\n",
    "smoothed = 'smoothed' #lmax20_lwork15'\n",
    "dilated = '_softedge' # dilated = '_1um_dilated'; # dilated = '';\n",
    "shapename = 'Shape2'\n",
    "datafile = os.path.join(datadir, shapename+'_Coordinates_Cart_'+smoothed+'.csv')\n",
    "connfile = os.path.join(datadir, shapename+'_Connectivity.csv')\n",
    "maskfile = os.path.join(datadir, shapename+'_Mask'+dilated+'.csv')\n",
    "\n",
    "# Material properties\n",
    "mu0 = 300/3; nu0 = 0.499;\n",
    "# Spherical Harmonics Analysis Settings\n",
    "lJmax = 20; lKmax = 20; lmax_plot = 60;\n",
    "\n",
    "# initial guess settings\n",
    "# AKinitfile = 'AK_iter_'+shapename+('_lmax%d'%20)+'_1um_dilated.npy'\n",
    "# ldamp_lo = int(lJmax/4); ldamp_hi = lJmax;\n",
    "\n",
    "lwork = 15\n",
    "\n",
    "# regularizations\n",
    "myalpha = 1e-3  # traction magnitude\n",
    "mybeta  = 1e-4  # coefficient magnitude\n",
    "\n",
    "# program switches\n",
    "plot_figure = True\n",
    "node_face_dist_on = None\n",
    "opt_proc = [2, ]; myord = 1; # 2: sol2dr; myord: p-norm order\n",
    "#opt_proc = [0, 1, 0, 1, 0, 1, 0, 1, 0]  # 1: node-face on; 0: node-face off;\n",
    "\n",
    "# minimization settings\n",
    "N_period = 2\n",
    "maxiter_per_period = 1\n",
    "CG_gtol = 1e-4\n",
    "minimizer = 'CG'\n",
    "minimizer_config = {'maxiter': maxiter_per_period, 'gtol': CG_gtol, 'disp': True}\n",
    "# method='Powell', options={'maxiter':1, 'maxfev':10, 'disp': True})\n",
    "\n",
    "# dump files for minimization\n",
    "savefig = False\n",
    "savename = shapename+('_a%.0e_b%.0e'%(myalpha, mybeta))+('_lmax%d'%lJmax)+smoothed+dilated\n",
    "AKfile = 'AK_iter_'+savename+'.npy'\n",
    "fvfile = 'fv_'+savename+'.txt'\n",
    "\n",
    "# settings for loading \\hat{U}, \\hat{T} coefficients\n",
    "shtype = 'reg'\n",
    "coeff_dir = os.path.join(module_path, 'lmax%dmodes'%60)\n",
    "\n",
    "# neibor list settings\n",
    "# n_list = 200\n",
    "# n_load = 10\n",
    "# n_recal_neigh = 1\n",
    "# file_neigh = shapename + '_neigh%d_lmax%d'%(n_list, lJmax) + smoothed + dilated\n",
    "\n",
    "#################################################################################\n",
    "mu = 1.; nu = nu0;\n",
    "Umodes = loadmat(os.path.join(coeff_dir,'Umodes.mat'))\n",
    "Umodes = (Umodes['U1'+shtype], Umodes['U0'+shtype])\n",
    "fullDmat = calUmode(Umodes, mu, nu)\n",
    "Dmat = generate_submat(mu, nu, fullDmat, lKmax, lJmax, kJ=3).tocsc()\n",
    "\n",
    "Tmodes = loadmat(os.path.join(coeff_dir,'Tmodes.mat'))\n",
    "Tmodes = (Tmodes['T1'+shtype], Tmodes['T2'+shtype], Tmodes['T3'+shtype], Tmodes['T0'+shtype])\n",
    "fullCmat = calSmode(Tmodes, mu, nu)\n",
    "Cmat = generate_submat(mu, nu, fullCmat, lKmax, lJmax, kJ=3).tocsc()"
   ]
  },
  {
   "cell_type": "code",
   "execution_count": null,
   "metadata": {
    "collapsed": true
   },
   "outputs": [],
   "source": [
    "#### load the geometry ####\n",
    "# Vs, Vp: list of nodes (nV, trivial), coordinates of the nodes (nVx3)\n",
    "# Es, Ep: list of edges (nEx2), list of points on the edges (nEx2x3)\n",
    "# Fs, Fp: list of facets (nFx3), list of points on the facets (nFx3x3)\n",
    "# Tfv: traction free boundary map of the node list\n",
    "# Tfe: traction free boundary map of the edge list\n",
    "# Tff: traction free boundary map of the face list\n",
    "# Tf_diluted: diluted traction free boundary map\n",
    "\n",
    "data = np.genfromtxt(datafile, delimiter=',')\n",
    "conn = np.genfromtxt(connfile, delimiter=',', dtype=np.int)\n",
    "if dilated == '_softedge':\n",
    "    masktype = np.float\n",
    "else:\n",
    "    masktype = np.int\n",
    "if shapename == 'Shape4':\n",
    "    mask = np.zeros_like(data[:,0]).astype(masktype)\n",
    "else:\n",
    "    mask = np.genfromtxt(maskfile, dtype=masktype)\n",
    "print('data, connectivity:', data.shape, conn.shape)\n",
    "\n",
    "Fs = conn - 1\n",
    "Np = data.shape[0]\n",
    "Vs = np.arange(Np)\n",
    "edge_conn = spm.lil_matrix((Np, Np), dtype=bool)\n",
    "for i, j in permutations(range(3), 2):\n",
    "    edge_conn[Fs[:, i], Fs[:, j]] = True\n",
    "Es = spm.triu(edge_conn).tocoo()\n",
    "Es = np.vstack([Es.row, Es.col]).T\n",
    "print('id of nodes, edges, facets:', Vs.shape, Es.shape, Fs.shape)\n",
    "Vp = data[..., :3]\n",
    "Ep = Vp[Es, :]; Fp = Vp[Fs, :];\n",
    "print('coord of nodes, edges, facets:', Vp.shape, Ep.shape, Fp.shape)\n",
    "\n",
    "if dilated == '_softedge':\n",
    "    Tfv = (mask > 0.5)\n",
    "else:\n",
    "    Tfv = mask.astype(np.bool)\n",
    "\n",
    "#### Plot the geometry (Vp) ####\n",
    "fig = plt.figure()#figsize=(16,16))\n",
    "ax = fig.add_subplot(111, projection='3d')\n",
    "\n",
    "nTfv = np.logical_not(Tfv)\n",
    "ax.scatter3D(Vp[Tfv, 0], Vp[Tfv, 1], Vp[Tfv, 2])\n",
    "ax.scatter3D(Vp[nTfv, 0], Vp[nTfv, 1], Vp[nTfv, 2])\n",
    "\n",
    "ax.view_init(azim=0, elev=0)\n",
    "\n",
    "ax.set_aspect('equal')\n",
    "plt.show()"
   ]
  },
  {
   "cell_type": "markdown",
   "metadata": {},
   "source": [
    "Then we determine the original radius of the particle, assuming the particle is incompressible. The total volume can be estimated by adding the volume of the tetrahedrons. The volume of a tetrahedron is calculated as:\n",
    "\n",
    "$$\n",
    "V_{0123}=\\frac{1}{6}\n",
    "\\begin{vmatrix}\n",
    " x_1 & y_1 & z_1 & 1\\\\ \n",
    " x_2 & y_2 & z_2 & 1\\\\ \n",
    " x_3 & y_3 & z_3 & 1\\\\ \n",
    " 0 & 0 & 0 & 1\\\\ \n",
    "\\end{vmatrix}\n",
    "$$"
   ]
  },
  {
   "cell_type": "code",
   "execution_count": null,
   "metadata": {
    "collapsed": true
   },
   "outputs": [],
   "source": [
    "tet = np.zeros((Fs.shape[0], 4, 4))\n",
    "tet[:,:-1,:-1] = Fp\n",
    "tet[:,:,-1] = 1\n",
    "vol = np.sum(np.linalg.det(tet)/6, axis=0)\n",
    "r0 = np.cbrt(vol/(4/3*np.pi))\n",
    "print('V = %.4f, r0 = %.4f'%(vol, r0))"
   ]
  },
  {
   "cell_type": "markdown",
   "metadata": {},
   "source": [
    "The next cell shows the convergence behavior of the optimization. The first subplot includes the curve for all three parts of the target function: average shape-difference $\\Delta x$, average traction magnitude $\\alpha\\|T\\|$ and the regularization term $\\beta\\|p_Ka_K\\|$, where $p_K = p_{(k,l,m)} = \\exp(l-l_{work}) - 1,\\; (l_{work}\\le l\\le l_{\\max})$."
   ]
  },
  {
   "cell_type": "code",
   "execution_count": null,
   "metadata": {
    "collapsed": true
   },
   "outputs": [],
   "source": [
    "plot_funval = np.loadtxt(fvfile)[:, 1:]\n",
    "plt.figure(figsize=(14,5))\n",
    "plt.subplot(131)\n",
    "plt.plot(plot_funval[:, 0], label=r'total')\n",
    "if plot_funval.shape[1] > 5:\n",
    "    plt.plot(plot_funval[:, 3], label=r'$\\Delta x$')\n",
    "    plt.plot(plot_funval[:, 4]*myalpha, label=r'$\\alpha\\|T\\|$')\n",
    "    plt.plot(plot_funval[:, 5]*mybeta, label=r'$\\beta\\|p_Ka_K\\|$')\n",
    "plt.legend()\n",
    "plt.title('target')\n",
    "plt.xlabel(r'$n_{period}$')\n",
    "plt.subplot(132)\n",
    "plt.plot(plot_funval[:, 1], label='Converged $\\Delta x = %.4f$nm'%(plot_funval[-1, 1]*1e3))\n",
    "plt.title('shape_dist $\\Delta x(\\mu m)$')\n",
    "plt.xlabel(r'$n_{period}$')\n",
    "plt.legend()\n",
    "plt.subplot(133)\n",
    "plt.plot(plot_funval[:, 2], label='Converged $\\|T\\| = %.4f$Pa'%(plot_funval[-1, 2]))\n",
    "plt.title('traction(Pa)')\n",
    "plt.xlabel(r'$n_{period}$')\n",
    "plt.legend()\n",
    "if savefig:\n",
    "    plt.savefig(savename+'_convergence.png', transparent=True)\n",
    "plt.show()"
   ]
  },
  {
   "cell_type": "markdown",
   "metadata": {},
   "source": [
    "In the next cell, we plot the spherical harmonic coefficients of displacement $\\hat{U}_K$, traction $\\hat{T}_K$, and the coefficients in the solution space $a_K$."
   ]
  },
  {
   "cell_type": "code",
   "execution_count": null,
   "metadata": {
    "collapsed": true
   },
   "outputs": [],
   "source": [
    "# Load the solution file\n",
    "AK_sol = np.load(AKfile)\n",
    "Uvec1 = Dmat.dot(AK_sol); Tvec1 = Cmat.dot(AK_sol)\n",
    "\n",
    "print('Plot the Solution Coefficients')\n",
    "plt.figure(figsize=(12, 4))\n",
    "plt.subplot(131)\n",
    "plt.plot(np.abs(Uvec1)); plt.ylim(0, 0.01); plt.title('$\\hat{U}_{lmk}$')\n",
    "plt.subplot(132)\n",
    "plt.plot(np.abs(AK_sol)); plt.ylim(0, 0.01); plt.title('$a_K$')\n",
    "plt.subplot(133)\n",
    "plt.plot(np.abs(Tvec1)); plt.ylim(0, 0.1); plt.title('$\\hat{T}_{lmk}$')\n",
    "if savefig:\n",
    "    plt.savefig(savename+'_coeffs.png', transparent=True)\n",
    "plt.show()"
   ]
  },
  {
   "cell_type": "markdown",
   "metadata": {},
   "source": [
    "In the next cell, we plot the displacement map and traction map correspond to the solution."
   ]
  },
  {
   "cell_type": "code",
   "execution_count": null,
   "metadata": {
    "collapsed": true
   },
   "outputs": [],
   "source": [
    "print('Plot displacement map')\n",
    "fig, ax = visSHVec(Uvec1*r0, lmax_plot=lmax_plot,\n",
    "                   SphCoord=True, Complex=True,     # spherical coord switch, complex coefficient switch\n",
    "                   # n_vrange=(-1,1), s_vrange=(0,0.01), # normal and shear map value range\n",
    "                   config_quiver=(2, 3, 'k', 20),   # setting of quiver in shear map\n",
    "                   lonshift=180,                    # shift the map in longitude direction\n",
    "                   figsize=(12,6), show=False)       # figure size\n",
    "if savefig:\n",
    "    fig[0].savefig(savename+'_un.png', transparent=False)\n",
    "    fig[1].savefig(savename+'_us.png', transparent=False)\n",
    "plt.show()\n",
    "\n",
    "print('Plot traction map')\n",
    "fig, ax = visSHVec(Tvec1*r0, lmax_plot=lmax_plot, \n",
    "                   SphCoord=True, Complex=True,     # spherical coord switch, complex coefficient switch\n",
    "                   # n_vrange=(-200, 200), s_vrange=(0,0.01), # normal and shear map value range\n",
    "                   config_quiver=(2, 3, 'k', 100), # setting of quiver in shear map\n",
    "                   lonshift=180,                    # shift the map in longitude direction\n",
    "                   figsize=(12,6), show=False)       # figure size\n",
    "if savefig:\n",
    "    fig[0].savefig(savename+'_Tn.png', transparent=False)\n",
    "    fig[1].savefig(savename+'_Ts.png', transparent=False)\n",
    "plt.show()"
   ]
  },
  {
   "cell_type": "markdown",
   "metadata": {},
   "source": [
    "In the next cell, we compare the shape using the radial displacement $u_r$. The fitted shape has radial displacement of $u_t$, and the difference between the data and the fitted shape is also given."
   ]
  },
  {
   "cell_type": "code",
   "execution_count": null,
   "metadata": {
    "collapsed": true
   },
   "outputs": [],
   "source": [
    "# Vp -> ur (radial displacement) -> u1 (x,y,z)\n",
    "Vr, Vthe, Vphi = CartCoord_to_SphCoord(Vp[...,0], Vp[...,1], Vp[...,2])\n",
    "Vphi[Vphi < 0] += 2*np.pi\n",
    "Vlat = 90-np.rad2deg(Vthe)\n",
    "Vlon = np.rad2deg(Vphi)\n",
    "ur = (Vr - r0)/r0\n",
    "\n",
    "urcilm_interp, chi2ur = pyshtools.expand.SHExpandLSQ(ur, Vlat, Vlon, lmax=lJmax)\n",
    "ucoeff_interp = pyshtools.SHCoeffs.from_array(urcilm_interp)\n",
    "urgrid_interp = ucoeff_interp.expand('GLQ')\n",
    "\n",
    "latsdeg, lonsdeg = pyshtools.expand.GLQGridCoord(lmax_plot)\n",
    "lon = np.deg2rad(lonsdeg)\n",
    "colat = np.deg2rad(90-latsdeg)\n",
    "PHI, THETA = np.meshgrid(lon, colat)\n",
    "R = np.ones_like(PHI)\n",
    "X,Y,Z = SphCoord_to_CartCoord(R, THETA, PHI)\n",
    "X0 = np.stack([X,Y,Z], axis=-1)\n",
    "Xt = X0 + SHVec2mesh(Uvec1, lmax=lmax_plot, SphCoord=False, Complex=True)\n",
    "\n",
    "rt, thet, phit = CartCoord_to_SphCoord(Xt[...,0], Xt[...,1], Xt[...,2])\n",
    "phit[phit < 0] += 2*np.pi\n",
    "latt = 90-np.rad2deg(thet)\n",
    "lont = np.rad2deg(phit)\n",
    "urt = rt - 1\n",
    "\n",
    "rtcilm_interp, chi2ut = pyshtools.expand.SHExpandLSQ(urt.flatten(), latt.flatten(), lont.flatten(), lmax=lJmax)\n",
    "print('Residuals for expanding into spherical harmonics. ur: %.4f ut: %.4f'%(chi2ur, chi2ut))"
   ]
  },
  {
   "cell_type": "code",
   "execution_count": null,
   "metadata": {
    "collapsed": true,
    "scrolled": false
   },
   "outputs": [],
   "source": [
    "utcoeff_interp = pyshtools.SHCoeffs.from_array(rtcilm_interp)\n",
    "utgrid_interp = utcoeff_interp.expand('GLQ')\n",
    "fig, ax = plotfv(urgrid_interp.to_array()*r0, lonshift=180, show=False, figsize=(6,3))\n",
    "ax.set_title('$u_r (\\mu m)$')\n",
    "if savefig:\n",
    "    fig.savefig(savename+'_ur.png', transparent=True)\n",
    "fig, ax = plotfv(utgrid_interp.to_array()*r0, lonshift=180, show=False, figsize=(6,3))\n",
    "ax.set_title('$u_t (\\mu m)$')\n",
    "if savefig:\n",
    "    fig.savefig(savename+'_ut.png', transparent=True)\n",
    "\n",
    "udgrid_interp = urgrid_interp.copy()\n",
    "TT = np.deg2rad(90 - udgrid_interp.lats())\n",
    "PP = np.deg2rad(udgrid_interp.lons())\n",
    "ud_tmp = utgrid_interp.to_array() - urgrid_interp.to_array()\n",
    "udz_tmp = ud_tmp * np.cos(TT[:,np.newaxis])\n",
    "ud_new = np.sqrt(ud_tmp**2 - udz_tmp**2 + (udz_tmp)**2)\n",
    "udgrid_interp.data = np.sign(ud_tmp) * ud_new #* np.sin(TT[:,np.newaxis])\n",
    "fig, ax = plotfv(udgrid_interp.to_array()*r0, lonshift=180, show=False, cmap='Reds', figsize=(6,3))\n",
    "ax.set_title('$\\Delta u = u_r-u_t (\\mu m)$')\n",
    "if savefig:\n",
    "    fig.savefig(savename+'_ud.png', transparent=True)\n",
    "plt.show()\n",
    "\n",
    "dist_ud = np.mean((udgrid_interp.data**2)*np.sin(TT[:,np.newaxis]))\n",
    "print('Average squared distance on unit sphere:', dist_ud)\n",
    "print('Averaged shape difference %.8f(um)'%(np.sqrt(dist_ud)*r0))\n",
    "plt.hist(udgrid_interp.data.flatten()*r0, bins=100)\n",
    "plt.title('distribution of the shape difference')\n",
    "plt.ylabel('# of nodes'); plt.xlabel('$\\Delta u(\\mu m)$');\n",
    "if savefig:\n",
    "    plt.savefig(savename+'_dhist.png', transparent=True)\n",
    "plt.show()"
   ]
  },
  {
   "cell_type": "code",
   "execution_count": null,
   "metadata": {
    "collapsed": true,
    "scrolled": false
   },
   "outputs": [],
   "source": [
    "print('Evaluate Displacement and Traction in Cartesian Coordinates for plotting 3d shape...')\n",
    "umesh1 = SHVec2mesh(Uvec1, lmax=lJmax, SphCoord=False, Complex=True)\n",
    "tmesh1 = SHVec2mesh(Tvec1*mu0, lmax=lJmax, SphCoord=False, Complex=True)\n",
    "umesh1_fine = SHVec2mesh(Uvec1, lmax=lmax_plot, SphCoord=False, Complex=True)\n",
    "tmesh1_fine = SHVec2mesh(Tvec1*mu0, lmax=lmax_plot, SphCoord=False, Complex=True)"
   ]
  },
  {
   "cell_type": "code",
   "execution_count": null,
   "metadata": {
    "collapsed": true
   },
   "outputs": [],
   "source": [
    "print('Visualize the nodes in 3D...')\n",
    "fig, ax = visSH3d(umesh1, cmesh=tmesh1, r0=r0, show=False, elevation=0, azimuth=0, surface=False, figsize=(4,4))\n",
    "nTfv = np.logical_not(Tfv)\n",
    "ax.scatter3D(Vp[Tfv, 0], Vp[Tfv, 1], Vp[Tfv, 2], marker='^', s=10)\n",
    "ax.scatter3D(Vp[nTfv, 0], Vp[nTfv, 1], Vp[nTfv, 2], marker='^', s=10)\n",
    "if savefig:\n",
    "    plt.tight_layout(); plt.savefig(savename+'_compare.png', transparent=True)\n",
    "plt.show()"
   ]
  },
  {
   "cell_type": "code",
   "execution_count": null,
   "metadata": {
    "collapsed": true
   },
   "outputs": [],
   "source": [
    "print('Visualize the shape in 3D...')\n",
    "fig, ax = visSH3d(umesh1_fine, cmesh=tmesh1_fine, \n",
    "                  r0=r0, show=False, \n",
    "                  elevation=0, azimuth=0, \n",
    "                  surface=True, figsize=(4,4))\n",
    "\n",
    "# reference data\n",
    "ax.scatter3D(Vp[Tfv, 0], Vp[Tfv, 1], Vp[Tfv, 2], marker='^', s=10)\n",
    "ax.scatter3D(Vp[nTfv, 0], Vp[nTfv, 1], Vp[nTfv, 2], marker='^', s=10)\n",
    "ax.set_title('Front view')\n",
    "if savefig:\n",
    "    plt.tight_layout(); plt.savefig(savename+'_front.png', transparent=True)\n",
    "plt.show()"
   ]
  },
  {
   "cell_type": "code",
   "execution_count": null,
   "metadata": {
    "collapsed": true
   },
   "outputs": [],
   "source": [
    "fig, ax = visSH3d(umesh1_fine, cmesh=tmesh1_fine, \n",
    "                  r0=r0, show=False, \n",
    "                  elevation=0, azimuth=-90, \n",
    "                  surface=True, figsize=(4,4))\n",
    "\n",
    "# Plot reference data\n",
    "ax.scatter3D(Vp[Tfv, 0], Vp[Tfv, 1], Vp[Tfv, 2], marker='^', s=10)\n",
    "ax.scatter3D(Vp[nTfv, 0], Vp[nTfv, 1], Vp[nTfv, 2], marker='^', s=10)\n",
    "ax.set_title('Left view')\n",
    "if savefig:\n",
    "    plt.tight_layout(); plt.savefig(savename+'_left.png', transparent=True)\n",
    "plt.show()"
   ]
  },
  {
   "cell_type": "code",
   "execution_count": null,
   "metadata": {
    "collapsed": true
   },
   "outputs": [],
   "source": [
    "fig, ax = visSH3d(umesh1_fine, cmesh=tmesh1_fine, \n",
    "                  r0=r0, show=False, \n",
    "                  elevation=90, azimuth=0, \n",
    "                  surface=True, figsize=(4,4))\n",
    "\n",
    "# Plot reference data\n",
    "ax.scatter3D(Vp[Tfv, 0], Vp[Tfv, 1], Vp[Tfv, 2], marker='^', s=10)\n",
    "ax.scatter3D(Vp[nTfv, 0], Vp[nTfv, 1], Vp[nTfv, 2], marker='^', s=10)\n",
    "ax.set_title('Top view')\n",
    "if savefig:\n",
    "    plt.tight_layout(); plt.savefig(savename+'_top.png', transparent=True)\n",
    "plt.show()"
   ]
  },
  {
   "cell_type": "code",
   "execution_count": null,
   "metadata": {
    "collapsed": true
   },
   "outputs": [],
   "source": [
    "umesh_Cart = SHVec2mesh(Uvec1*r0, lmax=lmax_plot, SphCoord=False, Complex=True)\n",
    "tmesh_Cart = SHVec2mesh(Tvec1*mu0, lmax=lmax_plot, SphCoord=False, Complex=True)\n",
    "umesh_Sph = SHVec2mesh(Uvec1*r0, lmax=lmax_plot, SphCoord=True, Complex=True)\n",
    "tmesh_Sph = SHVec2mesh(Tvec1*mu0, lmax=lmax_plot, SphCoord=True, Complex=True)\n",
    "ugrid_Cart = SHVec2mesh(Uvec1*r0, lat=Vlat, lon=Vlon, lmax=lmax_plot, SphCoord=False, Complex=True)\n",
    "tgrid_Cart = SHVec2mesh(Tvec1*mu0, lat=Vlat, lon=Vlon, lmax=lmax_plot, SphCoord=False, Complex=True)\n",
    "ugrid_Sph = SHVec2mesh(Uvec1*r0, lat=Vlat, lon=Vlon, lmax=lmax_plot, SphCoord=True, Complex=True)\n",
    "tgrid_Sph = SHVec2mesh(Tvec1*mu0, lat=Vlat, lon=Vlon, lmax=lmax_plot, SphCoord=True, Complex=True)\n",
    "savemat(savename+'.mat', {'umesh_Cart':umesh_Cart, 'tmesh_Cart':tmesh_Cart,\n",
    "                          'umesh_Sph': umesh_Sph,  'tmesh_Sph': tmesh_Sph,\n",
    "                          'ugrid_Cart':ugrid_Cart, 'tmesh_Cart':tgrid_Cart,\n",
    "                          'ugrid_Sph': ugrid_Sph,  'tmesh_Sph': tgrid_Sph,\n",
    "                          'lat': Vlat, 'lon': Vlon, 'r0': r0,  'mu0': mu0})"
   ]
  }
 ],
 "metadata": {
  "kernelspec": {
   "display_name": "Python 3",
   "language": "python",
   "name": "python3"
  },
  "language_info": {
   "codemirror_mode": {
    "name": "ipython",
    "version": 3
   },
   "file_extension": ".py",
   "mimetype": "text/x-python",
   "name": "python",
   "nbconvert_exporter": "python",
   "pygments_lexer": "ipython3",
   "version": "3.6.8"
  },
  "toc": {
   "base_numbering": 1,
   "nav_menu": {},
   "number_sections": true,
   "sideBar": true,
   "skip_h1_title": false,
   "title_cell": "Table of Contents",
   "title_sidebar": "Contents",
   "toc_cell": false,
   "toc_position": {},
   "toc_section_display": true,
   "toc_window_display": false
  }
 },
 "nbformat": 4,
 "nbformat_minor": 2
}
