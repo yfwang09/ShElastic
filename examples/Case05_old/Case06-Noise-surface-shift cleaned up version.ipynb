{
 "cells": [
  {
   "cell_type": "markdown",
   "metadata": {},
   "source": [
    "# Hydrogel-Cell Interaction Test Case\n",
    "\n",
    "In this case, we only have the deformed shape of the spherical hydrogel as shown in the next few cells."
   ]
  },
  {
   "cell_type": "code",
   "execution_count": null,
   "metadata": {},
   "outputs": [],
   "source": [
    "import numpy as np\n",
    "import scipy as sp\n",
    "import scipy.sparse as spm\n",
    "from scipy.sparse.linalg import lsqr, spsolve\n",
    "from scipy.interpolate import RectBivariateSpline\n",
    "from scipy.optimize import minimize, Bounds, brute, approx_fprime\n",
    "from scipy.io import loadmat, savemat\n",
    "\n",
    "import matplotlib.pyplot as plt\n",
    "from matplotlib import cm, colors\n",
    "from mpl_toolkits.mplot3d import Axes3D\n",
    "from mpl_toolkits.mplot3d.art3d import Line3DCollection\n",
    "import sys, time, os.path\n",
    "from itertools import permutations\n",
    "import pyshtools\n",
    "\n",
    "sys.path.append('..')\n",
    "from shelastic.shutil import SphCoord_to_CartCoord, CartCoord_to_SphCoord, GLQCartCoord\n",
    "from shelastic.shutil import SHCilmToVector, SHVectorToCilm, SHVec2mesh, SHmesh2Vec\n",
    "from shelastic.shutil import TransMat, l_coeffs, m_coeffs, LM_list, lmk2K, K2lmk\n",
    "from shelastic.shbv import generate_submat, Uvec2Tvec, Tvec2Uvec\n",
    "from shelastic.shvis  import plotfv, vismesh, visSHVec, visSH3d\n",
    "from sphere_utils import loadCoeffs, arbitrary_force, Ur_interp, usurf2vec, calculateTfv"
   ]
  },
  {
   "cell_type": "markdown",
   "metadata": {},
   "source": [
    "## Input information"
   ]
  },
  {
   "cell_type": "code",
   "execution_count": null,
   "metadata": {},
   "outputs": [],
   "source": [
    "############################# change inputs here #################################\n",
    "# Data file name\n",
    "datadir = ''\n",
    "smoothed = ''\n",
    "dilated = ''\n",
    "shapename = 'noise'\n",
    "datafile = os.path.join(datadir, shapename+'_Coordinates_Cart_'+smoothed+'.csv')\n",
    "connfile = os.path.join(datadir, shapename+'_Connectivity.csv')\n",
    "maskfile = os.path.join(datadir, shapename+'_Mask'+dilated+'.csv')\n",
    "\n",
    "# Material properties\n",
    "mu0 = 300/3; nu0 = 0.499;\n",
    "r0 = 5;           # microns\n",
    "\n",
    "# Arbitrary force field (opposite forces)\n",
    "pF = 1            # force magnitude (Pa)\n",
    "rcut_r0 = 0.3; \n",
    "rcut = rcut_r0 * r0\n",
    "mag = 4; dilation = 2;\n",
    "noise_level = 0.01 # noise std (um)\n",
    "\n",
    "# Spherical Harmonics Analysis Settings\n",
    "lJmax = 20; lKmax = lJmax; lmax_plot = 60;\n",
    "\n",
    "# initial guess settings\n",
    "init_guess_type = 'ur-only' #'ur-only' or 'true'\n",
    "\n",
    "# regularizations\n",
    "myalpha = 1     # traction magnitude\n",
    "mybeta  = 1  # coefficient magnitude\n",
    "\n",
    "# program switches\n",
    "plot_figure = False\n",
    "myord = 1; # myord: p-norm order (1-mean value)\n",
    "\n",
    "# minimization settings\n",
    "N_period = 100\n",
    "maxiter_per_period = 5\n",
    "CG_gtol = 1e-5\n",
    "\n",
    "minimizer = 'CG'\n",
    "minimizer_config = {'maxiter': maxiter_per_period, 'disp': True, 'gtol': CG_gtol}\n",
    "\n",
    "# dump files for minimization\n",
    "savename = shapename + ('_b%.0e_r%.1f_n%.1e_lmax%d'%(mybeta, rcut_r0, noise_level, lJmax))\n",
    "#+('_a%.0e_b%.0e'%(myalpha, mybeta))+('_lmax%d'%lJmax)+smoothed+dilated\n",
    "\n",
    "# settings for loading \\hat{U}, \\hat{T} coefficients\n",
    "Cmat, Dmat = loadCoeffs(mu0, nu0, lJmax, 'reg')"
   ]
  },
  {
   "cell_type": "markdown",
   "metadata": {},
   "source": [
    "## Define arbitrary force field"
   ]
  },
  {
   "cell_type": "code",
   "execution_count": null,
   "metadata": {},
   "outputs": [],
   "source": [
    "Tvec_true, Uvec_true, Vp, Tfv = arbitrary_force(rcut_r0) #, noise_level=noise_level, Cmat=Cmat, Dmat=Dmat)\n",
    "\n",
    "if plot_figure:\n",
    "    fig, ax = plt.subplots(1, 1)\n",
    "    ax.plot(np.abs(Tvec_true))\n",
    "    ax.set_title('Traction SH coefficients $T^{(K)}$')\n",
    "    plt.show()"
   ]
  },
  {
   "cell_type": "code",
   "execution_count": null,
   "metadata": {},
   "outputs": [],
   "source": [
    "if plot_figure:\n",
    "    fig, ax = visSHVec(Uvec_true*r0, lmax_plot=lmax_plot, SphCoord=True, Complex=True,\n",
    "                       config_quiver=(2, 3, 'k', 10), lonshift=180, figsize=(6,3))\n",
    "    fig, ax = plt.subplots()\n",
    "    ax.plot(np.abs(Uvec_true))\n",
    "    ax.set_title('Displacement SH Coefficients $U^{(K)}$')\n",
    "    plt.show()"
   ]
  },
  {
   "cell_type": "code",
   "execution_count": null,
   "metadata": {},
   "outputs": [],
   "source": [
    "if plot_figure:\n",
    "    umesh_fine_scaled = SHVec2mesh(Uvec_true, lmax=lmax_plot, SphCoord=False, Complex=True)\n",
    "    tmesh_fine = SHVec2mesh(Tvec_true*mu0, lmax=lmax_plot, SphCoord=False, Complex=True)\n",
    "    fig, ax = visSH3d(umesh_fine_scaled, cmesh=tmesh_fine, r0=r0, show=False, \n",
    "                      elevation=0, azimuth=0, surface=True, figsize=plt.figaspect(1))\n",
    "    plt.show()"
   ]
  },
  {
   "cell_type": "code",
   "execution_count": null,
   "metadata": {},
   "outputs": [],
   "source": [
    "#### Plot the geometry (Vp) ####\n",
    "if plot_figure:\n",
    "    fig = plt.figure(figsize=plt.figaspect(1))\n",
    "    ax = fig.add_subplot(111, projection='3d')\n",
    "\n",
    "    Tf_id = Tfv > 0.1\n",
    "    nTf_id= np.logical_not(Tf_id)\n",
    "    ax.scatter3D(Vp[Tf_id, 0], Vp[Tf_id, 1], Vp[Tf_id, 2])\n",
    "    ax.scatter3D(Vp[nTf_id, 0], Vp[nTf_id, 1], Vp[nTf_id, 2])\n",
    "\n",
    "    ax.view_init(azim=0, elev=30)\n",
    "    plt.show()"
   ]
  },
  {
   "cell_type": "markdown",
   "metadata": {},
   "source": [
    "Then we determine the original radius of the particle, assuming the particle is incompressible. The total volume can be estimated by adding the volume of the tetrahedrons. The volume of a tetrahedron is calculated as:\n",
    "\n",
    "$$\n",
    "V_{0123}=\\frac{1}{6}\n",
    "\\begin{vmatrix}\n",
    " x_1 & y_1 & z_1 & 1\\\\ \n",
    " x_2 & y_2 & z_2 & 1\\\\ \n",
    " x_3 & y_3 & z_3 & 1\\\\ \n",
    " 0 & 0 & 0 & 1\\\\ \n",
    "\\end{vmatrix}\n",
    "$$"
   ]
  },
  {
   "cell_type": "markdown",
   "metadata": {},
   "source": [
    "We need to solve the reverse problem of a deformed shape. We will try the following methods to tackle this problem:\n",
    "\n",
    "1. Assume $r$-direction deformation only, using the solution as initial guess to the optimization\n",
    "2. LSQ solving coeffs of the SH solutions for fitting both the traction-free boundary and the shape"
   ]
  },
  {
   "cell_type": "markdown",
   "metadata": {},
   "source": [
    "Conversion between complex and real spherical harmonics, for $m>0$\n",
    "\n",
    "$$\n",
    "f_{lm} = \\left[f_l^m+(-1)^mf_l^{-m}\\right]/\\sqrt{2}\\\\\n",
    "f_{l-m}=i\\left[f_l^m-(-1)^mf_l^{-m}\\right]/\\sqrt{2}\\\\\n",
    "f_l^m = (f_{lm}-if_{l-m})/\\sqrt{2}\\\\\n",
    "f_l^{-m} = (-1)^m(f_{lm}+if_{l-m})/\\sqrt{2}\n",
    "$$\n",
    "\n",
    "for $m=0$:\n",
    "\n",
    "$$\n",
    "f_{l0} = f_l^0\n",
    "$$\n"
   ]
  },
  {
   "cell_type": "markdown",
   "metadata": {},
   "source": [
    "## 1. LSQ solving SH coeffs for displacement field\n",
    "\n",
    "Obviously, the decomposition is not satisfactory. It is not reasonable to assume the deformation is only on $r$-direction. In this section, we will try to optimize SH coeffs, so that the deformed shape is closest to the data. Notice that the integral of a spherical harmonic function on the sphere surface is:\n",
    "\n",
    "$$\n",
    "\\int_0^{2\\pi}\\!\\int_0^{\\pi}Y_l^m(\\theta,\\varphi)\\sin\\theta d\\theta d\\varphi = 4\\pi\\delta_{l0}\\delta_{m0}\n",
    "$$\n",
    "\n",
    "Therefore, only the $Y_0^0$ term controls the rigid body translation (constant). If we only impose higher mode spherical harmonics, there will be no rigid body motion."
   ]
  },
  {
   "cell_type": "markdown",
   "metadata": {},
   "source": [
    "## 2. Obtain the shape interpolation function\n",
    "\n",
    "A function that returns $u_r(\\theta,\\varphi)$"
   ]
  },
  {
   "cell_type": "code",
   "execution_count": null,
   "metadata": {},
   "outputs": [],
   "source": [
    "f_interp = Ur_interp(Vp/r0, lmax=lJmax+10, plot_figure=plot_figure)"
   ]
  },
  {
   "cell_type": "markdown",
   "metadata": {},
   "source": [
    "## 3. Target function including traction residual and elastic energy"
   ]
  },
  {
   "cell_type": "markdown",
   "metadata": {},
   "source": [
    "We use the true solution we obtained from Section 1 `Tvec_true` for the testing. Load the initial guess as:"
   ]
  },
  {
   "cell_type": "code",
   "execution_count": null,
   "metadata": {
    "scrolled": true
   },
   "outputs": [],
   "source": [
    "import glob\n",
    "\n",
    "filelist = glob.glob('AK_'+savename+'_??.npz')\n",
    "nfile = len(filelist)\n",
    "if nfile > 0:\n",
    "    u0_surf = np.load('AK_'+savename+'_%02d.npz'%(nfile-1))['u_surf_list'][-1]\n",
    "elif init_guess_type == 'true':\n",
    "    u0_vec = Uvec.copy()\n",
    "    x0mesh = SHVec2mesh(u0_vec, lmax=lJmax, SphCoord=False, Complex=True) + X0/r0\n",
    "    r0surf, t0surf, p0surf = CartCoord_to_SphCoord(x0mesh[..., 0], x0mesh[..., 1], x0mesh[..., 2])\n",
    "    lat0surf = 90 - np.rad2deg(t0surf); lon0surf = np.rad2deg(p0surf);\n",
    "    u0_surf = np.stack([lat0surf, lon0surf], axis=-1) - X0shear\n",
    "elif init_guess_type == 'ur-only':\n",
    "    u0_surf = np.zeros((lJmax+1, lJmax*2+1, 2))\n",
    "print(u0_surf.shape)\n",
    "\n",
    "U0vec, aK, T0vec = usurf2vec(u0_surf, f_interp=f_interp, lmax=lJmax)\n",
    "if plot_figure:\n",
    "    fig, ax = plt.subplots()\n",
    "    ax.plot(np.abs(T0vec))\n",
    "    ax.set_title('Traction SH Coefficients $T^{(K)}$')\n",
    "    plt.show()\n",
    "    #     print('Displacement in Spherical Coordinates...')\n",
    "    #     fig, ax = visSHVec(U0vec*r0, lmax_plot=lmax_plot, SphCoord=True, Complex=True,\n",
    "    #                        n_vrange=(-1, 1), s_vrange=(0, 1),\n",
    "    #                        config_quiver=(2, 3, 'k', 10), lonshift=180, figsize=(6,3))\n",
    "    # print('Traction in Spherical Coordinates...')\n",
    "    figs, ax = visSHVec((T0vec)*mu0, lmax_plot=lmax_plot, SphCoord=True, Complex=True, \n",
    "                       n_vrange=(-100, 100), s_vrange=(0, 50), show=False,\n",
    "                       config_quiver=(2, 3, 'k', 500), lonshift=180, figsize=(6,3))\n",
    "    ax[0].set_title('normal traction $T_n$')\n",
    "    ax[1].set_title('shear traction $T_s$')"
   ]
  },
  {
   "cell_type": "code",
   "execution_count": null,
   "metadata": {},
   "outputs": [],
   "source": [
    "# Define weights and traction free region\n",
    "if dilated == '_softedge':\n",
    "    isTfv = calculateTfv(U0vec, lJmax, Vp/r0, mask)\n",
    "else:\n",
    "    isTfv = calculateTfv(U0vec, lJmax, Vp/r0, Tfv)\n",
    "\n",
    "print(isTfv.shape)\n",
    "\n",
    "# Define shape reference\n",
    "latsdeg, lonsdeg = pyshtools.expand.GLQGridCoord(lJmax)\n",
    "lon0, lat0 = np.meshgrid(lonsdeg, latsdeg)\n",
    "X0surf = np.stack([lat0, lon0], axis=-1)\n",
    "X0 = GLQCartCoord(lJmax)"
   ]
  },
  {
   "cell_type": "code",
   "execution_count": null,
   "metadata": {},
   "outputs": [],
   "source": [
    "from sphere_utils import usurf2vec, Tvec2Tres, usurf2dr\n",
    "T0dist = Tvec2Tres(T0vec, lJmax, isTfv=isTfv, norm_order=myord)\n",
    "E0el = np.vdot(U0vec, T0vec).real*2*np.pi\n",
    "print('Traction residual: %.4e Pa'%(T0dist*mu0))\n",
    "print('Elastic energy: %.4e pJ'%(E0el*(r0/1e6)**3*mu0*1e12))\n",
    "print('funval: %.4e %.4e'%(T0dist, E0el))"
   ]
  },
  {
   "cell_type": "code",
   "execution_count": null,
   "metadata": {
    "scrolled": true
   },
   "outputs": [],
   "source": [
    "target_args = (f_interp, lJmax, mybeta, myord, X0surf, X0, isTfv, Cmat, Dmat)\n",
    "\n",
    "def print_iter(xk):\n",
    "    Uvec, aK, Tvec = usurf2vec(xk, f_interp, lJmax, X0surf=X0surf, X0=X0, Cmat=Cmat, Dmat=Dmat)\n",
    "    Tdist = Tvec2Tres(Tvec, lJmax, isTfv=isTfv, norm_order=myord)\n",
    "    Eel = np.vdot(Uvec, Tvec).real*2*np.pi\n",
    "    dr  = usurf2dr(xk, *target_args)\n",
    "    print('%13.4ePa%13.4epJ%13.4e%13.4e%13.4e'%(Tdist*mu0, Eel*(r0/1e6)**3*mu0*1e12, Tdist, Eel, dr))\n",
    "\n",
    "bd = Bounds(-6, 6)\n",
    "u_surf = u0_surf.copy()\n",
    "u_surf_list = [u_surf, ]\n",
    "for i in range(N_period):\n",
    "    print('Period %d'%i)\n",
    "    u_res = minimize(usurf2dr, u_surf.flatten(), args=target_args, method = minimizer,\n",
    "                     options=minimizer_config, callback=print_iter)\n",
    "    if u_res.success:\n",
    "        break\n",
    "    u_surf = u_res.x.copy()\n",
    "    u_surf_list.append(u_surf)"
   ]
  },
  {
   "cell_type": "code",
   "execution_count": null,
   "metadata": {},
   "outputs": [],
   "source": [
    "Usurfvec, aK, Tsurfvec = usurf2vec(u_surf, f_interp, lJmax, X0surf=X0surf, X0=X0, Cmat=Cmat, Dmat=Dmat)\n",
    "Tsurfdist = Tvec2Tres(Tsurfvec, lJmax, isTfv=isTfv, norm_order=myord)\n",
    "Esurfel = np.vdot(Usurfvec, Tsurfvec).real*2*np.pi\n",
    "print('Traction residual: %.4e Pa'%(Tsurfdist*mu0))\n",
    "print('Elastic energy: %.4e pJ'%(Esurfel*(r0/1e6)**3*mu0*1e12))\n",
    "print('funval: %.4e %.4e'%(Tsurfdist, Esurfel))"
   ]
  },
  {
   "cell_type": "code",
   "execution_count": null,
   "metadata": {},
   "outputs": [],
   "source": [
    "print(u_res)\n",
    "u_surf = u_res.x\n",
    "\n",
    "if plot_figure:\n",
    "    fig, ax = plt.subplots()\n",
    "    ax.plot(np.abs(Tvec_true), label='True solution')\n",
    "    ax.plot(np.abs(Tsurfvec),  label='Reconstructed')\n",
    "    ax.set_title('Traction SH coefficients')\n",
    "    plt.show()\n",
    "\n",
    "    #     print('Displacement in Spherical Coordinates...')\n",
    "    #     fig, ax = visSHVec(Usurfvec*r0, lmax_plot=lmax_plot, SphCoord=True, Complex=True, \n",
    "    #                        s_vrange=(0,0.01), show=False,\n",
    "    #                        config_quiver=(2, 3, 'k', 10), lonshift=180, figsize=(6,3))\n",
    "    print('Traction in Spherical Coordinates...')\n",
    "    fig, ax = visSHVec((Tsurfvec-Tvec_true)*mu0, lmax_plot=lmax_plot, SphCoord=True, Complex=True, \n",
    "                       n_vrange=(-100, 100), s_vrange=(0, 50), show=False,\n",
    "                       config_quiver=(2, 3, 'k', 500), lonshift=180, figsize=(6,3))\n",
    "    ax[0].set_title('Normal traction error $|T_n - T_n^{true}|$')\n",
    "    ax[1].set_title('Shear traction error $|T_s - T_s^{true}|$')\n"
   ]
  },
  {
   "cell_type": "code",
   "execution_count": null,
   "metadata": {},
   "outputs": [],
   "source": [
    "import glob\n",
    "filelist = glob.glob('AK_'+savename+'_??.npz')\n",
    "nfile = len(filelist)\n",
    "np.savez_compressed(('AK_'+savename+'_%02d.npz')%(nfile), AK_iter=aK, u_surf_list=u_surf_list, beta=mybeta, N=N_period)"
   ]
  }
 ],
 "metadata": {
  "kernelspec": {
   "display_name": "Python 3",
   "language": "python",
   "name": "python3"
  },
  "language_info": {
   "codemirror_mode": {
    "name": "ipython",
    "version": 3
   },
   "file_extension": ".py",
   "mimetype": "text/x-python",
   "name": "python",
   "nbconvert_exporter": "python",
   "pygments_lexer": "ipython3",
   "version": "3.6.3"
  },
  "toc": {
   "base_numbering": 1,
   "nav_menu": {},
   "number_sections": false,
   "sideBar": true,
   "skip_h1_title": false,
   "title_cell": "Table of Contents",
   "title_sidebar": "Contents",
   "toc_cell": false,
   "toc_position": {},
   "toc_section_display": true,
   "toc_window_display": false
  }
 },
 "nbformat": 4,
 "nbformat_minor": 2
}
