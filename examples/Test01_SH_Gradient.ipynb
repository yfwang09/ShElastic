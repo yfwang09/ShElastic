{
  "nbformat": 4,
  "nbformat_minor": 0,
  "metadata": {
    "kernelspec": {
      "display_name": "Python 3",
      "language": "python",
      "name": "python3"
    },
    "language_info": {
      "codemirror_mode": {
        "name": "ipython",
        "version": 3
      },
      "file_extension": ".py",
      "mimetype": "text/x-python",
      "name": "python",
      "nbconvert_exporter": "python",
      "pygments_lexer": "ipython3",
      "version": "3.6.7"
    },
    "toc": {
      "base_numbering": 1,
      "nav_menu": {},
      "number_sections": true,
      "sideBar": true,
      "skip_h1_title": false,
      "title_cell": "Table of Contents",
      "title_sidebar": "Contents",
      "toc_cell": false,
      "toc_position": {},
      "toc_section_display": true,
      "toc_window_display": false
    },
    "colab": {
      "name": "Test01_SH_Gradient.ipynb",
      "provenance": [],
      "include_colab_link": true
    }
  },
  "cells": [
    {
      "cell_type": "markdown",
      "metadata": {
        "id": "view-in-github",
        "colab_type": "text"
      },
      "source": [
        "<a href=\"https://colab.research.google.com/github/yfwang09/ShElastic/blob/master/examples/Test01_SH_Gradient.ipynb\" target=\"_parent\"><img src=\"https://colab.research.google.com/assets/colab-badge.svg\" alt=\"Open In Colab\"/></a>"
      ]
    },
    {
      "cell_type": "markdown",
      "metadata": {
        "id": "_cKAxy-hneVi",
        "colab_type": "text"
      },
      "source": [
        "## Gradient of Spherical Harmonics in Cartesian Coordinates\n",
        "\n",
        "This notebook is served as a test case of `shgrad` module, and the derivation of the gradient of spherical harmonics based on Hobson's differentiation (Hobson, 1931).\n",
        "\n",
        "### Setup of the code and run this test\n",
        "\n",
        "Please run through the notebook by clicking **Kernel/Restart & Run All**, and the test result is shown at the very end of the notebook. You can change the following flag to control whether you want to visualize the spectrum of spherical harmonics."
      ]
    },
    {
      "cell_type": "code",
      "metadata": {
        "id": "p-Pu3GmHneVq",
        "colab_type": "code",
        "colab": {}
      },
      "source": [
        "show_spectrum = True"
      ],
      "execution_count": 1,
      "outputs": []
    },
    {
      "cell_type": "code",
      "metadata": {
        "id": "o3u5iHbgui_r",
        "colab_type": "code",
        "colab": {
          "base_uri": "https://localhost:8080/",
          "height": 598
        },
        "outputId": "5cbe5594-cd33-4ec3-c322-20dca4db9f4e"
      },
      "source": [
        "# If you run this notebook on colab, run this cell\n",
        "import os\n",
        "codepath = '/content/ShElastic'\n",
        "if not os.path.exists(codepath):\n",
        "    !git clone https://github.com/yfwang09/ShElastic.git \n",
        "    !pip install pyshtools==4.6.2\n",
        "os.chdir(os.path.join(codepath, 'examples'))"
      ],
      "execution_count": 2,
      "outputs": [
        {
          "output_type": "stream",
          "text": [
            "Cloning into 'ShElastic'...\n",
            "remote: Enumerating objects: 146, done.\u001b[K\n",
            "remote: Counting objects: 100% (146/146), done.\u001b[K\n",
            "remote: Compressing objects: 100% (131/131), done.\u001b[K\n",
            "remote: Total 1227 (delta 76), reused 39 (delta 15), pack-reused 1081\u001b[K\n",
            "Receiving objects: 100% (1227/1227), 151.70 MiB | 33.47 MiB/s, done.\n",
            "Resolving deltas: 100% (462/462), done.\n",
            "Collecting pyshtools==4.6.2\n",
            "\u001b[?25l  Downloading https://files.pythonhosted.org/packages/11/24/f0428beea230f089b6e575abb62aa438e2aff34e4c7277c78bf9f94eaa68/pyshtools-4.6.2-cp36-cp36m-manylinux1_x86_64.whl (10.8MB)\n",
            "\u001b[K     |████████████████████████████████| 10.8MB 274kB/s \n",
            "\u001b[?25hRequirement already satisfied: matplotlib in /usr/local/lib/python3.6/dist-packages (from pyshtools==4.6.2) (3.2.2)\n",
            "Requirement already satisfied: xarray in /usr/local/lib/python3.6/dist-packages (from pyshtools==4.6.2) (0.15.1)\n",
            "Requirement already satisfied: scipy>=0.14.0 in /usr/local/lib/python3.6/dist-packages (from pyshtools==4.6.2) (1.4.1)\n",
            "Requirement already satisfied: numpy>=1.18.1 in /usr/local/lib/python3.6/dist-packages (from pyshtools==4.6.2) (1.18.5)\n",
            "Requirement already satisfied: astropy in /usr/local/lib/python3.6/dist-packages (from pyshtools==4.6.2) (4.0.1.post1)\n",
            "Requirement already satisfied: requests in /usr/local/lib/python3.6/dist-packages (from pyshtools==4.6.2) (2.23.0)\n",
            "Requirement already satisfied: python-dateutil>=2.1 in /usr/local/lib/python3.6/dist-packages (from matplotlib->pyshtools==4.6.2) (2.8.1)\n",
            "Requirement already satisfied: cycler>=0.10 in /usr/local/lib/python3.6/dist-packages (from matplotlib->pyshtools==4.6.2) (0.10.0)\n",
            "Requirement already satisfied: kiwisolver>=1.0.1 in /usr/local/lib/python3.6/dist-packages (from matplotlib->pyshtools==4.6.2) (1.2.0)\n",
            "Requirement already satisfied: pyparsing!=2.0.4,!=2.1.2,!=2.1.6,>=2.0.1 in /usr/local/lib/python3.6/dist-packages (from matplotlib->pyshtools==4.6.2) (2.4.7)\n",
            "Requirement already satisfied: setuptools>=41.2 in /usr/local/lib/python3.6/dist-packages (from xarray->pyshtools==4.6.2) (50.3.0)\n",
            "Requirement already satisfied: pandas>=0.25 in /usr/local/lib/python3.6/dist-packages (from xarray->pyshtools==4.6.2) (1.0.5)\n",
            "Requirement already satisfied: certifi>=2017.4.17 in /usr/local/lib/python3.6/dist-packages (from requests->pyshtools==4.6.2) (2020.6.20)\n",
            "Requirement already satisfied: chardet<4,>=3.0.2 in /usr/local/lib/python3.6/dist-packages (from requests->pyshtools==4.6.2) (3.0.4)\n",
            "Requirement already satisfied: idna<3,>=2.5 in /usr/local/lib/python3.6/dist-packages (from requests->pyshtools==4.6.2) (2.10)\n",
            "Requirement already satisfied: urllib3!=1.25.0,!=1.25.1,<1.26,>=1.21.1 in /usr/local/lib/python3.6/dist-packages (from requests->pyshtools==4.6.2) (1.24.3)\n",
            "Requirement already satisfied: six>=1.5 in /usr/local/lib/python3.6/dist-packages (from python-dateutil>=2.1->matplotlib->pyshtools==4.6.2) (1.15.0)\n",
            "Requirement already satisfied: pytz>=2017.2 in /usr/local/lib/python3.6/dist-packages (from pandas>=0.25->xarray->pyshtools==4.6.2) (2018.9)\n",
            "Installing collected packages: pyshtools\n",
            "Successfully installed pyshtools-4.6.2\n"
          ],
          "name": "stdout"
        }
      ]
    },
    {
      "cell_type": "markdown",
      "metadata": {
        "id": "E6Nk3TzgneWQ",
        "colab_type": "text"
      },
      "source": [
        "### Hobson's Differentiation\n",
        "\n",
        "For convenience, we first define unnormalized spherical harmonics:\n",
        "\n",
        "$$\n",
        "\\chi_l^m(\\theta, \\varphi) = P_l^m(\\cos\\theta)e^{im\\varphi}\n",
        "$$\n",
        "\n",
        "where $P_l^m$ is the unnormalized associate Legendre polynomial."
      ]
    },
    {
      "cell_type": "markdown",
      "metadata": {
        "id": "MaGbE6b-neWg",
        "colab_type": "text"
      },
      "source": [
        "Then the irregular and regular solid harmonics defined based on unnormalized spherical harmonics:\n",
        "\n",
        "$$\n",
        "\\mathcal{I}_l^m(r,\\theta,\\varphi) = \n",
        "\\frac{(l-\\left|m\\right|)!}{r^{l+1}}\\chi_l^m(\\theta,\\varphi);\\quad\n",
        "\\mathcal{R}_l^m(r,\\theta,\\varphi) = \n",
        "\\frac{r^{l}}{(l+\\left|m\\right|)!}\\chi_l^m(\\theta,\\varphi)\\quad(l\\geq0,\\left|m\\right|\\leq l)\n",
        "$$"
      ]
    },
    {
      "cell_type": "markdown",
      "metadata": {
        "id": "5lVsExvhneWn",
        "colab_type": "text"
      },
      "source": [
        "Then there are some simplified algebra relations:\n",
        "\n",
        "$$\n",
        "\\mathcal{R}_l^{-m}(\\mathbf{r})=(-1)^m\\bar{\\mathcal{R}}_l^m(\\mathbf{r}) \\quad\n",
        "\\mathcal{I}_l^{-m}(\\mathbf{r})=(-1)^m\\bar{\\mathcal{I}}_l^m(\\mathbf{r}) \\\\\n",
        "\\mathcal{R}_l^{m}(-\\mathbf{r})=(-1)^l\\mathcal{R}_l^m(\\mathbf{r}) \\quad\n",
        "\\mathcal{I}_l^{m}(-\\mathbf{r})=(-1)^l\\mathcal{I}_l^m(\\mathbf{r}) \\\\\n",
        "$$"
      ]
    },
    {
      "cell_type": "markdown",
      "metadata": {
        "id": "zqK873T9neWs",
        "colab_type": "text"
      },
      "source": [
        "and the Hobson's differentiation can be written as:\n",
        "\n",
        "$$\n",
        "D_1\\mathcal{I}_l^m = \\mathcal{I}_{l+1}^{m-1},\\quad\n",
        "D_2\\mathcal{I}_l^m =-\\mathcal{I}_{l+1}^{m+1},\\quad\n",
        "D_3\\mathcal{I}_l^m =-\\mathcal{I}_{l+1}^{m};  \\\\\n",
        "D_1\\mathcal{R}_l^m = \\mathcal{R}_{l-1}^{m-1},\\quad\n",
        "D_2\\mathcal{R}_l^m =-\\mathcal{R}_{l-1}^{m+1},\\quad\n",
        "D_3\\mathcal{R}_l^m = \\mathcal{R}_{l-1}^{m}.  \\\\\n",
        "$$\n",
        "\n",
        "where $D_i$ are defined as:\n",
        "\n",
        "$$\n",
        "D_1 = \\left({\\partial\\over\\partial x}-i{\\partial\\over\\partial y}\\right),\\quad\n",
        "D_2 = \\left({\\partial\\over\\partial x}+i{\\partial\\over\\partial y}\\right),\\quad\n",
        "D_3 = {\\partial\\over\\partial z}.\n",
        "$$"
      ]
    },
    {
      "cell_type": "markdown",
      "metadata": {
        "id": "gZhQPmssneWw",
        "colab_type": "text"
      },
      "source": [
        "For a better understanding of the derivative, we take some examples:\n",
        "\n",
        "$$\n",
        "\\chi_1^{\\pm1} = \\sin\\theta e^{\\varphi} = \\frac{x\\pm iy}{r}, \\quad\n",
        "\\chi_1^0 = \\cos\\theta = {z\\over r}; \\\\\n",
        "\\mathcal{R}_1^{\\pm1} = x\\pm iy, \\quad \\mathcal{R}_1^{0} = z \\\\\n",
        "\\mathcal{I}_1^{\\pm1} = \\frac{x\\pm iy}{r^3}, \\quad \\mathcal{I}_1^{0} = \\frac{z}{r^3}\n",
        "$$\n",
        "\n",
        "We can see that the same $m$ level modes have the same $(x\\pm iy)$ degrees, and $z$ degree is increasing with level $l$.\n",
        "Similarly, $R_l^m$ and $R_{l+1}^{m+1}$ have the same $z$ degrees, and $(x\\pm iy)$ degrees are increasing with level $l$."
      ]
    },
    {
      "cell_type": "markdown",
      "metadata": {
        "id": "MOM1cFQlneWz",
        "colab_type": "text"
      },
      "source": [
        "Because of the mysterious sign convention and normalization conventions in SHTOOLS, here we develop a set of tools to evaluate the solid harmonics and take numerical derivatives on a 3D mesh."
      ]
    },
    {
      "cell_type": "code",
      "metadata": {
        "id": "maAbK2CXneW1",
        "colab_type": "code",
        "colab": {}
      },
      "source": [
        "import numpy as np\n",
        "import sys, os\n",
        "import time\n",
        "sys.path.append('..')\n",
        "from shelastic.shutil import CartCoord_to_SphCoord, SphCoord_to_CartCoord"
      ],
      "execution_count": 3,
      "outputs": []
    },
    {
      "cell_type": "markdown",
      "metadata": {
        "id": "un6_1t7lneXH",
        "colab_type": "text"
      },
      "source": [
        "We create a 3D meshgrid for numerically calculate the gradient:"
      ]
    },
    {
      "cell_type": "code",
      "metadata": {
        "id": "Rxx_uT13neXJ",
        "colab_type": "code",
        "colab": {}
      },
      "source": [
        "# The order (Y,X,Z) makes sure that axis 0,1,2 corresponds to X,Y,Z\n",
        "normalization='4pi'\n",
        "# normalization='ortho'\n",
        "# normalization='schmidt'\n",
        "shtype = 'irr'\n",
        "lmax = 6\n",
        "xgrid = np.linspace(1, 3, 64)\n",
        "Y, X, Z = np.meshgrid(xgrid, xgrid, xgrid)\n",
        "R, THETA, PHI = CartCoord_to_SphCoord(X, Y, Z)\n",
        "LAT = 90 - np.rad2deg(THETA)\n",
        "LON = np.rad2deg(PHI)"
      ],
      "execution_count": 4,
      "outputs": []
    },
    {
      "cell_type": "markdown",
      "metadata": {
        "id": "pdvbXKSbneXd",
        "colab_type": "text"
      },
      "source": [
        "Then we set up the SHTOOLS coefficient class:"
      ]
    },
    {
      "cell_type": "code",
      "metadata": {
        "scrolled": true,
        "id": "GeZPbYNLneXk",
        "colab_type": "code",
        "colab": {
          "base_uri": "https://localhost:8080/",
          "height": 1000
        },
        "outputId": "e6b44a8b-f8f2-4f36-a08e-834e3b8da0ab"
      },
      "source": [
        "import pyshtools\n",
        "import matplotlib.pyplot as plt\n",
        "from shelastic.shgrad import VSH1\n",
        "\n",
        "l = 4; m = -3;\n",
        "\n",
        "clm = pyshtools.SHCoeffs.from_zeros(lmax=lmax,kind='complex',normalization=normalization)\n",
        "clm.info()\n",
        "clm.set_coeffs(1.0, l, m)\n",
        "fig, ax = clm.plot_spectrum2d(vrange=(1e-8, 1))\n",
        "for i in range(3):\n",
        "    Ylm = pyshtools.SHCoeffs.from_array(VSH1(clm.to_array())[...,i])\n",
        "    if show_spectrum:\n",
        "        Ylm.plot_spectrum2d(vrange=(1e-8, 1))"
      ],
      "execution_count": 5,
      "outputs": [
        {
          "output_type": "stream",
          "text": [
            "kind = 'complex'\n",
            "normalization = '4pi'\n",
            "csphase = 1\n",
            "lmax = 6\n",
            "header = None\n"
          ],
          "name": "stdout"
        },
        {
          "output_type": "stream",
          "text": [
            "/usr/local/lib/python3.6/dist-packages/pyshtools/shclasses/shcoeffsgrid.py:2068: ComplexWarning: Casting complex values to real discards the imaginary part\n",
            "  spectrum[:, :lmax] = _np.fliplr(mnegative)[:, :lmax]\n",
            "/usr/local/lib/python3.6/dist-packages/pyshtools/shclasses/shcoeffsgrid.py:2069: ComplexWarning: Casting complex values to real discards the imaginary part\n",
            "  spectrum[:, lmax:] = mpositive\n"
          ],
          "name": "stderr"
        },
        {
          "output_type": "display_data",
          "data": {
            "image/png": "[encoded data removed]",
            "text/plain": [
              "<Figure size 432x288 with 2 Axes>"
            ]
          },
          "metadata": {
            "tags": [],
            "needs_background": "light"
          }
        },
        {
          "output_type": "display_data",
          "data": {
            "image/png": "[encoded data removed]",
            "text/plain": [
              "<Figure size 432x288 with 2 Axes>"
            ]
          },
          "metadata": {
            "tags": [],
            "needs_background": "light"
          }
        },
        {
          "output_type": "display_data",
          "data": {
            "image/png": "[encoded data removed]",
            "text/plain": [
              "<Figure size 432x288 with 2 Axes>"
            ]
          },
          "metadata": {
            "tags": [],
            "needs_background": "light"
          }
        },
        {
          "output_type": "display_data",
          "data": {
            "image/png": "[encoded data removed]",
            "text/plain": [
              "<Figure size 432x288 with 2 Axes>"
            ]
          },
          "metadata": {
            "tags": [],
            "needs_background": "light"
          }
        }
      ]
    },
    {
      "cell_type": "markdown",
      "metadata": {
        "id": "5GIVjnOtneX4",
        "colab_type": "text"
      },
      "source": [
        "And evaluate the spherical harmonics on the meshgrid in the next few blocks.\n",
        "\n",
        "If you use the `expand` function provided by SHTOOLS and see `TypeError: can't convert complex to float`, please make the modification in SHTOOLS code `{PATH_TO_SHTOOLS}/shclasses/shcoeffsgrid.py`, line 2079, from\n",
        "\n",
        "    values = _np.empty_like(lat, dtype=float)\n",
        "\n",
        "to\n",
        "\n",
        "    values = _np.empty_like(lat, dtype=_np.complex)\n",
        "\n",
        "Newer version of SHTOOLS has already fixed this bug. To find `{PATH_TO_SHTOOLS}`:"
      ]
    },
    {
      "cell_type": "code",
      "metadata": {
        "id": "fncS_QHbneX7",
        "colab_type": "code",
        "colab": {
          "base_uri": "https://localhost:8080/",
          "height": 36
        },
        "outputId": "e4cadfe4-9f28-4f2b-a823-e7ff8706dff2"
      },
      "source": [
        "import os, sys\n",
        "import pyshtools\n",
        "\n",
        "print(r'{PATH_TO_SHTOOLS} is', os.path.split(pyshtools.__file__)[0])"
      ],
      "execution_count": 6,
      "outputs": [
        {
          "output_type": "stream",
          "text": [
            "{PATH_TO_SHTOOLS} is /usr/local/lib/python3.6/dist-packages/pyshtools\n"
          ],
          "name": "stdout"
        }
      ]
    },
    {
      "cell_type": "markdown",
      "metadata": {
        "id": "h6h0Q9YvneYV",
        "colab_type": "text"
      },
      "source": [
        "First, we calculate the gradients of solid harmonics numerically:"
      ]
    },
    {
      "cell_type": "code",
      "metadata": {
        "id": "H0ElZXbRneYX",
        "colab_type": "code",
        "colab": {}
      },
      "source": [
        "# f = clm.expand(lat=LAT,lon=LON) does not work, we implement our own instead\n",
        "from shelastic.shutil import eval_GridC\n",
        "\n",
        "#Ilm_num = clm.expand(lat=LAT, lon=LON)/R**(l+1)\n",
        "tic = time.time()\n",
        "Ilm_num = eval_GridC(clm, LAT, LON, R, shtype=shtype)\n",
        "dIlm_num = np.gradient(Ilm_num, X[:,0,0], Y[0,:,0], Z[0,0,:])\n",
        "tIlm_num = time.time() - tic"
      ],
      "execution_count": 7,
      "outputs": []
    },
    {
      "cell_type": "markdown",
      "metadata": {
        "collapsed": true,
        "id": "3fNaGtfTneYl",
        "colab_type": "text"
      },
      "source": [
        "Then we evaluate the Hobson's differentiation of z direction on the meshgrid. The normalization coefficients are calculated as following:\n",
        "\n",
        "$$\n",
        "C_{irr} = \\frac{(l'-|m'|)!}{(l-|m|)!} \\\\\n",
        "C_{schmidt} = \\sqrt{\\frac{(l'+|m'|)!(l-|m|)!}{(l'-|m'|)!(l+|m|)!}} \\\\\n",
        "C_{4\\pi} = \\sqrt{\\frac{2l+1}{2l'+1}}\n",
        "$$"
      ]
    },
    {
      "cell_type": "markdown",
      "metadata": {
        "id": "8Im5HudCneYp",
        "colab_type": "text"
      },
      "source": [
        "Calculate the coefficients for z direction gradients:"
      ]
    },
    {
      "cell_type": "code",
      "metadata": {
        "id": "1XmgVLI6neYr",
        "colab_type": "code",
        "colab": {}
      },
      "source": [
        "from scipy.special import factorial\n",
        "\n",
        "l_dz = l+1; m_dz = m; \n",
        "C_dz = factorial(l_dz-np.abs(m_dz))/factorial(l-np.abs(m));\n",
        "C_norm = np.sqrt(factorial(l_dz+np.abs(m_dz))*factorial(l-np.abs(m))/factorial(l_dz-np.abs(m_dz))/factorial(l+np.abs(m)))\n",
        "C_4pi = np.sqrt((2*l+1)/(2*l_dz+1))\n",
        "if normalization in ['4pi', 'ortho']:\n",
        "    C_dz = C_dz*C_norm*C_4pi\n",
        "elif normalization == 'schmidt':\n",
        "    C_dz = C_dz*C_norm\n",
        "else:\n",
        "    print('normalization not defined')"
      ],
      "execution_count": 8,
      "outputs": []
    },
    {
      "cell_type": "code",
      "metadata": {
        "scrolled": true,
        "id": "mSHvwyO6neY-",
        "colab_type": "code",
        "colab": {
          "base_uri": "https://localhost:8080/",
          "height": 497
        },
        "outputId": "5eb753dc-c041-45df-b5b5-6c459ede5759"
      },
      "source": [
        "clm_dz = pyshtools.SHCoeffs.from_zeros(lmax=lmax,kind='complex',normalization=normalization)\n",
        "clm_dz.info()\n",
        "clm_dz.set_coeffs(-C_dz, l_dz, m_dz)\n",
        "if show_spectrum:\n",
        "    fig, ax = clm_dz.plot_spectrum2d(vrange=(1e-8, 1))"
      ],
      "execution_count": 9,
      "outputs": [
        {
          "output_type": "stream",
          "text": [
            "kind = 'complex'\n",
            "normalization = '4pi'\n",
            "csphase = 1\n",
            "lmax = 6\n",
            "header = None\n"
          ],
          "name": "stdout"
        },
        {
          "output_type": "stream",
          "text": [
            "/usr/local/lib/python3.6/dist-packages/pyshtools/shclasses/shcoeffsgrid.py:2068: ComplexWarning: Casting complex values to real discards the imaginary part\n",
            "  spectrum[:, :lmax] = _np.fliplr(mnegative)[:, :lmax]\n",
            "/usr/local/lib/python3.6/dist-packages/pyshtools/shclasses/shcoeffsgrid.py:2069: ComplexWarning: Casting complex values to real discards the imaginary part\n",
            "  spectrum[:, lmax:] = mpositive\n"
          ],
          "name": "stderr"
        },
        {
          "output_type": "display_data",
          "data": {
            "image/png": "[encoded data removed]",
            "text/plain": [
              "<Figure size 432x288 with 2 Axes>"
            ]
          },
          "metadata": {
            "tags": [],
            "needs_background": "light"
          }
        }
      ]
    },
    {
      "cell_type": "markdown",
      "metadata": {
        "id": "p5ywphiIneZR",
        "colab_type": "text"
      },
      "source": [
        "Then we evaluate the z-direction gradient on the same meshgrid:"
      ]
    },
    {
      "cell_type": "code",
      "metadata": {
        "id": "OL7H_qWnneZU",
        "colab_type": "code",
        "colab": {}
      },
      "source": [
        "# Ilm_dz = clm_dz.expand(lat=LAT, lon=LON)/R**(l_dz+1)\n",
        "tic = time.time()\n",
        "Ilm_dz = eval_GridC(clm_dz, LAT, LON, R, shtype=shtype)\n",
        "tIlm_dz = time.time() - tic\n",
        "#Ilm_dz = Ylm_dz/R**(l_dz+1)"
      ],
      "execution_count": 10,
      "outputs": []
    },
    {
      "cell_type": "markdown",
      "metadata": {
        "id": "Mvy7EN7QneZg",
        "colab_type": "text"
      },
      "source": [
        "Compare with the numerical (finite difference) results:"
      ]
    },
    {
      "cell_type": "code",
      "metadata": {
        "scrolled": true,
        "id": "hJsYKU5yneZk",
        "colab_type": "code",
        "colab": {
          "base_uri": "https://localhost:8080/",
          "height": 54
        },
        "outputId": "f6eddea7-e286-4280-f2fe-ad7be164ace1"
      },
      "source": [
        "Cdz = (Ilm_dz/dIlm_num[2])#.mean()\n",
        "errdz = np.abs(np.abs(Cdz).mean() - 1)\n",
        "print(errdz)\n",
        "Testdz = errdz < 1e-2\n",
        "if Testdz:\n",
        "    print('Single mode analytical dIlm/dz is close to numerical results, time: %.2fs'%(tIlm_dz))\n",
        "else:\n",
        "    print('Single mode analytical dIlm/dz is incorrect, rel. err.: %.8f, time: %.2fs'%(errdz, tIlm_dz))\n",
        "# print(Cdz.mean())"
      ],
      "execution_count": 11,
      "outputs": [
        {
          "output_type": "stream",
          "text": [
            "0.006055982520895009\n",
            "Single mode analytical dIlm/dz is close to numerical results, time: 5.72s\n"
          ],
          "name": "stdout"
        }
      ]
    },
    {
      "cell_type": "markdown",
      "metadata": {
        "collapsed": true,
        "id": "2Rsvop3kneZ0",
        "colab_type": "text"
      },
      "source": [
        "Then $D_1$ direction (${\\partial\\over\\partial x}-i{\\partial\\over\\partial y}$):"
      ]
    },
    {
      "cell_type": "code",
      "metadata": {
        "id": "8UUzhrsIneZ3",
        "colab_type": "code",
        "colab": {
          "base_uri": "https://localhost:8080/",
          "height": 497
        },
        "outputId": "9d7eb6ff-50e2-46f7-8d35-94d023d43093"
      },
      "source": [
        "from scipy.special import factorial\n",
        "\n",
        "l_d1 = l+1; m_d1 = m-1; C_d1 = factorial(l_d1-np.abs(m_d1))/factorial(l-np.abs(m));\n",
        "C_norm = np.sqrt(factorial(l_d1+np.abs(m_d1))*factorial(l-np.abs(m))/factorial(l_d1-np.abs(m_d1))/factorial(l+np.abs(m)))\n",
        "C_4pi = np.sqrt((2*l+1)/(2*l_d1+1))\n",
        "if normalization in ['4pi', 'ortho']:\n",
        "    C_d1 = C_d1*C_norm*C_4pi\n",
        "elif normalization == 'schmidt':\n",
        "    C_d1 = C_d1*C_norm\n",
        "else:\n",
        "    print('normalization not defined')\n",
        "\n",
        "clm_d1 = pyshtools.SHCoeffs.from_zeros(lmax=lmax,kind='complex',normalization=normalization)\n",
        "clm_d1.info()\n",
        "clm_d1.set_coeffs(C_d1, l_d1, m_d1)\n",
        "fig, ax = clm_d1.plot_spectrum2d(vrange=(1e-8, 1))\n",
        "\n",
        "# Ilm_d1 = clm_d1.expand(lat=LAT,lon=LON)/R**(l_d1+1)\n",
        "tic = time.time()\n",
        "Ilm_d1 = eval_GridC(clm_d1, LAT, LON, R, shtype=shtype)\n",
        "tIlm_d1 = time.time() - tic"
      ],
      "execution_count": 12,
      "outputs": [
        {
          "output_type": "stream",
          "text": [
            "kind = 'complex'\n",
            "normalization = '4pi'\n",
            "csphase = 1\n",
            "lmax = 6\n",
            "header = None\n"
          ],
          "name": "stdout"
        },
        {
          "output_type": "stream",
          "text": [
            "/usr/local/lib/python3.6/dist-packages/pyshtools/shclasses/shcoeffsgrid.py:2068: ComplexWarning: Casting complex values to real discards the imaginary part\n",
            "  spectrum[:, :lmax] = _np.fliplr(mnegative)[:, :lmax]\n",
            "/usr/local/lib/python3.6/dist-packages/pyshtools/shclasses/shcoeffsgrid.py:2069: ComplexWarning: Casting complex values to real discards the imaginary part\n",
            "  spectrum[:, lmax:] = mpositive\n"
          ],
          "name": "stderr"
        },
        {
          "output_type": "display_data",
          "data": {
            "image/png": "[encoded data removed]",
            "text/plain": [
              "<Figure size 432x288 with 2 Axes>"
            ]
          },
          "metadata": {
            "tags": [],
            "needs_background": "light"
          }
        }
      ]
    },
    {
      "cell_type": "markdown",
      "metadata": {
        "id": "VeZF1Q7mneaC",
        "colab_type": "text"
      },
      "source": [
        "Then $D_2$ direction (${\\partial\\over\\partial x}+i{\\partial\\over\\partial y}$):"
      ]
    },
    {
      "cell_type": "code",
      "metadata": {
        "scrolled": true,
        "id": "3lE4xC04neaH",
        "colab_type": "code",
        "colab": {
          "base_uri": "https://localhost:8080/",
          "height": 497
        },
        "outputId": "29edb2b0-39e0-4ef8-8b35-00577e69e10c"
      },
      "source": [
        "from scipy.special import factorial\n",
        "\n",
        "l_d2 = l+1; m_d2 = m+1; C_d2 = factorial(l_d2-np.abs(m_d2))/factorial(l-np.abs(m));\n",
        "C_norm = np.sqrt(factorial(l_d2+np.abs(m_d2))*factorial(l-np.abs(m))/factorial(l_d2-np.abs(m_d2))/factorial(l+np.abs(m)))\n",
        "C_4pi = np.sqrt((2*l+1)/(2*l_d2+1))\n",
        "if normalization in ['4pi', 'ortho']:\n",
        "    C_d2 = C_d2*C_norm*C_4pi\n",
        "elif normalization == 'schmidt':\n",
        "    C_d2 = C_d2*C_norm\n",
        "else:\n",
        "    print('normalization not defined')\n",
        "\n",
        "clm_d2 = pyshtools.SHCoeffs.from_zeros(lmax=lmax,kind='complex',normalization=normalization)\n",
        "clm_d2.info()\n",
        "clm_d2.set_coeffs(-C_d2, l_d2, m_d2)\n",
        "fig, ax = clm_d2.plot_spectrum2d(vrange=(1e-8, 1))\n",
        "\n",
        "# Ilm_d2 = clm_d2.expand(lat=LAT,lon=LON)/R**(l_d2+1)\n",
        "tic = time.time()\n",
        "Ilm_d2 = eval_GridC(clm_d2, LAT, LON, R, shtype=shtype)\n",
        "tIlm_d2 = time.time() - tic"
      ],
      "execution_count": 13,
      "outputs": [
        {
          "output_type": "stream",
          "text": [
            "kind = 'complex'\n",
            "normalization = '4pi'\n",
            "csphase = 1\n",
            "lmax = 6\n",
            "header = None\n"
          ],
          "name": "stdout"
        },
        {
          "output_type": "stream",
          "text": [
            "/usr/local/lib/python3.6/dist-packages/pyshtools/shclasses/shcoeffsgrid.py:2068: ComplexWarning: Casting complex values to real discards the imaginary part\n",
            "  spectrum[:, :lmax] = _np.fliplr(mnegative)[:, :lmax]\n",
            "/usr/local/lib/python3.6/dist-packages/pyshtools/shclasses/shcoeffsgrid.py:2069: ComplexWarning: Casting complex values to real discards the imaginary part\n",
            "  spectrum[:, lmax:] = mpositive\n"
          ],
          "name": "stderr"
        },
        {
          "output_type": "display_data",
          "data": {
            "image/png": "[encoded data removed]",
            "text/plain": [
              "<Figure size 432x288 with 2 Axes>"
            ]
          },
          "metadata": {
            "tags": [],
            "needs_background": "light"
          }
        }
      ]
    },
    {
      "cell_type": "markdown",
      "metadata": {
        "id": "neoXObXkneaS",
        "colab_type": "text"
      },
      "source": [
        "Then we compare the coefficients of $D_1$ and $D_2$ directions:"
      ]
    },
    {
      "cell_type": "code",
      "metadata": {
        "id": "gASA_66eneaW",
        "colab_type": "code",
        "colab": {
          "base_uri": "https://localhost:8080/",
          "height": 73
        },
        "outputId": "c9c1155c-b713-49f4-a9f9-2c8c1c619b50"
      },
      "source": [
        "dIlm_num_1 = dIlm_num[0] - 1.0j*dIlm_num[1]\n",
        "dIlm_num_2 = dIlm_num[0] + 1.0j*dIlm_num[1]\n",
        "Cd1 = (Ilm_d1/dIlm_num_1)#.mean()\n",
        "Cd2 = (Ilm_d2/dIlm_num_2)#.mean()\n",
        "# print(Cd1.mean(), Cd2.mean())\n",
        "errd1 = np.abs(np.abs(Cd1).mean() - 1)\n",
        "errd2 = np.abs(np.abs(Cd2).mean() - 1)\n",
        "print(errd1, errd2)\n",
        "Testd1 = errd1 < 1e-2\n",
        "Testd2 = errd2 < 1e-2\n",
        "if Testd1:\n",
        "    print('Single mode analytical dIlm/d1 is close to numerical results, time: %.2fs'%(tIlm_d1))\n",
        "else:\n",
        "    print('Single mode analytical dIlm/d1 is incorrect, rel. err.: %.8f, time: %.2fs'%(errd1, tIlm_d1))\n",
        "if Testd2:\n",
        "    print('Single mode analytical dIlm/d2 is close to numerical results, time: %.2fs'%(tIlm_d2))\n",
        "else:\n",
        "    print('Single mode analytical dIlm/d2 is incorrect, rel. err.: %.8f, time: %.2fs'%(errd2, tIlm_d2))"
      ],
      "execution_count": 14,
      "outputs": [
        {
          "output_type": "stream",
          "text": [
            "5.451842068771029e-05 0.0020945336919147017\n",
            "Single mode analytical dIlm/d1 is close to numerical results, time: 5.76s\n",
            "Single mode analytical dIlm/d2 is close to numerical results, time: 5.76s\n"
          ],
          "name": "stdout"
        }
      ]
    },
    {
      "cell_type": "markdown",
      "metadata": {
        "collapsed": true,
        "id": "7ahnR0-qneaj",
        "colab_type": "text"
      },
      "source": [
        "### Second Vector Spherical Harmonics\n",
        "\n",
        "After we figured out the coefficients for the Hobson's differentiation, we then develop the second vector spherical harmonics:\n",
        "\n",
        "$$\n",
        "\\nabla\\left(\\frac{Y_l^m}{r^{l+1}}\\right) = \n",
        "\\left[-\\frac{l+1}{r^{l+2}}\\mathbf{Y}_l^m+{1\\over r^{l+2}}\\mathbf{\\Psi}_l^m\\right]\n",
        "$$\n",
        "\n",
        "Thus we have:\n",
        "\n",
        "$$\n",
        "\\mathbf{\\Psi}_l^m \\equiv r\\nabla Y_l^m = r^{l+2}\\nabla I_{lm} + (l+1)\\mathbf{Y}_l^m\n",
        "$$"
      ]
    },
    {
      "cell_type": "markdown",
      "metadata": {
        "id": "TbwqIY9Vneam",
        "colab_type": "text"
      },
      "source": [
        "First we develop and test the evaluation for multiple $(l,m)$ degrees:\n",
        "\n",
        "$$\n",
        "C_{reg} = \\frac{(l+|m|)!}{(l'+|m'|)!} \\\\\n",
        "C_{schmidt} = \\sqrt{\\frac{(l'+|m'|)!(l-|m|)!}{(l'-|m'|)!(l+|m|)!}} \\\\\n",
        "C_{4\\pi} = \\sqrt{\\frac{2l+1}{2l'+1}}\n",
        "$$"
      ]
    },
    {
      "cell_type": "code",
      "metadata": {
        "id": "DFeh5Pg9neao",
        "colab_type": "code",
        "colab": {
          "base_uri": "https://localhost:8080/",
          "height": 129
        },
        "outputId": "e014b82c-30d7-4347-dd05-e2a9d8441f98"
      },
      "source": [
        "shtype = 'reg'\n",
        "normalization = '4pi'\n",
        "\n",
        "if shtype == 'irr':\n",
        "    l_list = np.empty((lmax)**2, dtype=np.int)\n",
        "    m_list = np.empty((lmax)**2, dtype=np.int)\n",
        "    for l in range(lmax):\n",
        "        l_list[l**2:(l+1)**2] = l\n",
        "        m_list[l**2:(l+1)**2] = np.arange(-l, l+1)\n",
        "    l_d = l_list + 1\n",
        "    C_denom_list = factorial(l_list-np.abs(m_list))\n",
        "    C_dz_list = factorial((l_list+1)-np.abs(m_list))/C_denom_list\n",
        "    C_d1_list = factorial((l_list+1)-np.abs(m_list-1))/C_denom_list\n",
        "    C_d2_list = factorial((l_list+1)-np.abs(m_list+1))/C_denom_list\n",
        "elif shtype == 'reg':\n",
        "    l_list = np.empty((lmax+1)**2 - 1, dtype=np.int)\n",
        "    m_list = np.empty((lmax+1)**2 - 1, dtype=np.int)\n",
        "    for l in range(1, lmax + 1):\n",
        "        l_list[l**2 - 1:(l+1)**2 - 1] = l\n",
        "        m_list[l**2 - 1:(l+1)**2 - 1] = np.arange(-l, l+1)\n",
        "    l_d = l_list - 1\n",
        "    C_denom_list = factorial(l_list+np.abs(m_list))\n",
        "    C_dz_list = C_denom_list/factorial((l_list-1)+np.abs(m_list))\n",
        "    C_d1_list = C_denom_list/factorial((l_list-1)+np.abs(m_list-1))\n",
        "    C_d2_list = C_denom_list/factorial((l_list-1)+np.abs(m_list+1))\n",
        "elif shtype == None:\n",
        "    l_list = np.empty((lmax+1)**2, dtype=np.int)\n",
        "    m_list = np.empty((lmax+1)**2, dtype=np.int)\n",
        "    for l in range(lmax + 1):\n",
        "        l_list[l**2:(l+1)**2] = l\n",
        "        m_list[l**2:(l+1)**2] = np.arange(-l, l+1)\n",
        "    l_d = l_list\n",
        "else:\n",
        "    print('invalid solid harmonics type (irr, reg, None)')\n",
        "\n",
        "print(l_list)\n",
        "print(m_list)\n",
        "print(l_d)"
      ],
      "execution_count": 15,
      "outputs": [
        {
          "output_type": "stream",
          "text": [
            "[1 1 1 2 2 2 2 2 3 3 3 3 3 3 3 4 4 4 4 4 4 4 4 4 5 5 5 5 5 5 5 5 5 5 5 6 6\n",
            " 6 6 6 6 6 6 6 6 6 6 6]\n",
            "[-1  0  1 -2 -1  0  1  2 -3 -2 -1  0  1  2  3 -4 -3 -2 -1  0  1  2  3  4\n",
            " -5 -4 -3 -2 -1  0  1  2  3  4  5 -6 -5 -4 -3 -2 -1  0  1  2  3  4  5  6]\n",
            "[0 0 0 1 1 1 1 1 2 2 2 2 2 2 2 3 3 3 3 3 3 3 3 3 4 4 4 4 4 4 4 4 4 4 4 5 5\n",
            " 5 5 5 5 5 5 5 5 5 5 5]\n"
          ],
          "name": "stdout"
        }
      ]
    },
    {
      "cell_type": "markdown",
      "metadata": {
        "id": "RBhY1tYEnea1",
        "colab_type": "text"
      },
      "source": [
        "Here we add the normalization coefficients, corresponding to different types of solid harmonics: "
      ]
    },
    {
      "cell_type": "code",
      "metadata": {
        "id": "zQvuPGuunea9",
        "colab_type": "code",
        "colab": {}
      },
      "source": [
        "# normalization coefficient for schmidt\n",
        "C_norm = np.sqrt( factorial(l_list+np.abs(m_list)) ) / np.sqrt( factorial(l_list-np.abs(m_list)) )\n",
        "\n",
        "# only calculate valid degrees (abs(l') >= abs(m'))\n",
        "C_norm_denom_dz = np.sqrt(factorial(l_d-np.abs(m_list)))\n",
        "C_norm_denom_dz[l_d >= np.abs(m_list)] = 1.0/C_norm_denom_dz[l_d >= np.abs(m_list)]\n",
        "C_norm_dz = np.sqrt( factorial(l_d+np.abs(m_list)) ) * C_norm_denom_dz / C_norm\n",
        "\n",
        "C_norm_denom_d1 = np.sqrt(factorial(l_d-np.abs(m_list - 1)))\n",
        "C_norm_denom_d1[l_d >= np.abs(m_list - 1)] = 1.0/C_norm_denom_d1[l_d >= np.abs(m_list - 1)]\n",
        "C_norm_d1 = np.sqrt( factorial(l_d+np.abs(m_list-1)) ) * C_norm_denom_d1 /C_norm\n",
        "\n",
        "C_norm_denom_d2 = np.sqrt(factorial(l_d-np.abs(m_list + 1)))\n",
        "C_norm_denom_d2[l_d >= np.abs(m_list + 1)] = 1.0/C_norm_denom_d2[l_d >= np.abs(m_list + 1)]\n",
        "C_norm_d2 = np.sqrt( factorial(l_d+np.abs(m_list+1)) ) * C_norm_denom_d2 /C_norm\n",
        "\n",
        "# remove the invalid degrees (abs(l') < abs(m'))\n",
        "C_norm_dz[l_d < np.abs(m_list)] = 0\n",
        "C_norm_d1[l_d < np.abs(m_list - 1)] = 0\n",
        "C_norm_d2[l_d < np.abs(m_list + 1)] = 0\n",
        "\n",
        "\n",
        "#print(factorial(-1), C_norm_denom, C_norm_dz, C_norm_d1, C_norm_d2)\n",
        "# normalization coefficient for 4pi and orthonormal\n",
        "C_4pi = np.sqrt((2*l_list+1)/(2*l_d+1))\n",
        "\n",
        "# apply the normalization coefficients\n",
        "if normalization in ['4pi', 'ortho']:\n",
        "    C_dz_list = C_dz_list * C_norm_dz * C_4pi\n",
        "    C_d1_list = C_d1_list * C_norm_d1 * C_4pi\n",
        "    C_d2_list = C_d2_list * C_norm_d2 * C_4pi\n",
        "elif normalization == 'schmidt':\n",
        "    C_dz_list = C_dz_list * C_norm_dz\n",
        "    C_d1_list = C_d1_list * C_norm_d1\n",
        "    C_d2_list = C_d2_list * C_norm_d2\n",
        "else:\n",
        "    print('normalization not defined')"
      ],
      "execution_count": 16,
      "outputs": []
    },
    {
      "cell_type": "markdown",
      "metadata": {
        "id": "ufs7C7nAnebG",
        "colab_type": "text"
      },
      "source": [
        "Generate random coefficients for test:"
      ]
    },
    {
      "cell_type": "code",
      "metadata": {
        "id": "vDQStrLcnebJ",
        "colab_type": "code",
        "colab": {}
      },
      "source": [
        "clms = pyshtools.SHCoeffs.from_random(1/(np.arange(lmax+1)+1), kind='complex', normalization=normalization)\n",
        "# clms = clm.copy()\n",
        "if shtype == 'irr':\n",
        "    clms.coeffs[:,-1,:] = 0\n",
        "elif shtype == 'reg':\n",
        "    clms.coeffs[:,0,:] = 0\n",
        "else:\n",
        "    print('invalid solid harmonics type (irr, reg, None)')\n",
        "\n",
        "#Ilms_num = clms.expand(lat=LAT, lon=LON)/R**(l+1)\n",
        "tic = time.time()\n",
        "Ilms_num = eval_GridC(clms, LAT, LON, R, shtype=shtype)\n",
        "dIlms_num = np.gradient(Ilms_num, X[:,0,0], Y[0,:,0], Z[0,0,:])\n",
        "tIlms_num = time.time() - tic"
      ],
      "execution_count": 17,
      "outputs": []
    },
    {
      "cell_type": "markdown",
      "metadata": {
        "id": "sO3ToGuenebU",
        "colab_type": "text"
      },
      "source": [
        "Calculate z-direction gradient:"
      ]
    },
    {
      "cell_type": "code",
      "metadata": {
        "scrolled": true,
        "id": "nUzHLJUbnebX",
        "colab_type": "code",
        "colab": {
          "base_uri": "https://localhost:8080/",
          "height": 696
        },
        "outputId": "f517f1d3-82af-4df4-ea5f-666c8bfa44c8"
      },
      "source": [
        "clms_dz = pyshtools.SHCoeffs.from_zeros(lmax=lmax,kind='complex',normalization=normalization)\n",
        "C_dz = pyshtools.SHCoeffs.from_zeros(lmax=lmax,kind='complex',normalization=normalization)\n",
        "\n",
        "if shtype == 'irr':\n",
        "    clms_dz.coeffs[:,1:,:] = clms.coeffs[:,:-1,:]\n",
        "    C_dz.set_coeffs(-C_dz_list, l_list + 1, m_list)\n",
        "elif shtype == 'reg':\n",
        "    clms_dz.coeffs[:,:-1,:] = clms.coeffs[:,1:,:]\n",
        "    C_dz.set_coeffs(C_dz_list, l_list - 1, m_list)\n",
        "else:\n",
        "    print('invalid solid harmonics type (irr, reg)')\n",
        "\n",
        "clms_dz.coeffs = clms_dz.to_array() * C_dz.to_array()\n",
        "\n",
        "fig,ax = clms.plot_spectrum2d(vrange=(1e-8,1))#, vscale='lin')\n",
        "fig,ax = clms_dz.plot_spectrum2d(vrange=(1e-8,1))#, vscale='lin')\n",
        "\n",
        "#Ilms_dz = clm_dz.expand(lat=LAT, lon=LON)/R**(l_dz+1)\n",
        "tic = time.time()\n",
        "Ilms_dz = eval_GridC(clms_dz, LAT, LON, R, shtype=shtype)\n",
        "tIlms_dz = time.time() - tic"
      ],
      "execution_count": 18,
      "outputs": [
        {
          "output_type": "stream",
          "text": [
            "/usr/local/lib/python3.6/dist-packages/pyshtools/shclasses/shcoeffsgrid.py:2068: ComplexWarning: Casting complex values to real discards the imaginary part\n",
            "  spectrum[:, :lmax] = _np.fliplr(mnegative)[:, :lmax]\n",
            "/usr/local/lib/python3.6/dist-packages/pyshtools/shclasses/shcoeffsgrid.py:2069: ComplexWarning: Casting complex values to real discards the imaginary part\n",
            "  spectrum[:, lmax:] = mpositive\n"
          ],
          "name": "stderr"
        },
        {
          "output_type": "display_data",
          "data": {
            "image/png": "[encoded data removed]",
            "text/plain": [
              "<Figure size 432x288 with 2 Axes>"
            ]
          },
          "metadata": {
            "tags": [],
            "needs_background": "light"
          }
        },
        {
          "output_type": "display_data",
          "data": {
            "image/png": "[encoded data removed]",
            "text/plain": [
              "<Figure size 432x288 with 2 Axes>"
            ]
          },
          "metadata": {
            "tags": [],
            "needs_background": "light"
          }
        }
      ]
    },
    {
      "cell_type": "markdown",
      "metadata": {
        "id": "Zhy-E2P5nebg",
        "colab_type": "text"
      },
      "source": [
        "Calculate $D_1$ and $D_2$ direction gradients:"
      ]
    },
    {
      "cell_type": "code",
      "metadata": {
        "scrolled": true,
        "id": "koGeery6nebi",
        "colab_type": "code",
        "colab": {
          "base_uri": "https://localhost:8080/",
          "height": 733
        },
        "outputId": "eb04137b-3035-4180-974f-21249de4c183"
      },
      "source": [
        "clms_d1 = pyshtools.SHCoeffs.from_zeros(lmax=lmax,kind='complex',normalization=normalization)\n",
        "C_d1 = pyshtools.SHCoeffs.from_zeros(lmax=lmax,kind='complex',normalization=normalization)\n",
        "\n",
        "if shtype == 'irr':\n",
        "    clms_d1.coeffs[0,1:,:-1] = clms.coeffs[0,:-1,1:]\n",
        "    clms_d1.coeffs[1,1:,1:] = clms.coeffs[1,:-1,:-1]\n",
        "    clms_d1.coeffs[1,1:,1] = clms.coeffs[0,:-1,0]\n",
        "    C_d1.set_coeffs(C_d1_list, l_list + 1, m_list - 1)\n",
        "elif shtype == 'reg':\n",
        "    clms_d1.coeffs[0,:-1,:-1] = clms.coeffs[0,1:,1:]\n",
        "    clms_d1.coeffs[1,:-1,1:] = clms.coeffs[1,1:,:-1]\n",
        "    clms_d1.coeffs[1,:-1,1] = clms.coeffs[0,1:,0]\n",
        "    valid_idx = l_d >= np.abs(m_list - 1)\n",
        "    print(l_list[np.logical_not(valid_idx)])\n",
        "    print(m_list[np.logical_not(valid_idx)])\n",
        "    C_d1.set_coeffs(C_d1_list[valid_idx], l_list[valid_idx] - 1, m_list[valid_idx] - 1)\n",
        "else:\n",
        "    print('invalid solid harmonics type (irr, reg)')\n",
        "    \n",
        "clms_d1.coeffs = clms_d1.to_array() * C_d1.to_array()\n",
        "\n",
        "#print(clms_d1.to_array())\n",
        "fig,ax = clms.plot_spectrum2d(vrange=(1e-8,1))#, vscale='lin')\n",
        "fig,ax = clms_d1.plot_spectrum2d(vrange=(1e-8,1))#, vscale='lin')\n",
        "\n",
        "#Ilms_d1 = clm_d1.expand(lat=LAT, lon=LON)/R**(l_d1+1)\n",
        "tic = time.time()\n",
        "Ilms_d1 = eval_GridC(clms_d1, LAT, LON, R, shtype=shtype)\n",
        "tIlms_d1 = time.time() - tic"
      ],
      "execution_count": 19,
      "outputs": [
        {
          "output_type": "stream",
          "text": [
            "[1 1 2 2 3 3 4 4 5 5 6 6]\n",
            "[-1  0 -2 -1 -3 -2 -4 -3 -5 -4 -6 -5]\n"
          ],
          "name": "stdout"
        },
        {
          "output_type": "stream",
          "text": [
            "/usr/local/lib/python3.6/dist-packages/pyshtools/shclasses/shcoeffsgrid.py:2068: ComplexWarning: Casting complex values to real discards the imaginary part\n",
            "  spectrum[:, :lmax] = _np.fliplr(mnegative)[:, :lmax]\n",
            "/usr/local/lib/python3.6/dist-packages/pyshtools/shclasses/shcoeffsgrid.py:2069: ComplexWarning: Casting complex values to real discards the imaginary part\n",
            "  spectrum[:, lmax:] = mpositive\n"
          ],
          "name": "stderr"
        },
        {
          "output_type": "display_data",
          "data": {
            "image/png": "[encoded data removed]",
            "text/plain": [
              "<Figure size 432x288 with 2 Axes>"
            ]
          },
          "metadata": {
            "tags": [],
            "needs_background": "light"
          }
        },
        {
          "output_type": "display_data",
          "data": {
            "image/png": "[encoded data removed]",
            "text/plain": [
              "<Figure size 432x288 with 2 Axes>"
            ]
          },
          "metadata": {
            "tags": [],
            "needs_background": "light"
          }
        }
      ]
    },
    {
      "cell_type": "code",
      "metadata": {
        "scrolled": true,
        "id": "ouvy5Zbmnebv",
        "colab_type": "code",
        "colab": {
          "base_uri": "https://localhost:8080/",
          "height": 752
        },
        "outputId": "7bd488aa-d8bd-4d99-f4a5-f2c19860aa2f"
      },
      "source": [
        "clms_d2 = pyshtools.SHCoeffs.from_zeros(lmax=lmax,kind='complex',normalization=normalization)\n",
        "C_d2 = pyshtools.SHCoeffs.from_zeros(lmax=lmax,kind='complex',normalization=normalization)\n",
        "print(lmax)\n",
        "if shtype == 'irr':\n",
        "    clms_d2.coeffs[0,1:,1:] = clms.coeffs[0,:-1,:-1]\n",
        "    clms_d2.coeffs[1,1:,:-1] = clms.coeffs[1,:-1,1:]\n",
        "    clms_d2.coeffs[0,1:,0] = clms.coeffs[1,:-1,1]\n",
        "    C_d2.set_coeffs(-C_d2_list, l_list + 1, m_list + 1)\n",
        "elif shtype == 'reg':\n",
        "    clms_d2.coeffs[0,:-1,1:] = clms.coeffs[0,1:,:-1]\n",
        "    clms_d2.coeffs[1,:-1,:-1] = clms.coeffs[1,1:,1:]\n",
        "    clms_d2.coeffs[0,:-1,0] = clms.coeffs[1,1:,1]\n",
        "    valid_idx = l_d >= np.abs(m_list + 1)\n",
        "    print(l_list[np.logical_not(valid_idx)])\n",
        "    print(m_list[np.logical_not(valid_idx)])\n",
        "    C_d2.set_coeffs(-C_d2_list[valid_idx], l_list[valid_idx] - 1, m_list[valid_idx] + 1)\n",
        "else:\n",
        "    print('invalid solid harmonics type (irr, reg)')\n",
        "\n",
        "clms_d2.coeffs = clms_d2.to_array() * C_d2.to_array()\n",
        "\n",
        "fig,ax = clms.plot_spectrum2d(vrange=(1e-8,1))#, vscale='lin')\n",
        "fig,ax = clms_d2.plot_spectrum2d(vrange=(1e-8,1))#, vscale='lin')\n",
        "\n",
        "#Ilms_d2 = clm_d2.expand(lat=LAT, lon=LON)/R**(l_d2+1)\n",
        "tic = time.time()\n",
        "Ilms_d2 = eval_GridC(clms_d2, LAT, LON, R, shtype=shtype)\n",
        "tIlms_d2 = time.time() - tic"
      ],
      "execution_count": 20,
      "outputs": [
        {
          "output_type": "stream",
          "text": [
            "6\n",
            "[1 1 2 2 3 3 4 4 5 5 6 6]\n",
            "[0 1 1 2 2 3 3 4 4 5 5 6]\n"
          ],
          "name": "stdout"
        },
        {
          "output_type": "stream",
          "text": [
            "/usr/local/lib/python3.6/dist-packages/pyshtools/shclasses/shcoeffsgrid.py:2068: ComplexWarning: Casting complex values to real discards the imaginary part\n",
            "  spectrum[:, :lmax] = _np.fliplr(mnegative)[:, :lmax]\n",
            "/usr/local/lib/python3.6/dist-packages/pyshtools/shclasses/shcoeffsgrid.py:2069: ComplexWarning: Casting complex values to real discards the imaginary part\n",
            "  spectrum[:, lmax:] = mpositive\n"
          ],
          "name": "stderr"
        },
        {
          "output_type": "display_data",
          "data": {
            "image/png": "[encoded data removed]",
            "text/plain": [
              "<Figure size 432x288 with 2 Axes>"
            ]
          },
          "metadata": {
            "tags": [],
            "needs_background": "light"
          }
        },
        {
          "output_type": "display_data",
          "data": {
            "image/png": "[encoded data removed]",
            "text/plain": [
              "<Figure size 432x288 with 2 Axes>"
            ]
          },
          "metadata": {
            "tags": [],
            "needs_background": "light"
          }
        }
      ]
    },
    {
      "cell_type": "code",
      "metadata": {
        "id": "yQXYLPwIneb5",
        "colab_type": "code",
        "colab": {
          "base_uri": "https://localhost:8080/",
          "height": 92
        },
        "outputId": "c8157b06-e755-4c91-9eb3-b27ba43742c9"
      },
      "source": [
        "dIlms_num_1 = dIlms_num[0] - 1.0j*dIlms_num[1]\n",
        "dIlms_num_2 = dIlms_num[0] + 1.0j*dIlms_num[1]\n",
        "Cds1 = (Ilms_d1/dIlms_num_1)\n",
        "Cds2 = (Ilms_d2/dIlms_num_2)\n",
        "Cdsz = (Ilms_dz/dIlms_num[2])\n",
        "\n",
        "errd1s = np.abs(np.abs(Cds1).mean() - 1)\n",
        "errd2s = np.abs(np.abs(Cds2).mean() - 1)\n",
        "errdzs = np.abs(np.abs(Cdsz).mean() - 1)\n",
        "print(errdzs, errd1s, errd2s)\n",
        "Testdzs = errdzs < 1e-2\n",
        "Testd1s = errd1s < 1e-2\n",
        "Testd2s = errd2s < 1e-2\n",
        "if Testdzs:\n",
        "    print('Multiple mode analytical dIlm/dz is close to numerical results, time: %.2fs'%(tIlms_dz))\n",
        "else:\n",
        "    print('Multiple mode analytical dIlm/dz is incorrect, rel. err.: %.8f, time: %.2fs'%(errdzs, tIlms_dz))\n",
        "if Testd1s:\n",
        "    print('Multiple mode analytical dIlm/d1 is close to numerical results, time: %.2fs'%(tIlms_d1))\n",
        "else:\n",
        "    print('Multiple mode analytical dIlm/d1 is incorrect, rel. err.: %.8f, time: %.2fs'%(errd1s, tIlms_d1))\n",
        "if Testd2s:\n",
        "    print('Multiple mode analytical dIlm/d2 is close to numerical results, time: %.2fs'%(tIlms_d2))\n",
        "else:\n",
        "    print('Multiple mode analytical dIlm/d2 is incorrect, rel. err.: %.8f, time: %.2fs'%(errd2s, tIlms_d2))"
      ],
      "execution_count": 21,
      "outputs": [
        {
          "output_type": "stream",
          "text": [
            "4.785507082494256e-05 3.1300661781807904e-05 9.163090504882287e-05\n",
            "Multiple mode analytical dIlm/dz is close to numerical results, time: 5.39s\n",
            "Multiple mode analytical dIlm/d1 is close to numerical results, time: 5.37s\n",
            "Multiple mode analytical dIlm/d2 is close to numerical results, time: 5.38s\n"
          ],
          "name": "stdout"
        }
      ]
    },
    {
      "cell_type": "markdown",
      "metadata": {
        "id": "ejVg59t0necB",
        "colab_type": "text"
      },
      "source": [
        "Then we implement the Hobson's differentiation into `shgrad.py`, and we do the test here:"
      ]
    },
    {
      "cell_type": "code",
      "metadata": {
        "id": "-4c1CXHtnecC",
        "colab_type": "code",
        "colab": {
          "base_uri": "https://localhost:8080/",
          "height": 36
        },
        "outputId": "f97b42d1-0a0f-4449-c1b0-0fe016e1deba"
      },
      "source": [
        "x = 1; y = 1; z = 1;\n",
        "r = np.sqrt(x**2 + y**2 + z**2)\n",
        "colat = np.arccos(z/r)\n",
        "lon = np.arctan2(y,x)\n",
        "lat_d = 90-colat/np.pi*180 # latitude in degree\n",
        "lon_d = lon/np.pi*180      # longitude in degree\n",
        "print(lat_d,lon_d)"
      ],
      "execution_count": 22,
      "outputs": [
        {
          "output_type": "stream",
          "text": [
            "35.26438968275466 45.0\n"
          ],
          "name": "stdout"
        }
      ]
    },
    {
      "cell_type": "code",
      "metadata": {
        "scrolled": true,
        "id": "Tk9NDqr8necM",
        "colab_type": "code",
        "colab": {
          "base_uri": "https://localhost:8080/",
          "height": 672
        },
        "outputId": "6cceed7b-7d7c-471f-eaa5-f42077db695f"
      },
      "source": [
        "from shelastic.shgrad import VSH2\n",
        "\n",
        "for l in range(1,6):\n",
        "    for m in range(-l,l+1):\n",
        "        Ylm = pyshtools.SHCoeffs.from_zeros(lmax=lmax,kind='complex',normalization=normalization)\n",
        "        Ylm.set_coeffs(1.0, l, m)\n",
        "        #print(Ylm.lmax)\n",
        "        Psilm = VSH2(Ylm.to_array(), norm=Ylm.normalization, csphase=Ylm.csphase)\n",
        "        ylm_x_val = pyshtools.expand.MakeGridPointC(Psilm[...,0],lat_d,lon_d)\n",
        "        ylm_y_val = pyshtools.expand.MakeGridPointC(Psilm[...,1],lat_d,lon_d)\n",
        "        ylm_z_val = pyshtools.expand.MakeGridPointC(Psilm[...,2],lat_d,lon_d)\n",
        "        #Ylm_x, Ylm_y, Ylm_z = VSH2(Ylm)\n",
        "        #Ylm_x, Ylm_y, Ylm_z = SHgradClm_VSH(Ylm)\n",
        "        #Ylm_x, Ylm_y, Ylm_z = SHgrad(l, m, lmax, r)\n",
        "        #ylm_x_val = pyshtools.expand.MakeGridPointC(Ylm_x.to_array(),lat_d,lon_d)\n",
        "        #ylm_y_val = pyshtools.expand.MakeGridPointC(Ylm_y.to_array(),lat_d,lon_d)\n",
        "        #ylm_z_val = pyshtools.expand.MakeGridPointC(Ylm_z.to_array(),lat_d,lon_d)\n",
        "        np.set_printoptions(precision=4,suppress=True)\n",
        "        print('dy_'+str(l)+'^'+str(m)+' =', 1/r*np.array([ylm_x_val,ylm_y_val,ylm_z_val]))"
      ],
      "execution_count": 23,
      "outputs": [
        {
          "output_type": "stream",
          "text": [
            "dy_1^-1 = [-0.4714-0.2357j  0.2357+0.4714j  0.2357-0.2357j]\n",
            "dy_1^0 = [-0.3333+0.j -0.3333+0.j  0.6667+0.j]\n",
            "dy_1^1 = [ 0.4714-0.2357j -0.2357+0.4714j -0.2357-0.2357j]\n",
            "dy_2^-2 = [ 0.9129-0.3043j -0.9129-0.3043j -0.    +0.6086j]\n",
            "dy_2^-1 = [-0.3043-0.6086j  0.6086+0.3043j -0.3043+0.3043j]\n",
            "dy_2^0 = [-0.7454+0.j -0.7454+0.j  1.4907+0.j]\n",
            "dy_2^1 = [ 0.3043-0.6086j -0.6086+0.3043j  0.3043+0.3043j]\n",
            "dy_2^2 = [ 0.9129+0.3043j -0.9129+0.3043j -0.    -0.6086j]\n",
            "dy_3^-3 = [-0.5693+1.1386j  1.1386-0.5693j -0.5693-0.5693j]\n",
            "dy_3^-2 = [ 1.3944+0.j -1.3944+0.j  0.    +0.j]\n",
            "dy_3^-1 = [ 0.441 -0.8819j  0.8819-0.441j  -1.3229+1.3229j]\n",
            "dy_3^0 = [-0.5092+0.j -0.5092+0.j  1.0184+0.j]\n",
            "dy_3^1 = [-0.441 -0.8819j -0.8819-0.441j   1.3229+1.3229j]\n",
            "dy_3^2 = [ 1.3944-0.j -1.3944-0.j  0.    -0.j]\n",
            "dy_3^3 = [ 0.5693+1.1386j -1.1386-0.5693j  0.5693-0.5693j]\n",
            "dy_4^-4 = [-0.4648-1.3944j -0.4648+1.3944j  0.9296+0.j    ]\n",
            "dy_4^-3 = [-1.3147+1.6434j  1.6434-1.3147j -0.3287-0.3287j]\n",
            "dy_4^-2 = [ 1.0541+0.8784j -1.0541+0.8784j  0.    -1.7568j]\n",
            "dy_4^-1 = [ 0.9938-0.6211j  0.6211-0.9938j -1.6149+1.6149j]\n",
            "dy_4^0 = [ 0.5556+0.j  0.5556+0.j -1.1111+0.j]\n",
            "dy_4^1 = [-0.9938-0.6211j -0.6211-0.9938j  1.6149+1.6149j]\n",
            "dy_4^2 = [ 1.0541-0.8784j -1.0541-0.8784j  0.    +1.7568j]\n",
            "dy_4^3 = [ 1.3147+1.6434j -1.6434-1.3147j  0.3287-0.3287j]\n",
            "dy_4^4 = [-0.4648+1.3944j -0.4648-1.3944j  0.9296-0.j    ]\n",
            "dy_5^-5 = [ 1.4073+0.7036j -0.7036-1.4073j -0.7036+0.7036j]\n",
            "dy_5^-4 = [-0.445-2.6701j -0.445+2.6701j  0.89 +0.j    ]\n",
            "dy_5^-3 = [-1.8881+0.944j   0.944 -1.8881j  0.944 +0.944j ]\n",
            "dy_5^-2 = [ 0.+1.5416j -0.+1.5416j  0.-3.0832j]\n",
            "dy_5^-1 = [ 0.5827+0.2913j -0.2913-0.5827j -0.2913+0.2913j]\n",
            "dy_5^0 = [ 1.5957+0.j  1.5957+0.j -3.1914+0.j]\n",
            "dy_5^1 = [-0.5827+0.2913j  0.2913-0.5827j  0.2913+0.2913j]\n",
            "dy_5^2 = [ 0.-1.5416j -0.-1.5416j  0.+3.0832j]\n",
            "dy_5^3 = [ 1.8881+0.944j  -0.944 -1.8881j -0.944 +0.944j ]\n",
            "dy_5^4 = [-0.445+2.6701j -0.445-2.6701j  0.89 -0.j    ]\n",
            "dy_5^5 = [-1.4073+0.7036j  0.7036-1.4073j  0.7036+0.7036j]\n"
          ],
          "name": "stdout"
        }
      ]
    },
    {
      "cell_type": "markdown",
      "metadata": {
        "id": "F6CtCi4SnecS",
        "colab_type": "text"
      },
      "source": [
        "Now we completely recovered the `SHgrad_VSH` by our new method."
      ]
    },
    {
      "cell_type": "markdown",
      "metadata": {
        "id": "5OHL9mEBnecT",
        "colab_type": "text"
      },
      "source": [
        "### Test result"
      ]
    },
    {
      "cell_type": "code",
      "metadata": {
        "id": "txlpieflnecV",
        "colab_type": "code",
        "colab": {
          "base_uri": "https://localhost:8080/",
          "height": 54
        },
        "outputId": "5bae74b0-c7a2-4552-ae7a-eef98af1de7d"
      },
      "source": [
        "if Testd1 and Testd2 and Testdz:\n",
        "    print('passed test for single mode gradient: grad(Ilm)')\n",
        "else:\n",
        "    print('test failed for single mode gradient: grad(Ilm)')\n",
        "if Testd1s and Testd2s and Testdzs:\n",
        "    print('passed test for multiple mode gradient: grad(sum(Clm Ilm))')\n",
        "else:\n",
        "    print('test failed for multiple mode gradient: grad(sum(Clm Ilm))')"
      ],
      "execution_count": 24,
      "outputs": [
        {
          "output_type": "stream",
          "text": [
            "passed test for single mode gradient: grad(Ilm)\n",
            "passed test for multiple mode gradient: grad(sum(Clm Ilm))\n"
          ],
          "name": "stdout"
        }
      ]
    }
  ]
}