{
  "nbformat": 4,
  "nbformat_minor": 0,
  "metadata": {
    "kernelspec": {
      "display_name": "Python 3",
      "language": "python",
      "name": "python3"
    },
    "language_info": {
      "codemirror_mode": {
        "name": "ipython",
        "version": 3
      },
      "file_extension": ".py",
      "mimetype": "text/x-python",
      "name": "python",
      "nbconvert_exporter": "python",
      "pygments_lexer": "ipython3",
      "version": "3.6.7"
    },
    "toc": {
      "base_numbering": 1,
      "nav_menu": {},
      "number_sections": true,
      "sideBar": true,
      "skip_h1_title": false,
      "title_cell": "Table of Contents",
      "title_sidebar": "Contents",
      "toc_cell": false,
      "toc_position": {},
      "toc_section_display": true,
      "toc_window_display": false
    },
    "colab": {
      "name": "Test02_SH_Elasticity.ipynb",
      "provenance": [],
      "include_colab_link": true
    }
  },
  "cells": [
    {
      "cell_type": "markdown",
      "metadata": {
        "id": "view-in-github",
        "colab_type": "text"
      },
      "source": [
        "<a href=\"https://colab.research.google.com/github/yfwang09/ShElastic/blob/master/examples/Test02_SH_Elasticity.ipynb\" target=\"_parent\"><img src=\"https://colab.research.google.com/assets/colab-badge.svg\" alt=\"Open In Colab\"/></a>"
      ]
    },
    {
      "cell_type": "markdown",
      "metadata": {
        "id": "QXNR7_dnyXcd",
        "colab_type": "text"
      },
      "source": [
        "# Elasticity Quantities in Spherical Harmonic Space\n",
        "\n",
        "In this notebook, we derive the spherical harmonics representation of elasticity quantities: displacement, stress and traction. It is also a test script for `shelastic.shelastic` module. To run all test, click **Kernel/Restart & Run All**. The test result is at the very end of the notebook."
      ]
    },
    {
      "cell_type": "code",
      "metadata": {
        "id": "8I3LmY7KycpK",
        "colab_type": "code",
        "colab": {
          "base_uri": "https://localhost:8080/",
          "height": 598
        },
        "outputId": "b3c6af8b-5242-4829-b58e-d5f6970d125e"
      },
      "source": [
        "# If you run this notebook on colab, run this cell\n",
        "import os\n",
        "codepath = '/content/ShElastic'\n",
        "if not os.path.exists(codepath):\n",
        "    !git clone https://github.com/yfwang09/ShElastic.git \n",
        "    !pip install pyshtools\n",
        "os.chdir(os.path.join(codepath, 'examples'))"
      ],
      "execution_count": 1,
      "outputs": [
        {
          "output_type": "stream",
          "text": [
            "Cloning into 'ShElastic'...\n",
            "remote: Enumerating objects: 45, done.\u001b[K\n",
            "remote: Counting objects: 100% (45/45), done.\u001b[K\n",
            "remote: Compressing objects: 100% (42/42), done.\u001b[K\n",
            "remote: Total 1126 (delta 18), reused 8 (delta 3), pack-reused 1081\u001b[K\n",
            "Receiving objects: 100% (1126/1126), 146.48 MiB | 32.88 MiB/s, done.\n",
            "Resolving deltas: 100% (404/404), done.\n",
            "Collecting pyshtools\n",
            "\u001b[?25l  Downloading https://files.pythonhosted.org/packages/11/24/f0428beea230f089b6e575abb62aa438e2aff34e4c7277c78bf9f94eaa68/pyshtools-4.6.2-cp36-cp36m-manylinux1_x86_64.whl (10.8MB)\n",
            "\u001b[K     |████████████████████████████████| 10.8MB 324kB/s \n",
            "\u001b[?25hRequirement already satisfied: requests in /usr/local/lib/python3.6/dist-packages (from pyshtools) (2.23.0)\n",
            "Requirement already satisfied: numpy>=1.18.1 in /usr/local/lib/python3.6/dist-packages (from pyshtools) (1.18.5)\n",
            "Requirement already satisfied: matplotlib in /usr/local/lib/python3.6/dist-packages (from pyshtools) (3.2.2)\n",
            "Requirement already satisfied: astropy in /usr/local/lib/python3.6/dist-packages (from pyshtools) (4.0.1.post1)\n",
            "Requirement already satisfied: xarray in /usr/local/lib/python3.6/dist-packages (from pyshtools) (0.15.1)\n",
            "Requirement already satisfied: scipy>=0.14.0 in /usr/local/lib/python3.6/dist-packages (from pyshtools) (1.4.1)\n",
            "Requirement already satisfied: urllib3!=1.25.0,!=1.25.1,<1.26,>=1.21.1 in /usr/local/lib/python3.6/dist-packages (from requests->pyshtools) (1.24.3)\n",
            "Requirement already satisfied: idna<3,>=2.5 in /usr/local/lib/python3.6/dist-packages (from requests->pyshtools) (2.10)\n",
            "Requirement already satisfied: chardet<4,>=3.0.2 in /usr/local/lib/python3.6/dist-packages (from requests->pyshtools) (3.0.4)\n",
            "Requirement already satisfied: certifi>=2017.4.17 in /usr/local/lib/python3.6/dist-packages (from requests->pyshtools) (2020.6.20)\n",
            "Requirement already satisfied: python-dateutil>=2.1 in /usr/local/lib/python3.6/dist-packages (from matplotlib->pyshtools) (2.8.1)\n",
            "Requirement already satisfied: pyparsing!=2.0.4,!=2.1.2,!=2.1.6,>=2.0.1 in /usr/local/lib/python3.6/dist-packages (from matplotlib->pyshtools) (2.4.7)\n",
            "Requirement already satisfied: kiwisolver>=1.0.1 in /usr/local/lib/python3.6/dist-packages (from matplotlib->pyshtools) (1.2.0)\n",
            "Requirement already satisfied: cycler>=0.10 in /usr/local/lib/python3.6/dist-packages (from matplotlib->pyshtools) (0.10.0)\n",
            "Requirement already satisfied: setuptools>=41.2 in /usr/local/lib/python3.6/dist-packages (from xarray->pyshtools) (49.6.0)\n",
            "Requirement already satisfied: pandas>=0.25 in /usr/local/lib/python3.6/dist-packages (from xarray->pyshtools) (1.0.5)\n",
            "Requirement already satisfied: six>=1.5 in /usr/local/lib/python3.6/dist-packages (from python-dateutil>=2.1->matplotlib->pyshtools) (1.15.0)\n",
            "Requirement already satisfied: pytz>=2017.2 in /usr/local/lib/python3.6/dist-packages (from pandas>=0.25->xarray->pyshtools) (2018.9)\n",
            "Installing collected packages: pyshtools\n",
            "Successfully installed pyshtools-4.6.2\n"
          ],
          "name": "stdout"
        }
      ]
    },
    {
      "cell_type": "markdown",
      "metadata": {
        "id": "wKBOm9F8yXcf",
        "colab_type": "text"
      },
      "source": [
        "## The derivation of displacement solution\n",
        "\n",
        "From (Barber 3rd ed.):\n",
        "\n",
        "$$\n",
        "2\\mu\\mathbf{u} = -4(1-\\nu)\\mathbf{\\psi} + \\nabla(\\mathbf{r}\\cdot\\mathbf{\\psi})\n",
        "$$"
      ]
    },
    {
      "cell_type": "markdown",
      "metadata": {
        "id": "TH5IL-tQyXci",
        "colab_type": "text"
      },
      "source": [
        "where the vector potential $\\mathbf{\\psi} = \\omega\\hat{\\mathbf{e}}_k,\\; k = x,y,z$, and $\\omega$ is harmonic function. (i.e. $\\nabla^2\\omega=0$)"
      ]
    },
    {
      "cell_type": "markdown",
      "metadata": {
        "id": "V2f-149LyXcl",
        "colab_type": "text"
      },
      "source": [
        "### (a) test case: Kelvin's solution\n",
        "\n",
        "The displacement solution of a point force multipole at origin evaluated on a unit sphere can be represented by the Green Function. We first define the Green Function:\n",
        "\n",
        "$$\n",
        "G_{ij} = \\frac{1}{8\\pi\\mu}\\big[\\delta_{ij}R,_{kk}-\\frac{1}{2(1-\\nu)}R,_{ij}\\big]\n",
        "$$"
      ]
    },
    {
      "cell_type": "markdown",
      "metadata": {
        "id": "0E3CY_iDyXco",
        "colab_type": "text"
      },
      "source": [
        "Then we can write the displacement in $m=(x,y,z)$ direction:\n",
        "\n",
        "$$\n",
        "u_k^{(m)}=G_{mk}=\\frac{1}{8\\pi\\mu}\\big[\\delta_{mk}R,_{pp}-\\frac{1}{2(1-\\nu)}R,_{mk}\\big]\n",
        "$$"
      ]
    },
    {
      "cell_type": "markdown",
      "metadata": {
        "id": "ThuoFfzryXcr",
        "colab_type": "text"
      },
      "source": [
        "where $R=\\sqrt{x^2+y^2+z^2}$ is the radius of the point from the origin. $\\mu$ and $\\nu$ are shear modulus and Poisson's ratio respectivily.\n",
        "We have proved (**to do**) that the Papkovich-Neuber Solution B with the solid harmonic of degree $l = 0$ is consistent with the Kelvin's solution. We can use Kelvin's solution as our test case to verify the solution."
      ]
    },
    {
      "cell_type": "markdown",
      "metadata": {
        "id": "buwqPFV8yXcs",
        "colab_type": "text"
      },
      "source": [
        "We then develop the test case based on Kelvin's solution:\n",
        "\n",
        "1. Create a 3D mesh grid `[-10:10, -10:10, -10:10]` for evaluate the displacement;\n",
        "2. Calculate the expression of the second derivative of R;\n",
        "3. Evaluate the expression at the mesh grid points;\n",
        "4. Composite the displacement solution."
      ]
    },
    {
      "cell_type": "markdown",
      "metadata": {
        "id": "9_g4ZjWsyXcz",
        "colab_type": "text"
      },
      "source": [
        "First, we create the meshgrid, and define the parameters ($\\mu=2.65,\\;\\nu=0.25$):"
      ]
    },
    {
      "cell_type": "code",
      "metadata": {
        "id": "5TuIXiPXyXc1",
        "colab_type": "code",
        "colab": {}
      },
      "source": [
        "import numpy as np\n",
        "import sys, os\n",
        "sys.path.append('..')\n",
        "from shelastic.shutil import CartCoord_to_SphCoord, SphCoord_to_CartCoord\n",
        "\n",
        "# Material properties\n",
        "MU = 2.65\n",
        "NU = 0.25\n",
        "\n",
        "# Define mesh\n",
        "normalization='4pi'\n",
        "# normalization='ortho'\n",
        "# normalization='schmidt'\n",
        "shtype = 'irr'\n",
        "lmax = 3\n",
        "xgrid = np.linspace(-10, 10, 20)\n",
        "# The order (Y,X,Z) makes sure that axis 0,1,2 corresponds to X,Y,Z\n",
        "Y, X, Z = np.meshgrid(xgrid, xgrid, xgrid)\n",
        "R, THETA, PHI = CartCoord_to_SphCoord(X, Y, Z)\n",
        "LAT = 90 - np.rad2deg(THETA)\n",
        "LON = np.rad2deg(PHI)"
      ],
      "execution_count": 2,
      "outputs": []
    },
    {
      "cell_type": "markdown",
      "metadata": {
        "id": "lzoxOcdoyXdA",
        "colab_type": "text"
      },
      "source": [
        "Based on the result of `second_deriv_R_sym()`, we can write a routine that can directly evaluate the derivative without evaluate the symbolic expressions."
      ]
    },
    {
      "cell_type": "code",
      "metadata": {
        "id": "qoBeVSZ1yXdC",
        "colab_type": "code",
        "colab": {}
      },
      "source": [
        "from shelastic.SHTest import second_deriv_R, third_deriv_R"
      ],
      "execution_count": 3,
      "outputs": []
    },
    {
      "cell_type": "code",
      "metadata": {
        "id": "GcImcrbGyXdK",
        "colab_type": "code",
        "colab": {}
      },
      "source": [
        "Rij = second_deriv_R(X, Y, Z)\n",
        "\n",
        "term1 = np.zeros(R.shape+(3, 3))\n",
        "term2 = np.zeros(R.shape+(3, 3))\n",
        "\n",
        "for m in range(3):\n",
        "    for k in range(3):\n",
        "        Rpp = Rij[0][0]+Rij[1][1]+Rij[2][2]\n",
        "        term1[:,:,:,m,k] = term1[:,:,:,m,k] + (m==k) * Rpp\n",
        "        term2[:,:,:,m,k] = term2[:,:,:,m,k] + Rij[m][k]\n",
        "\n",
        "u_test = (1/(8*MU*np.pi)) * ( term1 - term2/(2*(1-NU)) )"
      ],
      "execution_count": 4,
      "outputs": []
    },
    {
      "cell_type": "markdown",
      "metadata": {
        "id": "v_2OuKrWyXdS",
        "colab_type": "text"
      },
      "source": [
        "### (b) Implementation\n",
        "\n",
        "Then we apply the Papkovich-Neuber Solution B."
      ]
    },
    {
      "cell_type": "code",
      "metadata": {
        "id": "EoypnOJyyXdU",
        "colab_type": "code",
        "colab": {}
      },
      "source": [
        "import pyshtools\n",
        "from shelastic.shgrad import SHMultiplyC, VSH1, VSH2\n",
        "from shelastic.shutil import eval_GridC"
      ],
      "execution_count": 5,
      "outputs": []
    },
    {
      "cell_type": "markdown",
      "metadata": {
        "id": "tqbWtTaIyXdd",
        "colab_type": "text"
      },
      "source": [
        "We first develop a code snippet to calculate the dot product of the spherical harmonic vector and the normal vector $\\hat{\\mathbf{r}}$:"
      ]
    },
    {
      "cell_type": "code",
      "metadata": {
        "id": "vfRJwKd4yXde",
        "colab_type": "code",
        "colab": {}
      },
      "source": [
        "def rdotPsi(l, m, k, c_omega=1.0, lmax=100):\n",
        "    Ylm = pyshtools.SHCoeffs.from_zeros(lmax, kind='complex')\n",
        "    Ylm.set_coeffs(c_omega, l, m)\n",
        "    return VSH1(Ylm.to_array())[...,k]"
      ],
      "execution_count": 6,
      "outputs": []
    },
    {
      "cell_type": "markdown",
      "metadata": {
        "id": "5WqY7PRpyXdj",
        "colab_type": "text"
      },
      "source": [
        "Then we use the vector spherical harmonics and rdot functions to derive the Papkovich-Neuber solution B:"
      ]
    },
    {
      "cell_type": "markdown",
      "metadata": {
        "id": "dXTUCDWNyXdl",
        "colab_type": "text"
      },
      "source": [
        "For regular and irregular solid harmonics, the equations can be simplified as:\n",
        "\n",
        "(a). Irregular solid harmonics:\n",
        "\n",
        "$$\n",
        "2\\mu\\mathbf{u}^{l,m,k}=\n",
        "    -4(1-\\nu)\\hat{\\mathbf{e}}_{k}\\frac{Y_l^m}{r^{l+1}}+\n",
        "        \\nabla\\big(x_{k}\\frac{Y_l^m}{r^{l+1}}\\big) = \\\\\n",
        "    -4(1-\\nu)\\hat{\\mathbf{e}}_{k}\\frac{Y_l^m}{r^{l+1}}+\n",
        "        \\left[\\frac{-l\\hat{\\mathbf{r}}}{r^{l+1}}\\frac{x_{k}Y_l^m}{r}+\n",
        "        \\frac{1}{r^{l}}\\nabla\\big(\\frac{x_{k}Y_l^m}{r}\\big)\\right]\n",
        "$$\n",
        "$$\n",
        "2\\mu r^{l+1}\\mathbf{u}^{l,m,k}= \n",
        "    -4(1-\\nu)\\hat{\\mathbf{e}}_{k}Y_l^m\n",
        "    -l\\hat{\\mathbf{r}}\\frac{x_{k}Y_l^m}{r}+r\\nabla\\big(\\frac{x_{k}Y_l^m}{r}\\big) =\n",
        "    2\\mu(U_{\\nu}^{(K)} + U_{irr}^{(K)})\n",
        "$$"
      ]
    },
    {
      "cell_type": "markdown",
      "metadata": {
        "id": "k08VA748yXdm",
        "colab_type": "text"
      },
      "source": [
        "(b). Regular solid harmonics:\n",
        "\n",
        "$$\n",
        "2\\mu\\mathbf{u}^{l,m,k}=\n",
        "    -4(1-\\nu)\\hat{\\mathbf{e}}_{k}r^lY_l^m+\n",
        "        \\nabla\\big(x_{k}r^lY_l^m\\big) = \\\\\n",
        "    -4(1-\\nu)\\hat{\\mathbf{e}}_{k}r^lY_l^m+\n",
        "        \\Big[(l+1)r^l\\hat{\\mathbf{r}}\\frac{x_{k}Y_l^m}{r}+\n",
        "        r^{l+1}\\nabla\\big(\\frac{x_{k}Y_l^m}{r}\\big)\\Big]\n",
        "$$\n",
        "$$\n",
        "2\\mu r^{-l}\\mathbf{u}^{l,m,k}=\n",
        "    -4(1-\\nu)\\hat{\\mathbf{e}}_{k}Y_l^m+\n",
        "        (l+1)\\hat{\\mathbf{r}}\\frac{x_{k}Y_l^m}{r}+\n",
        "        r\\nabla\\left(\\frac{x_{k}Y_l^m}{r}\\right) =\n",
        "    2\\mu(U_{\\nu}^{(K)} + U_{reg}^{(K)})\n",
        "$$"
      ]
    },
    {
      "cell_type": "markdown",
      "metadata": {
        "id": "iZxdRER8yXdn",
        "colab_type": "text"
      },
      "source": [
        "where $2\\mu U_{\\nu}^{(K)} = -4(1-\\nu)\\hat{\\mathbf{e}}_kY_l^m$ is the displacement part that is depending on the Poisson's ratio."
      ]
    },
    {
      "cell_type": "code",
      "metadata": {
        "scrolled": true,
        "id": "HGXn3D-IyXdo",
        "colab_type": "code",
        "colab": {
          "base_uri": "https://localhost:8080/",
          "height": 684
        },
        "outputId": "00a05af0-fb22-4a95-a5bb-4d5dc01cc50f"
      },
      "source": [
        "import matplotlib.pyplot as plt\n",
        "\n",
        "c_omega = -1/6/np.pi\n",
        "l = 0\n",
        "m = 0\n",
        "k = 2\n",
        "U_nu = [pyshtools.SHCoeffs.from_zeros(lmax=lmax, kind='complex') for x in range(3)]\n",
        "U_nu[k].set_coeffs(-4*(1-NU), l, m)\n",
        "U_nu[0].info()\n",
        "U_nu[1].info()\n",
        "U_nu[2].info()\n",
        "fig, ax = U_nu[2].plot_spectrum2d(vrange=(1e-8, 1))\n",
        "Unu = np.stack((U_nu[0].to_array(),U_nu[1].to_array(),U_nu[2].to_array()), axis=-1)"
      ],
      "execution_count": 7,
      "outputs": [
        {
          "output_type": "stream",
          "text": [
            "kind = 'complex'\n",
            "normalization = '4pi'\n",
            "csphase = 1\n",
            "lmax = 3\n",
            "header = None\n",
            "kind = 'complex'\n",
            "normalization = '4pi'\n",
            "csphase = 1\n",
            "lmax = 3\n",
            "header = None\n",
            "kind = 'complex'\n",
            "normalization = '4pi'\n",
            "csphase = 1\n",
            "lmax = 3\n",
            "header = None\n"
          ],
          "name": "stdout"
        },
        {
          "output_type": "stream",
          "text": [
            "/usr/local/lib/python3.6/dist-packages/pyshtools/shclasses/shcoeffsgrid.py:2068: ComplexWarning: Casting complex values to real discards the imaginary part\n",
            "  spectrum[:, :lmax] = _np.fliplr(mnegative)[:, :lmax]\n",
            "/usr/local/lib/python3.6/dist-packages/pyshtools/shclasses/shcoeffsgrid.py:2069: ComplexWarning: Casting complex values to real discards the imaginary part\n",
            "  spectrum[:, lmax:] = mpositive\n"
          ],
          "name": "stderr"
        },
        {
          "output_type": "display_data",
          "data": {
            "image/png": "[encoded data removed]",
            "text/plain": [
              "<Figure size 432x288 with 2 Axes>"
            ]
          },
          "metadata": {
            "tags": [],
            "needs_background": "light"
          }
        }
      ]
    },
    {
      "cell_type": "markdown",
      "metadata": {
        "id": "lQgJoeViyXdy",
        "colab_type": "text"
      },
      "source": [
        "And the part that is independent of Poisson's ratio is:\n",
        "\n",
        "$$\n",
        "2\\mu U_{irr}^{(K)} = -l\\hat{\\mathbf{r}}\\frac{x_{k}Y_l^m}{r}+r\\nabla\\left(\\frac{x_{k}Y_l^m}{r}\\right), \\quad\n",
        "2\\mu U_{reg}^{(K)} = (l+1)\\hat{\\mathbf{r}}\\frac{x_{k}Y_l^m}{r}+r\\nabla\\left(\\frac{x_{k}Y_l^m}{r}\\right)\n",
        "$$"
      ]
    },
    {
      "cell_type": "markdown",
      "metadata": {
        "id": "weNMhe7GyXd0",
        "colab_type": "text"
      },
      "source": [
        "or in terms of vector spherical harmonics:\n",
        "\n",
        "$$\n",
        "2\\mu U_{irr}^{(K)} = \n",
        "-l\\mathcal{Y}\\left[\\hat{\\mathbf{r}}\\cdot\\mathbf{\\psi}\\right] +\n",
        "\\mathcal{\\Psi}[\\hat{\\mathbf{r}}\\cdot\\mathbf{\\psi}], \\quad\n",
        "2\\mu U_{reg}^{(K)} = \n",
        "(l+1)\\mathcal{Y}\\left[\\hat{\\mathbf{r}}\\cdot\\mathbf{\\psi}\\right] +\n",
        "\\mathcal{\\Psi}[\\hat{\\mathbf{r}}\\cdot\\mathbf{\\psi}]\n",
        "$$"
      ]
    },
    {
      "cell_type": "markdown",
      "metadata": {
        "id": "1oXP4IUayXd1",
        "colab_type": "text"
      },
      "source": [
        "where the vector potential $\\mathbf{\\psi} = Y_l^m\\hat{\\mathbf{e}}_k$"
      ]
    },
    {
      "cell_type": "code",
      "metadata": {
        "id": "t3GCrb-SyXd3",
        "colab_type": "code",
        "colab": {}
      },
      "source": [
        "rdP = rdotPsi(l, m, k, 1.0, lmax=lmax)\n",
        "U_0 = -l*VSH1(rdP)+VSH2(rdP)\n",
        "U = c_omega/2./MU*(Unu+U_0)"
      ],
      "execution_count": 8,
      "outputs": []
    },
    {
      "cell_type": "markdown",
      "metadata": {
        "id": "KaHR_0wxyXd9",
        "colab_type": "text"
      },
      "source": [
        "Then we evaluate the displacement on the grid to compare with Green Function solution:"
      ]
    },
    {
      "cell_type": "code",
      "metadata": {
        "id": "FXcdbp1eyXd-",
        "colab_type": "code",
        "colab": {
          "base_uri": "https://localhost:8080/",
          "height": 73
        },
        "outputId": "a645b096-6b3d-4d12-dcdd-bdfbbb909638"
      },
      "source": [
        "Uk = [pyshtools.SHCoeffs.from_array(U[...,k],normalization='4pi',csphase=1) for k in range(3)]\n",
        "\n",
        "u_2 = np.stack( [eval_GridC(Uk[i], LAT, LON)/R for i in range(3)], axis=-1)\n",
        "#u_2 = np.stack( [Uk[i].expand(lat=LAT, lon=LON)/R for i in range(3)] , axis=-1)\n",
        "\n",
        "np.set_printoptions(suppress=True)\n",
        "print(u_2.shape)\n",
        "rel_err = np.abs(u_2 - u_test[:,:,:,k,:]).mean()\n",
        "print('Relative error is: %.8e'%rel_err)\n",
        "if rel_err < 1e-10:\n",
        "    testU1 = True\n",
        "    print('Test case for displacement solution passed')\n",
        "else:\n",
        "    testU1 = False\n",
        "    print('Test case for displacement solution failed')\n",
        "#print(u_2/u_test[:,:,:,k,:])"
      ],
      "execution_count": 9,
      "outputs": [
        {
          "output_type": "stream",
          "text": [
            "(20, 20, 20, 3)\n",
            "Relative error is: 3.19038771e-19\n",
            "Test case for displacement solution passed\n"
          ],
          "name": "stdout"
        }
      ]
    },
    {
      "cell_type": "markdown",
      "metadata": {
        "collapsed": true,
        "id": "sPtpIMTdyXeF",
        "colab_type": "text"
      },
      "source": [
        "Then we implement the function `genUmode` that calculates displacement modes $U^{(l,m,k)}$ in `shelastic.shelastic`, and test it as following:"
      ]
    },
    {
      "cell_type": "code",
      "metadata": {
        "id": "wOQ1uS8zyXeH",
        "colab_type": "code",
        "colab": {
          "base_uri": "https://localhost:8080/",
          "height": 73
        },
        "outputId": "ceff500f-0e38-45a5-8af6-9b67c6be4e36"
      },
      "source": [
        "from shelastic.shelastic import genUmode, calUmode\n",
        "\n",
        "Umode = genUmode(l, m, k)\n",
        "U_3 = calUmode(Umode, mu=MU, nu=NU, c_omega=c_omega)\n",
        "U_3 = [pyshtools.SHCoeffs.from_array(U_3[...,i]) for i in range(3)]\n",
        "\n",
        "# u_3 = np.stack( [U_3[i].expand(lat=LAT, lon=LON)/R for i in range(3)] , axis=-1)\n",
        "u_3 = np.stack( [eval_GridC(U_3[i], LAT, LON)/R for i in range(3)], axis=-1)\n",
        "np.set_printoptions(suppress=True)\n",
        "print(u_3.shape)\n",
        "#print(u_3/u_test[:,:,:,k,:])\n",
        "rel_err = np.abs(u_3 - u_test[:,:,:,k,:]).mean()\n",
        "print('Relative error is: %.8e'%rel_err)\n",
        "if rel_err < 1e-10:\n",
        "    testU2 = True\n",
        "    print('Test case for genUmode passed')\n",
        "else:\n",
        "    testU2 = False\n",
        "    print('Test case for genUmode failed')"
      ],
      "execution_count": 10,
      "outputs": [
        {
          "output_type": "stream",
          "text": [
            "(20, 20, 20, 3)\n",
            "Relative error is: 3.14512898e-19\n",
            "Test case for genUmode passed\n"
          ],
          "name": "stdout"
        }
      ]
    },
    {
      "cell_type": "markdown",
      "metadata": {
        "id": "6hflXJ26yXeQ",
        "colab_type": "text"
      },
      "source": [
        "## Derivation of Stress solution\n",
        "\n",
        "The strain can be written as:\n",
        "\n",
        "$$\n",
        "\\mathbf{\\varepsilon}^{l,m,(m)} = \\frac{1}{2}(\\nabla^T+\\nabla)\\mathbf{u}^{l,m,k}\n",
        "$$\n",
        "\n",
        "where the gradient of vector $\\mathbf{u}$ can be calculated as:\n",
        "\n",
        "$$\n",
        "[\\nabla\\mathbf{u}_{irr}]_{ij} = \\frac{\\partial u_{irr,i}}{\\partial x_j} =\n",
        "\\frac{-l-1}{r^{l+2}}\\big[U^{l,m,k}_{irr,i}\\frac{x_j}{r}\\big] + \n",
        "\\frac{1}{r^{l+2}}\\big[r\\frac{\\partial}{\\partial x_j}U^{l,m,k}_{irr,i}\\big]\n",
        "$$\n",
        "\n",
        "$$\n",
        "[\\nabla\\mathbf{u}_{reg}]_{ij} = \\frac{\\partial u_{reg,i}}{\\partial x_j} =\n",
        "lr^{l-1}\\big[U^{l,m,k}_{reg,i}\\frac{x_j}{r}\\big] + \n",
        "r^{l-1}\\big[r\\frac{\\partial}{\\partial x_j}U^{l,m,k}_{reg,i}\\big]\n",
        "$$\n",
        "\n",
        "where $U^{l,m,k}_{i}$ is the displacement solution of degree $l, m$ at $r=1$ developed before.\n",
        "\n",
        "Then we will develop the stress:\n",
        "\n",
        "$$\n",
        "\\sigma_{ij}^{k} = \\lambda\\delta_{ij}\\varepsilon_{vv}^{k} + 2\\mu\\varepsilon_{ij} =\n",
        "\\lambda\\delta_{ij}u_{v,\\;v}^{k} + \\mu(u^{k}_{i,\\;j}+u^{k}_{j,\\;i})\n",
        "$$\n",
        "\n"
      ]
    },
    {
      "cell_type": "markdown",
      "metadata": {
        "id": "s-Ac8i6SyXeU",
        "colab_type": "text"
      },
      "source": [
        "### (a)  test case: Kelvin's solution\n",
        "\n",
        "We first develop the Kelvin's stress solution analytically. The following solution is adapted from Wei's note:"
      ]
    },
    {
      "cell_type": "markdown",
      "metadata": {
        "id": "6WySUk61yXeV",
        "colab_type": "text"
      },
      "source": [
        "$$\n",
        "\\sigma_{ij}^{(m)} = \\frac{1}{8\\pi}\\big[\\frac{\\nu}{1-\\nu}\\delta_{ij}R_{,\\,ppm} +\n",
        "\\delta_{i(m)}R_{,\\,ppj} + \\delta_{j(m)}R_{,\\,ppi}-\\frac{1}{1-\\nu}R_{,\\,(m)ij}\\big]\n",
        "$$"
      ]
    },
    {
      "cell_type": "code",
      "metadata": {
        "id": "hjpThTs9yXeW",
        "colab_type": "code",
        "colab": {}
      },
      "source": [
        "B = third_deriv_R(X, Y, Z)\n",
        "Rijk = np.zeros(X.shape + (3, 3, 3))\n",
        "for i in range(3):\n",
        "    for j in range(3):\n",
        "        for k in range(3):\n",
        "            ind = i**2 + j**2 + k**2;\n",
        "            Rijk[:, :, :, i, j, k] = B[ind];\n",
        "\n",
        "term1 = np.zeros(Rijk.shape)\n",
        "term2 = np.zeros(Rijk.shape)\n",
        "term3 = np.zeros(Rijk.shape)\n",
        "term4 = np.zeros(Rijk.shape)\n",
        "\n",
        "for m_dir in range(3):\n",
        "    for i in range(3):\n",
        "        for j in range(3):\n",
        "            temp1 = Rijk[:,:,:,0,0,m_dir]+ Rijk[:,:,:,1,1,m_dir]+ Rijk[:,:,:,2,2,m_dir]\n",
        "            temp2 = Rijk[:,:,:,0,0,j]+ Rijk[:,:,:,1,1,j]+ Rijk[:,:,:,2,2,j]\n",
        "            temp3 = Rijk[:,:,:,0,0,i]+ Rijk[:,:,:,1,1,i]+ Rijk[:,:,:,2,2,i]\n",
        "\n",
        "            term1[:,:,:,m_dir,i,j] = term1[:,:,:,m_dir,i,j] + (i==j)* temp1\n",
        "            term2[:,:,:,m_dir,i,j] = term2[:,:,:,m_dir,i,j] + (m_dir==i)* temp2\n",
        "            term3[:,:,:,m_dir,i,j] = term3[:,:,:,m_dir,i,j] + (m_dir==j)* temp3\n",
        "            term4[:,:,:,m_dir,i,j] = term4[:,:,:,m_dir,i,j] + Rijk[:,:,:,m_dir,i,j]\n",
        "\n",
        "sigma_t = (1/(8*np.pi))*( NU/(1-NU)*term1 + term2 + term3 - 1/(1-NU)*term4 )"
      ],
      "execution_count": 11,
      "outputs": []
    },
    {
      "cell_type": "markdown",
      "metadata": {
        "id": "4dP1_rWFyXeb",
        "colab_type": "text"
      },
      "source": [
        "### (b) Implementation\n",
        "\n",
        "Then we implement the `genSmode` in `shelastic.shelastic`, and perform test here:"
      ]
    },
    {
      "cell_type": "code",
      "metadata": {
        "id": "jZHHb-ITyXec",
        "colab_type": "code",
        "colab": {
          "base_uri": "https://localhost:8080/",
          "height": 111
        },
        "outputId": "e04db066-4462-4945-f693-e68ce7832ab6"
      },
      "source": [
        "from shelastic.shelastic import genSmode, calSmode\n",
        "\n",
        "import time\n",
        "\n",
        "tic = time.time()\n",
        "Smode = genSmode(l, m, k)\n",
        "S_K = calSmode(Smode, mu=MU, nu=NU, c_omega=c_omega)\n",
        "toc = time.time()\n",
        "print('Generating mode K time %.4fs'%(toc-tic))\n",
        "S_2 = np.empty(X.shape + (3, 3))\n",
        "tic = time.time()\n",
        "for i in range(3):\n",
        "    for j in range(3):\n",
        "        S_Kij = pyshtools.SHCoeffs.from_array(S_K[...,i,j], normalization='4pi', csphase=1)\n",
        "        #S_2[:,:,:,i,j] = np.real(S_Kij.expand(lat=LAT, lon=LON))/R**2\n",
        "        S_2[:,:,:,i,j] = np.real(eval_GridC(S_Kij, LAT, LON))/R**2\n",
        "toc = time.time()\n",
        "print('Evaluation time %.4fs'%(toc-tic))\n",
        "np.set_printoptions(suppress=True)\n",
        "print(S_2.shape)\n",
        "# print(S_2/sigma_t[:,:,:,k,:,:])\n",
        "rel_err = np.abs(S_2 - sigma_t[:,:,:,k,:]).mean()\n",
        "print('Relative error is: %.8e'%rel_err)\n",
        "if rel_err < 1e-10:\n",
        "    testS = True\n",
        "    print('Test case for stress solution genSmode passed')\n",
        "else:\n",
        "    testS = False\n",
        "    print('Test case for stress solution genSmode failed')"
      ],
      "execution_count": 12,
      "outputs": [
        {
          "output_type": "stream",
          "text": [
            "Generating mode K time 0.0087s\n",
            "Evaluation time 0.7954s\n",
            "(20, 20, 20, 3, 3)\n",
            "Relative error is: 4.87419580e-19\n",
            "Test case for stress solution genSmode passed\n"
          ],
          "name": "stdout"
        }
      ]
    },
    {
      "cell_type": "markdown",
      "metadata": {
        "collapsed": true,
        "id": "fDknKC_iyXel",
        "colab_type": "text"
      },
      "source": [
        "### (c) numerical test\n",
        "\n",
        "We come back to the equilibrium condition to test the stress solution numerically:\n",
        "\n",
        "$$\n",
        "\\nabla\\cdot\\sigma=0\\quad\\sigma_{ij,j}=0\n",
        "$$"
      ]
    },
    {
      "cell_type": "code",
      "metadata": {
        "id": "fkQTdpxDyXem",
        "colab_type": "code",
        "colab": {}
      },
      "source": [
        "# The order (Y,X,Z) makes sure that axis 0,1,2 corresponds to X,Y,Z\n",
        "normalization='4pi'\n",
        "# normalization='ortho'\n",
        "# normalization='schmidt'\n",
        "shtype = 'irr'\n",
        "lmax = 3\n",
        "xgrid = np.linspace(-1, 1, 30)\n",
        "#zgrid = np.linspace(-1, 1, 3)\n",
        "Y, X, Z = np.meshgrid(xgrid, xgrid, xgrid)\n",
        "R, THETA, PHI = CartCoord_to_SphCoord(X, Y, Z)\n",
        "LAT = 90 - np.rad2deg(THETA)\n",
        "LON = np.rad2deg(PHI)\n",
        "\n",
        "MU = 2.65\n",
        "NU = 0.25"
      ],
      "execution_count": 13,
      "outputs": []
    },
    {
      "cell_type": "code",
      "metadata": {
        "id": "Iz68vSVLyXet",
        "colab_type": "code",
        "colab": {}
      },
      "source": [
        "l = 4\n",
        "m = 3\n",
        "k = 0\n",
        "Smode = genSmode(l, m, k, shtype='reg')\n",
        "Scoeff= calSmode(Smode, mu=MU, nu=NU)\n",
        "S_grid = np.zeros(R.shape + (3, 3))\n",
        "for i in range(3):\n",
        "    for j in range(3):\n",
        "        Sij = pyshtools.SHCoeffs.from_array(Scoeff[...,i,j])\n",
        "        S_grid[:,:,:,i,j] = np.real(Sij.expand(lat=LAT, lon=LON)*R**(l-1))"
      ],
      "execution_count": 14,
      "outputs": []
    },
    {
      "cell_type": "code",
      "metadata": {
        "id": "ks4W0rFdyXez",
        "colab_type": "code",
        "colab": {
          "base_uri": "https://localhost:8080/",
          "height": 283
        },
        "outputId": "918ca9e1-270e-4671-b963-67df817a002a"
      },
      "source": [
        "f0 = np.gradient(np.real(S_grid[:,:,:,1,0]), X[:,0,0],Y[0,:,0],Z[0,0,:])[0] +\\\n",
        "     np.gradient(np.real(S_grid[:,:,:,1,1]), X[:,0,0],Y[0,:,0],Z[0,0,:])[1] +\\\n",
        "     np.gradient(np.real(S_grid[:,:,:,1,2]), X[:,0,0],Y[0,:,0],Z[0,0,:])[2]\n",
        "\n",
        "#plt.figure(figsize=(6,5))\n",
        "zplane = 10\n",
        "plt.title(r'Numerical Divergence $\\nabla\\cdot\\mathbf{\\sigma}$')\n",
        "plt.contourf(X[:,:,zplane],Y[:,:,zplane],f0[:,:,zplane])\n",
        "plt.colorbar()\n",
        "plt.show()"
      ],
      "execution_count": 15,
      "outputs": [
        {
          "output_type": "display_data",
          "data": {
            "image/png": "[encoded data removed]",
            "text/plain": [
              "<Figure size 432x288 with 2 Axes>"
            ]
          },
          "metadata": {
            "tags": [],
            "needs_background": "light"
          }
        }
      ]
    },
    {
      "cell_type": "markdown",
      "metadata": {
        "id": "K_SNoGpWyXe6",
        "colab_type": "text"
      },
      "source": [
        "This result shows that the divergence of the stress solution is 0, which satisfies the equilibrium condition."
      ]
    },
    {
      "cell_type": "markdown",
      "metadata": {
        "id": "QEpsv8pbyXe7",
        "colab_type": "text"
      },
      "source": [
        "## Traction solution\n",
        "\n",
        "Then based on the stress solution, we can calculate the traction vector as:\n",
        "\n",
        "$$\n",
        "\\mathbf{T} = \\mathbf{\\sigma}\\cdot\\mathbf{n}\n",
        "$$\n",
        "\n",
        "which is implemented in `shelastic.shelastic` as `calTmode`"
      ]
    },
    {
      "cell_type": "markdown",
      "metadata": {
        "id": "b4Y7lPfiyXe9",
        "colab_type": "text"
      },
      "source": [
        "## Test the fast evaluation using scipy"
      ]
    },
    {
      "cell_type": "code",
      "metadata": {
        "scrolled": true,
        "id": "MwitWzm5yXe-",
        "colab_type": "code",
        "colab": {
          "base_uri": "https://localhost:8080/",
          "height": 1000
        },
        "outputId": "b4e0e0c7-8051-4e70-d639-31b0f7465f08"
      },
      "source": [
        "from scipy.special import sph_harm\n",
        "from shelastic.shutil import sparse_mode\n",
        "import time\n",
        "\n",
        "Ngrid = 50\n",
        "theta = np.arange(2*Ngrid)/Ngrid*np.pi\n",
        "phi = np.arange(Ngrid)/Ngrid*np.pi\n",
        "THETA, PHI = np.meshgrid(theta, phi)\n",
        "l = 4\n",
        "m = 0\n",
        "k = 0\n",
        "Smode = genSmode(l, m, k, shtype='reg')\n",
        "Scoeff= calSmode(Smode, mu=MU, nu=NU)\n",
        "print(Scoeff.shape)\n",
        "for u in range(3):\n",
        "    for v in range(3):\n",
        "        print(u, v)\n",
        "        sparseSlm = np.nonzero(np.abs(Scoeff[...,u,v]) > 1e-8)\n",
        "        print(sparseSlm)\n",
        "        l_list = sparseSlm[1]\n",
        "        m_list = sparseSlm[2]*((-1)**sparseSlm[0])\n",
        "        c_list = Scoeff[...,u,v][sparseSlm]\n",
        "        print('l:', l_list)\n",
        "        print('m:', m_list)\n",
        "        print('c:', c_list)\n",
        "        tic = time.time()\n",
        "        sigma_uv = sph_harm(m_list, l_list, THETA[...,np.newaxis], PHI[...,np.newaxis])\n",
        "        toc = time.time()\n",
        "        sigma_uv *= ((-1.)**m_list)*c_list*np.sqrt(4*np.pi)\n",
        "        print(sigma_uv.shape, toc-tic)"
      ],
      "execution_count": 17,
      "outputs": [
        {
          "output_type": "stream",
          "text": [
            "(2, 8, 8, 3, 3)\n",
            "0 0\n",
            "(array([0, 0, 0, 1, 1, 1]), array([1, 3, 3, 1, 3, 3]), array([1, 1, 3, 1, 1, 3]))\n",
            "l: [1 3 3 1 3 3]\n",
            "m: [ 1  1  3 -1 -1 -3]\n",
            "c: [ 2.20454077-0.j  0.3927922 +0.j  0.76063883+0.j -2.20454077-0.j\n",
            " -0.3927922 +0.j -0.76063883+0.j]\n",
            "(50, 100, 6) 0.006327390670776367\n",
            "0 1\n",
            "(array([0, 0, 0, 1, 1, 1]), array([1, 3, 3, 1, 3, 3]), array([1, 1, 3, 1, 1, 3]))\n",
            "l: [1 3 3 1 3 3]\n",
            "m: [ 1  1  3 -1 -1 -3]\n",
            "c: [ 0.-0.73484692j -0.-0.7855844j  -0.-0.76063883j -0.-0.73484692j\n",
            "  0.-0.7855844j   0.-0.76063883j]\n",
            "(50, 100, 6) 0.0065686702728271484\n",
            "0 2\n",
            "(array([0, 0, 0, 1]), array([1, 3, 3, 3]), array([0, 0, 2, 2]))\n",
            "l: [1 3 3 3]\n",
            "m: [ 0  0  2 -2]\n",
            "c: [-4.15692194+0.j  0.45355737+0.j -2.48423601+0.j -2.48423601-0.j]\n",
            "(50, 100, 4) 0.003729581832885742\n",
            "1 0\n",
            "(array([0, 0, 0, 1, 1, 1]), array([1, 3, 3, 1, 3, 3]), array([1, 1, 3, 1, 1, 3]))\n",
            "l: [1 3 3 1 3 3]\n",
            "m: [ 1  1  3 -1 -1 -3]\n",
            "c: [ 0.-0.73484692j -0.-0.7855844j  -0.-0.76063883j -0.-0.73484692j\n",
            "  0.-0.7855844j   0.-0.76063883j]\n",
            "(50, 100, 6) 0.006304264068603516\n",
            "1 1\n",
            "(array([0, 0, 0, 1, 1, 1]), array([1, 3, 3, 1, 3, 3]), array([1, 1, 3, 1, 1, 3]))\n",
            "l: [1 3 3 1 3 3]\n",
            "m: [ 1  1  3 -1 -1 -3]\n",
            "c: [ 0.73484692-0.j -1.17837661-0.j -0.76063883-0.j -0.73484692-0.j\n",
            "  1.17837661-0.j  0.76063883-0.j]\n",
            "(50, 100, 6) 0.006392002105712891\n",
            "1 2\n",
            "(array([0, 1]), array([3, 3]), array([2, 2]))\n",
            "l: [3 3]\n",
            "m: [ 2 -2]\n",
            "c: [-0.+2.48423601j -0.-2.48423601j]\n",
            "(50, 100, 2) 0.002797842025756836\n",
            "2 0\n",
            "(array([0, 0, 0, 1]), array([1, 3, 3, 3]), array([0, 0, 2, 2]))\n",
            "l: [1 3 3 3]\n",
            "m: [ 0  0  2 -2]\n",
            "c: [-4.15692194+0.j  0.45355737+0.j -2.48423601+0.j -2.48423601-0.j]\n",
            "(50, 100, 4) 0.0036568641662597656\n",
            "2 1\n",
            "(array([0, 1]), array([3, 3]), array([2, 2]))\n",
            "l: [3 3]\n",
            "m: [ 2 -2]\n",
            "c: [-0.+2.48423601j -0.-2.48423601j]\n",
            "(50, 100, 2) 0.0025758743286132812\n",
            "2 2\n",
            "(array([0, 0, 1, 1]), array([1, 3, 1, 3]), array([1, 1, 1, 1]))\n",
            "l: [1 3 1 3]\n",
            "m: [ 1  1 -1 -1]\n",
            "c: [-2.93938769+0.j  5.69548694-0.j  2.93938769+0.j -5.69548694-0.j]\n",
            "(50, 100, 4) 0.005471467971801758\n"
          ],
          "name": "stdout"
        }
      ]
    },
    {
      "cell_type": "markdown",
      "metadata": {
        "id": "7n6xnzoayXfF",
        "colab_type": "text"
      },
      "source": [
        "## Elastic Energy\n",
        "\n",
        "The elastic energy can be calculated as:\n",
        "\n",
        "$$\n",
        "E=\\int_{\\Omega}\\frac{1}{2}u(\\theta,\\varphi)T(\\theta,\\varphi)d\\Omega \\\\\n",
        "$$\n",
        "\n",
        "where $d\\Omega=\\sin\\theta d\\theta d\\varphi$, and $\\Omega$ is the entire spherical surface."
      ]
    },
    {
      "cell_type": "markdown",
      "metadata": {
        "id": "T2ZbJTUwyXfG",
        "colab_type": "text"
      },
      "source": [
        "Notice that $U$ and $T$ are represented as linear combinations of spherical harmonics:\n",
        "\n",
        "$$\n",
        "U(\\theta,\\varphi) = \\sum_{l',m'}\\hat{U}_{l'm'}Y_{l'}^{m'}(\\theta,\\varphi) \\\\\n",
        "T(\\theta,\\varphi) = \\sum_{l',m'}\\hat{T}_{l'm'}Y_{l'}^{m'}(\\theta,\\varphi)\n",
        "$$"
      ]
    },
    {
      "cell_type": "markdown",
      "metadata": {
        "id": "VzTTHqISyXfG",
        "colab_type": "text"
      },
      "source": [
        "According to the orthogonality of the spherical harmonic functions:\n",
        "\n",
        "$$\n",
        "\\int_\\Omega Y_l^mY_{l'}^{m'}d\\Omega=4\\pi\\delta_{ll'}\\delta_{mm'}\n",
        "$$"
      ]
    },
    {
      "cell_type": "markdown",
      "metadata": {
        "id": "WwU2WNi4yXfH",
        "colab_type": "text"
      },
      "source": [
        "Thus,\n",
        "$$\n",
        "E = 2\\pi\\sum_{l,m}\\sum_{l',m'}\\hat{U}_{lm}\\hat{T}_{l'm'}\\delta_{ll'}\\delta_{mm'}\n",
        "$$"
      ]
    },
    {
      "cell_type": "markdown",
      "metadata": {
        "id": "Xc9J-OJsyXfJ",
        "colab_type": "text"
      },
      "source": [
        "## Test Result"
      ]
    },
    {
      "cell_type": "code",
      "metadata": {
        "id": "deP-LH0eyXfK",
        "colab_type": "code",
        "colab": {
          "base_uri": "https://localhost:8080/",
          "height": 54
        },
        "outputId": "f3eaf14a-41d0-4ba6-f3fa-ed35f0e8b072"
      },
      "source": [
        "if testU1 and testU2:\n",
        "    print('Displacement solution test passed.')\n",
        "else:\n",
        "    print('Displacement solution test failed.')\n",
        "if testS:\n",
        "    print('Stress solution test passed.')\n",
        "else:\n",
        "    print('Stress solution test failed.')"
      ],
      "execution_count": 18,
      "outputs": [
        {
          "output_type": "stream",
          "text": [
            "Displacement solution test passed.\n",
            "Stress solution test passed.\n"
          ],
          "name": "stdout"
        }
      ]
    }
  ]
}