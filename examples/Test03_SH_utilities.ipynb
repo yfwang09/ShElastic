{
  "nbformat": 4,
  "nbformat_minor": 0,
  "metadata": {
    "kernelspec": {
      "display_name": "Python 3",
      "language": "python",
      "name": "python3"
    },
    "language_info": {
      "codemirror_mode": {
        "name": "ipython",
        "version": 3
      },
      "file_extension": ".py",
      "mimetype": "text/x-python",
      "name": "python",
      "nbconvert_exporter": "python",
      "pygments_lexer": "ipython3",
      "version": "3.6.7"
    },
    "toc": {
      "base_numbering": 1,
      "nav_menu": {},
      "number_sections": true,
      "sideBar": true,
      "skip_h1_title": false,
      "title_cell": "Table of Contents",
      "title_sidebar": "Contents",
      "toc_cell": false,
      "toc_position": {},
      "toc_section_display": true,
      "toc_window_display": false
    },
    "colab": {
      "name": "Test03_SH_utilities.ipynb",
      "provenance": [],
      "include_colab_link": true
    }
  },
  "cells": [
    {
      "cell_type": "markdown",
      "metadata": {
        "id": "view-in-github",
        "colab_type": "text"
      },
      "source": [
        "<a href=\"https://colab.research.google.com/github/yfwang09/ShElastic/blob/master/examples/Test03_SH_utilities.ipynb\" target=\"_parent\"><img src=\"https://colab.research.google.com/assets/colab-badge.svg\" alt=\"Open In Colab\"/></a>"
      ]
    },
    {
      "cell_type": "markdown",
      "metadata": {
        "id": "yQOU6RUuzSXS",
        "colab_type": "text"
      },
      "source": [
        "# Test cases for shutil\n",
        "\n",
        "In this notebook, we test `shelastic.shutil` module. It is also an sample script for using the `shutil` functions to develop your own calculations. To run all test, click Kernel/Restart & Run All. The test result is at the very end of the notebook."
      ]
    },
    {
      "cell_type": "code",
      "metadata": {
        "id": "MN2v28eKzUrt",
        "colab_type": "code",
        "colab": {
          "base_uri": "https://localhost:8080/",
          "height": 598
        },
        "outputId": "c15bfd82-fad9-41d1-97a3-636ccef7fb17"
      },
      "source": [
        "# If you run this notebook on colab, run this cell\n",
        "import os\n",
        "codepath = '/content/ShElastic'\n",
        "if not os.path.exists(codepath):\n",
        "    !git clone https://github.com/yfwang09/ShElastic.git \n",
        "    !pip install pyshtools\n",
        "os.chdir(os.path.join(codepath, 'examples'))"
      ],
      "execution_count": 1,
      "outputs": [
        {
          "output_type": "stream",
          "text": [
            "Cloning into 'ShElastic'...\n",
            "remote: Enumerating objects: 49, done.\u001b[K\n",
            "remote: Counting objects: 100% (49/49), done.\u001b[K\n",
            "remote: Compressing objects: 100% (46/46), done.\u001b[K\n",
            "remote: Total 1130 (delta 20), reused 8 (delta 3), pack-reused 1081\u001b[K\n",
            "Receiving objects: 100% (1130/1130), 146.52 MiB | 11.76 MiB/s, done.\n",
            "Resolving deltas: 100% (406/406), done.\n",
            "Collecting pyshtools\n",
            "\u001b[?25l  Downloading https://files.pythonhosted.org/packages/11/24/f0428beea230f089b6e575abb62aa438e2aff34e4c7277c78bf9f94eaa68/pyshtools-4.6.2-cp36-cp36m-manylinux1_x86_64.whl (10.8MB)\n",
            "\u001b[K     |████████████████████████████████| 10.8MB 2.5MB/s \n",
            "\u001b[?25hRequirement already satisfied: requests in /usr/local/lib/python3.6/dist-packages (from pyshtools) (2.23.0)\n",
            "Requirement already satisfied: astropy in /usr/local/lib/python3.6/dist-packages (from pyshtools) (4.0.1.post1)\n",
            "Requirement already satisfied: numpy>=1.18.1 in /usr/local/lib/python3.6/dist-packages (from pyshtools) (1.18.5)\n",
            "Requirement already satisfied: matplotlib in /usr/local/lib/python3.6/dist-packages (from pyshtools) (3.2.2)\n",
            "Requirement already satisfied: scipy>=0.14.0 in /usr/local/lib/python3.6/dist-packages (from pyshtools) (1.4.1)\n",
            "Requirement already satisfied: xarray in /usr/local/lib/python3.6/dist-packages (from pyshtools) (0.15.1)\n",
            "Requirement already satisfied: idna<3,>=2.5 in /usr/local/lib/python3.6/dist-packages (from requests->pyshtools) (2.10)\n",
            "Requirement already satisfied: certifi>=2017.4.17 in /usr/local/lib/python3.6/dist-packages (from requests->pyshtools) (2020.6.20)\n",
            "Requirement already satisfied: urllib3!=1.25.0,!=1.25.1,<1.26,>=1.21.1 in /usr/local/lib/python3.6/dist-packages (from requests->pyshtools) (1.24.3)\n",
            "Requirement already satisfied: chardet<4,>=3.0.2 in /usr/local/lib/python3.6/dist-packages (from requests->pyshtools) (3.0.4)\n",
            "Requirement already satisfied: python-dateutil>=2.1 in /usr/local/lib/python3.6/dist-packages (from matplotlib->pyshtools) (2.8.1)\n",
            "Requirement already satisfied: pyparsing!=2.0.4,!=2.1.2,!=2.1.6,>=2.0.1 in /usr/local/lib/python3.6/dist-packages (from matplotlib->pyshtools) (2.4.7)\n",
            "Requirement already satisfied: kiwisolver>=1.0.1 in /usr/local/lib/python3.6/dist-packages (from matplotlib->pyshtools) (1.2.0)\n",
            "Requirement already satisfied: cycler>=0.10 in /usr/local/lib/python3.6/dist-packages (from matplotlib->pyshtools) (0.10.0)\n",
            "Requirement already satisfied: setuptools>=41.2 in /usr/local/lib/python3.6/dist-packages (from xarray->pyshtools) (49.6.0)\n",
            "Requirement already satisfied: pandas>=0.25 in /usr/local/lib/python3.6/dist-packages (from xarray->pyshtools) (1.0.5)\n",
            "Requirement already satisfied: six>=1.5 in /usr/local/lib/python3.6/dist-packages (from python-dateutil>=2.1->matplotlib->pyshtools) (1.15.0)\n",
            "Requirement already satisfied: pytz>=2017.2 in /usr/local/lib/python3.6/dist-packages (from pandas>=0.25->xarray->pyshtools) (2018.9)\n",
            "Installing collected packages: pyshtools\n",
            "Successfully installed pyshtools-4.6.2\n"
          ],
          "name": "stdout"
        }
      ]
    },
    {
      "cell_type": "markdown",
      "metadata": {
        "id": "2mRDXConzE0x",
        "colab_type": "text"
      },
      "source": [
        "## Convert index between SH coefficient array and vector\n",
        "\n",
        "When solving boundary value problems, the SH coefficient array is flattened into vector. The vectors become matrix so that the linear combination is performed by matrix-vector multiplication."
      ]
    },
    {
      "cell_type": "code",
      "metadata": {
        "id": "6OT0lKoyzE00",
        "colab_type": "code",
        "colab": {}
      },
      "source": [
        "import sys, os\n",
        "sys.path.append('..')\n",
        "modedir = '../shelastic/default_modes'\n",
        "import pyshtools\n",
        "import numpy as np\n",
        "import scipy.sparse as spm\n",
        "from shelastic.shutil import lm2L, L2lm, LM_list, ILM_list, l_coeffs, SHCilmToVector, SHVectorToCilm"
      ],
      "execution_count": 2,
      "outputs": []
    },
    {
      "cell_type": "code",
      "metadata": {
        "id": "n6KE1uoqzE1E",
        "colab_type": "code",
        "colab": {
          "base_uri": "https://localhost:8080/",
          "height": 204
        },
        "outputId": "3cd92920-a499-4df7-ffa0-8c4783a278c6"
      },
      "source": [
        "lmax = 3\n",
        "# generate a coefficent structure with l degrees\n",
        "print('l_coeffs(%d):'%lmax)\n",
        "print(l_coeffs(lmax))"
      ],
      "execution_count": 3,
      "outputs": [
        {
          "output_type": "stream",
          "text": [
            "l_coeffs(3):\n",
            "[[[0 0 0 0]\n",
            "  [1 1 1 1]\n",
            "  [2 2 2 2]\n",
            "  [3 3 3 3]]\n",
            "\n",
            " [[0 0 0 0]\n",
            "  [1 1 1 1]\n",
            "  [2 2 2 2]\n",
            "  [3 3 3 3]]]\n"
          ],
          "name": "stdout"
        }
      ]
    },
    {
      "cell_type": "code",
      "metadata": {
        "id": "nAifik9MzE1Z",
        "colab_type": "code",
        "colab": {
          "base_uri": "https://localhost:8080/",
          "height": 54
        },
        "outputId": "37c54c82-eec6-4645-bba0-f35da860d3c8"
      },
      "source": [
        "# generate a 1d list of l,m numbers following the order\n",
        "print('LM_list(%d):'%lmax)\n",
        "print(LM_list(lmax))"
      ],
      "execution_count": 4,
      "outputs": [
        {
          "output_type": "stream",
          "text": [
            "LM_list(3):\n",
            "(array([0, 1, 1, 1, 2, 2, 2, 2, 2, 3, 3, 3, 3, 3, 3, 3]), array([ 0, -1,  0,  1, -2, -1,  0,  1,  2, -3, -2, -1,  0,  1,  2,  3]))\n"
          ],
          "name": "stdout"
        }
      ]
    },
    {
      "cell_type": "code",
      "metadata": {
        "id": "xPrR2_-HzE1o",
        "colab_type": "code",
        "colab": {
          "base_uri": "https://localhost:8080/",
          "height": 74
        },
        "outputId": "5a8fb9aa-f1cd-4a3b-c58b-f34141e589fb"
      },
      "source": [
        "# generate a 1d list of i,l,m index following the order\n",
        "print('ILM_list(%d):'%lmax)\n",
        "print(ILM_list(lmax))"
      ],
      "execution_count": 5,
      "outputs": [
        {
          "output_type": "stream",
          "text": [
            "ILM_list(3):\n",
            "(array([0, 1, 0, 0, 1, 1, 0, 0, 0, 1, 1, 1, 0, 0, 0, 0]), array([0, 1, 1, 1, 2, 2, 2, 2, 2, 3, 3, 3, 3, 3, 3, 3]), array([0, 1, 0, 1, 2, 1, 0, 1, 2, 3, 2, 1, 0, 1, 2, 3]))\n"
          ],
          "name": "stdout"
        }
      ]
    },
    {
      "cell_type": "code",
      "metadata": {
        "id": "yJzK4SMDzE1y",
        "colab_type": "code",
        "colab": {
          "base_uri": "https://localhost:8080/",
          "height": 522
        },
        "outputId": "878c97f6-c405-4743-b728-9a58d2e7865d"
      },
      "source": [
        "# convert between a coefficient array to 1d vector\n",
        "A = pyshtools.SHCoeffs.from_random(power=np.arange(lmax+1)).to_array()\n",
        "print('Random SHcoeffs:')\n",
        "print(A)\n",
        "vecA = SHCilmToVector(A, lmax=5)\n",
        "print('Convert to 1d vector representation:')\n",
        "print(vecA)\n",
        "print('Convert back to coefficient array:')\n",
        "newA = SHVectorToCilm(vecA, lmax=lmax)\n",
        "print(newA)"
      ],
      "execution_count": 6,
      "outputs": [
        {
          "output_type": "stream",
          "text": [
            "Random SHcoeffs:\n",
            "[[[ 0.          0.          0.          0.        ]\n",
            "  [-0.9848776  -0.22563071  0.          0.        ]\n",
            "  [-1.01889424  0.49817746 -1.36343739  0.        ]\n",
            "  [-0.3475428   0.34958701  1.96896496 -0.10184776]]\n",
            "\n",
            " [[ 0.          0.          0.          0.        ]\n",
            "  [ 0.          0.67524975  0.          0.        ]\n",
            "  [ 0.          0.22331006  0.47626554  0.        ]\n",
            "  [ 0.         -0.0621439  -0.51673513  0.46573608]]]\n",
            "Convert to 1d vector representation:\n",
            "[ 0.          0.67524975 -0.9848776  -0.22563071  0.47626554  0.22331006\n",
            " -1.01889424  0.49817746 -1.36343739  0.46573608 -0.51673513 -0.0621439\n",
            " -0.3475428   0.34958701  1.96896496 -0.10184776  0.          0.\n",
            "  0.          0.          0.          0.          0.          0.\n",
            "  0.          0.          0.          0.          0.          0.\n",
            "  0.          0.          0.          0.          0.          0.        ]\n",
            "Convert back to coefficient array:\n",
            "[[[ 0.          0.          0.          0.        ]\n",
            "  [-0.9848776  -0.22563071  0.          0.        ]\n",
            "  [-1.01889424  0.49817746 -1.36343739  0.        ]\n",
            "  [-0.3475428   0.34958701  1.96896496 -0.10184776]]\n",
            "\n",
            " [[ 0.          0.          0.          0.        ]\n",
            "  [ 0.          0.67524975  0.          0.        ]\n",
            "  [ 0.          0.22331006  0.47626554  0.        ]\n",
            "  [ 0.         -0.0621439  -0.51673513  0.46573608]]]\n"
          ],
          "name": "stdout"
        }
      ]
    },
    {
      "cell_type": "code",
      "metadata": {
        "id": "ZWcHWb8dzE18",
        "colab_type": "code",
        "colab": {
          "base_uri": "https://localhost:8080/",
          "height": 36
        },
        "outputId": "e601ee9b-64f7-45ba-8381-fd486dac2593"
      },
      "source": [
        "test_convert = np.allclose(A, newA)\n",
        "if test_convert:\n",
        "    print('Conversion between Cilm and Vector consistent with each other')\n",
        "else:\n",
        "    print('Conversion between Cilm and Vector NOT consistent')"
      ],
      "execution_count": 7,
      "outputs": [
        {
          "output_type": "stream",
          "text": [
            "Conversion between Cilm and Vector consistent with each other\n"
          ],
          "name": "stdout"
        }
      ]
    },
    {
      "cell_type": "markdown",
      "metadata": {
        "id": "H5d-0C95zE2G",
        "colab_type": "text"
      },
      "source": [
        "## Spherical harmonic fundamental modes\n",
        "\n",
        "Test whether the generated modes are consistent with our generated mode."
      ]
    },
    {
      "cell_type": "code",
      "metadata": {
        "scrolled": true,
        "id": "8t2VbCEBzE2G",
        "colab_type": "code",
        "colab": {
          "base_uri": "https://localhost:8080/",
          "height": 1000
        },
        "outputId": "70536eb0-d17b-4986-b4be-92d9d4670b21"
      },
      "source": [
        "from shelastic.shelastic import generate_modes\n",
        "Umodes, Smodes, Tmodes = generate_modes(5, save_lmax=8, etol=1e-14)"
      ],
      "execution_count": 8,
      "outputs": [
        {
          "output_type": "stream",
          "text": [
            "0 0 0\n",
            "irregular solid harmonic modes...\n",
            "regular solid harmonic modes...\n",
            "0 0 1\n",
            "irregular solid harmonic modes...\n",
            "regular solid harmonic modes...\n",
            "0 0 2\n",
            "irregular solid harmonic modes...\n",
            "regular solid harmonic modes...\n",
            "1 -1 0\n",
            "irregular solid harmonic modes...\n",
            "regular solid harmonic modes...\n",
            "1 -1 1\n",
            "irregular solid harmonic modes...\n",
            "regular solid harmonic modes...\n",
            "1 -1 2\n",
            "irregular solid harmonic modes...\n",
            "regular solid harmonic modes...\n",
            "1 0 0\n",
            "irregular solid harmonic modes...\n",
            "regular solid harmonic modes...\n",
            "1 0 1\n",
            "irregular solid harmonic modes...\n",
            "regular solid harmonic modes...\n",
            "1 0 2\n",
            "irregular solid harmonic modes...\n",
            "regular solid harmonic modes...\n",
            "1 1 0\n",
            "irregular solid harmonic modes...\n",
            "regular solid harmonic modes...\n",
            "1 1 1\n",
            "irregular solid harmonic modes...\n",
            "regular solid harmonic modes...\n",
            "1 1 2\n",
            "irregular solid harmonic modes...\n",
            "regular solid harmonic modes...\n",
            "2 -2 0\n",
            "irregular solid harmonic modes...\n",
            "regular solid harmonic modes...\n",
            "2 -2 1\n",
            "irregular solid harmonic modes...\n",
            "regular solid harmonic modes...\n",
            "2 -2 2\n",
            "irregular solid harmonic modes...\n",
            "regular solid harmonic modes...\n",
            "2 -1 0\n",
            "irregular solid harmonic modes...\n",
            "regular solid harmonic modes...\n",
            "2 -1 1\n",
            "irregular solid harmonic modes...\n",
            "regular solid harmonic modes...\n",
            "2 -1 2\n",
            "irregular solid harmonic modes...\n",
            "regular solid harmonic modes...\n",
            "2 0 0\n",
            "irregular solid harmonic modes...\n",
            "regular solid harmonic modes...\n",
            "2 0 1\n",
            "irregular solid harmonic modes...\n",
            "regular solid harmonic modes...\n",
            "2 0 2\n",
            "irregular solid harmonic modes...\n",
            "regular solid harmonic modes...\n",
            "2 1 0\n",
            "irregular solid harmonic modes...\n",
            "regular solid harmonic modes...\n",
            "2 1 1\n",
            "irregular solid harmonic modes...\n",
            "regular solid harmonic modes...\n",
            "2 1 2\n",
            "irregular solid harmonic modes...\n",
            "regular solid harmonic modes...\n",
            "2 2 0\n",
            "irregular solid harmonic modes...\n",
            "regular solid harmonic modes...\n",
            "2 2 1\n",
            "irregular solid harmonic modes...\n",
            "regular solid harmonic modes...\n",
            "2 2 2\n",
            "irregular solid harmonic modes...\n",
            "regular solid harmonic modes...\n",
            "3 -3 0\n",
            "irregular solid harmonic modes...\n",
            "regular solid harmonic modes...\n",
            "3 -3 1\n",
            "irregular solid harmonic modes...\n",
            "regular solid harmonic modes...\n",
            "3 -3 2\n",
            "irregular solid harmonic modes...\n",
            "regular solid harmonic modes...\n",
            "3 -2 0\n",
            "irregular solid harmonic modes...\n",
            "regular solid harmonic modes...\n",
            "3 -2 1\n",
            "irregular solid harmonic modes...\n",
            "regular solid harmonic modes...\n",
            "3 -2 2\n",
            "irregular solid harmonic modes...\n",
            "regular solid harmonic modes...\n",
            "3 -1 0\n",
            "irregular solid harmonic modes...\n",
            "regular solid harmonic modes...\n",
            "3 -1 1\n",
            "irregular solid harmonic modes...\n",
            "regular solid harmonic modes...\n",
            "3 -1 2\n",
            "irregular solid harmonic modes...\n",
            "regular solid harmonic modes...\n",
            "3 0 0\n",
            "irregular solid harmonic modes...\n",
            "regular solid harmonic modes...\n",
            "3 0 1\n",
            "irregular solid harmonic modes...\n",
            "regular solid harmonic modes...\n",
            "3 0 2\n",
            "irregular solid harmonic modes...\n",
            "regular solid harmonic modes...\n",
            "3 1 0\n",
            "irregular solid harmonic modes...\n",
            "regular solid harmonic modes...\n",
            "3 1 1\n",
            "irregular solid harmonic modes...\n",
            "regular solid harmonic modes...\n",
            "3 1 2\n",
            "irregular solid harmonic modes...\n",
            "regular solid harmonic modes...\n",
            "3 2 0\n",
            "irregular solid harmonic modes...\n",
            "regular solid harmonic modes...\n",
            "3 2 1\n",
            "irregular solid harmonic modes...\n",
            "regular solid harmonic modes...\n",
            "3 2 2\n",
            "irregular solid harmonic modes...\n",
            "regular solid harmonic modes...\n",
            "3 3 0\n",
            "irregular solid harmonic modes...\n",
            "regular solid harmonic modes...\n",
            "3 3 1\n",
            "irregular solid harmonic modes...\n",
            "regular solid harmonic modes...\n",
            "3 3 2\n",
            "irregular solid harmonic modes...\n",
            "regular solid harmonic modes...\n",
            "4 -4 0\n",
            "irregular solid harmonic modes...\n",
            "regular solid harmonic modes...\n",
            "4 -4 1\n",
            "irregular solid harmonic modes...\n",
            "regular solid harmonic modes...\n",
            "4 -4 2\n",
            "irregular solid harmonic modes...\n",
            "regular solid harmonic modes...\n",
            "4 -3 0\n",
            "irregular solid harmonic modes...\n",
            "regular solid harmonic modes...\n",
            "4 -3 1\n",
            "irregular solid harmonic modes...\n",
            "regular solid harmonic modes...\n",
            "4 -3 2\n",
            "irregular solid harmonic modes...\n",
            "regular solid harmonic modes...\n",
            "4 -2 0\n",
            "irregular solid harmonic modes...\n",
            "regular solid harmonic modes...\n",
            "4 -2 1\n",
            "irregular solid harmonic modes...\n",
            "regular solid harmonic modes...\n",
            "4 -2 2\n",
            "irregular solid harmonic modes...\n",
            "regular solid harmonic modes...\n",
            "4 -1 0\n",
            "irregular solid harmonic modes...\n",
            "regular solid harmonic modes...\n",
            "4 -1 1\n",
            "irregular solid harmonic modes...\n",
            "regular solid harmonic modes...\n",
            "4 -1 2\n",
            "irregular solid harmonic modes...\n",
            "regular solid harmonic modes...\n",
            "4 0 0\n",
            "irregular solid harmonic modes...\n",
            "regular solid harmonic modes...\n",
            "4 0 1\n",
            "irregular solid harmonic modes...\n",
            "regular solid harmonic modes...\n",
            "4 0 2\n",
            "irregular solid harmonic modes...\n",
            "regular solid harmonic modes...\n",
            "4 1 0\n",
            "irregular solid harmonic modes...\n",
            "regular solid harmonic modes...\n",
            "4 1 1\n",
            "irregular solid harmonic modes...\n",
            "regular solid harmonic modes...\n",
            "4 1 2\n",
            "irregular solid harmonic modes...\n",
            "regular solid harmonic modes...\n",
            "4 2 0\n",
            "irregular solid harmonic modes...\n",
            "regular solid harmonic modes...\n",
            "4 2 1\n",
            "irregular solid harmonic modes...\n",
            "regular solid harmonic modes...\n",
            "4 2 2\n",
            "irregular solid harmonic modes...\n",
            "regular solid harmonic modes...\n",
            "4 3 0\n",
            "irregular solid harmonic modes...\n",
            "regular solid harmonic modes...\n",
            "4 3 1\n",
            "irregular solid harmonic modes...\n",
            "regular solid harmonic modes...\n",
            "4 3 2\n",
            "irregular solid harmonic modes...\n",
            "regular solid harmonic modes...\n",
            "4 4 0\n",
            "irregular solid harmonic modes...\n",
            "regular solid harmonic modes...\n",
            "4 4 1\n",
            "irregular solid harmonic modes...\n",
            "regular solid harmonic modes...\n",
            "4 4 2\n",
            "irregular solid harmonic modes...\n",
            "regular solid harmonic modes...\n",
            "5 -5 0\n",
            "irregular solid harmonic modes...\n",
            "regular solid harmonic modes...\n",
            "5 -5 1\n",
            "irregular solid harmonic modes...\n",
            "regular solid harmonic modes...\n",
            "5 -5 2\n",
            "irregular solid harmonic modes...\n",
            "regular solid harmonic modes...\n",
            "5 -4 0\n",
            "irregular solid harmonic modes...\n",
            "regular solid harmonic modes...\n",
            "5 -4 1\n",
            "irregular solid harmonic modes...\n",
            "regular solid harmonic modes...\n",
            "5 -4 2\n",
            "irregular solid harmonic modes...\n",
            "regular solid harmonic modes...\n",
            "5 -3 0\n",
            "irregular solid harmonic modes...\n",
            "regular solid harmonic modes...\n",
            "5 -3 1\n",
            "irregular solid harmonic modes...\n",
            "regular solid harmonic modes...\n",
            "5 -3 2\n",
            "irregular solid harmonic modes...\n",
            "regular solid harmonic modes...\n",
            "5 -2 0\n",
            "irregular solid harmonic modes...\n",
            "regular solid harmonic modes...\n",
            "5 -2 1\n",
            "irregular solid harmonic modes...\n",
            "regular solid harmonic modes...\n",
            "5 -2 2\n",
            "irregular solid harmonic modes...\n",
            "regular solid harmonic modes...\n",
            "5 -1 0\n",
            "irregular solid harmonic modes...\n",
            "regular solid harmonic modes...\n",
            "5 -1 1\n",
            "irregular solid harmonic modes...\n",
            "regular solid harmonic modes...\n",
            "5 -1 2\n",
            "irregular solid harmonic modes...\n",
            "regular solid harmonic modes...\n",
            "5 0 0\n",
            "irregular solid harmonic modes...\n",
            "regular solid harmonic modes...\n",
            "5 0 1\n",
            "irregular solid harmonic modes...\n",
            "regular solid harmonic modes...\n",
            "5 0 2\n",
            "irregular solid harmonic modes...\n",
            "regular solid harmonic modes...\n",
            "5 1 0\n",
            "irregular solid harmonic modes...\n",
            "regular solid harmonic modes...\n",
            "5 1 1\n",
            "irregular solid harmonic modes...\n",
            "regular solid harmonic modes...\n",
            "5 1 2\n",
            "irregular solid harmonic modes...\n",
            "regular solid harmonic modes...\n",
            "5 2 0\n",
            "irregular solid harmonic modes...\n",
            "regular solid harmonic modes...\n",
            "5 2 1\n",
            "irregular solid harmonic modes...\n",
            "regular solid harmonic modes...\n",
            "5 2 2\n",
            "irregular solid harmonic modes...\n",
            "regular solid harmonic modes...\n",
            "5 3 0\n",
            "irregular solid harmonic modes...\n",
            "regular solid harmonic modes...\n",
            "5 3 1\n",
            "irregular solid harmonic modes...\n",
            "regular solid harmonic modes...\n",
            "5 3 2\n",
            "irregular solid harmonic modes...\n",
            "regular solid harmonic modes...\n",
            "5 4 0\n",
            "irregular solid harmonic modes...\n",
            "regular solid harmonic modes...\n",
            "5 4 1\n",
            "irregular solid harmonic modes...\n",
            "regular solid harmonic modes...\n",
            "5 4 2\n",
            "irregular solid harmonic modes...\n",
            "regular solid harmonic modes...\n",
            "5 5 0\n",
            "irregular solid harmonic modes...\n",
            "regular solid harmonic modes...\n",
            "5 5 1\n",
            "irregular solid harmonic modes...\n",
            "regular solid harmonic modes...\n",
            "5 5 2\n",
            "irregular solid harmonic modes...\n",
            "regular solid harmonic modes...\n"
          ],
          "name": "stdout"
        }
      ]
    },
    {
      "cell_type": "code",
      "metadata": {
        "scrolled": true,
        "id": "ylAV_RaMzE2N",
        "colab_type": "code",
        "colab": {}
      },
      "source": [
        "from scipy.io import loadmat, savemat\n",
        "\n",
        "Umodes_def = loadmat(os.path.join(modedir, 'Umodes.mat'))\n",
        "Smodes_def = loadmat(os.path.join(modedir, 'Smodes.mat'))\n",
        "Tmodes_def = loadmat(os.path.join(modedir, 'Tmodes.mat'))"
      ],
      "execution_count": 9,
      "outputs": []
    },
    {
      "cell_type": "code",
      "metadata": {
        "id": "PyGika8IzE2T",
        "colab_type": "code",
        "colab": {
          "base_uri": "https://localhost:8080/",
          "height": 111
        },
        "outputId": "7680574e-376b-4916-fbee-6bb41068910c"
      },
      "source": [
        "from shelastic.shbv import generate_submat\n",
        "from scipy.sparse.linalg import norm\n",
        "\n",
        "lmax_row = 8; lmax_col = 5; shtype = 'reg';\n",
        "mu = 2.65; nu = 0.347;\n",
        "\n",
        "Dmat_def = generate_submat(Umodes_def, mu, nu, lmax_col, lmax_row, shtype=shtype, verbose=True)\n",
        "Dmat = generate_submat(Umodes, mu, nu, lmax_col, lmax_row, shtype=shtype, verbose=True)\n",
        "\n",
        "diffDmat = Dmat - Dmat_def\n",
        "test_generate_modes = norm(diffDmat) < 1e-12\n",
        "if test_generate_modes:\n",
        "    print('generate_modes test passed')\n",
        "else:\n",
        "    print('generate_modes test failed')"
      ],
      "execution_count": 10,
      "outputs": [
        {
          "output_type": "stream",
          "text": [
            "Integrating modes to a matrix\n",
            "243 108\n",
            "Integrating modes to a matrix\n",
            "243 108\n",
            "generate_modes test passed\n"
          ],
          "name": "stdout"
        }
      ]
    },
    {
      "cell_type": "markdown",
      "metadata": {
        "id": "Qhswva0DzE2b",
        "colab_type": "text"
      },
      "source": [
        "## Test results"
      ]
    },
    {
      "cell_type": "code",
      "metadata": {
        "id": "dg7r7OvGzE2c",
        "colab_type": "code",
        "colab": {
          "base_uri": "https://localhost:8080/",
          "height": 36
        },
        "outputId": "b58f3fb8-be41-4cfb-ea0a-bc5174f046bb"
      },
      "source": [
        "if test_convert and test_generate_modes:\n",
        "    print('passed all tests')"
      ],
      "execution_count": 11,
      "outputs": [
        {
          "output_type": "stream",
          "text": [
            "passed all tests\n"
          ],
          "name": "stdout"
        }
      ]
    }
  ]
}