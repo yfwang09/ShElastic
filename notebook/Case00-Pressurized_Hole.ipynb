{
 "cells": [
  {
   "cell_type": "code",
   "execution_count": 1,
   "metadata": {
    "collapsed": true
   },
   "outputs": [],
   "source": [
    "import numpy as np\n",
    "import matplotlib.pyplot as plt\n",
    "import pyshtools\n",
    "import sys\n",
    "sys.path.append('../module/')\n",
    "from SHUtil import SphCoord_to_CartCoord, CartCoord_to_SphCoord\n",
    "from SHUtil import SHCilmToVector, lmk2K, K2lmk"
   ]
  },
  {
   "cell_type": "code",
   "execution_count": 2,
   "metadata": {
    "collapsed": true
   },
   "outputs": [],
   "source": [
    "p = 1\n",
    "a = 1\n",
    "mu = 1\n",
    "nu = 1./3\n",
    "\n",
    "#### traction mode matrix info ####\n",
    "lJmax = 5 # max l degree for saving a single mode\n",
    "lKmax = 3 # max cutoff l degree for modes\n",
    "LJ = (lJmax+1)**2\n",
    "LK = (lKmax+1)**2\n",
    "\n",
    "#### create meshgrid for evaluation ####\n",
    "## DH2 mesh\n",
    "#Ngrid = 100\n",
    "#theta = (np.arange(0,Ngrid)+0.0)/Ngrid*(np.pi)\n",
    "#phi = (np.arange(0,2*Ngrid)+0.0)/(2*Ngrid)*(2*np.pi)\n",
    "## GLQ mesh\n",
    "latglq, longlq = pyshtools.expand.GLQGridCoord(lJmax)\n",
    "theta = np.deg2rad(90 - latglq)\n",
    "phi = np.deg2rad(longlq)\n",
    "\n",
    "THETA,PHI = np.meshgrid(theta, phi)\n",
    "R = np.ones_like(THETA)\n",
    "X, Y, Z = SphCoord_to_CartCoord(R, THETA, PHI)\n",
    "N = -np.stack((X/R, Y/R, Z/R), axis=-1)"
   ]
  },
  {
   "cell_type": "code",
   "execution_count": 3,
   "metadata": {
    "collapsed": true
   },
   "outputs": [],
   "source": [
    "#### generate boundary condition ####\n",
    "S_inf = np.zeros(X.shape+(3, 3))\n",
    "S_inf[...,0,0] = p\n",
    "S_inf[...,1,1] = p\n",
    "S_inf[...,2,2] = p\n",
    "\n",
    "#T_inf = np.sum(S_inf*N[...,np.newaxis,:],axis=-1)\n",
    "T_inf = np.einsum('ijkl,ijl->ijk', S_inf, N)\n",
    "T_usr_mesh = T_inf.astype(np.complex)\n",
    "T_usr_vec = np.empty(3*LJ, dtype=np.complex)\n",
    "for k in range(3):\n",
    "    T_usr_grid = pyshtools.SHGrid.from_array(T_usr_mesh[...,k].T, grid='GLQ')\n",
    "    #T_usr_grid.plot()#3d(elevation=20, azimuth=45)\n",
    "    T_usr_cilm = T_usr_grid.expand()\n",
    "    T_usr_vec[LJ*k:LJ*(k+1)] = SHCilmToVector(T_usr_cilm.to_array(), lmax = lJmax)"
   ]
  },
  {
   "cell_type": "code",
   "execution_count": 4,
   "metadata": {},
   "outputs": [
    {
     "name": "stdout",
     "output_type": "stream",
     "text": [
      "0.0682990550994873\n"
     ]
    }
   ],
   "source": [
    "#### load the full and sub matrix ####\n",
    "import scipy.sparse as spm\n",
    "from scipy.io import loadmat, savemat\n",
    "from ShElastic import calSmode\n",
    "from SHBV import generate_submat, visualize_Cmat\n",
    "import time\n",
    "ticT = time.time()\n",
    "shtype = 'irr'\n",
    "Tmodes = loadmat('Tmodes.mat')\n",
    "Tmodes = (Tmodes['T1'+shtype], Tmodes['T2'+shtype], Tmodes['T3'+shtype], Tmodes['T0'+shtype])\n",
    "fullCmat = calSmode(Tmodes, mu, nu)\n",
    "Cmat = generate_submat(mu, nu, fullCmat, lKmax, lJmax)\n",
    "tocT = time.time()\n",
    "print(tocT-ticT)"
   ]
  },
  {
   "cell_type": "raw",
   "metadata": {
    "scrolled": true
   },
   "source": [
    "#Cmat_test = loadmat('Cmat_lmax7_mode4_mu1.000000_nu0.333333.mat')['Cmat']\n",
    "#print('Rank of the submatrix', np.linalg.matrix_rank(Csub.todense()))\n",
    "#plt.figure(figsize=(12,12))\n",
    "#visualize_Cmat(Cmat, precision=1e-8, m_max=3)\n",
    "#plt.show()"
   ]
  },
  {
   "cell_type": "code",
   "execution_count": 5,
   "metadata": {},
   "outputs": [
    {
     "name": "stdout",
     "output_type": "stream",
     "text": [
      "Residual: 3.39716002458189e-15 Time: 0.008695602416992188\n",
      "Solution: 48\n"
     ]
    }
   ],
   "source": [
    "from SHBV import print_SH_mode\n",
    "\n",
    "ticA = time.time()\n",
    "A = spm.linalg.lsqr(Cmat, T_usr_vec.transpose())\n",
    "tocA = time.time()\n",
    "print('Residual:', A[3], 'Time:', tocA-ticA)\n",
    "A_sol = np.zeros_like(A[0])\n",
    "A_sol[np.abs(A[0]) > 1e-8] = A[0][np.abs(A[0]) > 1e-8]\n",
    "print('Solution:', A_sol.size)\n",
    "#index_sol = print_SH_mode(A_sol, m_dir=3)"
   ]
  },
  {
   "cell_type": "code",
   "execution_count": 6,
   "metadata": {
    "scrolled": true
   },
   "outputs": [
    {
     "name": "stdout",
     "output_type": "stream",
     "text": [
      "(1, 50, 1, 3, 3) 0.013112783432006836\n"
     ]
    }
   ],
   "source": [
    "from SHBV import fast_stress_solution\n",
    "\n",
    "x_grid = np.linspace(1.01, 4.5)\n",
    "Y, X, Z = np.meshgrid(x_grid, [0, ], [0, ])\n",
    "\n",
    "R,THETA,PHI = CartCoord_to_SphCoord(X, Y, Z)\n",
    "\n",
    "Smodes = loadmat('Smodes.mat')\n",
    "Smodes = (Smodes['S1'+shtype], Smodes['S2'+shtype], Smodes['S3'+shtype], Smodes['S0'+shtype])\n",
    "fullSmodes = calSmode(Smodes, mu, nu)\n",
    "Smodes = generate_submat(mu, nu, fullSmodes, lKmax, lJmax, kJ=9)\n",
    "\n",
    "tic = time.time()\n",
    "sigma_tot = fast_stress_solution(A_sol, X, Y, Z, Smodes, lKmax, lJmax)\n",
    "toc = time.time()\n",
    "print(sigma_tot.shape, toc-tic)"
   ]
  },
  {
   "cell_type": "code",
   "execution_count": 7,
   "metadata": {},
   "outputs": [
    {
     "name": "stdout",
     "output_type": "stream",
     "text": [
      "(30, 2) (19, 2)\n"
     ]
    },
    {
     "data": {
      "image/png": "[encoded data removed]",
      "text/plain": [
       "<matplotlib.figure.Figure at 0x7fcdb48ae908>"
      ]
     },
     "metadata": {},
     "output_type": "display_data"
    }
   ],
   "source": [
    "# FEM result\n",
    "FEM_1 = loadmat('../testdata/uniform_pressure_case_1.mat')['M'][2::4,:]\n",
    "FEM_2 = loadmat('../testdata/uniform_pressure_case_2.mat')['M']\n",
    "#FEM = loadmat('../testdata/tensile_hole1.mat')['M'][::16, :]\n",
    "\n",
    "print(FEM_1.shape, FEM_2.shape)#, FEM.shape)\n",
    "\n",
    "C = -p * a**3\n",
    "D = 0\n",
    "srr = C/R**3 + D\n",
    "\n",
    "plt.plot(x_grid, srr.flatten(), label='Analytical')\n",
    "plt.plot(FEM_1[:, 0],-FEM_1[:, 1], 's', label='FEM1: 7m21s')\n",
    "plt.plot(FEM_2[:, 0],-FEM_2[:, 1], '*',  label='FEM2: 8s')\n",
    "total_time = 1000*(toc-tic+tocA-ticA)\n",
    "plt.plot(x_grid, sigma_tot[...,1,1].flatten(), 'o', label='ShElastic: %.0fms' % total_time)\n",
    "plt.xlim(1, 3)\n",
    "plt.ylim(-1, 0)\n",
    "plt.tick_params(labelsize=14)\n",
    "plt.xlabel(r'$x/r_0$', fontsize=20)\n",
    "plt.ylabel(r'$\\sigma_{rr}$', fontsize=20)\n",
    "plt.legend(fontsize=14)\n",
    "plt.tight_layout()\n",
    "plt.savefig('../figures/case1-result.png', dpi=1000, transparent=True)\n",
    "plt.show()"
   ]
  }
 ],
 "metadata": {
  "kernelspec": {
   "display_name": "Python 3",
   "language": "python",
   "name": "python3"
  },
  "language_info": {
   "codemirror_mode": {
    "name": "ipython",
    "version": 3
   },
   "file_extension": ".py",
   "mimetype": "text/x-python",
   "name": "python",
   "nbconvert_exporter": "python",
   "pygments_lexer": "ipython3",
   "version": "3.5.2"
  }
 },
 "nbformat": 4,
 "nbformat_minor": 2
}
