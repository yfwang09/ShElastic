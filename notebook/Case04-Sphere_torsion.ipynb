{
 "cells": [
  {
   "cell_type": "markdown",
   "metadata": {},
   "source": [
    "# Solving sphere torsion problem\n",
    "\n",
    "In this notebook, we develop the spherical harmonic solution of the tensile-hole problem. The problem can be described in the following figure:\n",
    "\n",
    "Here the traction boundary is given as:\n",
    "\n",
    "$$\n",
    "\\mathbf{T}_{\\varphi} = S_0\\sin(2\\theta);\\quad\\mathbf{T}_{\\theta}=\\mathbf{T}_{R}=0\n",
    "$$"
   ]
  },
  {
   "cell_type": "code",
   "execution_count": 1,
   "metadata": {
    "scrolled": true
   },
   "outputs": [
    {
     "name": "stdout",
     "output_type": "stream",
     "text": [
      "[ -5.96788702e-17 +3.65148372e-01j   6.35780858e-17 +3.65148372e-01j\n",
      "  -3.65148372e-01 -6.45308879e-17j   3.65148372e-01 -6.86386131e-17j]\n",
      "0.08538222312927246\n"
     ]
    }
   ],
   "source": [
    "import numpy as np\n",
    "import matplotlib.pyplot as plt\n",
    "import pyshtools\n",
    "import sys\n",
    "sys.path.append('../module/')\n",
    "from SHUtil import SphCoord_to_CartCoord, CartCoord_to_SphCoord\n",
    "from SHUtil import SHCilmToVector, lmk2K, K2lmk\n",
    "import time\n",
    "\n",
    "S0 = 1\n",
    "a = 1\n",
    "mu = 1\n",
    "nu = 1./3\n",
    "\n",
    "#### traction mode matrix info ####\n",
    "lJmax = 4 # max l degree for saving a single mode\n",
    "lKmax = 4 # max cutoff l degree for modes\n",
    "LJ = (lJmax+1)**2\n",
    "LK = (lKmax+1)**2\n",
    "\n",
    "#### create meshgrid for evaluation ####\n",
    "Ngrid = 100\n",
    "theta = (np.arange(0,Ngrid)+0.0)/Ngrid*(np.pi)\n",
    "phi = (np.arange(0,2*Ngrid)+0.0)/(2*Ngrid)*(2*np.pi)\n",
    "\n",
    "THETA, PHI = np.meshgrid(theta, phi)\n",
    "Z = np.cos(THETA)\n",
    "X = np.sin(THETA)*np.cos(PHI)\n",
    "Y = np.sin(THETA)*np.sin(PHI)\n",
    "R = np.sqrt(X**2+Y**2+Z**2)\n",
    "N = np.stack((X/R, Y/R, Z/R), axis=-1)\n",
    "\n",
    "T_mag = S0*np.sin(2*THETA)\n",
    "T_usr_mesh = np.zeros(THETA.shape+(3,))\n",
    "T_usr_mesh[...,0] = T_mag*np.cos(np.pi/2+PHI)\n",
    "T_usr_mesh[...,1] = T_mag*np.sin(np.pi/2+PHI)\n",
    "\n",
    "T_usr_vec = np.array([])\n",
    "for k in range(3):\n",
    "    T_usr_cilm = pyshtools.expand.SHExpandDHC(T_usr_mesh[...,k].T, sampling=2, lmax_calc=lJmax)\n",
    "    T_usr_vec = np.hstack((T_usr_vec, SHCilmToVector(T_usr_cilm, lmax = lJmax)))\n",
    "\n",
    "print(T_usr_vec[np.nonzero(np.abs(T_usr_vec)>1e-8)])\n",
    "### load the full and sub matrix ####\n",
    "import scipy.sparse as spm\n",
    "from scipy.io import loadmat, savemat\n",
    "from ShElastic import calSmode\n",
    "from SHBV import generate_submat, visualize_Cmat\n",
    "import time\n",
    "ticT = time.time()\n",
    "shtype = 'reg'\n",
    "Tmodes = loadmat('Tmodes.mat')\n",
    "Tmodes = (Tmodes['T1'+shtype], Tmodes['T2'+shtype], Tmodes['T3'+shtype], Tmodes['T0'+shtype])\n",
    "fullCmat = calSmode(Tmodes, mu, nu)\n",
    "Cmat = generate_submat(mu, nu, fullCmat, lKmax, lJmax)\n",
    "tocT = time.time()\n",
    "print(tocT-ticT)"
   ]
  },
  {
   "cell_type": "markdown",
   "metadata": {},
   "source": [
    "Then we solve the linear system:"
   ]
  },
  {
   "cell_type": "code",
   "execution_count": 2,
   "metadata": {
    "scrolled": false
   },
   "outputs": [
    {
     "name": "stdout",
     "output_type": "stream",
     "text": [
      "Residual: 2.3938244126710395e-14 Time: 0.005278825759887695\n",
      "Solution: 75\n",
      "[[  2.54581430e-19 -1.29471976e-19j  -3.23103562e-18 +8.10037424e-17j\n",
      "   -9.05988249e-18 -4.94687077e-32j   7.88203829e-18 +7.10788881e-17j\n",
      "   -4.58127617e-18 -1.67649734e-17j  -2.30564397e-16 +1.33226763e-15j\n",
      "   -1.29392573e-18 +5.79016277e-20j   5.76188410e-16 -3.16413562e-15j\n",
      "   -7.23264624e-18 +1.74267377e-17j   8.39777827e-17 -7.95724476e-17j\n",
      "    4.70938583e-18 +6.57116574e-17j  -3.26672161e-18 +4.65036584e-17j\n",
      "   -7.79477285e-18 -6.93484349e-32j   2.53271777e-18 +1.37371038e-17j\n",
      "    4.70938583e-18 -6.57116574e-17j  -8.12212627e-17 -7.45947992e-17j\n",
      "   -1.21591924e-16 +1.47359747e-17j   1.95403091e-15 +1.40221259e-15j\n",
      "    6.73394603e-19 +3.47101755e-19j  -1.26310779e-16 +1.16449937e-14j\n",
      "   -2.18101974e-18 +1.73324047e-33j   2.90429260e-16 +1.12842539e-14j\n",
      "    6.73394603e-19 -3.47101755e-19j  -2.26422780e-15 +4.89692573e-15j\n",
      "   -1.21591924e-16 -1.47359747e-17j   3.49217801e-19 -9.90905667e-20j\n",
      "   -5.79375719e-17 +1.68292692e-19j  -4.62215511e-17 +9.57311392e-33j\n",
      "    5.40247514e-17 +5.35562975e-18j  -1.69079721e-17 +5.64187192e-18j\n",
      "    1.11022302e-15 -3.11511173e-16j  -2.16227955e-19 +4.43146486e-20j\n",
      "    2.66453526e-15 +3.41128399e-17j  -1.78533953e-17 -8.07614544e-18j\n",
      "   -9.22439643e-17 -7.95714386e-17j  -2.47489571e-18 +8.62148328e-18j\n",
      "   -4.13124695e-17 +1.13130489e-18j  -5.50804083e-17 +1.18226389e-32j\n",
      "    2.68460135e-17 -5.31125123e-19j  -2.47489571e-18 -8.62148328e-18j\n",
      "    9.72216126e-17 -8.23279585e-17j   5.10023607e-17 +1.10873656e-16j\n",
      "    1.52797702e-15 -2.32954236e-15j   1.55335579e-18 +4.09829638e-19j\n",
      "   -9.13264868e-15 +3.30068069e-16j   1.27871797e-19 -2.31293859e-34j\n",
      "    1.09241672e-14 +3.55529535e-16j   1.55335579e-18 -4.09829638e-19j\n",
      "   -4.65640658e-16 -2.21048689e-15j   5.10023607e-17 -1.10873656e-16j\n",
      "    1.40202059e-16 +6.08094194e-17j   4.72391367e-18 +1.31825156e-17j\n",
      "   -1.32278248e-18 +1.50539542e-17j  -4.72391367e-18 +1.31825156e-17j\n",
      "    8.36785930e-17 -9.15933995e-16j   6.55585641e-19 +8.20900283e-20j\n",
      "   -7.30666646e-16 +4.42703388e-16j  -7.27951159e-19 -1.24629338e-20j\n",
      "    4.06650699e-16 -3.04690394e-15j   8.87281720e-19 -1.43423888e-17j\n",
      "   -2.02255285e-19 -4.67105347e-18j   6.08258257e-18 +6.90288224e-17j\n",
      "    1.43592477e-18 +7.63270138e-18j  -6.08258257e-18 +6.90288224e-17j\n",
      "    5.71018686e-19 +2.72643474e-18j  -8.87281720e-19 -1.43423888e-17j\n",
      "   -2.41020454e-15 -1.71282465e-15j   3.53074196e-18 +1.02591590e-17j\n",
      "   -3.54220060e-16 +1.11073632e-15j   8.46725741e-19 -1.12572438e-18j\n",
      "    7.75283008e-16 -1.20520733e-15j  -8.46725741e-19 -1.12572438e-18j\n",
      "   -4.09192932e-16 -2.06916281e-16j  -3.53074196e-18 +1.02591590e-17j\n",
      "   -2.51833046e-15 +3.08878474e-15j]]\n",
      "index: 5 (2, -1, 0) coeff: (7.79975543204e-17-0.273861278753j)\n",
      "index: 7 (2, 1, 0) coeff: (-9.56684886932e-17-0.273861278753j)\n",
      "index: 30 (2, -1, 1) coeff: (0.273861278753-1.03460761519e-16j)\n",
      "index: 32 (2, 1, 1) coeff: (-0.273861278753-7.685625387e-17j)\n"
     ]
    }
   ],
   "source": [
    "from SHBV import print_SH_mode\n",
    "import time\n",
    "tic = time.time()\n",
    "A = spm.linalg.lsqr(Cmat, T_usr_vec.transpose())\n",
    "toc = time.time()\n",
    "print('Residual:', A[3], 'Time:', toc-tic)\n",
    "A_sol = A[0]\n",
    "print('Solution:', A_sol.size)\n",
    "print(T_usr_vec.T-np.dot(Cmat.todense(), A[0]))\n",
    "index_sol = print_SH_mode(A_sol, m_dir=3)"
   ]
  },
  {
   "cell_type": "markdown",
   "metadata": {},
   "source": [
    "And integrate the stress solution:"
   ]
  },
  {
   "cell_type": "code",
   "execution_count": 3,
   "metadata": {},
   "outputs": [
    {
     "name": "stdout",
     "output_type": "stream",
     "text": [
      "(30, 3, 3) 0.03647780418395996\n"
     ]
    }
   ],
   "source": [
    "from SHBV import fast_stress_solution\n",
    "\n",
    "X = np.linspace(0.01, np.sqrt(2)/2, 30)\n",
    "Z = np.linspace(0.01, np.sqrt(2)/2, 30)\n",
    "Y = np.zeros_like(Z)\n",
    "\n",
    "R,THETA,PHI = CartCoord_to_SphCoord(X, Y, Z)\n",
    "\n",
    "Smodes = loadmat('Smodes.mat')\n",
    "Smodes = (Smodes['S1'+shtype], Smodes['S2'+shtype], Smodes['S3'+shtype], Smodes['S0'+shtype])\n",
    "fullSmodes = calSmode(Smodes, mu, nu)\n",
    "Smodes = generate_submat(mu, nu, fullSmodes, lKmax, lJmax, kJ=9)\n",
    "\n",
    "tic = time.time()\n",
    "sigma_tot = fast_stress_solution(A_sol, X, Y, Z, Smodes, lKmax, lJmax, shtype=shtype)\n",
    "toc = time.time()\n",
    "print(sigma_tot.shape, toc-tic)"
   ]
  },
  {
   "cell_type": "markdown",
   "metadata": {},
   "source": [
    "We compare the solution with the analytical solution of the problem:"
   ]
  },
  {
   "cell_type": "code",
   "execution_count": 4,
   "metadata": {},
   "outputs": [
    {
     "name": "stdout",
     "output_type": "stream",
     "text": [
      "(30,) (30,) (30,)\n"
     ]
    }
   ],
   "source": [
    "E3 = 2*S0/3/a\n",
    "R = np.sqrt(X**2+Y**2+Z**2)\n",
    "THETA = np.arccos(Z/R)\n",
    "PHI = np.arctan2(Y, X)\n",
    "\n",
    "srp = 3*E3*R*np.sin(THETA)*np.cos(THETA)\n",
    "stp = -3*E3*R*np.sin(THETA)**2\n",
    "print(X.shape, srp.shape, stp.shape)"
   ]
  },
  {
   "cell_type": "code",
   "execution_count": 5,
   "metadata": {
    "collapsed": true
   },
   "outputs": [],
   "source": [
    "Q = np.zeros(THETA.shape+(3,3))\n",
    "Q[...,0,0] = np.sin(THETA)*np.cos(PHI)\n",
    "Q[...,0,1] = np.sin(THETA)*np.sin(PHI)\n",
    "Q[...,0,2] = np.cos(THETA)\n",
    "Q[...,1,0] = np.cos(THETA)*np.cos(PHI)\n",
    "Q[...,1,1] = np.cos(THETA)*np.sin(PHI)\n",
    "Q[...,1,2] = -np.sin(THETA)\n",
    "Q[...,2,0] = -np.sin(PHI)\n",
    "Q[...,2,1] = np.cos(PHI)\n",
    "Q[...,2,2] = 0\n",
    "sigma_sph = np.zeros_like(sigma_tot)\n",
    "for i in np.ndindex(THETA.shape):\n",
    "    #print(i, sigma_tot[i].shape)\n",
    "    sigma_sph[i] = np.dot(Q[i], np.dot(sigma_tot[i], Q[i].T))"
   ]
  },
  {
   "cell_type": "code",
   "execution_count": 6,
   "metadata": {},
   "outputs": [
    {
     "data": {
      "image/png": "[encoded data removed]",
      "text/plain": [
       "<matplotlib.figure.Figure at 0x7f7b8b1980b8>"
      ]
     },
     "metadata": {},
     "output_type": "display_data"
    }
   ],
   "source": [
    "#plt.plot(X.flatten(), np.sqrt(sigma_tot.real[..., 1, 2].flatten()**2 + sigma_tot.real[..., 0, 2].flatten()**2) , 'x')\n",
    "plt.plot(X.flatten(), sigma_sph.real[...,0, 2], 'x')\n",
    "plt.plot(X.flatten(), srp)\n",
    "plt.legend(['ShElastic Solution', 'Analytical Solution'])\n",
    "plt.xlabel('r(unit $a$)')\n",
    "plt.ylabel(r'$\\sigma_z$(unit $S_0$)')\n",
    "#plt.savefig('tensile_hole_sz.png')\n",
    "plt.show()"
   ]
  },
  {
   "cell_type": "code",
   "execution_count": 7,
   "metadata": {
    "collapsed": true
   },
   "outputs": [],
   "source": [
    "Ngrid = 100\n",
    "theta = (np.arange(0,Ngrid)+0.0)/Ngrid*(np.pi)\n",
    "phi = (np.arange(0,2*Ngrid)+0.0)/(2*Ngrid)*(2*np.pi)\n",
    "\n",
    "THETA, PHI = np.meshgrid(theta, phi)\n",
    "Z = np.cos(THETA)\n",
    "X = np.sin(THETA)*np.cos(PHI)\n",
    "Y = np.sin(THETA)*np.sin(PHI)\n",
    "R = np.sqrt(X**2+Y**2+Z**2)\n",
    "N = np.stack((X/R, Y/R, Z/R), axis=-1)\n",
    "\n",
    "sigma_surf = fast_stress_solution(A_sol, X, Y, Z, Smodes, lKmax, lJmax, shtype=shtype)"
   ]
  },
  {
   "cell_type": "code",
   "execution_count": 8,
   "metadata": {},
   "outputs": [
    {
     "name": "stdout",
     "output_type": "stream",
     "text": [
      "3.38326626323e-12\n"
     ]
    }
   ],
   "source": [
    "print(np.linalg.norm(T_usr_mesh-np.sum(sigma_surf.real*N[...,np.newaxis], axis=-2)))\n",
    "#print(srp)\n",
    "#print(T_mag)\n",
    "#print(stp)\n",
    "#print(np.linalg.norm(sigma_surf.real[...,1,0]))\n",
    "#print(np.sqrt(sigma_surf.real[...,1,2]**2 + sigma_surf.real[...,0,2]**2))#-srp**2-stp**2)\n",
    "#print(np.sqrt(T_usr_mesh[...,1]**2+T_usr_mesh[...,0]**2))\n",
    "#print(T_usr_mesh[...,2].shape)"
   ]
  },
  {
   "cell_type": "code",
   "execution_count": 9,
   "metadata": {},
   "outputs": [
    {
     "data": {
      "image/png": "[encoded data removed]",
      "text/plain": [
       "<matplotlib.figure.Figure at 0x7f7b8b0723c8>"
      ]
     },
     "metadata": {},
     "output_type": "display_data"
    },
    {
     "data": {
      "image/png": "[encoded data removed]",
      "text/plain": [
       "<matplotlib.figure.Figure at 0x7f7b812ac668>"
      ]
     },
     "metadata": {},
     "output_type": "display_data"
    },
    {
     "data": {
      "image/png": "[encoded data removed]",
      "text/plain": [
       "<matplotlib.figure.Figure at 0x7f7b811ccc50>"
      ]
     },
     "metadata": {},
     "output_type": "display_data"
    }
   ],
   "source": [
    "#from SHUtil import CartCoord_to_SphCoord, SphCoord_to_CartCoord, eval_GridC\n",
    "\n",
    "# The order (Y,X,Z) makes sure that axis 0,1,2 corresponds to X,Y,Z\n",
    "xgrid = np.linspace(-0.5, 0.5, 20)\n",
    "Y, X, Z = np.meshgrid(xgrid, xgrid, xgrid)\n",
    "R, THETA, PHI = CartCoord_to_SphCoord(X, Y, Z)\n",
    "LAT = 90 - np.rad2deg(THETA)\n",
    "LON = np.rad2deg(PHI)\n",
    "\n",
    "MU = 1\n",
    "NU = 1./3\n",
    "\n",
    "S_grid = fast_stress_solution(A_sol, X, Y, Z, Smodes, lKmax, lJmax, shtype=shtype)\n",
    "\n",
    "for i in range(3):\n",
    "    f0 = np.gradient(np.real(S_grid[:,:,:,i,0]), X[:,0,0],Y[0,:,0],Z[0,0,:])[0] +\\\n",
    "         np.gradient(np.real(S_grid[:,:,:,i,1]), X[:,0,0],Y[0,:,0],Z[0,0,:])[1] +\\\n",
    "         np.gradient(np.real(S_grid[:,:,:,i,2]), X[:,0,0],Y[0,:,0],Z[0,0,:])[2]\n",
    "\n",
    "    plt.figure()\n",
    "    plt.contourf(X[:,:,0],Y[:,:,0],f0[:,:,0])\n",
    "    plt.colorbar()\n",
    "plt.show()"
   ]
  }
 ],
 "metadata": {
  "kernelspec": {
   "display_name": "Python 3",
   "language": "python",
   "name": "python3"
  },
  "language_info": {
   "codemirror_mode": {
    "name": "ipython",
    "version": 3
   },
   "file_extension": ".py",
   "mimetype": "text/x-python",
   "name": "python",
   "nbconvert_exporter": "python",
   "pygments_lexer": "ipython3",
   "version": "3.5.2"
  }
 },
 "nbformat": 4,
 "nbformat_minor": 2
}
