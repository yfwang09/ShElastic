{
 "cells": [
  {
   "cell_type": "markdown",
   "metadata": {},
   "source": [
    "# Solving sphere torsion problem\n",
    "\n",
    "In this notebook, we develop the spherical harmonic solution of the tensile-hole problem. The problem can be described in the following figure:\n",
    "\n",
    "Here the traction boundary is given as:\n",
    "\n",
    "$$\n",
    "\\mathbf{T}_{\\varphi} = S_0\\sin(2\\theta);\\quad\\mathbf{T}_{\\theta}=\\mathbf{T}_{R}=0\n",
    "$$"
   ]
  },
  {
   "cell_type": "code",
   "execution_count": 1,
   "metadata": {
    "scrolled": true
   },
   "outputs": [
    {
     "name": "stdout",
     "output_type": "stream",
     "text": [
      "[-6.47612561e-17+3.65148372e-01j  7.61794542e-17+3.65148372e-01j\n",
      " -3.65148372e-01-6.13957883e-17j  3.65148372e-01-7.12665574e-17j]\n",
      "0.11807656288146973\n"
     ]
    }
   ],
   "source": [
    "import numpy as np\n",
    "import matplotlib.pyplot as plt\n",
    "import pyshtools\n",
    "import sys\n",
    "sys.path.append('../module/')\n",
    "from SHUtil import SphCoord_to_CartCoord, CartCoord_to_SphCoord\n",
    "from SHUtil import SHCilmToVector, lmk2K, K2lmk\n",
    "import time\n",
    "\n",
    "S0 = 1\n",
    "a = 1\n",
    "mu = 1\n",
    "nu = 1./3\n",
    "\n",
    "#### traction mode matrix info ####\n",
    "lJmax = 4 # max l degree for saving a single mode\n",
    "lKmax = 4 # max cutoff l degree for modes\n",
    "LJ = (lJmax+1)**2\n",
    "LK = (lKmax+1)**2\n",
    "\n",
    "#### create meshgrid for evaluation ####\n",
    "Ngrid = 100\n",
    "theta = (np.arange(0,Ngrid)+0.0)/Ngrid*(np.pi)\n",
    "phi = (np.arange(0,2*Ngrid)+0.0)/(2*Ngrid)*(2*np.pi)\n",
    "\n",
    "THETA, PHI = np.meshgrid(theta, phi)\n",
    "Z = np.cos(THETA)\n",
    "X = np.sin(THETA)*np.cos(PHI)\n",
    "Y = np.sin(THETA)*np.sin(PHI)\n",
    "R = np.sqrt(X**2+Y**2+Z**2)\n",
    "N = np.stack((X/R, Y/R, Z/R), axis=-1)\n",
    "\n",
    "T_mag = S0*np.sin(2*THETA)\n",
    "T_usr_mesh = np.zeros(THETA.shape+(3,))\n",
    "T_usr_mesh[...,0] = T_mag*np.cos(np.pi/2+PHI)\n",
    "T_usr_mesh[...,1] = T_mag*np.sin(np.pi/2+PHI)\n",
    "\n",
    "T_usr_vec = np.array([])\n",
    "for k in range(3):\n",
    "    T_usr_cilm = pyshtools.expand.SHExpandDHC(T_usr_mesh[...,k].T, sampling=2, lmax_calc=lJmax)\n",
    "    T_usr_vec = np.hstack((T_usr_vec, SHCilmToVector(T_usr_cilm, lmax = lJmax)))\n",
    "\n",
    "print(T_usr_vec[np.nonzero(np.abs(T_usr_vec)>1e-8)])\n",
    "### load the full and sub matrix ####\n",
    "import scipy.sparse as spm\n",
    "from scipy.io import loadmat, savemat\n",
    "from ShElastic import calSmode\n",
    "from SHBV import generate_submat, visualize_Cmat\n",
    "import time\n",
    "ticT = time.time()\n",
    "shtype = 'reg'\n",
    "Tmodes = loadmat('Tmodes.mat')\n",
    "Tmodes = (Tmodes['T1'+shtype], Tmodes['T2'+shtype], Tmodes['T3'+shtype], Tmodes['T0'+shtype])\n",
    "fullCmat = calSmode(Tmodes, mu, nu)\n",
    "Cmat = generate_submat(mu, nu, fullCmat, lKmax, lJmax)\n",
    "tocT = time.time()\n",
    "print(tocT-ticT)"
   ]
  },
  {
   "cell_type": "markdown",
   "metadata": {},
   "source": [
    "Then we solve the linear system:"
   ]
  },
  {
   "cell_type": "code",
   "execution_count": 2,
   "metadata": {
    "scrolled": true
   },
   "outputs": [
    {
     "name": "stdout",
     "output_type": "stream",
     "text": [
      "Residual: 9.221800672163129e-15 Time: 0.001861572265625\n",
      "Solution: 75\n",
      "[[-6.90512406e-20+8.24835703e-50j  8.88443853e-19+4.84016828e-17j\n",
      "  -9.05988249e-18+6.33808989e-34j  7.11356259e-19+7.76635148e-17j\n",
      "  -8.74602343e-19-3.11013681e-18j  6.28478586e-16-1.66533454e-15j\n",
      "  -1.14919280e-18+2.31115587e-34j -6.50150006e-16-1.60982339e-15j\n",
      "  -8.74602343e-19+3.11013681e-18j  1.68293586e-19+2.61806819e-18j\n",
      "   4.70938583e-18+6.57116574e-17j -2.52528884e-18+6.47230078e-18j\n",
      "  -7.79477285e-18+8.03026794e-34j  1.69081677e-18+1.34891281e-17j\n",
      "   4.70938583e-18-6.57116574e-17j -1.74044086e-18+6.25930258e-18j\n",
      "  -2.56896134e-18+4.86446919e-18j  1.75752840e-15+2.60855370e-15j\n",
      "  -4.65395799e-19-3.37885761e-18j  6.15932553e-16+9.84730938e-16j\n",
      "  -2.18101974e-18+4.64204890e-35j -6.13582740e-16+9.88075005e-16j\n",
      "  -4.65395799e-19+3.37885761e-18j -1.74832495e-15+2.56509476e-15j\n",
      "  -2.56896134e-18-4.86446919e-18j  4.89692581e-20+8.56643248e-49j\n",
      "  -5.69071986e-17-3.16201070e-18j -4.62215511e-17-4.37227997e-34j\n",
      "   9.66571473e-17-1.56584412e-18j -3.06605918e-18+1.47212799e-18j\n",
      "  -1.66533454e-15-1.32811740e-16j -8.19527250e-20-4.79220761e-34j\n",
      "   1.49880108e-15-1.54483161e-16j -3.06605918e-18-1.47212799e-18j\n",
      "  -6.73652526e-18-4.07658888e-18j -2.47489571e-18+8.62148328e-18j\n",
      "   2.40827851e-17-6.85319779e-19j -5.50804083e-17+7.05519511e-34j\n",
      "   6.03854837e-17-7.67489858e-19j -2.47489571e-18-8.62148328e-18j\n",
      "   1.03777596e-17-2.50444160e-18j  1.69900764e-18+3.90251901e-18j\n",
      "   1.71134248e-15-2.41488545e-15j -2.17260358e-18+1.54862004e-18j\n",
      "  -1.69368741e-15-5.28906379e-17j  1.27871797e-19+1.16854732e-34j\n",
      "   1.38111853e-15-5.32572883e-17j -2.17260358e-18-1.54862004e-18j\n",
      "  -1.75480142e-15-2.42408891e-15j  1.69900764e-18-3.90251901e-18j\n",
      "   2.05938481e-17-7.42558767e-32j  4.72391367e-18+1.31825156e-17j\n",
      "  -1.56916052e-18-2.56872800e-17j -4.72391367e-18+1.31825156e-17j\n",
      "  -3.33345638e-16+1.27675648e-15j  8.09942343e-19+1.44448814e-19j\n",
      "   3.37021765e-16+3.50383504e-17j -8.09942343e-19+1.44448814e-19j\n",
      "  -3.55017058e-16-1.20299731e-15j  8.87281720e-19-1.43423888e-17j\n",
      "   2.01968672e-18-1.52310650e-17j  6.08258257e-18+6.90288224e-17j\n",
      "   7.01719879e-19+8.84524237e-18j -6.08258257e-18+6.90288224e-17j\n",
      "   1.14899442e-19-8.95234008e-18j -8.87281720e-19-1.43423888e-17j\n",
      "  -2.34519185e-15-2.49489326e-15j  6.90099611e-19+9.64983370e-19j\n",
      "  -2.93961644e-16-9.83834264e-16j  8.46725741e-19-1.12572438e-18j\n",
      "   6.15974582e-17+1.10720836e-16j -8.46725741e-19-1.12572438e-18j\n",
      "  -2.77800975e-16+1.13533283e-15j -6.90099611e-19+9.64983370e-19j\n",
      "  -2.34519185e-15+2.49489326e-15j]]\n",
      "index: 5 (2, -1, 0) coeff: (8.26594906338909e-17-0.2738612787525834j)\n",
      "index: 7 (2, 1, 0) coeff: (-9.064285335618945e-17-0.2738612787525835j)\n",
      "index: 30 (2, -1, 1) coeff: (0.27386127875258315-1.294698133287114e-18j)\n",
      "index: 32 (2, 1, 1) coeff: (-0.27386127875258315+6.688664589011412e-18j)\n"
     ]
    }
   ],
   "source": [
    "from SHBV import print_SH_mode\n",
    "from scipy.sparse.linalg import lsqr\n",
    "import time\n",
    "\n",
    "tic = time.time()\n",
    "A = lsqr(Cmat, T_usr_vec.transpose())\n",
    "toc = time.time()\n",
    "print('Residual:', A[3], 'Time:', toc-tic)\n",
    "A_sol = A[0]\n",
    "print('Solution:', A_sol.size)\n",
    "print(T_usr_vec.T-np.dot(Cmat.todense(), A[0]))\n",
    "index_sol = print_SH_mode(A_sol, m_dir=3)"
   ]
  },
  {
   "cell_type": "markdown",
   "metadata": {},
   "source": [
    "And integrate the stress solution:"
   ]
  },
  {
   "cell_type": "code",
   "execution_count": 3,
   "metadata": {},
   "outputs": [
    {
     "name": "stdout",
     "output_type": "stream",
     "text": [
      "(30, 3, 3) 0.07988238334655762\n"
     ]
    }
   ],
   "source": [
    "from SHBV import fast_stress_solution\n",
    "\n",
    "X = np.linspace(0.01, np.sqrt(2)/2, 30)\n",
    "Z = np.linspace(0.01, np.sqrt(2)/2, 30)\n",
    "Y = np.zeros_like(Z)\n",
    "\n",
    "R,THETA,PHI = CartCoord_to_SphCoord(X, Y, Z)\n",
    "\n",
    "Smodes = loadmat('Smodes.mat')\n",
    "Smodes = (Smodes['S1'+shtype], Smodes['S2'+shtype], Smodes['S3'+shtype], Smodes['S0'+shtype])\n",
    "fullSmodes = calSmode(Smodes, mu, nu)\n",
    "Smodes = generate_submat(mu, nu, fullSmodes, lKmax, lJmax, kJ=9)\n",
    "\n",
    "tic = time.time()\n",
    "sigma_tot = fast_stress_solution(A_sol, X, Y, Z, Smodes, lKmax, lJmax, shtype=shtype)\n",
    "toc = time.time()\n",
    "print(sigma_tot.shape, toc-tic)"
   ]
  },
  {
   "cell_type": "markdown",
   "metadata": {},
   "source": [
    "We compare the solution with the analytical solution of the problem:"
   ]
  },
  {
   "cell_type": "code",
   "execution_count": 4,
   "metadata": {},
   "outputs": [
    {
     "name": "stdout",
     "output_type": "stream",
     "text": [
      "(30,) (30,) (30,)\n"
     ]
    }
   ],
   "source": [
    "E3 = 2*S0/3/a\n",
    "R = np.sqrt(X**2+Y**2+Z**2)\n",
    "THETA = np.arccos(Z/R)\n",
    "PHI = np.arctan2(Y, X)\n",
    "\n",
    "srp = 3*E3*R*np.sin(THETA)*np.cos(THETA)\n",
    "stp = -3*E3*R*np.sin(THETA)**2\n",
    "print(X.shape, srp.shape, stp.shape)"
   ]
  },
  {
   "cell_type": "code",
   "execution_count": 5,
   "metadata": {},
   "outputs": [],
   "source": [
    "Q = np.zeros(THETA.shape+(3,3))\n",
    "Q[...,0,0] = np.sin(THETA)*np.cos(PHI)\n",
    "Q[...,0,1] = np.sin(THETA)*np.sin(PHI)\n",
    "Q[...,0,2] = np.cos(THETA)\n",
    "Q[...,1,0] = np.cos(THETA)*np.cos(PHI)\n",
    "Q[...,1,1] = np.cos(THETA)*np.sin(PHI)\n",
    "Q[...,1,2] = -np.sin(THETA)\n",
    "Q[...,2,0] = -np.sin(PHI)\n",
    "Q[...,2,1] = np.cos(PHI)\n",
    "Q[...,2,2] = 0\n",
    "sigma_sph = np.zeros_like(sigma_tot)\n",
    "for i in np.ndindex(THETA.shape):\n",
    "    #print(i, sigma_tot[i].shape)\n",
    "    sigma_sph[i] = np.dot(Q[i], np.dot(sigma_tot[i], Q[i].T))"
   ]
  },
  {
   "cell_type": "code",
   "execution_count": 6,
   "metadata": {},
   "outputs": [
    {
     "data": {
      "image/png": "[encoded data removed]",
      "text/plain": [
       "<Figure size 432x288 with 1 Axes>"
      ]
     },
     "metadata": {},
     "output_type": "display_data"
    }
   ],
   "source": [
    "#plt.plot(X.flatten(), np.sqrt(sigma_tot.real[..., 1, 2].flatten()**2 + sigma_tot.real[..., 0, 2].flatten()**2) , 'x')\n",
    "plt.plot(X.flatten(), sigma_sph.real[...,0, 2], 'x')\n",
    "plt.plot(X.flatten(), srp)\n",
    "plt.legend(['ShElastic Solution', 'Analytical Solution'])\n",
    "plt.xlabel('r(unit $a$)')\n",
    "plt.ylabel(r'$\\sigma_z$(unit $S_0$)')\n",
    "#plt.savefig('tensile_hole_sz.png')\n",
    "plt.show()"
   ]
  },
  {
   "cell_type": "markdown",
   "metadata": {},
   "source": [
    "## Test whether the stress field satisfy the eq cond. numerically"
   ]
  },
  {
   "cell_type": "code",
   "execution_count": 7,
   "metadata": {},
   "outputs": [],
   "source": [
    "Ngrid = 100\n",
    "theta = (np.arange(0,Ngrid)+0.0)/Ngrid*(np.pi)\n",
    "phi = (np.arange(0,2*Ngrid)+0.0)/(2*Ngrid)*(2*np.pi)\n",
    "\n",
    "THETA, PHI = np.meshgrid(theta, phi)\n",
    "Z = np.cos(THETA)\n",
    "X = np.sin(THETA)*np.cos(PHI)\n",
    "Y = np.sin(THETA)*np.sin(PHI)\n",
    "R = np.sqrt(X**2+Y**2+Z**2)\n",
    "N = np.stack((X/R, Y/R, Z/R), axis=-1)\n",
    "\n",
    "sigma_surf = fast_stress_solution(A_sol, X, Y, Z, Smodes, lKmax, lJmax, shtype=shtype)"
   ]
  },
  {
   "cell_type": "code",
   "execution_count": 8,
   "metadata": {},
   "outputs": [
    {
     "name": "stdout",
     "output_type": "stream",
     "text": [
      "1.2125908040817662e-12\n"
     ]
    }
   ],
   "source": [
    "print(np.linalg.norm(T_usr_mesh-np.sum(sigma_surf.real*N[...,np.newaxis], axis=-2)))\n",
    "#print(srp)\n",
    "#print(T_mag)\n",
    "#print(stp)\n",
    "#print(np.linalg.norm(sigma_surf.real[...,1,0]))\n",
    "#print(np.sqrt(sigma_surf.real[...,1,2]**2 + sigma_surf.real[...,0,2]**2))#-srp**2-stp**2)\n",
    "#print(np.sqrt(T_usr_mesh[...,1]**2+T_usr_mesh[...,0]**2))\n",
    "#print(T_usr_mesh[...,2].shape)"
   ]
  },
  {
   "cell_type": "code",
   "execution_count": 9,
   "metadata": {},
   "outputs": [
    {
     "data": {
      "image/png": "[encoded data removed]",
      "text/plain": [
       "<Figure size 432x288 with 2 Axes>"
      ]
     },
     "metadata": {},
     "output_type": "display_data"
    },
    {
     "data": {
      "image/png": "[encoded data removed]",
      "text/plain": [
       "<Figure size 432x288 with 2 Axes>"
      ]
     },
     "metadata": {},
     "output_type": "display_data"
    },
    {
     "data": {
      "image/png": "[encoded data removed]",
      "text/plain": [
       "<Figure size 432x288 with 2 Axes>"
      ]
     },
     "metadata": {},
     "output_type": "display_data"
    }
   ],
   "source": [
    "#from SHUtil import CartCoord_to_SphCoord, SphCoord_to_CartCoord, eval_GridC\n",
    "\n",
    "# The order (Y,X,Z) makes sure that axis 0,1,2 corresponds to X,Y,Z\n",
    "xgrid = np.linspace(-0.5, 0.5, 20)\n",
    "Y, X, Z = np.meshgrid(xgrid, xgrid, xgrid)\n",
    "R, THETA, PHI = CartCoord_to_SphCoord(X, Y, Z)\n",
    "LAT = 90 - np.rad2deg(THETA)\n",
    "LON = np.rad2deg(PHI)\n",
    "\n",
    "MU = 1\n",
    "NU = 1./3\n",
    "\n",
    "S_grid = fast_stress_solution(A_sol, X, Y, Z, Smodes, lKmax, lJmax, shtype=shtype)\n",
    "\n",
    "for i in range(3):\n",
    "    f0 = np.gradient(np.real(S_grid[:,:,:,i,0]), X[:,0,0],Y[0,:,0],Z[0,0,:])[0] +\\\n",
    "         np.gradient(np.real(S_grid[:,:,:,i,1]), X[:,0,0],Y[0,:,0],Z[0,0,:])[1] +\\\n",
    "         np.gradient(np.real(S_grid[:,:,:,i,2]), X[:,0,0],Y[0,:,0],Z[0,0,:])[2]\n",
    "\n",
    "    plt.figure()\n",
    "    plt.contourf(X[:,:,0],Y[:,:,0],f0[:,:,0])\n",
    "    plt.colorbar()\n",
    "plt.show()"
   ]
  }
 ],
 "metadata": {
  "kernelspec": {
   "display_name": "Python 3",
   "language": "python",
   "name": "python3"
  },
  "language_info": {
   "codemirror_mode": {
    "name": "ipython",
    "version": 3
   },
   "file_extension": ".py",
   "mimetype": "text/x-python",
   "name": "python",
   "nbconvert_exporter": "python",
   "pygments_lexer": "ipython3",
   "version": "3.6.5"
  }
 },
 "nbformat": 4,
 "nbformat_minor": 2
}
