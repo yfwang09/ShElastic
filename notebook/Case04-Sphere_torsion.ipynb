{
 "cells": [
  {
   "cell_type": "markdown",
   "metadata": {},
   "source": [
    "# Solving sphere torsion problem\n",
    "\n",
    "In this notebook, we develop the spherical harmonic solution of the tensile-hole problem. The problem can be described in the following figure:\n",
    "\n",
    "Here the traction boundary is given as:\n",
    "\n",
    "$$\n",
    "\\mathbf{T}_{\\varphi} = S_0\\sin(2\\theta);\\quad\\mathbf{T}_{\\theta}=\\mathbf{T}_{R}=0\n",
    "$$"
   ]
  },
  {
   "cell_type": "code",
   "execution_count": 1,
   "metadata": {
    "scrolled": true
   },
   "outputs": [
    {
     "name": "stdout",
     "output_type": "stream",
     "text": [
      "[-6.02539876e-17+3.65148372e-01j  6.35780858e-17+3.65148372e-01j\n",
      " -3.65148372e-01-6.43843573e-17j  3.65148372e-01-6.86386131e-17j]\n",
      "0.28592395782470703\n"
     ]
    }
   ],
   "source": [
    "import numpy as np\n",
    "import matplotlib.pyplot as plt\n",
    "import pyshtools\n",
    "import sys, os\n",
    "sys.path.append('../module/')\n",
    "from SHUtil import SphCoord_to_CartCoord, CartCoord_to_SphCoord\n",
    "from SHUtil import SHCilmToVector, lmk2K, K2lmk\n",
    "import time\n",
    "\n",
    "S0 = 1\n",
    "a = 1\n",
    "mu = 1\n",
    "nu = 1./3\n",
    "\n",
    "#### traction mode matrix info ####\n",
    "modepath = '../module/lmax60modes'\n",
    "lJmax = 4 # max l degree for saving a single mode\n",
    "lKmax = 4 # max cutoff l degree for modes\n",
    "LJ = (lJmax+1)**2\n",
    "LK = (lKmax+1)**2\n",
    "\n",
    "#### create meshgrid for evaluation ####\n",
    "Ngrid = 100\n",
    "theta = (np.arange(0,Ngrid)+0.0)/Ngrid*(np.pi)\n",
    "phi = (np.arange(0,2*Ngrid)+0.0)/(2*Ngrid)*(2*np.pi)\n",
    "\n",
    "THETA, PHI = np.meshgrid(theta, phi)\n",
    "Z = np.cos(THETA)\n",
    "X = np.sin(THETA)*np.cos(PHI)\n",
    "Y = np.sin(THETA)*np.sin(PHI)\n",
    "R = np.sqrt(X**2+Y**2+Z**2)\n",
    "N = np.stack((X/R, Y/R, Z/R), axis=-1)\n",
    "\n",
    "T_mag = S0*np.sin(2*THETA)\n",
    "T_usr_mesh = np.zeros(THETA.shape+(3,))\n",
    "T_usr_mesh[...,0] = T_mag*np.cos(np.pi/2+PHI)\n",
    "T_usr_mesh[...,1] = T_mag*np.sin(np.pi/2+PHI)\n",
    "\n",
    "T_usr_vec = np.array([])\n",
    "for k in range(3):\n",
    "    T_usr_cilm = pyshtools.expand.SHExpandDHC(T_usr_mesh[...,k].T, sampling=2, lmax_calc=lJmax)\n",
    "    T_usr_vec = np.hstack((T_usr_vec, SHCilmToVector(T_usr_cilm, lmax = lJmax)))\n",
    "\n",
    "print(T_usr_vec[np.nonzero(np.abs(T_usr_vec)>1e-8)])\n",
    "### load the full and sub matrix ####\n",
    "import scipy.sparse as spm\n",
    "from scipy.io import loadmat, savemat\n",
    "from ShElastic import calSmode\n",
    "from SHBV import generate_submat, visualize_Cmat\n",
    "import time\n",
    "ticT = time.time()\n",
    "shtype = 'reg'\n",
    "Tmodes = loadmat(os.path.join(modepath, 'Tmodes.mat'))\n",
    "Tmodes = (Tmodes['T1'+shtype], Tmodes['T2'+shtype], Tmodes['T3'+shtype], Tmodes['T0'+shtype])\n",
    "fullCmat = calSmode(Tmodes, mu, nu)\n",
    "Cmat = generate_submat(mu, nu, fullCmat, lKmax, lJmax)\n",
    "tocT = time.time()\n",
    "print(tocT-ticT)"
   ]
  },
  {
   "cell_type": "markdown",
   "metadata": {},
   "source": [
    "Then we solve the linear system:"
   ]
  },
  {
   "cell_type": "code",
   "execution_count": 2,
   "metadata": {
    "scrolled": true
   },
   "outputs": [
    {
     "name": "stdout",
     "output_type": "stream",
     "text": [
      "Residual: 1.1801021483969083e-14 Time: 0.0009548664093017578\n",
      "Solution: 75\n",
      "[[-6.90512406e-20-6.80586278e-49j -2.53453951e-18+5.25981284e-17j\n",
      "  -9.05988249e-18-1.75715263e-33j  2.63954984e-18+7.66860437e-17j\n",
      "  -8.74602343e-19-3.11013681e-18j  5.51699779e-17+6.10622664e-16j\n",
      "  -1.14919280e-18+3.78569926e-33j -4.06450063e-17+8.88178420e-16j\n",
      "  -8.74602343e-19+3.11013681e-18j  3.54476159e-18+3.49704797e-18j\n",
      "   4.70938583e-18+6.57116574e-17j -1.15015303e-18+2.16800157e-17j\n",
      "  -7.79477285e-18+2.73005082e-33j  2.08182436e-18+2.97026507e-17j\n",
      "   4.70938583e-18-6.57116574e-17j -4.58366752e-18-1.45964248e-18j\n",
      "  -2.56896134e-18+4.86446919e-18j  2.89572347e-15-2.24943494e-16j\n",
      "  -4.65395799e-19-3.37885761e-18j  5.74734562e-16+2.87604788e-15j\n",
      "  -2.18101974e-18+3.25239769e-33j -5.65577006e-16+3.17366934e-15j\n",
      "  -4.65395799e-19+3.37885761e-18j -2.90341347e-15-1.75827177e-16j\n",
      "  -2.56896134e-18-4.86446919e-18j  4.89692581e-20+7.05020705e-50j\n",
      "  -6.34753488e-17+2.16208750e-18j -4.62215511e-17-4.58142641e-33j\n",
      "   7.79939994e-17+4.17597427e-18j -3.06605918e-18+1.47212799e-18j\n",
      "   6.66133815e-16+6.66283706e-17j -8.19527250e-20-6.94586853e-34j\n",
      "  -4.44089210e-16+8.11533422e-17j -3.06605918e-18-1.47212799e-18j\n",
      "  -7.24747408e-18+8.05056544e-19j -2.47489571e-18+8.62148328e-18j\n",
      "  -1.31971136e-17+3.22359438e-18j -5.50804083e-17-3.29672854e-33j\n",
      "   3.71839421e-17+1.86512284e-18j -2.47489571e-18-8.62148328e-18j\n",
      "   2.29078363e-18+1.84396247e-18j  1.69900764e-18+3.90251901e-18j\n",
      "  -1.70962045e-15-3.13870695e-15j -2.17260358e-18+1.54862004e-18j\n",
      "  -3.90674095e-15-1.06981496e-16j  1.27871797e-19-4.16659715e-34j\n",
      "   4.57079698e-15-1.01799707e-16j -2.17260358e-18-1.54862004e-18j\n",
      "   1.75873676e-15-3.13101695e-15j  1.69900764e-18-3.90251901e-18j\n",
      "   7.74206941e-18+2.46117332e-32j  4.72391367e-18+1.31825156e-17j\n",
      "   5.40795858e-19-7.79870549e-18j -4.72391367e-18+1.31825156e-17j\n",
      "   3.41593338e-17-4.16333634e-16j  8.09942343e-19+1.44448814e-19j\n",
      "  -1.31540513e-16-2.53417253e-16j -8.09942343e-19+1.44448814e-19j\n",
      "   4.86843054e-17+4.15822977e-16j  8.87281720e-19-1.43423888e-17j\n",
      "  -2.85144305e-19-7.49805380e-18j  6.08258257e-18+6.90288224e-17j\n",
      "  -4.70375957e-20+1.11896465e-17j -6.08258257e-18+6.90288224e-17j\n",
      "  -1.47956507e-18-3.20559587e-18j -8.87281720e-19-1.43423888e-17j\n",
      "  -3.40063892e-15+1.03909554e-15j  6.90099611e-19+9.64983370e-19j\n",
      "  -4.77188004e-16+2.48332281e-15j  8.46725741e-19-1.12572438e-18j\n",
      "   4.29527867e-16-2.72814218e-16j -8.46725741e-19-1.12572438e-18j\n",
      "  -4.79379987e-16-2.65454309e-15j -6.90099611e-19+9.64983370e-19j\n",
      "  -3.40063892e-15-1.03909554e-15j]]\n",
      "index: 5 (2, -1, 0) coeff: (8.308956139956749e-17-0.2738612787525832j)\n",
      "index: 7 (2, 1, 0) coeff: (-8.593144414459535e-17-0.2738612787525832j)\n",
      "index: 30 (2, -1, 1) coeff: (0.27386127875258337+8.751226140949676e-18j)\n",
      "index: 32 (2, 1, 1) coeff: (-0.2738612787525833+1.1593108885977558e-17j)\n"
     ]
    }
   ],
   "source": [
    "from SHBV import print_SH_mode\n",
    "from scipy.sparse.linalg import lsqr\n",
    "import time\n",
    "\n",
    "tic = time.time()\n",
    "A = lsqr(Cmat, T_usr_vec.transpose())\n",
    "toc = time.time()\n",
    "print('Residual:', A[3], 'Time:', toc-tic)\n",
    "A_sol = A[0]\n",
    "print('Solution:', A_sol.size)\n",
    "print(T_usr_vec.T-np.dot(Cmat.todense(), A[0]))\n",
    "index_sol = print_SH_mode(A_sol, m_dir=3)"
   ]
  },
  {
   "cell_type": "markdown",
   "metadata": {},
   "source": [
    "And integrate the stress solution:"
   ]
  },
  {
   "cell_type": "code",
   "execution_count": 3,
   "metadata": {},
   "outputs": [
    {
     "name": "stdout",
     "output_type": "stream",
     "text": [
      "(30, 3, 3) 0.04130387306213379\n"
     ]
    }
   ],
   "source": [
    "from SHBV import fast_stress_solution\n",
    "\n",
    "X = np.linspace(0.01, np.sqrt(2)/2, 30)\n",
    "Z = np.linspace(0.01, np.sqrt(2)/2, 30)\n",
    "Y = np.zeros_like(Z)\n",
    "\n",
    "R,THETA,PHI = CartCoord_to_SphCoord(X, Y, Z)\n",
    "\n",
    "Smodes = loadmat(os.path.join(modepath, 'Smodes.mat'))\n",
    "Smodes = (Smodes['S1'+shtype], Smodes['S2'+shtype], Smodes['S3'+shtype], Smodes['S0'+shtype])\n",
    "fullSmodes = calSmode(Smodes, mu, nu)\n",
    "Smodes = generate_submat(mu, nu, fullSmodes, lKmax, lJmax, kJ=9)\n",
    "\n",
    "tic = time.time()\n",
    "sigma_tot = fast_stress_solution(A_sol, X, Y, Z, Smodes, lKmax, lJmax, shtype=shtype)\n",
    "toc = time.time()\n",
    "print(sigma_tot.shape, toc-tic)"
   ]
  },
  {
   "cell_type": "markdown",
   "metadata": {},
   "source": [
    "We compare the solution with the analytical solution of the problem:"
   ]
  },
  {
   "cell_type": "code",
   "execution_count": 4,
   "metadata": {},
   "outputs": [
    {
     "name": "stdout",
     "output_type": "stream",
     "text": [
      "(30,) (30,) (30,)\n"
     ]
    }
   ],
   "source": [
    "E3 = 2*S0/3/a\n",
    "R = np.sqrt(X**2+Y**2+Z**2)\n",
    "THETA = np.arccos(Z/R)\n",
    "PHI = np.arctan2(Y, X)\n",
    "\n",
    "srp = 3*E3*R*np.sin(THETA)*np.cos(THETA)\n",
    "stp = -3*E3*R*np.sin(THETA)**2\n",
    "print(X.shape, srp.shape, stp.shape)"
   ]
  },
  {
   "cell_type": "code",
   "execution_count": 5,
   "metadata": {},
   "outputs": [],
   "source": [
    "Q = np.zeros(THETA.shape+(3,3))\n",
    "Q[...,0,0] = np.sin(THETA)*np.cos(PHI)\n",
    "Q[...,0,1] = np.sin(THETA)*np.sin(PHI)\n",
    "Q[...,0,2] = np.cos(THETA)\n",
    "Q[...,1,0] = np.cos(THETA)*np.cos(PHI)\n",
    "Q[...,1,1] = np.cos(THETA)*np.sin(PHI)\n",
    "Q[...,1,2] = -np.sin(THETA)\n",
    "Q[...,2,0] = -np.sin(PHI)\n",
    "Q[...,2,1] = np.cos(PHI)\n",
    "Q[...,2,2] = 0\n",
    "sigma_sph = np.zeros_like(sigma_tot)\n",
    "for i in np.ndindex(THETA.shape):\n",
    "    #print(i, sigma_tot[i].shape)\n",
    "    sigma_sph[i] = np.dot(Q[i], np.dot(sigma_tot[i], Q[i].T))"
   ]
  },
  {
   "cell_type": "code",
   "execution_count": 6,
   "metadata": {},
   "outputs": [
    {
     "data": {
      "image/png": "[encoded data removed]",
      "text/plain": [
       "<Figure size 432x288 with 1 Axes>"
      ]
     },
     "metadata": {},
     "output_type": "display_data"
    }
   ],
   "source": [
    "#plt.plot(X.flatten(), np.sqrt(sigma_tot.real[..., 1, 2].flatten()**2 + sigma_tot.real[..., 0, 2].flatten()**2) , 'x')\n",
    "plt.plot(X.flatten(), sigma_sph.real[...,0, 2], 'x')\n",
    "plt.plot(X.flatten(), srp)\n",
    "plt.legend(['ShElastic Solution', 'Analytical Solution'])\n",
    "plt.xlabel('r(unit $a$)')\n",
    "plt.ylabel(r'$\\sigma_z$(unit $S_0$)')\n",
    "#plt.savefig('tensile_hole_sz.png')\n",
    "plt.show()"
   ]
  },
  {
   "cell_type": "markdown",
   "metadata": {},
   "source": [
    "## Test whether the stress field satisfy the eq cond. numerically"
   ]
  },
  {
   "cell_type": "code",
   "execution_count": 7,
   "metadata": {},
   "outputs": [],
   "source": [
    "Ngrid = 100\n",
    "theta = (np.arange(0,Ngrid)+0.0)/Ngrid*(np.pi)\n",
    "phi = (np.arange(0,2*Ngrid)+0.0)/(2*Ngrid)*(2*np.pi)\n",
    "\n",
    "THETA, PHI = np.meshgrid(theta, phi)\n",
    "Z = np.cos(THETA)\n",
    "X = np.sin(THETA)*np.cos(PHI)\n",
    "Y = np.sin(THETA)*np.sin(PHI)\n",
    "R = np.sqrt(X**2+Y**2+Z**2)\n",
    "N = np.stack((X/R, Y/R, Z/R), axis=-1)\n",
    "\n",
    "sigma_surf = fast_stress_solution(A_sol, X, Y, Z, Smodes, lKmax, lJmax, shtype=shtype)"
   ]
  },
  {
   "cell_type": "code",
   "execution_count": 8,
   "metadata": {},
   "outputs": [
    {
     "name": "stdout",
     "output_type": "stream",
     "text": [
      "1.5615173963426344e-12\n"
     ]
    }
   ],
   "source": [
    "print(np.linalg.norm(T_usr_mesh-np.sum(sigma_surf.real*N[...,np.newaxis], axis=-2)))\n",
    "#print(srp)\n",
    "#print(T_mag)\n",
    "#print(stp)\n",
    "#print(np.linalg.norm(sigma_surf.real[...,1,0]))\n",
    "#print(np.sqrt(sigma_surf.real[...,1,2]**2 + sigma_surf.real[...,0,2]**2))#-srp**2-stp**2)\n",
    "#print(np.sqrt(T_usr_mesh[...,1]**2+T_usr_mesh[...,0]**2))\n",
    "#print(T_usr_mesh[...,2].shape)"
   ]
  },
  {
   "cell_type": "code",
   "execution_count": 9,
   "metadata": {},
   "outputs": [
    {
     "data": {
      "image/png": "[encoded data removed]",
      "text/plain": [
       "<Figure size 432x288 with 2 Axes>"
      ]
     },
     "metadata": {},
     "output_type": "display_data"
    },
    {
     "data": {
      "image/png": "[encoded data removed]",
      "text/plain": [
       "<Figure size 432x288 with 2 Axes>"
      ]
     },
     "metadata": {},
     "output_type": "display_data"
    },
    {
     "data": {
      "image/png": "[encoded data removed]",
      "text/plain": [
       "<Figure size 432x288 with 2 Axes>"
      ]
     },
     "metadata": {},
     "output_type": "display_data"
    }
   ],
   "source": [
    "#from SHUtil import CartCoord_to_SphCoord, SphCoord_to_CartCoord, eval_GridC\n",
    "\n",
    "# The order (Y,X,Z) makes sure that axis 0,1,2 corresponds to X,Y,Z\n",
    "xgrid = np.linspace(-0.5, 0.5, 20)\n",
    "Y, X, Z = np.meshgrid(xgrid, xgrid, xgrid)\n",
    "R, THETA, PHI = CartCoord_to_SphCoord(X, Y, Z)\n",
    "LAT = 90 - np.rad2deg(THETA)\n",
    "LON = np.rad2deg(PHI)\n",
    "\n",
    "MU = 1\n",
    "NU = 1./3\n",
    "\n",
    "S_grid = fast_stress_solution(A_sol, X, Y, Z, Smodes, lKmax, lJmax, shtype=shtype)\n",
    "\n",
    "for i in range(3):\n",
    "    f0 = np.gradient(np.real(S_grid[:,:,:,i,0]), X[:,0,0],Y[0,:,0],Z[0,0,:])[0] +\\\n",
    "         np.gradient(np.real(S_grid[:,:,:,i,1]), X[:,0,0],Y[0,:,0],Z[0,0,:])[1] +\\\n",
    "         np.gradient(np.real(S_grid[:,:,:,i,2]), X[:,0,0],Y[0,:,0],Z[0,0,:])[2]\n",
    "\n",
    "    plt.figure()\n",
    "    plt.contourf(X[:,:,0],Y[:,:,0],f0[:,:,0])\n",
    "    plt.colorbar()\n",
    "plt.show()"
   ]
  }
 ],
 "metadata": {
  "kernelspec": {
   "display_name": "Python 3",
   "language": "python",
   "name": "python3"
  },
  "language_info": {
   "codemirror_mode": {
    "name": "ipython",
    "version": 3
   },
   "file_extension": ".py",
   "mimetype": "text/x-python",
   "name": "python",
   "nbconvert_exporter": "python",
   "pygments_lexer": "ipython3",
   "version": "3.6.7"
  }
 },
 "nbformat": 4,
 "nbformat_minor": 2
}
