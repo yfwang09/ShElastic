{
 "cells": [
  {
   "cell_type": "markdown",
   "metadata": {},
   "source": [
    "# Hydrogel-Cell Interaction Test Case\n",
    "\n",
    "In this case, we only have the deformed shape of the spherical hydrogel as shown in the next few cells."
   ]
  },
  {
   "cell_type": "code",
   "execution_count": null,
   "metadata": {},
   "outputs": [],
   "source": [
    "import numpy as np\n",
    "import scipy as sp\n",
    "import scipy.sparse as spm\n",
    "from scipy.sparse.linalg import lsqr, spsolve\n",
    "from scipy.interpolate import RectBivariateSpline\n",
    "from scipy.optimize import minimize\n",
    "from scipy.io import loadmat, savemat\n",
    "\n",
    "import matplotlib.pyplot as plt\n",
    "from matplotlib import cm, colors\n",
    "from mpl_toolkits.mplot3d import Axes3D\n",
    "from mpl_toolkits.mplot3d.art3d import Line3DCollection\n",
    "import sys, time, os.path\n",
    "from itertools import permutations\n",
    "import pyshtools\n",
    "\n",
    "sys.path.append('..')\n",
    "from shelastic.shutil import SphCoord_to_CartCoord, CartCoord_to_SphCoord, GLQCartCoord\n",
    "from shelastic.shutil import SHCilmToVector, SHVectorToCilm, SHVec2mesh, SHmesh2Vec\n",
    "from shelastic.shutil import TransMat, l_coeffs, m_coeffs, LM_list, lmk2K, K2lmk\n",
    "from shelastic.shbv import generate_submat, Uvec2Tvec, Tvec2Uvec\n",
    "from shelastic.shvis  import plotfv, vismesh, visSHVec, visSH3d\n",
    "from sphere_utils import loadCoeffs, arbitrary_force, Ur_interp\n",
    "from sphere_utils import usurf2umesh, dumesh_dus, usurf2vec\n",
    "from sphere_utils import Tvec2Tres, usurf2dr, calculateTfv, genSmat, genLmat, grad_usurf2dr"
   ]
  },
  {
   "cell_type": "markdown",
   "metadata": {},
   "source": [
    "## Input information"
   ]
  },
  {
   "cell_type": "code",
   "execution_count": null,
   "metadata": {},
   "outputs": [],
   "source": [
    "############################# change inputs here #################################\n",
    "# Data file name\n",
    "datadir = '../testdata'\n",
    "smoothed = 'smoothed_3'\n",
    "dilated = '_softedge'\n",
    "shapename = 'Shape2'\n",
    "datafile = os.path.join(datadir, shapename+'_Coordinates_Cart_'+smoothed+'.csv')\n",
    "connfile = os.path.join(datadir, shapename+'_Connectivity.csv')\n",
    "maskfile = os.path.join(datadir, shapename+'_Mask'+dilated+'.csv')\n",
    "\n",
    "# Material properties\n",
    "mu0 = 300/3; nu0 = 0.499;\n",
    "\n",
    "# Spherical Harmonics Analysis Settings\n",
    "lJmax = 20; lKmax = lJmax; lmax_plot = 60;\n",
    "\n",
    "# initial guess settings\n",
    "init_guess_type = 'ur-only' #'ur-only' or 'true'\n",
    "\n",
    "# regularizations\n",
    "myalpha = 1     # traction magnitude\n",
    "mybeta  = 1  # coefficient magnitude\n",
    "\n",
    "# program switches\n",
    "plot_figure = True\n",
    "myord = 1; # myord: p-norm order (1-mean value)\n",
    "\n",
    "# minimization settings\n",
    "N_period = 1000\n",
    "maxiter_per_period = 5\n",
    "CG_gtol = 1e-5\n",
    "eps = 1e-5               # for jacobian\n",
    "\n",
    "minimizer = 'CG'\n",
    "minimizer_config = {'maxiter': maxiter_per_period, 'disp': True, 'gtol': CG_gtol}\n",
    "\n",
    "# dump files for minimization\n",
    "savename = shapename+('_b%.0e'%(mybeta))+('_lmax%d'%lJmax)+smoothed+dilated\n",
    "\n",
    "# settings for loading \\hat{U}, \\hat{T} coefficients\n",
    "Cmat, Dmat = loadCoeffs(mu0, nu0, lJmax, 'reg')"
   ]
  },
  {
   "cell_type": "markdown",
   "metadata": {},
   "source": [
    "## Load the geometry"
   ]
  },
  {
   "cell_type": "code",
   "execution_count": null,
   "metadata": {},
   "outputs": [],
   "source": [
    "#### load the geometry ####\n",
    "# Vs, Vp: list of nodes (nV, trivial), coordinates of the nodes (nVx3)\n",
    "# Es, Ep: list of edges (nEx2), list of points on the edges (nEx2x3)\n",
    "# Fs, Fp: list of facets (nFx3), list of points on the facets (nFx3x3)\n",
    "# Tfv: traction free boundary map of the node list\n",
    "# Tfe: traction free boundary map of the edge list\n",
    "# Tff: traction free boundary map of the face list\n",
    "# Tf_diluted: diluted traction free boundary map\n",
    "\n",
    "data = np.genfromtxt(datafile, delimiter=',')\n",
    "conn = np.genfromtxt(connfile, delimiter=',', dtype=np.int)\n",
    "if dilated == '_softedge':\n",
    "    masktype = np.float\n",
    "else:\n",
    "    masktype = np.int\n",
    "if shapename == 'Shape4':\n",
    "    mask = np.zeros_like(data[:,0]).astype(masktype)\n",
    "else:\n",
    "    mask = np.genfromtxt(maskfile, dtype=masktype)\n",
    "print('data, connectivity:', data.shape, conn.shape)\n",
    "\n",
    "Fs = conn - 1\n",
    "Np = data.shape[0]\n",
    "Vs = np.arange(Np)\n",
    "edge_conn = spm.lil_matrix((Np, Np), dtype=bool)\n",
    "for i, j in permutations(range(3), 2):\n",
    "    edge_conn[Fs[:, i], Fs[:, j]] = True\n",
    "Es = spm.triu(edge_conn).tocoo()\n",
    "Es = np.vstack([Es.row, Es.col]).T\n",
    "print('id of nodes, edges, facets:', Vs.shape, Es.shape, Fs.shape)\n",
    "Vp = data[..., :3]\n",
    "Ep = Vp[Es, :]; Fp = Vp[Fs, :];\n",
    "print('coord of nodes, edges, facets:', Vp.shape, Ep.shape, Fp.shape)\n",
    "\n",
    "if dilated == '_softedge':\n",
    "    Tfv = (mask > 0.5)\n",
    "else:\n",
    "    Tfv = mask.astype(np.bool)\n",
    "\n",
    "#### Plot the geometry (Vp) ####\n",
    "if plot_figure:\n",
    "    fig = plt.figure(figsize=plt.figaspect(1))\n",
    "    ax = fig.add_subplot(111, projection='3d')\n",
    "\n",
    "    nTfv = np.logical_not(Tfv)\n",
    "    ax.scatter3D(Vp[Tfv, 0], Vp[Tfv, 1], Vp[Tfv, 2])\n",
    "    ax.scatter3D(Vp[nTfv, 0], Vp[nTfv, 1], Vp[nTfv, 2])\n",
    "\n",
    "    ax.view_init(azim=0, elev=0)\n",
    "    plt.show()"
   ]
  },
  {
   "cell_type": "markdown",
   "metadata": {},
   "source": [
    "Then we determine the original radius of the particle, assuming the particle is incompressible. The total volume can be estimated by adding the volume of the tetrahedrons. The volume of a tetrahedron is calculated as:\n",
    "\n",
    "$$\n",
    "V_{0123}=\\frac{1}{6}\n",
    "\\begin{vmatrix}\n",
    " x_1 & y_1 & z_1 & 1\\\\ \n",
    " x_2 & y_2 & z_2 & 1\\\\ \n",
    " x_3 & y_3 & z_3 & 1\\\\ \n",
    " 0 & 0 & 0 & 1\\\\ \n",
    "\\end{vmatrix}\n",
    "$$"
   ]
  },
  {
   "cell_type": "code",
   "execution_count": null,
   "metadata": {},
   "outputs": [],
   "source": [
    "tet = np.zeros((Fs.shape[0], 4, 4))\n",
    "tet[:,:-1,:-1] = Fp\n",
    "tet[:,:,-1] = 1\n",
    "vol = np.sum(np.linalg.det(tet)/6, axis=0)\n",
    "r0 = np.cbrt(vol/(4/3*np.pi))\n",
    "print('V = %.4f, r0 = %.4f'%(vol, r0))"
   ]
  },
  {
   "cell_type": "markdown",
   "metadata": {},
   "source": [
    "We need to solve the reverse problem of a deformed shape. We will try the following methods to tackle this problem:\n",
    "\n",
    "1. Assume $r$-direction deformation only, using the solution as initial guess to the optimization\n",
    "2. LSQ solving coeffs of the SH solutions for fitting both the traction-free boundary and the shape"
   ]
  },
  {
   "cell_type": "markdown",
   "metadata": {},
   "source": [
    "Conversion between complex and real spherical harmonics, for $m>0$\n",
    "\n",
    "$$\n",
    "f_{lm} = \\left[f_l^m+(-1)^mf_l^{-m}\\right]/\\sqrt{2}\\\\\n",
    "f_{l-m}=i\\left[f_l^m-(-1)^mf_l^{-m}\\right]/\\sqrt{2}\\\\\n",
    "f_l^m = (f_{lm}-if_{l-m})/\\sqrt{2}\\\\\n",
    "f_l^{-m} = (-1)^m(f_{lm}+if_{l-m})/\\sqrt{2}\n",
    "$$\n",
    "\n",
    "for $m=0$:\n",
    "\n",
    "$$\n",
    "f_{l0} = f_l^0\n",
    "$$\n"
   ]
  },
  {
   "cell_type": "markdown",
   "metadata": {},
   "source": [
    "## 2. LSQ solving SH coeffs for displacement field\n",
    "\n",
    "Obviously, the decomposition is not satisfactory. It is not reasonable to assume the deformation is only on $r$-direction. In this section, we will try to optimize SH coeffs, so that the deformed shape is closest to the data. Notice that the integral of a spherical harmonic function on the sphere surface is:\n",
    "\n",
    "$$\n",
    "\\int_0^{2\\pi}\\!\\int_0^{\\pi}Y_l^m(\\theta,\\varphi)\\sin\\theta d\\theta d\\varphi = 4\\pi\\delta_{l0}\\delta_{m0}\n",
    "$$\n",
    "\n",
    "Therefore, only the $Y_0^0$ term controls the rigid body translation (constant). If we only impose higher mode spherical harmonics, there will be no rigid body motion."
   ]
  },
  {
   "cell_type": "markdown",
   "metadata": {},
   "source": [
    "### Develop the interpolation function for $u_r(\\theta,\\varphi)$ from data"
   ]
  },
  {
   "cell_type": "code",
   "execution_count": null,
   "metadata": {
    "scrolled": false
   },
   "outputs": [],
   "source": [
    "f_interp = Ur_interp(Vp/r0, lmax=lJmax+20, plot_figure=plot_figure)\n",
    "# Define shape reference\n",
    "latsdeg, lonsdeg = pyshtools.expand.GLQGridCoord(lJmax)\n",
    "lon0, lat0 = np.meshgrid(lonsdeg, latsdeg)\n",
    "X0surf = np.stack([lat0, lon0], axis=-1)\n",
    "X0 = GLQCartCoord(lJmax)"
   ]
  },
  {
   "cell_type": "markdown",
   "metadata": {},
   "source": [
    "### Define the initial guess"
   ]
  },
  {
   "cell_type": "code",
   "execution_count": null,
   "metadata": {
    "scrolled": false
   },
   "outputs": [],
   "source": [
    "import glob\n",
    "filelist = glob.glob('AK_'+savename+'_??.npz')\n",
    "nfile = len(filelist)\n",
    "if nfile > 0:\n",
    "    u0_surf = np.load('AK_'+savename+'_%02d.npz'%(nfile-1))['u_surf_list'][-1, ...]\n",
    "elif init_guess_type == 'ur-only':\n",
    "    u0_surf = np.zeros_like(X0surf)\n",
    "\n",
    "U0vec, aK, T0vec = usurf2vec(u0_surf, f_interp, lJmax)\n",
    "if plot_figure:\n",
    "    fig, ax = plt.subplots()\n",
    "    ax.plot(np.abs(T0vec))\n",
    "    plt.show()\n",
    "    print('Displacement in Spherical Coordinates...')\n",
    "    fig, ax = visSHVec(U0vec*r0, lmax_plot=lmax_plot, SphCoord=True, Complex=True,\n",
    "                       n_vrange=(-1, 1), s_vrange=(0, 1),\n",
    "                       config_quiver=(2, 3, 'k', 10), lonshift=180, figsize=(6,3))\n",
    "    print('Traction in Spherical Coordinates...')\n",
    "    fig, ax = visSHVec((T0vec)*mu0, lmax_plot=lmax_plot, SphCoord=True, Complex=True, \n",
    "                       n_vrange=(-100, 100), s_vrange=(0, 50),\n",
    "                       config_quiver=(2, 3, 'k', 500), lonshift=180, figsize=(6,3))"
   ]
  },
  {
   "cell_type": "markdown",
   "metadata": {},
   "source": [
    "### Define the traction free region based on the initial guess"
   ]
  },
  {
   "cell_type": "code",
   "execution_count": null,
   "metadata": {},
   "outputs": [],
   "source": [
    "# Define weights and traction free region\n",
    "if dilated == '_softedge':\n",
    "    isTfv = calculateTfv(U0vec, lJmax, Vp/r0, mask)\n",
    "else:\n",
    "    isTfv = calculateTfv(U0vec, lJmax, Vp/r0, Tfv)\n",
    "print(isTfv.shape)"
   ]
  },
  {
   "cell_type": "markdown",
   "metadata": {},
   "source": [
    "penalty function:\n",
    "$$\n",
    "p=|\\mathbf{Q}\\hat{T}^{(K)}|^2=(\\mathbf{QCD}^{-1}\\mathbf{S}U_{mesh})^H\\mathbf{QCD}^{-1}\\mathbf{S}U_{mesh}\n",
    "$$"
   ]
  },
  {
   "cell_type": "code",
   "execution_count": null,
   "metadata": {},
   "outputs": [],
   "source": [
    "lmax = lJmax\n",
    "ldamp_hi = lmax; ldamp_lo = lmax - 5;\n",
    "lv, _ = LM_list(lmax); lv_ones = np.ones_like(lv);\n",
    "lv_lim = np.minimum(np.maximum(lv, ldamp_lo), ldamp_hi)\n",
    "ldamp = (np.maximum(lv_lim-ldamp_lo, 0) / (ldamp_hi - ldamp_lo))**1\n",
    "Q = spm.csr_matrix(np.diag(np.tile(ldamp, 3)).astype(np.complex))\n",
    "#print(Q.shape, CDmat.shape)\n",
    "plt.plot(ldamp)\n",
    "plt.show()"
   ]
  },
  {
   "cell_type": "code",
   "execution_count": null,
   "metadata": {},
   "outputs": [],
   "source": [
    "# Calculating L, S, P matrices for Jacobian evaluation\n",
    "tic = time.time()\n",
    "Lmat = genLmat(lJmax, Cmat=Cmat, Dmat=Dmat)\n",
    "print('Time for generating L matrix: %.2fs'%(time.time() - tic))\n",
    "tic = time.time()\n",
    "Smat = genSmat(lJmax, Cmat=Cmat, Dmat=Dmat)\n",
    "print('Time for generating S matrix: %.2fs'%(time.time() - tic))\n",
    "Dinv = spm.linalg.inv(Dmat)\n",
    "CDmat = Cmat.dot(Dinv)\n",
    "tic = time.time()\n",
    "CDSmat = np.asmatrix(CDmat.dot(Smat))\n",
    "SHCDS = np.asmatrix(Smat).H.dot(CDSmat)\n",
    "print('Time for generating S^HCD^{-1}S matrix: %.2fs'%(time.time() - tic))\n",
    "tic = time.time()\n",
    "QCDSmat = Q.dot(CDSmat)\n",
    "QCDSHQCDS = QCDSmat.H.dot(QCDSmat).real\n",
    "print('Time for generating QCDSHQCDS matrix: %.2fs'%(time.time() - tic))\n",
    "tic = time.time()\n",
    "P = np.diag(np.stack([isTfv]*3, axis=-1).flatten())\n",
    "TresJac = 2*np.asmatrix(np.dot(np.dot(Lmat.T, P), Lmat))/(lJmax+1)/(lJmax*2+1) \n",
    "EelJac  = 2*np.pi*(SHCDS+SHCDS.H)\n",
    "penJac  = QCDSHQCDS+QCDSHQCDS.H\n",
    "print('time of matrix build:', time.time() - tic)"
   ]
  },
  {
   "cell_type": "raw",
   "metadata": {},
   "source": [
    "from scipy.optimize import approx_fprime\n",
    "\n",
    "def penalty_test(umesh):\n",
    "    uvec  = SHmesh2Vec(umesh.reshape(lJmax+1, 2*lJmax+1, 3))\n",
    "    tvec  = Uvec2Tvec(uvec, Cmat, Dmat)\n",
    "    Tvec_mod = (tvec.reshape(3, -1) * ldamp).flatten()\n",
    "    return np.vdot(Tvec_mod, Tvec_mod).real\n",
    "\n",
    "u0mesh = usurf2umesh(u0_surf, f_interp, lJmax, X0surf=X0surf, X0=X0)\n",
    "u0vec  = SHmesh2Vec(u0mesh.reshape(lJmax+1, 2*lJmax+1, 3))\n",
    "t0vec  = Uvec2Tvec(u0vec, Cmat, Dmat)\n",
    "t0mesh = SHVec2mesh(t0vec, lmax=lJmax, SphCoord=False, Complex=True)\n",
    "\n",
    "t0vec_mod = (t0vec.reshape(3, -1)*ldamp).flatten()\n",
    "t0vec_mod_test = Q.dot(t0vec)\n",
    "t0vec_mod_test2= np.ravel(QCDSmat.dot(u0mesh))\n",
    "print(t0vec_mod_test2.shape)\n",
    "t0vec_test = CDSmat.dot(u0mesh)\n",
    "print(np.abs(t0vec - t0vec_test).max())\n",
    "print(np.abs(t0vec_mod - t0vec_mod_test2).max())\n",
    "\n",
    "penalty0 = penalty_test(u0mesh)\n",
    "print(penalty0, np.vdot(t0vec_mod, t0vec_mod).real)\n",
    "penalty_test2 = np.vdot(t0vec_mod_test2, t0vec_mod_test2).real\n",
    "print(penalty0, penalty_test2)\n",
    "\n",
    "dpen0 = approx_fprime(u0mesh, penalty_test, 1e-8)\n",
    "dpen_test = np.ravel(penJac.dot(u0mesh))"
   ]
  },
  {
   "cell_type": "raw",
   "metadata": {},
   "source": [
    "print(dpen0.shape, dpen_test.shape)\n",
    "DIFF = np.nonzero(np.abs(dpen0-dpen_test/2)>1e-5)\n",
    "print(dpen0[DIFF])\n",
    "print(dpen_test[DIFF])"
   ]
  },
  {
   "cell_type": "code",
   "execution_count": null,
   "metadata": {},
   "outputs": [],
   "source": [
    "def usurf2dr2(u_surf, f_interp, lmax, beta=1, norm_order=1, \n",
    "             X0surf=None, X0=None, isTfv=None, Cmat=None, Dmat=None, \n",
    "             mu0=300/3, nu0=0.499, lat_weights=np.array([1]), vert_weight=np.array([1]),\n",
    "             eps=1e-5, mode='forward', JacMat=None, gamma=1):\n",
    "    Uvec, aK, Tvec = usurf2vec(u_surf, f_interp, lmax, Cmat=Cmat, Dmat=Dmat, mu0=mu0, nu0=nu0)\n",
    "    Tdist = Tvec2Tres(Tvec, lmax, isTfv=isTfv, lat_weights=lat_weights, vert_weight=vert_weight, norm_order=norm_order)\n",
    "    Eel = np.vdot(Uvec, Tvec).real*2*np.pi\n",
    "    ldamp_hi = lmax; ldamp_lo = lmax - 5;\n",
    "    lv, _ = LM_list(lmax); lv_ones = np.ones_like(lv);\n",
    "    lv_lim = np.minimum(np.maximum(lv, ldamp_lo), ldamp_hi)\n",
    "    ldamp = (np.maximum(lv_lim-ldamp_lo, 0) / (ldamp_hi - ldamp_lo))**1\n",
    "    Tvec_mod = (Tvec.reshape(3, -1) * ldamp).flatten()\n",
    "    penalty = np.vdot(Tvec_mod, Tvec_mod).real\n",
    "    return Tdist + beta * Eel + gamma * penalty\n",
    "\n",
    "def grad_usurf2dr2(u_surf, f_interp, lmax, beta=1, norm_order=1, \n",
    "                  X0surf=None, X0=None, isTfv=None, Cmat=None, Dmat=None, \n",
    "                  mu0=300/3, nu0=0.499, lat_weights=np.array([1]), vert_weight=np.array([1]), \n",
    "                  eps=1e-5, mode='forward', JacMat=None, gamma=1):\n",
    "    umesh = usurf2umesh(u_surf, f_interp, lmax, X0surf=X0surf, X0=X0)\n",
    "    dum_dus = dumesh_dus(u_surf, f_interp, lmax, X0surf, X0, eps=eps, mode='forward')\n",
    "    if JacMat is None:\n",
    "        raise TypeError('JacMat must be provided')\n",
    "    JacMat = JacMat[0] + beta*JacMat[1] + gamma*JacMat[2]\n",
    "    return np.ravel(np.dot(JacMat.dot(umesh).real, dum_dus))"
   ]
  },
  {
   "cell_type": "code",
   "execution_count": null,
   "metadata": {},
   "outputs": [],
   "source": [
    "T0dist = Tvec2Tres(T0vec, lJmax, isTfv=isTfv, norm_order=myord)\n",
    "E0el = np.vdot(U0vec, T0vec).real*2*np.pi\n",
    "pen0 = np.vdot(Q.dot(T0vec), Q.dot(T0vec)).real\n",
    "print('Traction residual: %.4e Pa'%(T0dist*mu0))\n",
    "print('Elastic energy: %.4e pJ'%(E0el*(r0/1e6)**3*mu0*1e12))\n",
    "print('funval: %.4e %.4e %.4e'%(T0dist, E0el, pen0))"
   ]
  },
  {
   "cell_type": "code",
   "execution_count": null,
   "metadata": {
    "scrolled": true
   },
   "outputs": [],
   "source": [
    "mygamma = 10\n",
    "target_args = (f_interp, lJmax, mybeta, myord, X0surf, X0, isTfv, Cmat, Dmat, \n",
    "               mu0, nu0, np.array([1]), np.array([1]), eps, '2-point', (TresJac, EelJac, penJac), mygamma)\n",
    "\n",
    "def print_iter(xk):\n",
    "    Uvec, aK, Tvec = usurf2vec(xk, f_interp, lJmax, X0surf=X0surf, X0=X0, Cmat=Cmat, Dmat=Dmat)\n",
    "    Tdist = Tvec2Tres(Tvec, lJmax, isTfv=isTfv, norm_order=myord)\n",
    "    Eel = np.vdot(Uvec, Tvec).real*2*np.pi\n",
    "    pen = np.vdot(Q.dot(Tvec), Q.dot(Tvec)).real\n",
    "    dr  = usurf2dr2(xk, *target_args)\n",
    "    print('%13.4ePa%13.4epJ%13.4e%13.4e%13.4e%13.4e'%(Tdist*mu0, Eel*(r0/1e6)**3*mu0*1e12, Tdist, Eel, pen, dr))\n",
    "\n",
    "# bd = Bounds(-6, 6)\n",
    "u_surf = u0_surf.flatten().copy()\n",
    "u_surf_list = [u_surf, ]\n",
    "tic_start = time.time()\n",
    "for i in range(N_period):\n",
    "    print('Period %d'%i)\n",
    "    tic = time.time()\n",
    "    u_res = minimize(usurf2dr2, u_surf.flatten(), args=target_args, jac=grad_usurf2dr2,\n",
    "                     method = minimizer, options=minimizer_config, callback=print_iter)\n",
    "    print('Iteration Time: %.2fs'%(time.time() - tic))\n",
    "    u_surf = u_res.x.copy()\n",
    "    u_surf_list.append(u_surf)\n",
    "    if u_res.success:\n",
    "        break\n",
    "    if i%10 == 9:\n",
    "        print('update isTfv at step %d'%i)\n",
    "        Uvec, aK, Tvec = usurf2vec(u_surf, f_interp, lJmax, X0surf=X0surf, X0=X0, Cmat=Cmat, Dmat=Dmat)\n",
    "        if dilated == '_softedge':\n",
    "            isTfv = calculateTfv(Uvec, lJmax, Vp/r0, mask)\n",
    "        else:\n",
    "            isTfv = calculateTfv(Uvec, lJmax, Vp/r0, Tfv)\n",
    "print('Total Wall Time: %.2fs'%(time.time() - tic_start))"
   ]
  },
  {
   "cell_type": "code",
   "execution_count": null,
   "metadata": {
    "scrolled": false
   },
   "outputs": [],
   "source": [
    "print(u_res)\n",
    "u_surf = u_res.x\n",
    "\n",
    "Usurfvec, aK, Tsurfvec = usurf2vec(u_surf, f_interp, lJmax, X0surf=X0surf, X0=X0, Cmat=Cmat, Dmat=Dmat)\n",
    "Tsurfdist = Tvec2Tres(Tsurfvec, lJmax, isTfv=isTfv, norm_order=myord)\n",
    "Eelsurf = np.vdot(Usurfvec, Tsurfvec).real*2*np.pi\n",
    "print('Traction residual: %.4e Pa'%(Tsurfdist*mu0))\n",
    "print('Elastic energy: %.4e pJ'%(Eelsurf*(r0/1e6)**3*mu0*1e12))\n",
    "print('funval: %.4e %.4e'%(Tsurfdist, Eelsurf))\n",
    "# ldamp_hi = 30; ldamp_lo = 25;\n",
    "# lv, _ = LM_list(lJmax); lv_ones = np.ones_like(lv);\n",
    "# lv_lim = np.minimum(np.maximum(lv, ldamp_lo), ldamp_hi)\n",
    "# ldamp = np.sin(np.pi/2*(ldamp_hi-lv_lim)/(ldamp_hi-ldamp_lo))**2\n",
    "# fig,ax = plt.subplots()\n",
    "# ax.plot(ldamp)\n",
    "# plt.show()\n",
    "# Tsurfvec = (Tsurfvec.reshape(3, -1) * ldamp).flatten()\n",
    "\n",
    "if plot_figure:\n",
    "    fig, ax = plt.subplots()\n",
    "    # ax.plot(np.abs(T_usr_vec))\n",
    "    ax.plot(np.abs(Tsurfvec))\n",
    "    plt.show()\n",
    "\n",
    "    print('Displacement in Spherical Coordinates...')\n",
    "    fig, ax = visSHVec(Usurfvec*r0, lmax_plot=lmax_plot, SphCoord=True, Complex=True, #s_vrange=(0,0.01),\n",
    "                       config_quiver=(2, 3, 'k', 10), lonshift=180, figsize=(6,3))\n",
    "    print('Traction in Spherical Coordinates...')\n",
    "    fig, ax = visSHVec((Tsurfvec)*mu0, lmax_plot=lmax_plot, SphCoord=True, Complex=True, \n",
    "                       n_vrange=(-100, 100), s_vrange=(0, 50),\n",
    "                       config_quiver=(2, 3, 'k', 500), lonshift=180, figsize=(6,3))"
   ]
  },
  {
   "cell_type": "code",
   "execution_count": null,
   "metadata": {},
   "outputs": [],
   "source": [
    "%matplotlib notebook\n",
    "umesh_fine_scaled = SHVec2mesh(U0vec, lmax=lmax_plot, SphCoord=False, Complex=True)\n",
    "tmesh_fine = SHVec2mesh(T0vec*mu0, lmax=lmax_plot, SphCoord=False, Complex=True)\n",
    "#umesh_fine_scaled = SHVec2mesh(Usurfvec, lmax=lmax_plot, SphCoord=False, Complex=True)\n",
    "#tmesh_fine = SHVec2mesh(Tsurfvec*mu0, lmax=lmax_plot, SphCoord=False, Complex=True)\n",
    "print('Visualize the shape in 3D...')\n",
    "fig, ax = visSH3d(umesh_fine_scaled, cmesh=tmesh_fine, \n",
    "                  r0=r0, show=False, \n",
    "                  elevation=0, azimuth=0, \n",
    "                  surface=True, figsize=plt.figaspect(1))\n",
    "\n",
    "# reference data\n",
    "nTfv = np.logical_not(Tfv)\n",
    "#ax.scatter3D(Vp[Tfv, 0], Vp[Tfv, 1], Vp[Tfv, 2], marker='^', s=10)\n",
    "#ax.scatter3D(Vp[nTfv, 0], Vp[nTfv, 1], Vp[nTfv, 2], marker='^', s=10)\n",
    "ax.set_title('Front view')\n",
    "if False: #savefig:\n",
    "    plt.tight_layout(); plt.savefig(savename+'_front.png', transparent=True)\n",
    "plt.show()"
   ]
  },
  {
   "cell_type": "code",
   "execution_count": null,
   "metadata": {},
   "outputs": [],
   "source": [
    "import glob\n",
    "filelist = glob.glob('AK_'+savename+'_g%.0e_??.npz'%mygamma)\n",
    "nfile = len(filelist)\n",
    "np.savez('AK_'+savename+'_g%.0e_%02d.npz'%(mygamma, nfile), \n",
    "         AK_iter=aK, u_surf_list=np.stack(u_surf_list, axis=0), \n",
    "         beta=mybeta, N=N_period)"
   ]
  }
 ],
 "metadata": {
  "kernelspec": {
   "display_name": "Python 3",
   "language": "python",
   "name": "python3"
  },
  "language_info": {
   "codemirror_mode": {
    "name": "ipython",
    "version": 3
   },
   "file_extension": ".py",
   "mimetype": "text/x-python",
   "name": "python",
   "nbconvert_exporter": "python",
   "pygments_lexer": "ipython3",
   "version": "3.6.3"
  },
  "toc": {
   "base_numbering": 1,
   "nav_menu": {},
   "number_sections": false,
   "sideBar": true,
   "skip_h1_title": false,
   "title_cell": "Table of Contents",
   "title_sidebar": "Contents",
   "toc_cell": false,
   "toc_position": {},
   "toc_section_display": true,
   "toc_window_display": false
  }
 },
 "nbformat": 4,
 "nbformat_minor": 2
}
