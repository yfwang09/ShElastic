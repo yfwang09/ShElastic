{
 "cells": [
  {
   "cell_type": "code",
   "execution_count": 1,
   "metadata": {},
   "outputs": [],
   "source": [
    "import nbformat\n",
    "from nbconvert.preprocessors import ExecutePreprocessor\n",
    "\n",
    "notebook_filename = 'Case05-Hydrogel_Cell_Interaction-visualization.ipynb'\n",
    "with open(notebook_filename) as f:\n",
    "    nb = nbformat.read(f, as_version=4)\n",
    "\n",
    "ep = ExecutePreprocessor(kernel_name='python3')\n",
    "\n",
    "tmp = ep.preprocess(nb, {'metadata': {'path': '.'}})\n",
    "\n",
    "with open('executed_'+notebook_filename, 'wt') as f:\n",
    "    nbformat.write(nb, f)"
   ]
  },
  {
   "cell_type": "code",
   "execution_count": null,
   "metadata": {},
   "outputs": [],
   "source": [
    "from nbconvert import HTMLExporter\n",
    "html_exporter = HTMLExporter()\n",
    "html_exporter.template_file = 'basic'\n",
    "\n",
    "(body, resources) = html_exporter.from_notebook_node(nb)"
   ]
  }
 ],
 "metadata": {
  "kernelspec": {
   "display_name": "Python 3",
   "language": "python",
   "name": "python3"
  },
  "language_info": {
   "codemirror_mode": {
    "name": "ipython",
    "version": 3
   },
   "file_extension": ".py",
   "mimetype": "text/x-python",
   "name": "python",
   "nbconvert_exporter": "python",
   "pygments_lexer": "ipython3",
   "version": "3.6.5"
  }
 },
 "nbformat": 4,
 "nbformat_minor": 2
}
