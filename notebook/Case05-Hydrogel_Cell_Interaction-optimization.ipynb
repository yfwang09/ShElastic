{
 "cells": [
  {
   "cell_type": "markdown",
   "metadata": {},
   "source": [
    "# Hydrogel-Cell Interaction\n",
    "\n",
    "In this case, we only have the deformed shape of the spherical hydrogel as shown in the next few cells."
   ]
  },
  {
   "cell_type": "code",
   "execution_count": 1,
   "metadata": {},
   "outputs": [],
   "source": [
    "import numpy as np\n",
    "import scipy as sp\n",
    "import scipy.sparse as spm\n",
    "from scipy.io import loadmat, savemat\n",
    "\n",
    "import matplotlib.pyplot as plt\n",
    "from matplotlib import cm, colors\n",
    "from mpl_toolkits.mplot3d import Axes3D\n",
    "from mpl_toolkits.mplot3d.art3d import Line3DCollection\n",
    "import sys, time, os.path\n",
    "from itertools import permutations\n",
    "\n",
    "module_path = '../module/'\n",
    "sys.path.append(module_path)\n",
    "from SHUtil import SphCoord_to_CartCoord, CartCoord_to_SphCoord\n",
    "\n",
    "import pyshtools\n",
    "from SHUtil import SHCilmToVector, SHVectorToCilm, lmk2K, K2lmk\n",
    "from SHUtil import plotfv, TransMat, l_coeffs, m_coeffs\n",
    "from ShElastic import calSmode, calUmode\n",
    "from SHBV import generate_submat, visualize_Cmat, print_SH_mode\n",
    "\n",
    "from scipy.sparse.linalg import lsqr, spsolve\n",
    "from scipy.optimize import minimize\n",
    "\n",
    "from Case05_utilities import Uvec2Tvec, Tvec2Uvec, SHVec2mesh, visSHVec, visSH3d, SHvec_rtoc, SHvec_ctor, generate_neighbor_list"
   ]
  },
  {
   "cell_type": "code",
   "execution_count": 2,
   "metadata": {},
   "outputs": [],
   "source": [
    "############################# change inputs here #################################\n",
    "# Material properties\n",
    "mu0 = 300/3;\n",
    "mu = 1.; nu = 0.499;\n",
    "# Spherical Harmonics Analysis Settings\n",
    "lJmax = 20; lKmax = 20; lmax_plot = 80;\n",
    "lmax_work = 16; lmax_buf = lJmax-lmax_work;\n",
    "\n",
    "# neibor list settings\n",
    "n_list = 1000\n",
    "n_load = 10\n",
    "n_recal_neigh = 10\n",
    "\n",
    "# regularizations\n",
    "myalpha = 0.1   # traction magnitude\n",
    "mybeta  = 0.05  # coefficient magnitude\n",
    "\n",
    "# program switches\n",
    "plot_figure = False\n",
    "node_face_dist_on = False\n",
    "\n",
    "# minimization settings\n",
    "N_period = 2\n",
    "if node_face_dist_on:\n",
    "    maxiter_per_period = 1\n",
    "else:\n",
    "    maxiter_per_period = 5\n",
    "CG_gtol = 1e-4\n",
    "minimizer = 'CG'\n",
    "minimizer_config = {'maxiter': maxiter_per_period, 'gtol': CG_gtol, 'disp': True}\n",
    "# method='Powell', options={'maxiter':1, 'maxfev':10, 'disp': True})\n",
    "\n",
    "# dump files for minimization\n",
    "AKfile = 'AK_solution.npy'\n",
    "fvfile = 'fv.txt'\n",
    "\n",
    "# settings for loading \\hat{U}, \\hat{T} coefficients\n",
    "shtype = 'reg'\n",
    "coeff_dir = os.path.join(module_path, 'lmax%dmodes'%60)\n",
    "#################################################################################\n",
    "\n",
    "Umodes = loadmat(os.path.join(coeff_dir,'Umodes.mat'))\n",
    "Umodes = (Umodes['U1'+shtype], Umodes['U0'+shtype])\n",
    "fullDmat = calUmode(Umodes, mu, nu)\n",
    "Dmat = generate_submat(mu, nu, fullDmat, lKmax, lJmax, kJ=3).tocsc()\n",
    "\n",
    "Tmodes = loadmat(os.path.join(coeff_dir,'Tmodes.mat'))\n",
    "Tmodes = (Tmodes['T1'+shtype], Tmodes['T2'+shtype], Tmodes['T3'+shtype], Tmodes['T0'+shtype])\n",
    "fullCmat = calSmode(Tmodes, mu, nu)\n",
    "Cmat = generate_submat(mu, nu, fullCmat, lKmax, lJmax, kJ=3).tocsc()"
   ]
  },
  {
   "cell_type": "code",
   "execution_count": 3,
   "metadata": {},
   "outputs": [
    {
     "name": "stdout",
     "output_type": "stream",
     "text": [
      "data, connectivity: (8136, 3) (16268, 3)\n",
      "id of nodes, edges, facets: (8136,) (24402, 2) (16268, 3)\n",
      "coord of nodes, edges, facets: (8136, 3) (24402, 2, 3) (16268, 3, 3)\n",
      "Traction free boundary of v, e, f: (8136,) (24402,) (16268,)\n"
     ]
    }
   ],
   "source": [
    "#### load the geometry ####\n",
    "# Vs, Vp: list of nodes (nV, trivial), coordinates of the nodes (nVx3)\n",
    "# Es, Ep: list of edges (nEx2), list of points on the edges (nEx2x3)\n",
    "# Fs, Fp: list of facets (nFx3), list of points on the facets (nFx3x3)\n",
    "# Tfv: traction free boundary map of the node list\n",
    "# Tfe: traction free boundary map of the edge list\n",
    "# Tff: traction free boundary map of the face list\n",
    "# Tf_diluted: diluted traction free boundary map\n",
    "\n",
    "#data = np.genfromtxt('../testdata/Coordinates_irregular_boundary.csv', delimiter=',')\n",
    "#conn = np.genfromtxt('../testdata/Connectivity.csv', delimiter=',', dtype=np.int)\n",
    "smoothed = 'smoothed'; smoothed = '';\n",
    "dilated = '_1um_dilated';# dilated = '';\n",
    "shapename = 'Shape2'\n",
    "data = np.genfromtxt('../testdata/'+shapename+'_Coordinates_Cart_'+smoothed+'.csv', delimiter=',')\n",
    "conn = np.genfromtxt('../testdata/'+shapename+'_Connectivity.csv', delimiter=',', dtype=np.int)\n",
    "if shapename == 'Shape4':\n",
    "    mask = np.zeros_like(data[:,0]).astype(np.int)\n",
    "else:\n",
    "    mask = np.genfromtxt('../testdata/'+shapename+'_Mask'+dilated+'.csv', dtype=np.int)\n",
    "print('data, connectivity:', data.shape, conn.shape)\n",
    "\n",
    "Fs = conn - 1\n",
    "Np = data.shape[0]\n",
    "Vs = np.arange(Np)\n",
    "edge_conn = spm.lil_matrix((Np, Np), dtype=bool)\n",
    "for i, j in permutations(range(3), 2):\n",
    "    edge_conn[Fs[:, i], Fs[:, j]] = True\n",
    "Es = spm.triu(edge_conn).tocoo()\n",
    "Es = np.vstack([Es.row, Es.col]).T\n",
    "print('id of nodes, edges, facets:', Vs.shape, Es.shape, Fs.shape)\n",
    "Vp = data[..., :3]\n",
    "#print(data[:,2].mean(), data[:,1].max(), data[:,0].max())\n",
    "#Vp[:,0],Vp[:,1],Vp[:,2] = SphCoord_to_CartCoord(data[:,2],data[:,1],data[:,0])\n",
    "Ep = Vp[Es, :]; Fp = Vp[Fs, :];\n",
    "print('coord of nodes, edges, facets:', Vp.shape, Ep.shape, Fp.shape)\n",
    "\n",
    "#Tf_diluted = data[:, 4].astype(np.bool)\n",
    "#Tfv = np.logical_not(data[:, 3].astype(np.bool))\n",
    "Tfv = mask.astype(np.bool) # np.logical_not(mask.astype(np.bool))\n",
    "Tfe = np.all(Tfv[Es], axis=1)\n",
    "Tff = np.all(Tfv[Fs], axis=1)\n",
    "print('Traction free boundary of v, e, f:', Tfv.shape, Tfe.shape, Tff.shape)"
   ]
  },
  {
   "cell_type": "code",
   "execution_count": 4,
   "metadata": {
    "scrolled": true
   },
   "outputs": [],
   "source": [
    "#### Plot the geometry (Vp) ####\n",
    "if plot_figure:\n",
    "    fig = plt.figure()#figsize=(16,16))\n",
    "    ax = fig.add_subplot(111, projection='3d')\n",
    "\n",
    "    nTfv = np.logical_not(Tfv)\n",
    "    ax.scatter3D(Vp[Tfv, 0], Vp[Tfv, 1], Vp[Tfv, 2], 'C0')\n",
    "    ax.scatter3D(Vp[nTfv, 0], Vp[nTfv, 1], Vp[nTfv, 2], 'C1')\n",
    "\n",
    "    eTf = Line3DCollection(np.hstack([Ep[Tfe, 0, :], Ep[Tfe, 1, :]]).copy().reshape((-1,2,3)), colors='C0')\n",
    "    ax.add_collection(eTf)\n",
    "    nTfe = np.logical_not(Tfe)\n",
    "    eTf = Line3DCollection(np.hstack([Ep[nTfe, 0, :], Ep[nTfe, 1, :]]).copy().reshape((-1,2,3)), colors='C1')\n",
    "    ax.add_collection(eTf)\n",
    "\n",
    "    ax.view_init(azim=0, elev=0)\n",
    "\n",
    "    ax.set_aspect('equal')\n",
    "    plt.show()"
   ]
  },
  {
   "cell_type": "markdown",
   "metadata": {},
   "source": [
    "Then we determine the original radius of the particle, assuming the particle is incompressible. The total volume can be estimated by adding the volume of the tetrahedrons. The volume of a tetrahedron is calculated as:\n",
    "\n",
    "$$\n",
    "V_{0123}=\\frac{1}{6}\n",
    "\\begin{vmatrix}\n",
    " x_1 & y_1 & z_1 & 1\\\\ \n",
    " x_2 & y_2 & z_2 & 1\\\\ \n",
    " x_3 & y_3 & z_3 & 1\\\\ \n",
    " 0 & 0 & 0 & 1\\\\ \n",
    "\\end{vmatrix}\n",
    "$$"
   ]
  },
  {
   "cell_type": "code",
   "execution_count": 5,
   "metadata": {},
   "outputs": [
    {
     "name": "stdout",
     "output_type": "stream",
     "text": [
      "V = 607.3097, r0 = 5.2534\n"
     ]
    }
   ],
   "source": [
    "tet = np.zeros((Fs.shape[0], 4, 4))\n",
    "tet[:,:-1,:-1] = Fp\n",
    "tet[:,:,-1] = 1\n",
    "vol = np.sum(np.linalg.det(tet)/6, axis=0)\n",
    "r0 = np.cbrt(vol/(4/3*np.pi))\n",
    "print('V = %.4f, r0 = %.4f'%(vol, r0))"
   ]
  },
  {
   "cell_type": "markdown",
   "metadata": {},
   "source": [
    "We need to solve the reverse problem of a deformed shape. We will try the following methods to tackle this problem:\n",
    "\n",
    "1. Assume $r$-direction deformation only\n",
    "2. LSQ solving spherical harmonic coefficients for the displacement field\n",
    "3. LSQ solving coeffs of the SH solutions for fitting both the traction-free boundary and the shape"
   ]
  },
  {
   "cell_type": "markdown",
   "metadata": {},
   "source": [
    "## 1. Assume $r$-direction deformation only\n",
    "\n",
    "First thing to try is assuming that the deformation only happens on $r$-direction."
   ]
  },
  {
   "cell_type": "code",
   "execution_count": 6,
   "metadata": {},
   "outputs": [],
   "source": [
    "# Vp -> ur (radial displacement) -> u1 (x,y,z)\n",
    "Vr = np.linalg.norm(Vp, axis=1)\n",
    "Vthe = np.arccos(Vp[:,2]/Vr)\n",
    "Vphi = np.arctan2(Vp[:,1], Vp[:,0])\n",
    "Vphi[Vphi < 0] += 2*np.pi\n",
    "Vlat = 90-np.rad2deg(Vthe)\n",
    "Vlon = np.rad2deg(Vphi)\n",
    "\n",
    "ur = (Vr - r0)/r0\n",
    "\n",
    "# displacement on the unit sphere\n",
    "#u1 = -(r0/Vr[:,np.newaxis]-1)*Vp/r0 #(Vr/r0-1)[...,np.newaxis]*Vp\n",
    "u1 = ur[:,np.newaxis] * (Vp/Vr[:,np.newaxis])\n",
    "\n",
    "# plot 2d map of the radial displacement\n",
    "if plot_figure:\n",
    "    pVlon = Vlon - 180\n",
    "    pVlon[pVlon < 0] += 360\n",
    "    plt.figure(figsize=(8,4))\n",
    "    plt.tripcolor(pVlon, Vlat, ur)\n",
    "    plt.colorbar()\n",
    "    plt.axis('equal')\n",
    "    plt.xlim(0, 360)\n",
    "    plt.ylim(-90, 90)\n",
    "    plt.show()"
   ]
  },
  {
   "cell_type": "markdown",
   "metadata": {},
   "source": [
    "# NOTE: All the displacements are normalized with $r_0$, and tractions are normalized with $\\mu_0$"
   ]
  },
  {
   "cell_type": "markdown",
   "metadata": {},
   "source": [
    "The following block shows an incorrect approach where the displacements are fitted separately in each Cartesian elements, which will introduce shear displacement later."
   ]
  },
  {
   "cell_type": "markdown",
   "metadata": {},
   "source": [
    "Instead, we expand $u_r$ and obtain regular grid representation, then obtain $u_x,u_y,u_z$ from regular $u_r$ ($u_\\theta=u_\\varphi=0$)."
   ]
  },
  {
   "cell_type": "code",
   "execution_count": 7,
   "metadata": {},
   "outputs": [
    {
     "name": "stdout",
     "output_type": "stream",
     "text": [
      "0.11092364380079092\n",
      "kind = 'real'\n",
      "normalization = '4pi'\n",
      "csphase = 1\n",
      "lmax = 20\n",
      "header = None\n"
     ]
    }
   ],
   "source": [
    "urcilm, chi2 = pyshtools.expand.SHExpandLSQ(ur, Vlat, Vlon, lmax=lJmax)\n",
    "print(chi2)\n",
    "urcoeffs = pyshtools.SHCoeffs.from_array(urcilm)\n",
    "urcoeffs.info()\n",
    "spec_before = urcoeffs.spectrum(unit='per_lm')\n",
    "\n",
    "if plot_figure:\n",
    "    fig,ax=urcoeffs.plot_spectrum(unit='per_lm')"
   ]
  },
  {
   "cell_type": "code",
   "execution_count": 8,
   "metadata": {},
   "outputs": [],
   "source": [
    "from scipy.special import erfc\n",
    "# damp the high order coefficients\n",
    "lmax_mean = lmax_work + np.int(lmax_buf/2);\n",
    "ldamp = erfc((l_coeffs(lJmax) - lmax_mean)/(lmax_buf/4))/2\n",
    "\n",
    "urcoeffs = pyshtools.SHCoeffs.from_array(urcilm*ldamp)\n",
    "spec_after = urcoeffs.spectrum(unit='per_lm')\n",
    "\n",
    "\n",
    "if plot_figure:\n",
    "    plt.figure(figsize=(10,4))\n",
    "    plt.subplot(121)\n",
    "    plt.plot(ldamp[0,:,0])\n",
    "    plt.subplot(122)\n",
    "    plt.semilogy(spec_before); plt.semilogy(spec_after);\n",
    "    plt.legend(['before damping', 'after damping'])\n",
    "    plt.show()\n"
   ]
  },
  {
   "cell_type": "code",
   "execution_count": 9,
   "metadata": {},
   "outputs": [
    {
     "name": "stdout",
     "output_type": "stream",
     "text": [
      "kind = 'real'\n",
      "grid = 'GLQ'\n",
      "nlat = 81\n",
      "nlon = 161\n",
      "lmax = 80\n"
     ]
    }
   ],
   "source": [
    "urgrid = urcoeffs.pad(lmax=lmax_plot).expand('GLQ')\n",
    "urgrid.info()\n",
    "\n",
    "if plot_figure:\n",
    "    urgrid_plot = urgrid.copy()\n",
    "    urgrid_plot.data = np.roll(urgrid.data, lmax_plot+1, axis=1)\n",
    "    fig, ax = urgrid_plot.plot()"
   ]
  },
  {
   "cell_type": "code",
   "execution_count": 10,
   "metadata": {},
   "outputs": [
    {
     "name": "stdout",
     "output_type": "stream",
     "text": [
      "(81, 161, 3, 3)\n",
      "(81, 161, 3)\n"
     ]
    }
   ],
   "source": [
    "# Convert Back to ux,uy,uz on regular mesh\n",
    "Q = TransMat(lJmax=lmax_plot)\n",
    "print(Q.shape)\n",
    "u1a = urgrid.data[:,:,np.newaxis]*Q[:,:,0,:]\n",
    "print(u1a.shape)"
   ]
  },
  {
   "cell_type": "code",
   "execution_count": 11,
   "metadata": {},
   "outputs": [],
   "source": [
    "# Construct initial guess AK\n",
    "# decompose the displacement field into spherical harmonic coefficients\n",
    "U1avec0 = [None for _ in range(3)]\n",
    "for k in range(3):\n",
    "    u1agrid = pyshtools.SHGrid.from_array(u1a[...,k].astype(np.complex), grid='GLQ')\n",
    "    u1acoeffs = u1agrid.expand().pad(lmax=lJmax)\n",
    "    U1avec0[k] = SHCilmToVector(u1acoeffs.to_array())\n",
    "U1avec0 = np.hstack(U1avec0)\n",
    "\n",
    "if plot_figure:\n",
    "    print('Displacement in Spherical Coordinates...')\n",
    "    fig, ax = visSHVec(U1avec0*r0, lmax_plot=80, SphCoord=True, Complex=True, s_vrange=(0,0.01),\n",
    "                           config_quiver=(2, 3, 'k', 0.2), lonshift=180, figsize=(6,3))\n",
    "    \n",
    "if plot_figure:\n",
    "    print('Displacement SH Coefficients...U1avec0')\n",
    "    plt.plot(np.abs(U1avec0))\n",
    "    plt.ylim(0,0.001)\n",
    "    plt.show()\n",
    "\n",
    "from scipy.sparse.linalg import spsolve, cgs\n",
    "AK_init = spsolve(Dmat.tocsc(), U1avec0.T);\n",
    "\n",
    "if plot_figure:\n",
    "    print('solution coefficients...AK')\n",
    "    plt.plot(np.abs(AK_init)); \n",
    "    plt.ylim(0,0.001);\n",
    "    plt.show();"
   ]
  },
  {
   "cell_type": "markdown",
   "metadata": {},
   "source": [
    "## 2. LSQ solving SH coeffs for displacement field\n",
    "\n",
    "Obviously, the decomposition is not satisfactory. It is not reasonable to assume the deformation is only on $r$-direction. In this section, we will try to optimize SH coeffs, so that the deformed shape is closest to the data. Notice that the integral of a spherical harmonic function on the sphere surface is:\n",
    "\n",
    "$$\n",
    "\\int_0^{2\\pi}\\!\\int_0^{\\pi}Y_l^m(\\theta,\\varphi)\\sin\\theta d\\theta d\\varphi = 4\\pi\\delta_{l0}\\delta_{m0}\n",
    "$$\n",
    "\n",
    "Therefore, only the $Y_0^0$ term controls the rigid body translation (constant). If we only impose higher mode spherical harmonics, there will be no rigid body motion. But here we will impose the coefficient for $Y_0^0$ to obtain the rigid body motion."
   ]
  },
  {
   "cell_type": "markdown",
   "metadata": {},
   "source": [
    "### 2.1 Developing distance function and neighbor list\n",
    "\n",
    "We first develop the distance function of the point sets to the surface. The distance of a point $x$ to the surface is defined as: $d(x) = \\min[d_{v}(x), d_{e}(x), d_{f}(x)]$, where $d_v(x)$, $d_e(x)$, $d_f(x)$ are the closest distances of $x$ to the vertices, edges, and faces respectively.\n",
    "\n",
    "* For a vertex $v=(v_1,v_2,v_3)^T$, $d_v(x)=\\|\\mathbf{x-v}\\|_2$. The test script is attached."
   ]
  },
  {
   "cell_type": "code",
   "execution_count": 12,
   "metadata": {
    "scrolled": true
   },
   "outputs": [],
   "source": [
    "def d2v(Xs, Xv, avg_dist=True, vert_weight=1):\n",
    "    #### point-to-point distance\n",
    "    ## Xs: points for testing (..., 3); \n",
    "    ## Xv: m data points (m, 3);\n",
    "    ## avg_dist: if True, calculate the average shape difference per node\n",
    "    ## vert_weight: the weighing function for different coordinates (3, )\n",
    "    d2vmat = np.linalg.norm((Xs[..., np.newaxis, :]-Xv)*vert_weight, axis=-1)   # pair-wise distances (..., m)\n",
    "    if avg_dist:\n",
    "        return d2vmat.min(axis=-1).mean()\n",
    "    else:\n",
    "        return d2vmat"
   ]
  },
  {
   "cell_type": "markdown",
   "metadata": {},
   "source": [
    "* For an edge $e=(r_1, r_2)$, the projection point $\\vec{r_1q}$ on $\\vec{r_1r_2}$ is \n",
    "$$\n",
    "\\vec{r_1q} = \\frac{\\vec{r_1x}\\cdot\\vec{r_1r_2}}{\\|\\vec{r_1r_2}\\|}\\,\\frac{\\vec{r_1r_2}}{\\|\\vec{r_1r_2}\\|}\n",
    "$$\n",
    "\n",
    "The projection is in the interval $r_1r_2$ if $t=\\|\\vec{r_1q}\\|/\\|\\vec{r_1r_2}\\|\\in(0,1)$. \n",
    "Thus, the distance to the edge is calculated as:\n",
    "$$\n",
    "d_e(x)=\n",
    "\\begin{cases}\n",
    "\\|\\vec{r_1x}\\|,\\; t\\le0 \\\\\n",
    "\\|\\vec{qx}\\|,\\; 0<t\\le1 \\\\\n",
    "\\|\\vec{r_2x}\\|,\\; t>1 \n",
    "\\end{cases}\n",
    "$$\n",
    "A test case is attached here."
   ]
  },
  {
   "cell_type": "code",
   "execution_count": 13,
   "metadata": {
    "scrolled": true
   },
   "outputs": [],
   "source": [
    "def d2e(Xs, Xe, e_cached=None, avg_dist=True, infval=False, debug=False):\n",
    "    #### point-to-edge distance\n",
    "    ## Xs: points for testing (..., 3); \n",
    "    ## Xe: m edges from data (m, 2, 3);\n",
    "    ## avg_dist: if True, calculate the average shape difference per node\n",
    "    ## infval: if True, the projection outside the edge will be consider infinite distance\n",
    "    ## debug: output info for debug/testing\n",
    "    if e_cached is None:\n",
    "        r1 = Xe[..., 0, :]; r2 = Xe[..., 1, :]; r12 = r2 - r1;        # m x 3, edge vertices\n",
    "        l12 = np.linalg.norm(r12, axis=-1)                            # m,     edge length\n",
    "    else:\n",
    "        r1, r12, l12 = e_cached\n",
    "    t = np.sum((Xs[..., np.newaxis, :]-r1)*r12, axis=-1)/l12**2   # n x m,     projection ratio\n",
    "    t_cal = t.copy(); t_cal[t<0] = 0; t_cal[t>1] = 1;             # a copy of t for calculation\n",
    "    q = r1 + (t_cal[...,np.newaxis]*r12)                          # n x m x 3, projection point\n",
    "    d2emat = np.linalg.norm(Xs[..., np.newaxis, :] - q, axis=-1)  # n x m\n",
    "    if infval:\n",
    "        d2emat[np.logical_or(t<0, t>1)] = np.inf\n",
    "    if avg_dist:\n",
    "        return d2emat.min(axis=-1).mean()\n",
    "    else:\n",
    "        if debug:\n",
    "            dr1 = np.linalg.norm(Xs[..., np.newaxis, :] - r1, axis=-1)\n",
    "            dr2 = np.linalg.norm(Xs[..., np.newaxis, :] - r2, axis=-1)\n",
    "            return (d2emat, q, dr1, dr2)\n",
    "        else:\n",
    "            return d2emat"
   ]
  },
  {
   "cell_type": "markdown",
   "metadata": {},
   "source": [
    "* For a face $f=(r_1, r_2, r_3)$, the normal vector:\n",
    "$$\n",
    "n = \\frac{\\vec{r_1r_2}\\times\\vec{r_1r_3}}{\\|\\vec{r_1r_2}\\times\\vec{r_1r_3}\\|}\n",
    "$$\n",
    "Then the distance can be calculated as:\n",
    "$$\n",
    "d_f(x)=\\|\\vec{r_1x}\\cdot\\vec{n}\\|\n",
    "$$\n",
    "if the projection point $q$ is in the triangle, where $q = x - (\\vec{r_1x}\\cdot\\vec{n})\\vec{n}$.\n",
    "\n",
    "To test this, we calculate the barycentric coordinates of $q$:\n",
    "$$\n",
    "b_3 = \\frac{\\|r_1\\|^2\\times(\\vec{r_1r_3}\\cdot\\vec{r_1q})-\n",
    "            (\\vec{r_1r_2}\\cdot\\vec{r_1r_3})\\times(\\vec{r_1r_2}\\cdot\\vec{r_1q})}\n",
    "           {\\|r_1\\|^2\\|r_2\\|^2-(\\vec{r_1r_2}\\cdot\\vec{r_1r_3})^2}\\\\\n",
    "b_2 = \\frac{\\|r_2\\|^2\\times(\\vec{r_1r_2}\\cdot\\vec{r_1q})-\n",
    "            (\\vec{r_1r_2}\\cdot\\vec{r_1r_3})\\times(\\vec{r_1r_3}\\cdot\\vec{r_1q})}\n",
    "           {\\|r_1\\|^2\\|r_2\\|^2-(\\vec{r_1r_2}\\cdot\\vec{r_1r_3})^2}\\\\\n",
    "b_1 = 1 - b_2 - b_3\n",
    "$$\n",
    "\n",
    "If any $b_i < 0$, $q$ is outside of the triangle, we then calculate the point edge distances $d_e(x)$ instead."
   ]
  },
  {
   "cell_type": "code",
   "execution_count": 14,
   "metadata": {},
   "outputs": [],
   "source": [
    "def generate_fcache(Xf):\n",
    "    r0 = Xf[..., 0, :]; r1 = Xf[..., 1, :]; r2 = Xf[..., 2, :];    # m x 3\n",
    "    nf = np.cross(r1-r0, r2-r0)                                    # normal vector\n",
    "    nf = nf / np.linalg.norm(nf, axis=-1)[...,np.newaxis]          # m x 3\n",
    "    r11 = np.sum((r2 - r0)**2, axis=-1)                            # m\n",
    "    r00 = np.sum((r1 - r0)**2, axis=-1)                            # m\n",
    "    r01 = np.sum((r1-r0)*(r2-r0), axis=-1)                         # m\n",
    "    d = r11*r00 - r01*r01                                          # m\n",
    "    return r0, r1, r2, nf, r00, r11, r01, d\n",
    "\n",
    "def d2f(Xs, Xf, f_cached=None, avg_dist=True, infval=False, debug=False, vert_weight=1, fasteval=False):\n",
    "    #### point-to-face distance\n",
    "    ## Xs: points for testing (..., 3); \n",
    "    ## Xf: m faces from data (m, 3, 3);\n",
    "    ## avg_dist: if True, calculate the average shape difference per node\n",
    "    ## infval: if True, the projection outside the face will be consider infinite distance\n",
    "    ## debug: output info for debug/testing\n",
    "    ## vert_weight: the weighing function for different coordinates (3, )\n",
    "    ## fasteval: if True, only calculate the point-vertex distances for estimation.\n",
    "\n",
    "    if fasteval:\n",
    "        d2fmat = np.linalg.norm(Xs[...,np.newaxis,np.newaxis,:] - Xf, axis=-1).min(axis=-1)\n",
    "    else:\n",
    "        if f_cached is None:\n",
    "            f_cached = generate_fcache(Xf)\n",
    "        r0, r1, r2, nf, r00, r11, r01, d = f_cached\n",
    "        pq = np.sum((Xs[...,np.newaxis,:]-r0)*nf*vert_weight, axis=-1)     # n x m\n",
    "        q = Xs[...,np.newaxis,:] - pq[...,np.newaxis]*nf               # n x m x 3, projection point\n",
    "        d2fmat = np.abs(pq)                                            # n x m\n",
    "\n",
    "        # determine the barycentric coordinate of q\n",
    "        r12  = np.sum((r2-r0)*(q-r0), axis=-1)                         # n x m\n",
    "        r02  = np.sum((r1-r0)*(q-r0), axis=-1)                         # n x m\n",
    "        bary = np.zeros_like(q)                                        # n x m x 3\n",
    "        bary[...,2] = (r00*r12-r01*r02)/d\n",
    "        bary[...,1] = (r11*r02-r01*r12)/d\n",
    "        bary[...,0] = 1 - bary[...,1] - bary[...,2]\n",
    "        out = np.any(bary < 0, axis=-1)                                # n x m\n",
    "\n",
    "        # determine the closest point on the edges\n",
    "        Xfv= np.broadcast_to(Xf, q.shape+(3,))[out]                    # n_out x 3 x 3\n",
    "        Xp = np.broadcast_to(Xs[...,np.newaxis,:], q.shape)[out]       # n_out x 3\n",
    "        ve = np.roll(Xfv, 1, axis=-2)-Xfv                              # n_out x 3 x 3\n",
    "        le = np.linalg.norm(ve, axis=-1)                               # n_out x 3\n",
    "        ts = np.sum(ve*(Xp[...,np.newaxis,:]-Xfv), axis=-1)/le**2      # n_out x 3\n",
    "        ts[ts > 1] = 1; ts[ts < 0] = 0;\n",
    "        qs = Xfv+(ts[...,np.newaxis]*ve)\n",
    "        dq = np.linalg.norm(((Xp[...,np.newaxis,:]-qs)*vert_weight), axis=-1)       # n_out x 3\n",
    "        d2fmat[out] = np.min(dq, axis=-1)\n",
    "        if debug:\n",
    "            return (d2fmat, q)\n",
    "        else:\n",
    "            return d2fmat\n",
    "\n",
    "    if avg_dist:\n",
    "        return d2fmat.min(axis=-1).mean()\n",
    "    else:\n",
    "        return d2fmat"
   ]
  },
  {
   "cell_type": "markdown",
   "metadata": {},
   "source": [
    "With the distance function ready, we can develop the neighbor list by choosing the closest 70 vertices, edges and faces to the points:"
   ]
  },
  {
   "cell_type": "code",
   "execution_count": 15,
   "metadata": {
    "scrolled": true
   },
   "outputs": [],
   "source": [
    "# Shape of the initial guess U1avec0: Xt = X0 + u1a\n",
    "\n",
    "latsdeg, lonsdeg = pyshtools.expand.GLQGridCoord(lJmax)\n",
    "lon = np.deg2rad(lonsdeg)\n",
    "colat = np.deg2rad(90-latsdeg)\n",
    "PHI, THETA = np.meshgrid(lon, colat)\n",
    "R = np.ones_like(PHI)\n",
    "X,Y,Z = SphCoord_to_CartCoord(R, THETA, PHI)\n",
    "X0 = np.stack([X,Y,Z], axis=-1)\n",
    "\n",
    "Xt = X0 + SHVec2mesh(U1avec0, lmax=lJmax, SphCoord=False, Complex=True)"
   ]
  },
  {
   "cell_type": "code",
   "execution_count": 16,
   "metadata": {},
   "outputs": [
    {
     "name": "stdout",
     "output_type": "stream",
     "text": [
      "Neighbor list: (21, 41, 10, 3) (21, 41, 10, 2, 3) (21, 41, 10, 3, 3)\n"
     ]
    }
   ],
   "source": [
    "file_neigh = shapename+'_neigh%d_lmax%d'%(n_list, lJmax)+smoothed+dilated\n",
    "if not os.path.exists(file_neigh+'.npz'):\n",
    "    Xneigh, Eneigh, Fneigh = generate_neighbor_list(Xt, Xref=Vp/r0, Eref=Ep/r0, Fref=Fp/r0, filename=file_neigh, n_list=n_list)\n",
    "\n",
    "Xneigh = np.load(file_neigh+'_Xneigh.npz')['Xneigh'][...,:n_load,:]\n",
    "Eneigh = np.load(file_neigh+'_Eneigh.npz')['Eneigh'][...,:n_load,:,:]\n",
    "Fneigh = np.load(file_neigh+'_Fneigh.npz')['Fneigh'][...,:n_load,:,:]\n",
    "print('Neighbor list:', Xneigh.shape, Eneigh.shape, Fneigh.shape)"
   ]
  },
  {
   "cell_type": "markdown",
   "metadata": {},
   "source": [
    "Visualize the neighbor list on deformed shape:"
   ]
  },
  {
   "cell_type": "code",
   "execution_count": 17,
   "metadata": {
    "scrolled": false
   },
   "outputs": [],
   "source": [
    "if plot_figure:\n",
    "    i = 6; j = 31; k = 10\n",
    "    fig = plt.figure(figsize=(12,8))\n",
    "    ax = fig.add_subplot(111, projection='3d')\n",
    "    ax.scatter3D(Xt[0:k,:, 0], Xt[0:k,:, 1], Xt[0:k,:, 2])\n",
    "    ax.scatter3D(Xt[i, j, 0], Xt[i, j, 1], Xt[i, j, 2], s=200)\n",
    "    ax.scatter3D(Xneigh[i, j, :, 0], Xneigh[i, j, :, 1], Xneigh[i, j, :, 2], marker = '^')\n",
    "    ax.view_init(azim=-90, elev=0)\n",
    "    ax.set_zlim3d(0, 1); ax.set_xlim3d(-0.5, 0.5); ax.set_ylim3d(-1, 0)\n",
    "    plt.show()"
   ]
  },
  {
   "cell_type": "markdown",
   "metadata": {},
   "source": [
    "### 2.2  From `uvec` to the shape difference\n",
    "\n",
    "After we obtain the neighbor list, the shape can be obtained from the real SH vector `uvec`. This can be used for the optimization of the shape."
   ]
  },
  {
   "cell_type": "code",
   "execution_count": 18,
   "metadata": {},
   "outputs": [],
   "source": [
    "from SHUtil import LM_list\n",
    "# err_ratio = 1/3.2\n",
    "# lat_weights = (((1-err_ratio)*np.sin(colat)+err_ratio)**2).reshape(-1,1,1,1)\n",
    "lat_weights = np.sin(THETA)**2\n",
    "vert_weight = np.array([1,1,1./3])**2\n",
    "l_list, m_list = LM_list(lJmax)\n",
    "\n",
    "def coeffs2dist(xvec, Xt=None, f_cached=None, lmax=None, X0=None, Complex=False, \n",
    "                lat_weights=1, vert_weight=1, l_weight=None, debug=False):\n",
    "    #### shape difference from SH vectors\n",
    "    ## xvec: Input real SH vector (3x(lmax+1)^2)\n",
    "    ## Xt: Input shape data (nv x 3) or (nf x 3 x 3); can be full list or neighbor list\n",
    "    ## f_cached: Default None, Xt is the coordinates of vertices; otherwise, Xt is the\n",
    "    ##          coordinates of faces, and f_cached provides the pre-calculated values.\n",
    "    ## lmax, X0: pre-calculated parameters for speed-up. Explained in the code.\n",
    "    ## Complex: Default False, xvec is the real SH vector using pyshtools.shio.SHVectorToCilm;\n",
    "    ##          otherwise, it will be complex SH vector using SHUtil.SHVectorToCilm;\n",
    "    ## lat_weights: weighing function for different densities of nodes on different lattitudes.\n",
    "    ## vert_weight: weighing function for different error in different directions\n",
    "    ## l_weight: weighing function for coefficients (anti-aliasing)\n",
    "    if lmax is None:\n",
    "        lmax = np.sqrt(xvec.size/3).astype(np.int) - 1\n",
    "    nvec = (lmax+1)**2\n",
    "    cvec = xvec.reshape(3, nvec)\n",
    "    # expand the displacement field onto a mesh\n",
    "    umesh= [None for _ in range(3)]\n",
    "    for k in range(3):\n",
    "        if Complex:\n",
    "            cilm = SHVectorToCilm(cvec[k, :])\n",
    "        else:\n",
    "            cilm = pyshtools.shio.SHVectorToCilm(cvec[k, :])\n",
    "        coeffs = pyshtools.SHCoeffs.from_array(cilm)\n",
    "        grid = coeffs.expand('GLQ')\n",
    "        umesh[k] = grid.to_array().real\n",
    "    umesh = np.stack(umesh, axis=-1)\n",
    "    # calculate the shape\n",
    "    if X0 is None:\n",
    "        lon = np.deg2rad(grid.lons())\n",
    "        colat = np.deg2rad(90-grid.lats())\n",
    "        PHI, THETA = np.meshgrid(lon, colat)\n",
    "        R = np.ones_like(PHI)\n",
    "        X,Y,Z = SphCoord_to_CartCoord(R, THETA, PHI)\n",
    "        X0 = np.stack([X,Y,Z], axis=-1)\n",
    "    Xs = X0 + umesh\n",
    "\n",
    "    if f_cached is None:\n",
    "        d2surfsum = np.sum(((Xs[..., np.newaxis, :]-Xt))**2*vert_weight, axis=-1)\n",
    "        d2surf = d2surfsum.min(axis=-1)\n",
    "        if debug:\n",
    "            return d2surfsum\n",
    "    else:\n",
    "        #d2surf = d2f(Xs, Xt, f_cached=f_cached, avg_dist=False, vert_weight=vert_weight).min(axis=-1)\n",
    "        r0, r1, r2, nf, r00, r11, r01, d = f_cached; Xf = Xt;\n",
    "        pq = np.sum((Xs[...,np.newaxis,:]-r0)*nf, axis=-1)             # n x m\n",
    "        q = Xs[...,np.newaxis,:] - pq[...,np.newaxis]*nf               # n x m x 3, projection point\n",
    "        d2fmat = np.sum(((Xs[...,np.newaxis,:]-r0)*nf)**2*vert_weight, axis=-1)   # n x m\n",
    "\n",
    "        # determine the barycentric coordinate of q\n",
    "        r12  = np.sum((r2-r0)*(q-r0), axis=-1)                         # n x m\n",
    "        r02  = np.sum((r1-r0)*(q-r0), axis=-1)                         # n x m\n",
    "        bary = np.zeros_like(q)                                        # n x m x 3\n",
    "        bary[...,2] = (r00*r12-r01*r02)/d\n",
    "        bary[...,1] = (r11*r02-r01*r12)/d\n",
    "        bary[...,0] = 1 - bary[...,1] - bary[...,2]\n",
    "        out = np.any(bary < 0, axis=-1)                                # n x m\n",
    "\n",
    "        # determine the closest point on the edges\n",
    "        Xfv= np.broadcast_to(Xf, q.shape+(3,))[out]                    # n_out x 3 x 3\n",
    "        Xp = np.broadcast_to(Xs[...,np.newaxis,:], q.shape)[out]       # n_out x 3\n",
    "        ve = np.roll(Xfv, 1, axis=-2)-Xfv                              # n_out x 3 x 3\n",
    "        le = np.linalg.norm(ve, axis=-1)                               # n_out x 3\n",
    "        ts = np.sum(ve*(Xp[...,np.newaxis,:]-Xfv), axis=-1)/le**2      # n_out x 3\n",
    "        ts[ts > 1] = 1; ts[ts < 0] = 0;\n",
    "        qs = Xfv+(ts[...,np.newaxis]*ve)\n",
    "        dq = np.sum(((Xp[...,np.newaxis,:]-qs))**2*vert_weight, axis=-1)       # n_out x 3\n",
    "        d2fmat[out] = np.min(dq, axis=-1)\n",
    "        d2surf = d2fmat.min(axis=-1)\n",
    "        if debug:\n",
    "            return d2fmat\n",
    "    \n",
    "    if l_weight is None:\n",
    "        regularization = 0\n",
    "    else:\n",
    "        regularization = np.linalg.norm(np.tile(l_weight, 3)*xvec)\n",
    "    return np.mean(d2surf*lat_weights) + regularization*0.05"
   ]
  },
  {
   "cell_type": "markdown",
   "metadata": {},
   "source": [
    "### 2.3 Target function including shape and traction"
   ]
  },
  {
   "cell_type": "code",
   "execution_count": 19,
   "metadata": {},
   "outputs": [
    {
     "name": "stdout",
     "output_type": "stream",
     "text": [
      "A_weight.shape = (1323,)\n"
     ]
    }
   ],
   "source": [
    "# Define weights and traction free region\n",
    "x0 = Xt;\n",
    "dist2mat = np.linalg.norm(x0[..., np.newaxis, :] - Vp/r0, axis=-1)\n",
    "arg_list_x = dist2mat.argmin(axis=-1)\n",
    "isTfv = Tfv[arg_list_x]\n",
    "\n",
    "Q = TransMat(lJmax=lJmax)           # transformation matrix from Cartesian to Spherical Coordinates\n",
    "l_list, m_list = LM_list(lJmax)\n",
    "ndamp = ((lJmax+1)**2 - (lJmax+1-lmax_buf)**2)*3\n",
    "l_weight = l_list - (lJmax - lmax_buf); l_weight[l_weight < 0] = 0; l_weight = np.exp(l_weight) - 1;\n",
    "A_weight = np.tile(l_weight, 3)\n",
    "\n",
    "print(\"A_weight.shape =\",A_weight.shape)\n",
    "if plot_figure:\n",
    "    plt.plot(A_weight); \n",
    "    plt.show()"
   ]
  },
  {
   "cell_type": "code",
   "execution_count": 20,
   "metadata": {},
   "outputs": [],
   "source": [
    "def sol2dist(aK, Cmat, Dmat, alpha = 0.05, beta=0.05, separate=False, f_cached=None, lmax=None, X0=None, Xt=None,\n",
    "             lat_weights=np.ones_like(THETA), vert_weight=1, l_weight=None):\n",
    "    #vert_weight = 1; lat_weights = 1;\n",
    "    Tvec = Cmat.dot(aK)\n",
    "    Uvec = Dmat.dot(aK)\n",
    "    nvec = (lmax+1)**2\n",
    "    tcvec = Tvec.reshape(3, -1)\n",
    "    # expand the displacement and traction field onto a mesh\n",
    "    tmesh = np.empty((lmax+1, 2*lmax+1, 3))\n",
    "    for k in range(3):\n",
    "        tcilm = SHVectorToCilm(tcvec[k, :])\n",
    "        tgrid = pyshtools.SHCoeffs.from_array(tcilm).expand('GLQ')\n",
    "        tmesh[..., k] = tgrid.to_array().real\n",
    "    \n",
    "    Udist = coeffs2dist(Uvec, Xt=Xt, f_cached=f_cached, lmax=lmax, X0=X0, Complex=True,\n",
    "                        lat_weights=lat_weights, vert_weight=vert_weight)\n",
    "    tvalues = np.sum(tmesh[isTfv, :]**2*vert_weight, axis=-1)\n",
    "    Tdist = np.mean(tvalues*lat_weights[isTfv])\n",
    "    regularization = np.vdot(aK, aK*l_weight).real\n",
    "    if separate:\n",
    "        return (Udist, Tdist, regularization)\n",
    "    return (Udist + alpha*Tdist + beta*regularization)"
   ]
  },
  {
   "cell_type": "code",
   "execution_count": 21,
   "metadata": {},
   "outputs": [
    {
     "name": "stdout",
     "output_type": "stream",
     "text": [
      "node-node distances: [0.00041294 0.00053812 0.00086914 0.00189962 0.00242521 0.00290199\n",
      " 0.00308596 0.00318361 0.00323279 0.00467144]\n",
      "total distance with cache: [5.45834205e-05 1.02659006e-02 1.12465948e-02 1.40109437e-02\n",
      " 2.03209762e-02 2.03209762e-02 2.18495948e-02 2.23194599e-02\n",
      " 2.31973621e-02 2.31973621e-02] 0.0006382465362548828 s\n"
     ]
    }
   ],
   "source": [
    "# Test objection functions\n",
    "plot_figure= False\n",
    "i = 0; j = 0; k = 10\n",
    "\n",
    "if plot_figure:\n",
    "    fig = plt.figure(figsize=(12,6))\n",
    "    ax = fig.add_subplot(111, projection='3d')\n",
    "    ax.scatter3D(Xt[i, j, 0], Xt[i, j, 1], Xt[i, j, 2], s=200)\n",
    "    ax.scatter3D(Xneigh[i, j, :, 0], Xneigh[i, j, :, 1], Xneigh[i, j, :, 2], marker = '^')\n",
    "    ax.view_init(azim=-90, elev=90)\n",
    "    ax.set_zlim3d(0, 1); ax.set_xlim3d(-0.5, 0.5); ax.set_ylim3d(-1, 0)\n",
    "\n",
    "Xs = Xt[i,j,:]\n",
    "Xf = Fneigh[i,j,...]\n",
    "\n",
    "d2vmat = d2v(Xs, Xneigh[i,j,...], avg_dist=False)\n",
    "print('node-node distances:', np.sort(d2vmat)**2)\n",
    "\n",
    "Xv = Xf.reshape(-1, 3)\n",
    "Xe = np.vstack([np.stack([Xf[0,:,:], np.roll(Xf[0,:,:], 1, axis=0)], axis=1),\n",
    "                np.stack([Xf[1,:,:], np.roll(Xf[1,:,:], 1, axis=0)], axis=1)])\n",
    "tic = time.time()\n",
    "d2fmat, q = d2f(Xs, Xf, avg_dist=False, debug=True);\n",
    "toc = time.time()\n",
    "\n",
    "\n",
    "q = np.squeeze(q)\n",
    "d2e1, q1, _, _ = d2e(Xs, np.stack([Xf[0,:,:], np.roll(Xf[0,:,:], 1, axis=0)], axis=1), avg_dist=False, debug=True)\n",
    "d2e2, q2, _, _ = d2e(Xs, np.stack([Xf[1,:,:], np.roll(Xf[1,:,:], 1, axis=0)], axis=1), avg_dist=False, debug=True)\n",
    "q1 = q1.squeeze(); q2 = q2.squeeze();\n",
    "\n",
    "if plot_figure:\n",
    "    fig = plt.figure(figsize=(12,6))\n",
    "    ax = fig.add_subplot(111, projection='3d')\n",
    "\n",
    "    ax.scatter3D(Xs[..., 0], Xs[..., 1], Xs[..., 2], 'C1',s=400) # nodepoint\n",
    "    ax.scatter3D(Xv[..., 0], Xv[..., 1], Xv[..., 2], 'C0')       # neighbor list\n",
    "    ax.scatter3D(q[..., 0], q[..., 1], q[..., 2], 'C2')          # projection point\n",
    "\n",
    "f_cached = generate_fcache(Xf)\n",
    "tic = time.time(); d2fmat = d2f(Xs, Xf, f_cached=f_cached); toc = time.time()\n",
    "print('total distance with cache:', d2fmat, toc-tic, 's')\n",
    "\n",
    "if plot_figure:\n",
    "    edges = Line3DCollection(np.hstack([Xe[:,0,:], Xe[:,1,:]]).reshape((-1,2,3)), colors='C0')\n",
    "    ax.add_collection(edges)\n",
    "    lines_3d = Line3DCollection(np.hstack([np.broadcast_to(Xs, Xv.shape), Xv]).reshape((-1,2,3)), colors='C1')\n",
    "    ax.add_collection(lines_3d)\n",
    "    projection = Line3DCollection(np.hstack([np.broadcast_to(Xs, q.shape), q]).reshape((-1,2,3)), colors='C2')\n",
    "    ax.add_collection(projection)\n",
    "    projection1 = Line3DCollection(np.hstack([np.broadcast_to(Xs, q1.shape), q1]).reshape((-1,2,3)), colors='C3')\n",
    "    ax.add_collection(projection1)\n",
    "    projection2 = Line3DCollection(np.hstack([np.broadcast_to(Xs, q2.shape), q2]).reshape((-1,2,3)), colors='C3')\n",
    "    ax.add_collection(projection2)\n",
    "    ax.view_init(azim=-90, elev=90)\n",
    "    #ax.set_aspect('equal')\n",
    "    plt.show()"
   ]
  },
  {
   "cell_type": "markdown",
   "metadata": {},
   "source": [
    "We use the solution we obtained from Section 1 `Uvec_real` for the testing:"
   ]
  },
  {
   "cell_type": "code",
   "execution_count": 22,
   "metadata": {},
   "outputs": [
    {
     "name": "stdout",
     "output_type": "stream",
     "text": [
      "Calculate node-node distances without and with weights...\n",
      "minimum distances squared from all mesh points:\n",
      "[4.12942075e-04 4.39097461e-04 3.68272068e-04 2.39775618e-04\n",
      " 4.39207405e-04 2.79120237e-04 7.22723612e-05 2.90264648e-04\n",
      " 6.25594973e-05 4.05427604e-04 2.59359286e-04 2.84113359e-04\n",
      " 3.46861738e-04 2.17017986e-04 1.44165058e-04 4.18269262e-04\n",
      " 1.61257191e-04 2.78033176e-04 3.54932611e-04 2.81402177e-04\n",
      " 4.36785977e-04]\n",
      "mean of minimum distances squared: 0.0002848068088642568\n",
      "compare only neighbor list: dist = 0.00028481, time = 0.0049\n",
      "Calculate target function using alpha= 0 beta = 0\n",
      "compare only neighbor list: dist = 0.00028481, time = 0.0099\n",
      "Calculate target function using alpha= 0.1 beta = 0.05\n",
      "compare only neighbor list: dist = 0.62886193, time = 0.0095\n"
     ]
    }
   ],
   "source": [
    "print('Calculate node-node distances without and with weights...')\n",
    "\n",
    "tic = time.time()\n",
    "dist_test = coeffs2dist(U1avec0, Xneigh, lmax=lJmax, X0=X0, Complex=True,debug=True)\n",
    "toc = time.time()\n",
    "print(\"minimum distances squared from all mesh points:\")\n",
    "print(dist_test.min(axis=-1)[:,0])\n",
    "print(\"mean of minimum distances squared:\", dist_test.min(axis=-1).mean())\n",
    "#print('compare only neighbor list: dist = %.8f, time = %.4f'%(dist_test, toc-tic))\n",
    "if plot_figure:\n",
    "    fig, ax = plotfv(dist_test.min(axis=-1), show=False)\n",
    "    ax.set_title('minimum distance squared on mesh points')\n",
    "    plt.show()\n",
    "\n",
    "tic = time.time()\n",
    "dist_test = coeffs2dist(U1avec0, Xneigh, lmax=lJmax, X0=X0, Complex=True)\n",
    "toc = time.time()\n",
    "print('compare only neighbor list: dist = %.8f, time = %.4f'%(dist_test, toc-tic))\n",
    "\n",
    "print('Calculate target function using alpha=',0,'beta =',0)\n",
    "tic = time.time()\n",
    "dist_test = sol2dist(AK_init, Cmat, Dmat, alpha = 0, beta = 0, separate=False, Xt=Xneigh, lmax=lJmax, X0=X0, l_weight=A_weight)\n",
    "toc = time.time()\n",
    "print('compare only neighbor list: dist = %.8f, time = %.4f'%(dist_test, toc-tic))\n",
    "\n",
    "print('Calculate target function using alpha=',myalpha,'beta =',mybeta)\n",
    "tic = time.time()\n",
    "dist_test = sol2dist(AK_init, Cmat, Dmat, alpha = myalpha, beta = mybeta, separate=False, Xt=Xneigh, lmax=lJmax, X0=X0, l_weight=A_weight)\n",
    "toc = time.time()\n",
    "print('compare only neighbor list: dist = %.8f, time = %.4f'%(dist_test, toc-tic))"
   ]
  },
  {
   "cell_type": "code",
   "execution_count": 23,
   "metadata": {},
   "outputs": [
    {
     "name": "stdout",
     "output_type": "stream",
     "text": [
      "Calculate node-face distances without weighing...\n",
      "minimum distances  squared from all mesh points:\n",
      "[1.70712712e-05 7.98553918e-05 6.35584026e-05 2.47514106e-05\n",
      " 4.33310538e-05 4.61812372e-06 1.15772921e-05 3.07766160e-06\n",
      " 9.19189672e-07 5.97795233e-06 1.42490583e-05 3.54720891e-05\n",
      " 6.45920232e-05 2.50279007e-06 3.62312862e-06 9.84245705e-06\n",
      " 1.98367870e-05 4.76198753e-06 1.19205448e-05 6.73213771e-08\n",
      " 3.33209716e-05]\n",
      "mean of minimum distances squared:  3.1607898175271724e-05\n",
      "compare only neighbor list: dist = 0.00003161, time = 0.0208\n",
      "Calculate target function using alpha = 0 beta = 0\n",
      "weighted distance: dist = 0.00003161, time = 0.0440\n",
      "Calculate target function using alpha = 0.1 beta = 0.05\n",
      "weighted distance: dist = 0.62860873, time = 0.0309\n"
     ]
    }
   ],
   "source": [
    "print('Calculate node-face distances without weighing...')\n",
    "\n",
    "f_cached = generate_fcache(Fneigh)\n",
    "tic = time.time()\n",
    "dist_test = coeffs2dist(U1avec0, Fneigh, f_cached=f_cached, lmax=lJmax, X0=X0, Complex=True, debug=True)\n",
    "toc = time.time()\n",
    "print(\"minimum distances  squared from all mesh points:\")\n",
    "print(dist_test.min(axis=-1)[:,0])\n",
    "print(\"mean of minimum distances squared: \",dist_test.min(axis=-1).mean())\n",
    "#print('compare only neighbor list: dist = %.8f, time = %.4f'%(dist_test, toc-tic))\n",
    "\n",
    "if plot_figure:\n",
    "    fig, ax = plotfv(dist_test.min(axis=-1), show=False)\n",
    "    ax.set_title('minimum distance squared on mesh points')\n",
    "    plt.show()\n",
    "\n",
    "f_cached = generate_fcache(Fneigh)\n",
    "tic = time.time()\n",
    "dist_test = coeffs2dist(U1avec0, Fneigh, f_cached=f_cached, lmax=lJmax, X0=X0, Complex=True)\n",
    "toc = time.time()\n",
    "print('compare only neighbor list: dist = %.8f, time = %.4f'%(dist_test, toc-tic))\n",
    "\n",
    "print('Calculate target function using alpha =',0,'beta =',0)\n",
    "tic = time.time()\n",
    "dist_test = sol2dist(AK_init, Cmat, Dmat, alpha=0, beta=0, Xt=Fneigh, f_cached=f_cached, lmax=lJmax, X0=X0, l_weight=A_weight)\n",
    "toc = time.time()\n",
    "print('weighted distance: dist = %.8f, time = %.4f'%(dist_test, toc-tic))\n",
    "\n",
    "print('Calculate target function using alpha =',myalpha,'beta =',mybeta)\n",
    "tic = time.time()\n",
    "dist_test = sol2dist(AK_init, Cmat, Dmat, alpha=myalpha, beta=mybeta, Xt=Fneigh, f_cached=f_cached, lmax=lJmax, X0=X0, l_weight=A_weight)\n",
    "toc = time.time()\n",
    "print('weighted distance: dist = %.8f, time = %.4f'%(dist_test, toc-tic))"
   ]
  },
  {
   "cell_type": "markdown",
   "metadata": {},
   "source": [
    "### 2.4 Solution by minimizing the shape-shape difference\n",
    "\n",
    "Then we can optimizing the solution by minimizing the distance:"
   ]
  },
  {
   "cell_type": "code",
   "execution_count": 24,
   "metadata": {},
   "outputs": [
    {
     "name": "stdout",
     "output_type": "stream",
     "text": [
      "initial function value: 2.2581e-01\n",
      "mean distance = 0.0510um; mean |T| in free surface = 150.2388Pa\n"
     ]
    }
   ],
   "source": [
    "# Apply smooth cut-off to AK_init\n",
    "AKdamp = np.tile(erfc((l_list - lmax_mean)/(lmax_buf/8))/2, 3)\n",
    "AK_init = spsolve(Dmat, U1avec0.T)*AKdamp\n",
    "\n",
    "if plot_figure:\n",
    "    plt.semilogy(np.abs(AK_init)/AKdamp);\n",
    "    plt.semilogy(np.abs(AK_init)); plt.show()\n",
    "\n",
    "print('initial function value: %.4e'%sol2dist(AK_init, Cmat, Dmat, myalpha, mybeta, separate=False, lmax=lJmax, X0=X0, Xt=Xneigh,\n",
    "                lat_weights=lat_weights, vert_weight=vert_weight, l_weight=A_weight))\n",
    "Asol = sol2dist(AK_init, Cmat, Dmat, myalpha, mybeta, separate=True, lmax=lJmax, X0=X0, Xt=Xneigh,\n",
    "                lat_weights=lat_weights, vert_weight=vert_weight, l_weight=A_weight)\n",
    "print('mean distance = %.4fum; mean |T| in free surface = %.4fPa'%(np.sqrt(Asol[0])*r0, np.sqrt(Asol[1])*mu0))"
   ]
  },
  {
   "cell_type": "code",
   "execution_count": 25,
   "metadata": {},
   "outputs": [],
   "source": [
    "# Initialize iteration data\n",
    "if os.path.exists(AKfile):\n",
    "    AK_iter = np.load(AKfile)\n",
    "else:\n",
    "    AK_iter = AK_init.copy()\n",
    "if os.path.exists(fvfile):\n",
    "    tmp = np.loadtxt(fvfile)\n",
    "    funval = tmp[:, 1:]\n",
    "else:\n",
    "    funval = None"
   ]
  },
  {
   "cell_type": "code",
   "execution_count": 26,
   "metadata": {},
   "outputs": [
    {
     "name": "stdout",
     "output_type": "stream",
     "text": [
      "Minimization based on node-node distance: myalpha = 0.100000, mybeta = 0.050000\n",
      " period 0/2\n",
      "Warning: Maximum number of iterations has been exceeded.\n",
      "         Current function value: 0.192238\n",
      "         Iterations: 5\n",
      "         Function evaluations: 11925\n",
      "         Gradient evaluations: 9\n",
      "  total time 119.3515477180481\n",
      "  period 12: F = 1.9224e-01\n",
      "mean distance = 0.1311um  mean traction = 138.4200Pa\n",
      "recalculate neighbor list\n",
      " period 1/2\n",
      "Warning: Maximum number of iterations has been exceeded.\n",
      "         Current function value: 0.190948\n",
      "         Iterations: 5\n",
      "         Function evaluations: 14575\n",
      "         Gradient evaluations: 11\n",
      "  total time 136.9468138217926\n",
      "  period 13: F = 1.9095e-01\n",
      "mean distance = 0.1153um  mean traction = 138.0042Pa\n"
     ]
    }
   ],
   "source": [
    "print('Minimization based on node-node distance: myalpha = %f, mybeta = %f'%(myalpha,mybeta))\n",
    "for i in range(N_period):\n",
    "    if np.remainder(i, n_recal_neigh) == np.remainder(N_period-1, n_recal_neigh):\n",
    "        print('recalculate neighbor list')\n",
    "        Uvec_iter = Dmat.dot(AK_iter)\n",
    "        Xt = X0 + SHVec2mesh(Uvec_iter, lmax=lJmax, SphCoord=False, Complex=True)\n",
    "        if node_face_dist_on:\n",
    "            Fn = np.load(file_neigh+'_Fneigh.npz')['Fneigh']\n",
    "            Fneigh = generate_neighbor_list(Xt, Fref=Fn, filename='tmp')[0][...,:n_load,:,:]\n",
    "            f_cached = generate_fcache(Fneigh)\n",
    "        else:\n",
    "            Xn = np.load(file_neigh+'_Xneigh.npz')['Xneigh']\n",
    "            Xneigh = generate_neighbor_list(Xt, Xref=Xn, filename='tmp')[0][...,:n_load,:]\n",
    "        \n",
    "    print(' period %d/%d'%(i,N_period))\n",
    "    if not node_face_dist_on:\n",
    "        tic = time.time()\n",
    "        AK_min = minimize(sol2dist, AK_iter,\n",
    "                            args=(Cmat, Dmat, myalpha, mybeta, False, None, \n",
    "                                  lJmax, X0, Xneigh, lat_weights, vert_weight, A_weight),\n",
    "                            method=minimizer,options=minimizer_config)\n",
    "        toc = time.time()\n",
    "        print('  total time', toc-tic)\n",
    "        fvalue = sol2dist(AK_min.x, Cmat, Dmat, myalpha, mybeta, \n",
    "                               separate=False, lmax=lJmax, X0=X0, Xt=Xneigh,\n",
    "                               lat_weights=lat_weights, vert_weight=vert_weight, l_weight=A_weight)\n",
    "        Asol = sol2dist(AK_min.x, Cmat, Dmat, myalpha, mybeta, \n",
    "                        separate=True, lmax=lJmax, X0=X0, Xt=Xneigh,\n",
    "                        lat_weights=lat_weights, vert_weight=vert_weight, l_weight=A_weight)\n",
    "    else:\n",
    "        tic = time.time()\n",
    "        AK_min = minimize(sol2dist, AK_iter,\n",
    "                    args=(Cmat, Dmat, myalpha, mybeta, False, f_cached, lJmax, X0, Fneigh, lat_weights, vert_weight, A_weight),\n",
    "                    method=minimizer,options=minimizer_config)\n",
    "        toc = time.time()\n",
    "        print('  total time', toc-tic)\n",
    "        fvalue = sol2dist(AK_min.x, Cmat, Dmat, myalpha, mybeta, \n",
    "                               separate=False, f_cached=f_cached, lmax=lJmax, X0=X0, Xt=Fneigh,\n",
    "                               lat_weights=lat_weights, vert_weight=vert_weight, l_weight=A_weight)\n",
    "        Asol = sol2dist(AK_min.x, Cmat, Dmat, myalpha, mybeta, \n",
    "                        separate=True, f_cached=f_cached, lmax=lJmax, X0=X0, Xt=Fneigh,\n",
    "                        lat_weights=lat_weights, vert_weight=vert_weight, l_weight=A_weight)\n",
    "    if funval is None:\n",
    "        funval = np.array([fvalue, np.sqrt(Asol[0])*r0, np.sqrt(Asol[1])*mu0]).reshape(1, -1)\n",
    "    else:\n",
    "        funval = np.vstack([funval, [fvalue, np.sqrt(Asol[0])*r0, np.sqrt(Asol[1])*mu0]])\n",
    "    print('  period %d: F = %.4e'%(funval.shape[0], funval[-1, 0]))\n",
    "    print('mean distance = %.4fum  mean traction = %.4fPa'%(funval[-1, 1], funval[-1, 2]))\n",
    "    if plot_figure:\n",
    "        plt.semilogy(np.abs(AK_min.x)); \n",
    "        plt.title('AK iter %d'%len(funval));\n",
    "        plt.show(); \n",
    "    AK_iter = AK_min.x;\n",
    "    np.save(AKfile, AK_iter)\n",
    "    with open(fvfile, 'a') as fid:\n",
    "        fid.write('%8d %e %e %e\\n'%(len(funval)-1, funval[-1, 0], funval[-1, 1], funval[-1, 2]))"
   ]
  },
  {
   "cell_type": "code",
   "execution_count": 27,
   "metadata": {},
   "outputs": [],
   "source": [
    "# To do:\n",
    "# 1. Save solution: AK_iter (overwrite), funval (append) to file every step (done)\n",
    "# 2. Every run has its own folder (done)\n",
    "# 3. add option for node-face distance in optimization (done)\n",
    "\n",
    "# Uncomment the following line if want to save AKfile from memory\n",
    "# np.save(AKfile, AK_min.x)\n",
    "# plt.plot(AK_min.x); plt.show()\n",
    "# Uncomment the following line if want to save fvfile from memory\n",
    "# np.savetxt(fvfile, np.hstack([np.arange(plot_funval.shape[0]).reshape(-1,1), plot_funval]), fmt='%8d %e %e %e')"
   ]
  },
  {
   "cell_type": "code",
   "execution_count": 28,
   "metadata": {},
   "outputs": [],
   "source": [
    "# Plot saved minimization progress data\n",
    "if plot_figure:\n",
    "    plot_funval = np.array(funval)\n",
    "    plt.figure(figsize=(14,5))\n",
    "    plt.subplot(131)\n",
    "    plt.plot(plot_funval[:, 0])\n",
    "    plt.subplot(132)\n",
    "    plt.plot(plot_funval[:, 1])\n",
    "    plt.subplot(133)\n",
    "    plt.plot(plot_funval[:, 2])\n",
    "    plt.show()"
   ]
  },
  {
   "cell_type": "markdown",
   "metadata": {},
   "source": [
    "# Note that `umesh` and `tmesh` here are normalized on the unit sphere"
   ]
  },
  {
   "cell_type": "code",
   "execution_count": 29,
   "metadata": {},
   "outputs": [],
   "source": [
    "if plot_figure:\n",
    "    Uvec1 = Dmat.dot(AK_iter); Tvec1 = Uvec2Tvec(Uvec1, Cmat, Dmat)\n",
    "    print('Displacement and Traction in Cartesian Coordinates...')\n",
    "    umesh1 = SHVec2mesh(Uvec1, lmax=lJmax, SphCoord=False, Complex=True)\n",
    "    tmesh1 = SHVec2mesh(Tvec1*mu0, lmax=lJmax, SphCoord=False, Complex=True)\n",
    "    umesh1_fine = SHVec2mesh(Uvec1, lmax=lmax_plot, SphCoord=False, Complex=True)\n",
    "    tmesh1_fine = SHVec2mesh(Tvec1*mu0, lmax=lmax_plot, SphCoord=False, Complex=True)\n",
    "    print('Visualize the nodes in 3D...')\n",
    "    fig, ax = visSH3d(umesh1, cmesh=tmesh1, r0=r0, show=False, elevation=0, azimuth=0, surface=False, figsize=(4,4))\n",
    "    nTfv = np.logical_not(Tfv)\n",
    "    ax.scatter3D(Vp[Tfv, 0], Vp[Tfv, 1], Vp[Tfv, 2], marker='^', s=10)\n",
    "    ax.scatter3D(Vp[nTfv, 0], Vp[nTfv, 1], Vp[nTfv, 2], marker='^', s=10)\n",
    "    plt.show()\n",
    "    print('Visualize the shape in 3D...')\n",
    "    fig, ax = visSH3d(umesh1_fine, cmesh=tmesh1_fine, r0=r0, show=False, elevation=0, azimuth=0, surface=True, figsize=(4,4))\n",
    "    nTfv = np.logical_not(Tfv)\n",
    "    ax.scatter3D(Vp[Tfv, 0], Vp[Tfv, 1], Vp[Tfv, 2], marker='^', s=10)\n",
    "    ax.scatter3D(Vp[nTfv, 0], Vp[nTfv, 1], Vp[nTfv, 2], marker='^', s=10)\n",
    "    plt.show()\n",
    "    fig, ax = visSH3d(umesh1_fine, cmesh=tmesh1_fine, r0=r0, show=False, elevation=0, azimuth=-90, surface=True, figsize=(4,4))\n",
    "    nTfv = np.logical_not(Tfv)\n",
    "    ax.scatter3D(Vp[Tfv, 0], Vp[Tfv, 1], Vp[Tfv, 2], marker='^', s=10)\n",
    "    ax.scatter3D(Vp[nTfv, 0], Vp[nTfv, 1], Vp[nTfv, 2], marker='^', s=10)\n",
    "    plt.show()\n",
    "    fig, ax = visSH3d(umesh1_fine, cmesh=tmesh1_fine, r0=r0, show=False, elevation=90, azimuth=0, surface=True, figsize=(4,4))\n",
    "    nTfv = np.logical_not(Tfv)\n",
    "    ax.scatter3D(Vp[Tfv, 0], Vp[Tfv, 1], Vp[Tfv, 2], marker='^', s=10)\n",
    "    ax.scatter3D(Vp[nTfv, 0], Vp[nTfv, 1], Vp[nTfv, 2], marker='^', s=10)\n",
    "    plt.show()"
   ]
  }
 ],
 "metadata": {
  "kernelspec": {
   "display_name": "Python 3",
   "language": "python",
   "name": "python3"
  },
  "language_info": {
   "codemirror_mode": {
    "name": "ipython",
    "version": 3
   },
   "file_extension": ".py",
   "mimetype": "text/x-python",
   "name": "python",
   "nbconvert_exporter": "python",
   "pygments_lexer": "ipython3",
   "version": "3.6.5"
  }
 },
 "nbformat": 4,
 "nbformat_minor": 2
}
