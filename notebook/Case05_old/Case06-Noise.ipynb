{
 "cells": [
  {
   "cell_type": "markdown",
   "metadata": {},
   "source": [
    "# Hydrogel-Cell Interaction\n",
    "\n",
    "In this case, we only have the deformed shape of the spherical hydrogel as shown in the next few cells."
   ]
  },
  {
   "cell_type": "code",
   "execution_count": null,
   "metadata": {},
   "outputs": [],
   "source": [
    "import numpy as np\n",
    "import scipy as sp\n",
    "import scipy.sparse as spm\n",
    "from scipy.io import loadmat, savemat\n",
    "\n",
    "import matplotlib.pyplot as plt\n",
    "from matplotlib import cm, colors\n",
    "from mpl_toolkits.mplot3d import Axes3D\n",
    "from mpl_toolkits.mplot3d.art3d import Line3DCollection\n",
    "import sys, time, os.path\n",
    "from itertools import permutations\n",
    "\n",
    "module_path = '../module/'\n",
    "sys.path.append(module_path)\n",
    "from SHUtil import SphCoord_to_CartCoord, CartCoord_to_SphCoord\n",
    "\n",
    "import pyshtools\n",
    "from SHUtil import SHCilmToVector, SHVectorToCilm, lmk2K, K2lmk\n",
    "from SHUtil import plotfv, TransMat, l_coeffs, m_coeffs, LM_list\n",
    "from ShElastic import calSmode, calUmode\n",
    "from SHBV import generate_submat, visualize_Cmat, print_SH_mode\n",
    "\n",
    "from scipy.sparse.linalg import lsqr, spsolve\n",
    "from scipy.interpolate import RectBivariateSpline\n",
    "from scipy.optimize import minimize\n",
    "\n",
    "from Case05_utilities import Uvec2Tvec, Tvec2Uvec, vismesh\n",
    "from Case05_utilities import SHVec2mesh, SHmesh2Vec, visSHVec, visSH3d\n",
    "from Case05_utilities import SHvec_rtoc, SHvec_ctor"
   ]
  },
  {
   "cell_type": "markdown",
   "metadata": {},
   "source": [
    "## Input information"
   ]
  },
  {
   "cell_type": "code",
   "execution_count": null,
   "metadata": {},
   "outputs": [],
   "source": [
    "############################# change inputs here #################################\n",
    "# Data file name\n",
    "datadir = '' #'../testdata'\n",
    "smoothed = '' # 'smoothed_lmax20_lwork15'\n",
    "dilated = '' #'_softedge'\n",
    "shapename = 'noise' #'Shape2'\n",
    "datafile = os.path.join(datadir, shapename+'_Coordinates_Cart_'+smoothed+'.csv')\n",
    "connfile = os.path.join(datadir, shapename+'_Connectivity.csv')\n",
    "maskfile = os.path.join(datadir, shapename+'_Mask'+dilated+'.csv')\n",
    "\n",
    "# Material properties\n",
    "mu0 = 300/3; nu0 = 0.499;\n",
    "r0 = 5;           # microns\n",
    "Tf_err = 0.1;     # unit in mu (100Pa)\n",
    "# Spherical Harmonics Analysis Settings\n",
    "lJmax = 20; lKmax = lJmax; lmax_plot = 60;\n",
    "\n",
    "# initial guess settings\n",
    "AKinitfile = 'final_AK.npy' #'AK_init.npy' #'AK_lmax20_init.npy'\n",
    "ldamp_lo = lJmax//2; ldamp_hi = 7*lJmax//8;\n",
    "lwork = 15\n",
    "init_guess_type = 'ur-only' #'zero' #'ur-only' # or 'true' or 'Tr-only'\n",
    "# damp the high order coefficients\n",
    "lv, _ = LM_list(lJmax); lv_ones = np.ones_like(lv);\n",
    "lv_lim = np.minimum(np.maximum(lv, ldamp_lo), ldamp_hi)\n",
    "ldamp = np.sin(np.pi/2*(ldamp_hi-lv_lim)/(ldamp_hi-ldamp_lo))**2\n",
    "AKdamp = np.tile(ldamp, 3)\n",
    "\n",
    "# regularizations\n",
    "myalpha = 1     # traction magnitude\n",
    "mybeta  = 1e-4  # coefficient magnitude\n",
    "\n",
    "# program switches\n",
    "plot_figure = False\n",
    "node_face_dist_on = None # not used\n",
    "opt_proc = [2, ]; myord = 1; # 2: sol2dr; myord: p-norm order (1-mean value)\n",
    "\n",
    "# minimization settings\n",
    "N_period = 5\n",
    "maxiter_per_period = 100\n",
    "CG_gtol = 1\n",
    "\n",
    "from scipy.optimize import OptimizeResult #, anneal\n",
    "def noop_min(fun, x0, args, **options):\n",
    "    return OptimizeResult(x=x0, fun=fun(x0), success=True, nfev=1)\n",
    "minimizer = noop_min #'Powell' #noop_min #'CG'\n",
    "minimizer_config = {} #{'maxiter': maxiter_per_period, 'disp': True, 'gtol': CG_gtol}\n",
    "#{'xtol': 10, 'ftol': 0.1, 'disp':True} #{'disp': True} #\n",
    "\n",
    "# dump files for minimization\n",
    "savename = shapename #+('_a%.0e_b%.0e'%(myalpha, mybeta))+('_lmax%d'%lJmax)+smoothed+dilated\n",
    "AKfile = 'AK_iter_'+savename+'.npy'\n",
    "fvfile = 'fv_'+savename+'.txt'\n",
    "\n",
    "# settings for loading \\hat{U}, \\hat{T} coefficients\n",
    "shtype = 'reg'\n",
    "coeff_dir = os.path.join(module_path, 'lmax60modes')\n",
    "\n",
    "#################################################################################\n",
    "mu = 1.; nu = nu0;\n",
    "Umodes = loadmat(os.path.join(coeff_dir,'Umodes.mat'))\n",
    "Umodes = (Umodes['U1'+shtype], Umodes['U0'+shtype])\n",
    "fullDmat = calUmode(Umodes, mu, nu)\n",
    "Dmat = generate_submat(mu, nu, fullDmat, lKmax, lJmax, kJ=3).tocsc()\n",
    "\n",
    "Tmodes = loadmat(os.path.join(coeff_dir,'Tmodes.mat'))\n",
    "Tmodes = (Tmodes['T1'+shtype], Tmodes['T2'+shtype], Tmodes['T3'+shtype], Tmodes['T0'+shtype])\n",
    "fullCmat = calSmode(Tmodes, mu, nu)\n",
    "Cmat = generate_submat(mu, nu, fullCmat, lKmax, lJmax, kJ=3).tocsc()"
   ]
  },
  {
   "cell_type": "markdown",
   "metadata": {},
   "source": [
    "## Define arbitrary force field"
   ]
  },
  {
   "cell_type": "code",
   "execution_count": null,
   "metadata": {},
   "outputs": [],
   "source": [
    "# Shape of the initial guess U1avec0: Xt = X0 + u1a\n",
    "latsdeg, lonsdeg = pyshtools.expand.GLQGridCoord(lJmax)\n",
    "lon = np.deg2rad(lonsdeg)\n",
    "colat = np.deg2rad(90-latsdeg)\n",
    "PHI, THETA = np.meshgrid(lon, colat)\n",
    "R = np.ones_like(PHI)*r0\n",
    "X,Y,Z = SphCoord_to_CartCoord(R, THETA, PHI)\n",
    "X0 = np.stack([X,Y,Z], axis=-1)\n",
    "N = X0/r0\n",
    "\n",
    "pLeft = np.array([0, -r0, 0]); pRight = np.array([0, r0, 0]);\n",
    "rcut = r0/3; mag = 4; dilation = 2;\n",
    "distLeft = rcut - np.linalg.norm(X0 - pLeft.reshape(1, 1, 3), axis=-1)\n",
    "distRight= rcut - np.linalg.norm(X0 - pRight.reshape(1, 1, 3),axis=-1)\n",
    "regionLeft = 1/(1 + np.exp(-distLeft*mag))\n",
    "regionRight = 1/(1 + np.exp(-distRight*mag))\n",
    "\n",
    "pF = 0.1\n",
    "T_usr_mesh_init = np.zeros_like(X0, dtype=np.complex)\n",
    "F_mesh = np.zeros_like(X0, dtype=np.complex)\n",
    "F_mesh[..., 1] = (pF+0j)*regionLeft - (pF+0j)*regionRight\n",
    "T_usr_mesh_init = F_mesh"
   ]
  },
  {
   "cell_type": "code",
   "execution_count": null,
   "metadata": {},
   "outputs": [],
   "source": [
    "T_usr_vec = SHmesh2Vec(T_usr_mesh_init)# *AKdamp\n",
    "if plot_figure:\n",
    "    fig, axs = visSHVec(T_usr_vec*mu0, lmax_plot=lmax_plot, SphCoord=True, Complex=True,\n",
    "                       config_quiver=(2, 3, 'k', 500), lonshift=180, figsize=(6,3))#, n_vrange=(-10,0))\n",
    "\n",
    "    fig, ax = plt.subplots(1, 1)\n",
    "    ax.plot(np.abs(T_usr_vec))\n",
    "    plt.show()\n",
    "\n",
    "T_usr_mesh = SHVec2mesh(T_usr_vec, lmax=lJmax, SphCoord=False, Complex=True)\n",
    "T_usr_mesh_sph = SHVec2mesh(T_usr_vec, lmax=lJmax, SphCoord=True, Complex=True)"
   ]
  },
  {
   "cell_type": "code",
   "execution_count": null,
   "metadata": {},
   "outputs": [],
   "source": [
    "Uvec = Tvec2Uvec(T_usr_vec, Cmat, Dmat)\n",
    "\n",
    "umesh1_fine = SHVec2mesh(Uvec*r0, lmax=lmax_plot, SphCoord=False, Complex=True)\n",
    "tmesh1_fine = SHVec2mesh(T_usr_vec*mu0, lmax=lmax_plot, SphCoord=False, Complex=True)\n",
    "if plot_figure:\n",
    "    fig, ax = visSH3d(umesh1_fine, cmesh=tmesh1_fine, r0=r0, show=False, \n",
    "                      elevation=15, azimuth=45, surface=True, figsize=(4, 4))\n",
    "    ax.set_xlim(-r0, r0)\n",
    "    ax.set_ylim(-r0, r0)\n",
    "    ax.set_zlim(-r0, r0)\n",
    "    plt.show()"
   ]
  },
  {
   "cell_type": "code",
   "execution_count": null,
   "metadata": {
    "scrolled": false
   },
   "outputs": [],
   "source": [
    "if plot_figure:\n",
    "    fig, ax = visSHVec(Uvec*r0, lmax_plot=lmax_plot, SphCoord=True, Complex=True,\n",
    "                       config_quiver=(2, 3, 'k', 10), lonshift=180, figsize=(6,3))\n",
    "    fig, ax = plt.subplots(1, 1)\n",
    "    ax.plot(np.abs(Uvec))\n",
    "    ax.set_title('$U^{(K)}$')\n",
    "    plt.show()"
   ]
  },
  {
   "cell_type": "code",
   "execution_count": null,
   "metadata": {},
   "outputs": [],
   "source": [
    "print(np.abs(T_usr_vec - Uvec2Tvec(Uvec, Cmat, Dmat)).max())\n",
    "\n",
    "latsdeg, lonsdeg = pyshtools.expand.GLQGridCoord(lmax_plot)\n",
    "lon = np.deg2rad(lonsdeg)\n",
    "colat = np.deg2rad(90-latsdeg)\n",
    "LONS, LATS = np.meshgrid(lonsdeg, latsdeg)\n",
    "PHI, THETA = np.meshgrid(lon, colat)\n",
    "R = np.ones_like(PHI)*r0\n",
    "X,Y,Z = SphCoord_to_CartCoord(R, THETA, PHI)\n",
    "VX0 = np.stack([X,Y,Z], axis=-1)\n",
    "print(VX0.shape)\n",
    "\n",
    "Vp = (VX0 + umesh1_fine).reshape(-1, 3)\n",
    "TcLeft = (rcut+dilation) > np.linalg.norm(VX0 - pLeft.reshape(1, 1, 3), axis=-1)\n",
    "TcRight= (rcut+dilation) > np.linalg.norm(VX0 - pRight.reshape(1, 1, 3), axis=-1)\n",
    "TfRegion = np.logical_not(np.logical_or(TcLeft, TcRight))"
   ]
  },
  {
   "cell_type": "code",
   "execution_count": null,
   "metadata": {
    "scrolled": false
   },
   "outputs": [],
   "source": [
    "if plot_figure:\n",
    "    %matplotlib notebook\n",
    "    fig, axs = visSHVec(T_usr_vec*mu0, lmax_plot=lmax_plot, SphCoord=True, Complex=True,\n",
    "                       config_quiver=(2, 3, 'k', 1000), lonshift=180, figsize=(6,3), n_vrange=(-10,0))\n",
    "\n",
    "    axs[0].contour(LONS, LATS, TfRegion, [0.5,], colors='k', linewidths=1)\n",
    "    axs[1].contour(LONS, LATS, TfRegion, [0.5,], colors='k', linewidths=1)\n",
    "    plt.show()\n",
    "\n",
    "Tfv = TfRegion.flatten()\n",
    "\n",
    "# save datafile and maskfile\n",
    "np.savetxt(datafile, Vp, delimiter=',')\n",
    "np.savetxt(maskfile, Tfv)\n",
    "AK_true = lsqr(Cmat, T_usr_vec.T, atol=0, btol=0, conlim=0)[0]\n",
    "np.save('AK_true', AK_true)"
   ]
  },
  {
   "cell_type": "code",
   "execution_count": null,
   "metadata": {},
   "outputs": [],
   "source": [
    "#### Plot the geometry (Vp) ####\n",
    "if plot_figure:\n",
    "    fig = plt.figure()#figsize=(16,16))\n",
    "    ax = fig.add_subplot(111, projection='3d')\n",
    "\n",
    "    # nTfv = np.logical_not(Tfv)\n",
    "    Tf_id = Tfv < 0.1\n",
    "    nTf_id= np.logical_not(Tf_id)\n",
    "    ax.scatter3D(Vp[Tf_id, 0], Vp[Tf_id, 1], Vp[Tf_id, 2])\n",
    "    ax.scatter3D(Vp[nTf_id, 0], Vp[nTf_id, 1], Vp[nTf_id, 2])\n",
    "\n",
    "    ax.view_init(azim=90, elev=30)\n",
    "    #ax.set_aspect(1)\n",
    "    plt.show()"
   ]
  },
  {
   "cell_type": "markdown",
   "metadata": {},
   "source": [
    "Then we determine the original radius of the particle, assuming the particle is incompressible. The total volume can be estimated by adding the volume of the tetrahedrons. The volume of a tetrahedron is calculated as:\n",
    "\n",
    "$$\n",
    "V_{0123}=\\frac{1}{6}\n",
    "\\begin{vmatrix}\n",
    " x_1 & y_1 & z_1 & 1\\\\ \n",
    " x_2 & y_2 & z_2 & 1\\\\ \n",
    " x_3 & y_3 & z_3 & 1\\\\ \n",
    " 0 & 0 & 0 & 1\\\\ \n",
    "\\end{vmatrix}\n",
    "$$"
   ]
  },
  {
   "cell_type": "markdown",
   "metadata": {},
   "source": [
    "We need to solve the reverse problem of a deformed shape. We will try the following methods to tackle this problem:\n",
    "\n",
    "1. Assume $r$-direction deformation only, using the solution as initial guess to the optimization\n",
    "2. LSQ solving coeffs of the SH solutions for fitting both the traction-free boundary and the shape"
   ]
  },
  {
   "cell_type": "markdown",
   "metadata": {},
   "source": [
    "Conversion between complex and real spherical harmonics, for $m>0$\n",
    "\n",
    "$$\n",
    "f_{lm} = \\left[f_l^m+(-1)^mf_l^{-m}\\right]/\\sqrt{2}\\\\\n",
    "f_{l-m}=i\\left[f_l^m-(-1)^mf_l^{-m}\\right]/\\sqrt{2}\\\\\n",
    "f_l^m = (f_{lm}-if_{l-m})/\\sqrt{2}\\\\\n",
    "f_l^{-m} = (-1)^m(f_{lm}+if_{l-m})/\\sqrt{2}\n",
    "$$\n",
    "\n",
    "for $m=0$:\n",
    "\n",
    "$$\n",
    "f_{l0} = f_l^0\n",
    "$$\n"
   ]
  },
  {
   "cell_type": "code",
   "execution_count": null,
   "metadata": {},
   "outputs": [],
   "source": [
    "from Case05_utilities import AKcomp2real, AKreal2comp\n",
    "print(np.abs(AKreal2comp(AKcomp2real(AK_true, lJmax), lJmax) - AK_true).max())"
   ]
  },
  {
   "cell_type": "markdown",
   "metadata": {},
   "source": [
    "## 1. Obtain the initial guess\n",
    "\n",
    "First thing to try is assuming that the deformation only happens on $r$-direction."
   ]
  },
  {
   "cell_type": "code",
   "execution_count": null,
   "metadata": {},
   "outputs": [],
   "source": [
    "%matplotlib inline\n",
    "# Vp -> ur (radial displacement) -> u1 (x,y,z)\n",
    "Vr, Vthe, Vphi = CartCoord_to_SphCoord(Vp[...,0], Vp[...,1], Vp[...,2])\n",
    "Vphi[Vphi < 0] += 2*np.pi\n",
    "Vlat = 90-np.rad2deg(Vthe)\n",
    "Vlon = np.rad2deg(Vphi)\n",
    "\n",
    "ur = (Vr - r0)/r0\n",
    "\n",
    "# plot 2d map of the radial displacement\n",
    "if plot_figure:\n",
    "    pVlon = Vlon - 180\n",
    "    pVlon[pVlon < 0] += 360\n",
    "    fig,ax = plt.subplots(1,1,figsize=(6,2.5))\n",
    "    im = ax.tripcolor(pVlon, Vlat, ur)\n",
    "    fig.colorbar(im)\n",
    "    ax.axis('equal')\n",
    "    ax.set_xlim(0, 360)\n",
    "    ax.set_ylim(-90, 90)\n",
    "    plt.show()"
   ]
  },
  {
   "cell_type": "code",
   "execution_count": null,
   "metadata": {
    "scrolled": false
   },
   "outputs": [],
   "source": [
    "if not os.path.exists(AKinitfile):\n",
    "    if init_guess_type == 'true':\n",
    "        AK_init = lsqr(Cmat, T_usr_vec.T, atol=0, btol=0, conlim=0)[0]\n",
    "        U1avec0 = Dmat.dot(AK_init)\n",
    "    elif init_guess_type == 'ur-only':\n",
    "        print('Calculate AKinit from assumption of ur only...')\n",
    "        # guess from radial displacement only\n",
    "        urcilm, chi2 = pyshtools.expand.SHExpandLSQ(ur, Vlat, Vlon, lmax=lJmax)\n",
    "        print(chi2)\n",
    "        urcoeffs = pyshtools.SHCoeffs.from_array(urcilm)\n",
    "        urcoeffs.info()\n",
    "        spec_before = urcoeffs.spectrum(unit='per_lm')\n",
    "        if plot_figure:\n",
    "            fig, ax = urcoeffs.plot_spectrum(unit='per_lm')\n",
    "        # visualize ur map\n",
    "        urgrid = urcoeffs.pad(lmax=lmax_plot).expand('GLQ')\n",
    "        if plot_figure:\n",
    "            urgrid.info()\n",
    "            urgrid_plot = urgrid.copy()\n",
    "            urgrid_plot.data = np.roll(urgrid.data, lmax_plot+1, axis=1)\n",
    "            fig, ax = urgrid_plot.plot()\n",
    "        # Convert Back to ux,uy,uz on regular mesh\n",
    "        Q = TransMat(lJmax=urgrid.lmax)\n",
    "        print('Size of transfer matrix:', Q.shape)\n",
    "        u1a = urgrid.data[:,:,np.newaxis]*Q[:, :, 0, :]\n",
    "        print('Size of Cartesian representation of displacement:', u1a.shape)\n",
    "        # decompose the displacement field into spherical harmonic coefficients\n",
    "        U1avec0 = [None for _ in range(3)]\n",
    "        for k in range(3):\n",
    "            u1agrid = pyshtools.SHGrid.from_array(u1a[...,k].astype(np.complex), grid='GLQ')\n",
    "            u1acoeffs = u1agrid.expand().pad(lmax=lJmax)\n",
    "            U1avec0[k] = SHCilmToVector(u1acoeffs.to_array())\n",
    "        U1avec0 = np.hstack(U1avec0)\n",
    "        # damp the high order coefficients\n",
    "        lv, _ = LM_list(lJmax); lv_ones = np.ones_like(lv);\n",
    "        lv_lim = np.minimum(np.maximum(lv, ldamp_lo), ldamp_hi)\n",
    "        ldamp = np.sin(np.pi/2*(ldamp_hi-lv_lim)/(ldamp_hi-ldamp_lo))**2\n",
    "        AKdamp = np.tile(ldamp, 3)\n",
    "        AK_init = spsolve(Dmat, U1avec0.T)*AKdamp\n",
    "        if plot_figure:\n",
    "            plt.semilogy(np.abs(spsolve(Dmat, U1avec0.T)));\n",
    "            plt.semilogy(np.abs(AK_init)); plt.show();\n",
    "    elif init_guess_type == 'Tr-only':\n",
    "        T_mesh_norm = np.sum(F_mesh*N, axis=-1)[...,np.newaxis]*N\n",
    "        T_vec_norm = SHmesh2Vec(T_mesh_norm)\n",
    "        AK_init = lsqr(Cmat, T_vec_norm.T, atol=0, btol=0, conlim=0)[0]\n",
    "        U1avec0 = Dmat.dot(AK_init)\n",
    "    elif init_guess_type == 'zero':\n",
    "        AK_init = np.zeros((3, (lJmax+1)**2), dtype=np.complex).flatten()\n",
    "        U1avec0 = np.zeros_like(AK_init, dtype=np.complex)\n",
    "else: # load the initial guess from a file\n",
    "    print('load AKinit from file:', AKinitfile)\n",
    "    AK_tmp = np.load(AKinitfile).reshape(3, -1)\n",
    "    AK_init = np.zeros((3, (lJmax+1)**2), dtype=np.complex)\n",
    "    lJmax_init = np.int(np.sqrt(AK_tmp.shape[1]) - 1)\n",
    "    # padding\n",
    "    if lJmax_init > lJmax:\n",
    "        AK_init = AK_tmp[:, :((lJmax+1)**2)]\n",
    "    else:\n",
    "        AK_init[:, :((lJmax_init+1)**2)] = AK_tmp\n",
    "    AK_init = AK_init.flatten()\n",
    "    lv, _ = LM_list(lJmax); lv_ones = np.ones_like(lv);\n",
    "    lv_lim = np.minimum(np.maximum(lv, ldamp_lo), ldamp_hi)\n",
    "    ldamp = np.sin(np.pi/2*(ldamp_hi-lv_lim)/(ldamp_hi-ldamp_lo))**2\n",
    "    U1damp = np.tile(ldamp, 3)**4\n",
    "    U1avec0 = Dmat.dot(AK_init)*U1damp\n",
    "    AK_init = spsolve(Dmat, U1avec0.T)\n",
    "\n",
    "if plot_figure:\n",
    "    print('Coefficients of the Initial Guess in Solution Space...AK')\n",
    "    plt.plot(np.abs(AK_init))\n",
    "    plt.ylim(0,0.1)\n",
    "    plt.show()\n",
    "    print('Displacement in Spherical Coordinates...')\n",
    "    fig, ax = visSHVec(U1avec0*r0, lmax_plot=lmax_plot, SphCoord=True, Complex=True, #s_vrange=(0,0.01),\n",
    "                       config_quiver=(2, 3, 'k', 10), lonshift=180, figsize=(6,3))\n",
    "    print('SH Coefficients of the Initial Guess Displacement...U1avec0')\n",
    "    fig, ax = plt.subplots(1, 1)\n",
    "    ax.plot(np.abs(U1avec0))\n",
    "    ax.set_ylim(0,0.1)\n",
    "    T1avec0 = Uvec2Tvec(U1avec0, Cmat, Dmat)\n",
    "    print('Traction in Spherical Coordinates...')\n",
    "    fig, ax = visSHVec(T1avec0*mu0, lmax_plot=lmax_plot, SphCoord=True, Complex=True,\n",
    "                       n_vrange=(-100, 100), s_vrange=(0, 50),\n",
    "                       config_quiver=(2, 3, 'k', 500), lonshift=180, figsize=(6,3))\n",
    "    print('SH Coefficients of the Initial Guess Displacement...T1avec0')\n",
    "    fig, ax = plt.subplots(1, 1)\n",
    "    ax.plot(np.abs(T1avec0))\n",
    "    ax.set_ylim(0,0.1)\n",
    "    plt.show()"
   ]
  },
  {
   "cell_type": "markdown",
   "metadata": {},
   "source": [
    "## 2. LSQ solving SH coeffs for displacement field\n",
    "\n",
    "Obviously, the decomposition is not satisfactory. It is not reasonable to assume the deformation is only on $r$-direction. In this section, we will try to optimize SH coeffs, so that the deformed shape is closest to the data. Notice that the integral of a spherical harmonic function on the sphere surface is:\n",
    "\n",
    "$$\n",
    "\\int_0^{2\\pi}\\!\\int_0^{\\pi}Y_l^m(\\theta,\\varphi)\\sin\\theta d\\theta d\\varphi = 4\\pi\\delta_{l0}\\delta_{m0}\n",
    "$$\n",
    "\n",
    "Therefore, only the $Y_0^0$ term controls the rigid body translation (constant). If we only impose higher mode spherical harmonics, there will be no rigid body motion."
   ]
  },
  {
   "cell_type": "markdown",
   "metadata": {},
   "source": [
    "### 2.1 Developing shape-difference function and neighbor list\n",
    "\n",
    "$$ \\Delta u = \\langle u_r(\\theta, \\phi) - u_t(\\theta, \\phi)\\rangle_{(\\theta,\\phi)} $$"
   ]
  },
  {
   "cell_type": "code",
   "execution_count": null,
   "metadata": {
    "scrolled": true
   },
   "outputs": [],
   "source": [
    "# Shape of the initial guess U1avec0: Xt = X0 + u1a\n",
    "latsdeg, lonsdeg = pyshtools.expand.GLQGridCoord(lJmax)\n",
    "lon = np.deg2rad(lonsdeg)\n",
    "colat = np.deg2rad(90-latsdeg)\n",
    "PHI, THETA = np.meshgrid(lon, colat)\n",
    "R = np.ones_like(PHI)\n",
    "X,Y,Z = SphCoord_to_CartCoord(R, THETA, PHI)\n",
    "X0 = np.stack([X,Y,Z], axis=-1)\n",
    "\n",
    "Xt = X0 + SHVec2mesh(U1avec0, lmax=lJmax, SphCoord=False, Complex=True)"
   ]
  },
  {
   "cell_type": "markdown",
   "metadata": {},
   "source": [
    "### Develop the interpolation function for $u_r(\\theta,\\varphi)$ from data"
   ]
  },
  {
   "cell_type": "code",
   "execution_count": null,
   "metadata": {
    "scrolled": false
   },
   "outputs": [],
   "source": [
    "if (2 in opt_proc) or (3 in opt_proc):\n",
    "    urcilm_interp, chi2 = pyshtools.expand.SHExpandLSQ(ur, Vlat, Vlon, lmax=lJmax+10)\n",
    "    print(chi2)\n",
    "\n",
    "    ucoeff_interp = pyshtools.SHCoeffs.from_array(urcilm_interp)\n",
    "    urgrid_interp = ucoeff_interp.expand('GLQ')\n",
    "\n",
    "    if plot_figure:\n",
    "        fig, ax = ucoeff_interp.plot_spectrum(unit='per_lm', show=False)\n",
    "        urgrid_interp.info()\n",
    "\n",
    "    from scipy.interpolate import RectBivariateSpline\n",
    "\n",
    "    lats = urgrid_interp.lats(); lons = urgrid_interp.lons()\n",
    "    lats_circular = np.hstack(([90.], lats, [-90.]))\n",
    "    lons_circular = np.append(lons, 360)\n",
    "    LONS, LATS = np.meshgrid(lons_circular, lats_circular)\n",
    "    xmesh = urgrid_interp.to_array().copy()\n",
    "    fpoints = np.zeros_like(LONS)\n",
    "    fpoints[1:-1, :-1] = xmesh\n",
    "    fpoints[0, :] = np.mean(xmesh[0,:], axis=0)  # not exact !\n",
    "    fpoints[-1, :] = np.mean(xmesh[-1,:], axis=0)  # not exact !\n",
    "    fpoints[1:-1, -1] = xmesh[:, 0]\n",
    "    print(LATS.shape, LONS.shape, fpoints.shape)\n",
    "    print(lats_circular.shape, lons_circular.shape)\n",
    "    f_interp = RectBivariateSpline(lats_circular[::-1], lons_circular, fpoints[::-1, ], kx=1, ky=1)\n",
    "\n",
    "    ## Test the interpolation algorithm\n",
    "\n",
    "    tic = time.time()\n",
    "    ur_interp = f_interp.ev(Vlat, Vlon)\n",
    "    toc = time.time()\n",
    "    print(f_interp.get_coeffs().shape)\n",
    "    print(ur_interp.shape, toc-tic)\n",
    "    print(ur_interp - ur)\n",
    "\n",
    "    if plot_figure:\n",
    "        fig, axs = plt.subplots(1,1,figsize=(6,2.5))\n",
    "        im = axs.tripcolor(pVlon, Vlat, ur)\n",
    "        fig.colorbar(im)\n",
    "        axs.axis('equal')\n",
    "        axs.set_xlim(0, 360)\n",
    "        axs.set_ylim(-90, 90)\n",
    "        fig, axs = plt.subplots(1,1,figsize=(6,2.5))\n",
    "        im = axs.tripcolor(pVlon, Vlat, (ur_interp-ur)*r0)\n",
    "        fig.colorbar(im)\n",
    "        axs.axis('equal')\n",
    "        axs.set_xlim(0, 360)\n",
    "        axs.set_ylim(-90, 90)\n",
    "        #plt.show()"
   ]
  },
  {
   "cell_type": "markdown",
   "metadata": {},
   "source": [
    "### 2.2  From `uvec` to the shape difference\n",
    "\n",
    "After we obtain the neighbor list, the shape can be obtained from the real SH vector `uvec`. This can be used for the optimization of the shape."
   ]
  },
  {
   "cell_type": "code",
   "execution_count": null,
   "metadata": {},
   "outputs": [],
   "source": [
    "from Case05_utilities import coeffs2dr\n",
    "# detailed implementation in Case05_utilities.py\n",
    "\n",
    "lat_weights = np.sin(THETA)\n",
    "vert_weight = np.array([1,1,1./3])\n",
    "l_list, m_list = LM_list(lJmax)"
   ]
  },
  {
   "cell_type": "markdown",
   "metadata": {},
   "source": [
    "### 2.3 Target function including shape and traction"
   ]
  },
  {
   "cell_type": "code",
   "execution_count": null,
   "metadata": {},
   "outputs": [],
   "source": [
    "# Define weights and traction free region\n",
    "x0 = Xt;\n",
    "dist2mat = np.linalg.norm(x0[..., np.newaxis, :] - Vp/r0, axis=-1)\n",
    "arg_list_x = dist2mat.argmin(axis=-1)\n",
    "if dilated == '_softedge':\n",
    "    isTfv = mask[arg_list_x]\n",
    "else:\n",
    "    isTfv = Tfv[arg_list_x]\n",
    "\n",
    "Q = TransMat(lJmax=lJmax)           # transformation matrix from Cartesian to Spherical Coordinates\n",
    "l_list, m_list = LM_list(lJmax)\n",
    "l_weight = l_list - lwork; l_weight[l_weight < 0] = 0; l_weight = (np.exp(l_weight) - 1);\n",
    "A_weight = np.tile(l_weight, 3)\n",
    "\n",
    "print(\"A_weight.shape =\",A_weight.shape)\n",
    "if plot_figure:\n",
    "    plt.plot(A_weight); \n",
    "    #plt.show()"
   ]
  },
  {
   "cell_type": "code",
   "execution_count": null,
   "metadata": {},
   "outputs": [],
   "source": [
    "from Case05_utilities import sol2dr, sol2dist_verbose, sol2dist_update"
   ]
  },
  {
   "cell_type": "markdown",
   "metadata": {},
   "source": [
    "We use the solution we obtained from Section 1 `Uvec_real` for the testing:"
   ]
  },
  {
   "cell_type": "code",
   "execution_count": null,
   "metadata": {},
   "outputs": [],
   "source": [
    "print('Calculate node-node distances without and with weights...')\n",
    "\n",
    "tic = time.time()\n",
    "dist_test = coeffs2dr(U1avec0, f_interp=f_interp, lmax=lJmax, X0=X0, Complex=True, debug=True)\n",
    "toc = time.time()\n",
    "print(\"minimum distances squared from all mesh points:\")\n",
    "norm2 = np.sum(dist_test**2, axis=-1)\n",
    "print(norm2[:,0])\n",
    "print(\"mean of minimum distances squared:\", norm2.mean())\n",
    "if plot_figure:\n",
    "    fig, ax = plotfv(norm2, show=False, lonshift=180)\n",
    "    ax.set_title('minimum distance squared on mesh points')\n",
    "    plt.show()\n",
    "print(\"mean of minimum distances\",myord*2,\"-norm:\", np.linalg.norm(norm2.flatten(), ord=myord)/(lJmax+1)/(2*lJmax+1))\n",
    "\n",
    "tic = time.time()\n",
    "dist_test = coeffs2dr(U1avec0, f_interp=f_interp, lmax=lJmax, X0=X0, Complex=True, norm_order=myord)\n",
    "toc = time.time()\n",
    "print('compare only neighbor list: dist = %.8f, time = %.4f'%(dist_test, toc-tic))\n",
    "\n",
    "print('Calculate target function using alpha=',0,'beta =',mybeta)\n",
    "tic = time.time()\n",
    "dist_test = sol2dr(AK_init, Cmat, Dmat, alpha = 0, beta = mybeta, isTfv=isTfv, f_interp=f_interp, separate=False, lmax=lJmax, X0=X0, l_weight=A_weight, norm_order=myord)\n",
    "toc = time.time()\n",
    "print('compare only neighbor list: dist = %.8f, time = %.4f'%(dist_test, toc-tic))\n",
    "\n",
    "print('Calculate target function using alpha=',myalpha,'beta =',mybeta)\n",
    "tic = time.time()\n",
    "dist_test = sol2dr(AK_init, Cmat, Dmat, alpha = myalpha, beta = mybeta, isTfv=isTfv, f_interp=f_interp, separate=False, lmax=lJmax, X0=X0, l_weight=A_weight, norm_order=myord)\n",
    "toc = time.time()\n",
    "print('compare only neighbor list: dist = %.8f, time = %.4f'%(dist_test, toc-tic))\n",
    "dist_test = sol2dr(AK_init, Cmat, Dmat, alpha = myalpha, beta = mybeta, isTfv=isTfv, f_interp=f_interp, separate=True, lmax=lJmax, X0=X0, l_weight=A_weight, norm_order=myord)\n",
    "verb = sol2dist_verbose(dist_test, mu0=mu0, r0=r0)"
   ]
  },
  {
   "cell_type": "markdown",
   "metadata": {},
   "source": [
    "### 2.4 Solution by minimizing the target function\n",
    "\n",
    "Then we can optimizing the solution by minimizing the distance:"
   ]
  },
  {
   "cell_type": "code",
   "execution_count": null,
   "metadata": {},
   "outputs": [],
   "source": [
    "from Case05_utilities import minimize_AK"
   ]
  },
  {
   "cell_type": "markdown",
   "metadata": {},
   "source": [
    "### 2.5 The optimization process, use node-node and node-face interchangably"
   ]
  },
  {
   "cell_type": "code",
   "execution_count": null,
   "metadata": {
    "scrolled": true
   },
   "outputs": [],
   "source": [
    "#from scipy.optimize import basinhopping\n",
    "\n",
    "# minimizer = basinhopping\n",
    "# minimizer_config = {'method': 'Powell', 'options':{'maxiter': maxiter_per_period, 'disp': True}}\n",
    "\n",
    "if (2 in opt_proc):\n",
    "    args_dr = (Cmat, Dmat, myalpha, mybeta, isTfv, f_interp, lJmax, X0, \n",
    "               lat_weights, vert_weight, A_weight, myord)\n",
    "    iter_config_sol2dr = {'N_period': N_period, 'minimizer': minimizer, 'minimizer_config': minimizer_config,\n",
    "                          'n_update': 0}\n",
    "\n",
    "AK_iter = AK_init #+ np.mean(AK_init)*np.random.rand(*AK_init.shape)*10\n",
    "for i_proc in opt_proc:\n",
    "    if i_proc > 1:\n",
    "        target = sol2dr; args = args_dr; iter_config = iter_config_sol2dr;\n",
    "    AK_iter, funval = minimize_AK(AK_iter, target, args, iter_config, verbose_args=(r0, mu0), use_basinhopping=100,\n",
    "                                  verbose=sol2dist_verbose, AKfile=AKfile, fvfile=fvfile)"
   ]
  },
  {
   "cell_type": "code",
   "execution_count": null,
   "metadata": {
    "scrolled": true
   },
   "outputs": [],
   "source": [
    "import glob\n",
    "filelist = glob.glob('AK_final_??.npz')\n",
    "nfile = len(filelist)\n",
    "np.savez('AK_final_%02d.npz'%nfile, AK_iter=AK_iter, alpha=myalpha, beta=mybeta, N=N_period, fv_iter=funval)"
   ]
  },
  {
   "cell_type": "code",
   "execution_count": null,
   "metadata": {},
   "outputs": [],
   "source": [
    "# To do:\n",
    "# 1. Save solution: AK_iter (overwrite), funval (append) to file every step (done)\n",
    "# 2. Every run has its own folder (done)\n",
    "# 3. add option for node-face distance in optimization (done)\n",
    "# 4. wrap the minimization into function (done)\n",
    "# 5. spherical harmonics shape-difference representation\n",
    "#    5.1. interpolation from irregular ur data (done)\n",
    "#    5.2. new coeffs2dist (done)\n",
    "# 6. smoothed edge of traction free boundary\n",
    "#    6.1. smooth the edge (Case05-Hydrogel_Cell_Interaction-smoothed_mask.ipynb) (done)\n",
    "#    6.2. optimize with smoothed edge (done)\n",
    "# 7. \n",
    "\n",
    "# Uncomment the following line if want to save AKfile from memory\n",
    "# np.save(AKfile, AK_min.x)\n",
    "# plt.plot(AK_min.x); plt.show()\n",
    "# Uncomment the following line if want to save fvfile from memory\n",
    "# np.savetxt(fvfile, np.hstack([np.arange(plot_funval.shape[0]).reshape(-1,1), plot_funval]), fmt='%8d %e %e %e')"
   ]
  },
  {
   "cell_type": "raw",
   "metadata": {},
   "source": [
    "\n",
    "res = []\n",
    "for i in range(1000):\n",
    "    rand_r = np.random.rand(AK_iter.size)\n",
    "    rand_i = np.random.rand(AK_iter.size)\n",
    "    AK_test = AK_iter + rand_r/np.linalg.norm(rand_r) + 1j * rand_i/np.linalg.norm(rand_i)\n",
    "    res.append(target(AK_test, *args_dr))\n",
    "\n",
    "fig, ax = plt.subplots()\n",
    "line = ax.plot(res)\n",
    "plt.show()\n",
    "print(min(res))"
   ]
  },
  {
   "cell_type": "raw",
   "metadata": {},
   "source": []
  }
 ],
 "metadata": {
  "kernelspec": {
   "display_name": "Python 3",
   "language": "python",
   "name": "python3"
  },
  "language_info": {
   "codemirror_mode": {
    "name": "ipython",
    "version": 3
   },
   "file_extension": ".py",
   "mimetype": "text/x-python",
   "name": "python",
   "nbconvert_exporter": "python",
   "pygments_lexer": "ipython3",
   "version": "3.6.8"
  },
  "toc": {
   "base_numbering": 1,
   "nav_menu": {},
   "number_sections": false,
   "sideBar": true,
   "skip_h1_title": false,
   "title_cell": "Table of Contents",
   "title_sidebar": "Contents",
   "toc_cell": false,
   "toc_position": {},
   "toc_section_display": true,
   "toc_window_display": false
  }
 },
 "nbformat": 4,
 "nbformat_minor": 2
}
