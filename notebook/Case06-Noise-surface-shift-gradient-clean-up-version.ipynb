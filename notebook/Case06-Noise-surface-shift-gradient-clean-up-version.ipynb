{
 "cells": [
  {
   "cell_type": "markdown",
   "metadata": {},
   "source": [
    "# Hydrogel-Cell Interaction Test Case\n",
    "\n",
    "In this case, we only have the deformed shape of the spherical hydrogel as shown in the next few cells."
   ]
  },
  {
   "cell_type": "code",
   "execution_count": null,
   "metadata": {},
   "outputs": [],
   "source": [
    "import numpy as np\n",
    "import scipy as sp\n",
    "import scipy.sparse as spm\n",
    "from scipy.sparse.linalg import lsqr, spsolve\n",
    "from scipy.interpolate import RectBivariateSpline\n",
    "from scipy.optimize import minimize, Bounds, brute, approx_fprime\n",
    "from scipy.io import loadmat, savemat\n",
    "\n",
    "import matplotlib.pyplot as plt\n",
    "from matplotlib import cm, colors\n",
    "from mpl_toolkits.mplot3d import Axes3D\n",
    "from mpl_toolkits.mplot3d.art3d import Line3DCollection\n",
    "import sys, time, os.path\n",
    "from itertools import permutations\n",
    "import pyshtools\n",
    "\n",
    "sys.path.append('..')\n",
    "from shelastic.shutil import SphCoord_to_CartCoord, CartCoord_to_SphCoord, GLQCartCoord\n",
    "from shelastic.shutil import SHCilmToVector, SHVectorToCilm, SHVec2mesh, SHmesh2Vec\n",
    "from shelastic.shutil import TransMat, l_coeffs, m_coeffs, LM_list, lmk2K, K2lmk\n",
    "from shelastic.shbv import generate_submat, Uvec2Tvec, Tvec2Uvec\n",
    "from shelastic.shvis  import plotfv, vismesh, visSHVec, visSH3d\n",
    "from sphere_utils import loadCoeffs, arbitrary_force, Ur_interp, usurf2umesh, dumesh_dus, usurf2vec, Tvec2Tres, usurf2dr, calculateTfv"
   ]
  },
  {
   "cell_type": "markdown",
   "metadata": {},
   "source": [
    "## Input information"
   ]
  },
  {
   "cell_type": "code",
   "execution_count": null,
   "metadata": {},
   "outputs": [],
   "source": [
    "############################# change inputs here #################################\n",
    "# Data file name\n",
    "datadir = ''\n",
    "smoothed = ''\n",
    "dilated = ''\n",
    "shapename = 'noise'\n",
    "datafile = os.path.join(datadir, shapename+'_Coordinates_Cart_'+smoothed+'.csv')\n",
    "connfile = os.path.join(datadir, shapename+'_Connectivity.csv')\n",
    "maskfile = os.path.join(datadir, shapename+'_Mask'+dilated+'.csv')\n",
    "\n",
    "# Material properties\n",
    "mu0 = 300/3; nu0 = 0.499;\n",
    "r0 = 5;           # microns\n",
    "\n",
    "# Arbitrary force field (opposite forces)\n",
    "pF = 1            # force magnitude (Pa)\n",
    "rcut_r0 = 0.3; \n",
    "rcut = rcut_r0 * r0\n",
    "mag = 4; dilation = 2;\n",
    "noise_level = 0.01 # noise std (um)\n",
    "\n",
    "# Spherical Harmonics Analysis Settings\n",
    "lJmax = 20; lKmax = lJmax; lmax_plot = 60;\n",
    "\n",
    "# initial guess settings\n",
    "init_guess_type = 'ur-only' #'ur-only' or 'true'\n",
    "\n",
    "# regularizations\n",
    "myalpha = 1     # traction magnitude\n",
    "mybeta  = 1  # coefficient magnitude\n",
    "\n",
    "# program switches\n",
    "plot_figure = False\n",
    "myord = 1; # myord: p-norm order (1-mean value)\n",
    "\n",
    "# minimization settings\n",
    "N_period = 100\n",
    "maxiter_per_period = 5\n",
    "CG_gtol = 1e-5\n",
    "eps = 1e-5               # for jacobian\n",
    "\n",
    "minimizer = 'CG'\n",
    "minimizer_config = {'maxiter': maxiter_per_period, 'disp': True, 'gtol': CG_gtol}\n",
    "\n",
    "# dump files for minimization\n",
    "savename = shapename + ('_b%.0e_r%.1f_n%.1e_lmax%d'%(mybeta, rcut_r0, noise_level, lJmax))\n",
    "#+('_a%.0e_b%.0e'%(myalpha, mybeta))+('_lmax%d'%lJmax)+smoothed+dilated\n",
    "\n",
    "# settings for loading \\hat{U}, \\hat{T} coefficients\n",
    "Cmat, Dmat = loadCoeffs(mu0, nu0, lJmax, 'reg')"
   ]
  },
  {
   "cell_type": "markdown",
   "metadata": {},
   "source": [
    "## Define arbitrary force field"
   ]
  },
  {
   "cell_type": "code",
   "execution_count": null,
   "metadata": {},
   "outputs": [],
   "source": [
    "Tvec_true, Uvec_true, Vp, Tfv = arbitrary_force(rcut_r0) #, noise_level=noise_level, Cmat=Cmat, Dmat=Dmat)\n",
    "\n",
    "if plot_figure:\n",
    "    fig, ax = plt.subplots(1, 1)\n",
    "    ax.plot(np.abs(Tvec_true))\n",
    "    ax.set_title('Traction SH coefficients $T^{(K)}$')\n",
    "    plt.show()"
   ]
  },
  {
   "cell_type": "raw",
   "metadata": {
    "scrolled": false
   },
   "source": [
    "for rcut_r0 in [0.1, 0.3, 0.5, 0.7, 0.9]:\n",
    "    Tvec_true, Uvec_true, Vp, Tfv = arbitrary_force(rcut_r0, Cmat=Cmat, Dmat=Dmat)\n",
    "\n",
    "    latglq_deg, longlq_deg = pyshtools.expand.GLQGridCoord(lmax_plot)\n",
    "    theta_glq,  phi_glq = np.deg2rad(90-latglq_deg), np.deg2rad(longlq_deg)\n",
    "    dtheta = np.gradient(theta_glq)\n",
    "    dphi   = np.gradient(phi_glq)\n",
    "    PH, TH = np.meshgrid(phi_glq, theta_glq)\n",
    "    dPH, dTH = np.meshgrid(dphi, dtheta)\n",
    "    dS = dTH * np.sin(TH) * dPH\n",
    "    gridshape = (lmax_plot+1, 2*lmax_plot+1, 3)\n",
    "    Tfree_area = np.sum(Tfv.reshape(dS.shape)*dS)*r0**2\n",
    "    total_area = 4*np.pi*r0**2\n",
    "    print('rcut/r0 = %.1f, area: %.4f/%.4f = %.4f%%'%(rcut_r0, Tfree_area, total_area, Tfree_area/total_area*100))"
   ]
  },
  {
   "cell_type": "code",
   "execution_count": null,
   "metadata": {},
   "outputs": [],
   "source": [
    "if plot_figure:\n",
    "    fig, ax = visSHVec(Uvec_true*r0, lmax_plot=lmax_plot, SphCoord=True, Complex=True,\n",
    "                       config_quiver=(2, 3, 'k', 10), lonshift=180, figsize=(6,3))\n",
    "    fig, ax = plt.subplots()\n",
    "    ax.plot(np.abs(Uvec_true))\n",
    "    ax.set_title('Displacement SH Coefficients $U^{(K)}$')\n",
    "    plt.show()"
   ]
  },
  {
   "cell_type": "code",
   "execution_count": null,
   "metadata": {},
   "outputs": [],
   "source": [
    "if plot_figure:\n",
    "    umesh_fine_scaled = SHVec2mesh(Uvec_true, lmax=lmax_plot, SphCoord=False, Complex=True)\n",
    "    tmesh_fine = SHVec2mesh(Tvec_true*mu0, lmax=lmax_plot, SphCoord=False, Complex=True)\n",
    "    fig, ax = visSH3d(umesh_fine_scaled, cmesh=tmesh_fine, r0=r0, show=False, \n",
    "                      elevation=0, azimuth=0, surface=True, figsize=plt.figaspect(1))\n",
    "    plt.show()"
   ]
  },
  {
   "cell_type": "code",
   "execution_count": null,
   "metadata": {},
   "outputs": [],
   "source": [
    "#### Plot the geometry (Vp) ####\n",
    "if plot_figure:\n",
    "    fig = plt.figure(figsize=plt.figaspect(1))\n",
    "    ax = fig.add_subplot(111, projection='3d')\n",
    "\n",
    "    Tf_id = Tfv > 0.1\n",
    "    nTf_id= np.logical_not(Tf_id)\n",
    "    ax.scatter3D(Vp[Tf_id, 0], Vp[Tf_id, 1], Vp[Tf_id, 2])\n",
    "    ax.scatter3D(Vp[nTf_id, 0], Vp[nTf_id, 1], Vp[nTf_id, 2])\n",
    "\n",
    "    ax.view_init(azim=0, elev=30)\n",
    "    plt.show()"
   ]
  },
  {
   "cell_type": "markdown",
   "metadata": {},
   "source": [
    "Then we determine the original radius of the particle, assuming the particle is incompressible. The total volume can be estimated by adding the volume of the tetrahedrons. The volume of a tetrahedron is calculated as:\n",
    "\n",
    "$$\n",
    "V_{0123}=\\frac{1}{6}\n",
    "\\begin{vmatrix}\n",
    " x_1 & y_1 & z_1 & 1\\\\ \n",
    " x_2 & y_2 & z_2 & 1\\\\ \n",
    " x_3 & y_3 & z_3 & 1\\\\ \n",
    " 0 & 0 & 0 & 1\\\\ \n",
    "\\end{vmatrix}\n",
    "$$"
   ]
  },
  {
   "cell_type": "markdown",
   "metadata": {},
   "source": [
    "We need to solve the reverse problem of a deformed shape. We will try the following methods to tackle this problem:\n",
    "\n",
    "1. Assume $r$-direction deformation only, using the solution as initial guess to the optimization\n",
    "2. LSQ solving coeffs of the SH solutions for fitting both the traction-free boundary and the shape"
   ]
  },
  {
   "cell_type": "markdown",
   "metadata": {},
   "source": [
    "Conversion between complex and real spherical harmonics, for $m>0$\n",
    "\n",
    "$$\n",
    "f_{lm} = \\left[f_l^m+(-1)^mf_l^{-m}\\right]/\\sqrt{2}\\\\\n",
    "f_{l-m}=i\\left[f_l^m-(-1)^mf_l^{-m}\\right]/\\sqrt{2}\\\\\n",
    "f_l^m = (f_{lm}-if_{l-m})/\\sqrt{2}\\\\\n",
    "f_l^{-m} = (-1)^m(f_{lm}+if_{l-m})/\\sqrt{2}\n",
    "$$\n",
    "\n",
    "for $m=0$:\n",
    "\n",
    "$$\n",
    "f_{l0} = f_l^0\n",
    "$$\n"
   ]
  },
  {
   "cell_type": "markdown",
   "metadata": {},
   "source": [
    "## 1. LSQ solving SH coeffs for displacement field\n",
    "\n",
    "Obviously, the decomposition is not satisfactory. It is not reasonable to assume the deformation is only on $r$-direction. In this section, we will try to optimize SH coeffs, so that the deformed shape is closest to the data. Notice that the integral of a spherical harmonic function on the sphere surface is:\n",
    "\n",
    "$$\n",
    "\\int_0^{2\\pi}\\!\\int_0^{\\pi}Y_l^m(\\theta,\\varphi)\\sin\\theta d\\theta d\\varphi = 4\\pi\\delta_{l0}\\delta_{m0}\n",
    "$$\n",
    "\n",
    "Therefore, only the $Y_0^0$ term controls the rigid body translation (constant). If we only impose higher mode spherical harmonics, there will be no rigid body motion."
   ]
  },
  {
   "cell_type": "markdown",
   "metadata": {},
   "source": [
    "## 2. Obtain the shape interpolation function\n",
    "\n",
    "A function that returns $u_r(\\theta,\\varphi)$"
   ]
  },
  {
   "cell_type": "code",
   "execution_count": null,
   "metadata": {},
   "outputs": [],
   "source": [
    "f_interp = Ur_interp(Vp/r0, lmax=lJmax+20, plot_figure=plot_figure)"
   ]
  },
  {
   "cell_type": "markdown",
   "metadata": {},
   "source": [
    "## 3. Target function including traction residual and elastic energy"
   ]
  },
  {
   "cell_type": "markdown",
   "metadata": {},
   "source": [
    "We use the true solution we obtained from Section 1 `Tvec_true` for the testing. Load the initial guess as:"
   ]
  },
  {
   "cell_type": "code",
   "execution_count": null,
   "metadata": {
    "scrolled": true
   },
   "outputs": [],
   "source": [
    "import glob\n",
    "\n",
    "filelist = glob.glob('AK_'+savename+'_??.npz')\n",
    "nfile = len(filelist)\n",
    "if nfile > 0:\n",
    "    u0_surf = np.load('AK_'+savename+'_%02d.npz'%(nfile-1))['u_surf_list'][-1]\n",
    "elif init_guess_type == 'true':\n",
    "    u0_vec = Uvec.copy()\n",
    "    x0mesh = SHVec2mesh(u0_vec, lmax=lJmax, SphCoord=False, Complex=True) + X0/r0\n",
    "    r0surf, t0surf, p0surf = CartCoord_to_SphCoord(x0mesh[..., 0], x0mesh[..., 1], x0mesh[..., 2])\n",
    "    lat0surf = 90 - np.rad2deg(t0surf); lon0surf = np.rad2deg(p0surf);\n",
    "    u0_surf = np.stack([lat0surf, lon0surf], axis=-1) - X0shear\n",
    "elif init_guess_type == 'ur-only':\n",
    "    u0_surf = np.zeros((lJmax+1, lJmax*2+1, 2))\n",
    "print(u0_surf.shape)\n",
    "\n",
    "U0vec, aK, T0vec = usurf2vec(u0_surf, f_interp=f_interp, lmax=lJmax)\n",
    "if plot_figure:\n",
    "    fig, ax = plt.subplots()\n",
    "    ax.plot(np.abs(T0vec))\n",
    "    ax.set_title('Traction SH Coefficients $T^{(K)}$')\n",
    "    plt.show()\n",
    "    #     print('Displacement in Spherical Coordinates...')\n",
    "    #     fig, ax = visSHVec(U0vec*r0, lmax_plot=lmax_plot, SphCoord=True, Complex=True,\n",
    "    #                        n_vrange=(-1, 1), s_vrange=(0, 1),\n",
    "    #                        config_quiver=(2, 3, 'k', 10), lonshift=180, figsize=(6,3))\n",
    "    # print('Traction in Spherical Coordinates...')\n",
    "    figs, ax = visSHVec((T0vec)*mu0, lmax_plot=lmax_plot, SphCoord=True, Complex=True, \n",
    "                       n_vrange=(-100, 100), s_vrange=(0, 50), show=False,\n",
    "                       config_quiver=(2, 3, 'k', 500), lonshift=180, figsize=(6,3))\n",
    "    ax[0].set_title('normal traction $T_n$')\n",
    "    ax[1].set_title('shear traction $T_s$')"
   ]
  },
  {
   "cell_type": "code",
   "execution_count": null,
   "metadata": {},
   "outputs": [],
   "source": [
    "# Define weights and traction free region\n",
    "if dilated == '_softedge':\n",
    "    isTfv = calculateTfv(U0vec, lJmax, Vp/r0, mask)\n",
    "else:\n",
    "    isTfv = calculateTfv(U0vec, lJmax, Vp/r0, Tfv)\n",
    "\n",
    "print(isTfv.shape)\n",
    "\n",
    "# Define shape reference\n",
    "latsdeg, lonsdeg = pyshtools.expand.GLQGridCoord(lJmax)\n",
    "lon0, lat0 = np.meshgrid(lonsdeg, latsdeg)\n",
    "X0surf = np.stack([lat0, lon0], axis=-1)\n",
    "X0 = GLQCartCoord(lJmax)"
   ]
  },
  {
   "cell_type": "code",
   "execution_count": null,
   "metadata": {},
   "outputs": [],
   "source": [
    "T0dist = Tvec2Tres(T0vec, lJmax, isTfv=isTfv, norm_order=myord)\n",
    "E0el = np.vdot(U0vec, T0vec).real*2*np.pi\n",
    "print('Traction residual: %.4e Pa'%(T0dist*mu0))\n",
    "print('Elastic energy: %.4e pJ'%(E0el*(r0/1e6)**3*mu0*1e12))\n",
    "print('funval: %.4e %.4e'%(T0dist, E0el))"
   ]
  },
  {
   "cell_type": "markdown",
   "metadata": {},
   "source": [
    "## Coordinate transformation\n",
    "\n",
    "The degree of freedom is defined as surface-shift $(\\theta,\\varphi)_i$, where $i=1\\dots N, N = (l_{\\max}+1)(2l_{\\max}+1)$. Transformation from the surface-shift representation to displacement in Cartesian coordinates is written as:\n",
    "\n",
    "$$\n",
    "r_i = r_i(\\theta_i, \\varphi_i) \\\\\n",
    "\\vec{x}_i = \\mathbf{Q}\\cdot[r,\\theta,\\varphi]\\\\\n",
    "\\vec{u}_i = \\vec{x}_i - \\vec{X}_i\n",
    "$$\n",
    "\n",
    "We use the 3-point formulation to obtain the numerical difference:\n",
    "\n",
    "$$\n",
    "f'(x_i)\\approx\\frac{f(x_{i-1})+f(x_{i+1})-2f(x_{i})}{h}\n",
    "$$\n",
    "\n",
    "where $x_{i+1}-x_i=x_i-x_{i-1}=h$"
   ]
  },
  {
   "cell_type": "code",
   "execution_count": null,
   "metadata": {
    "scrolled": false
   },
   "outputs": [],
   "source": [
    "u0mesh = usurf2umesh(u0_surf, f_interp, lJmax, X0surf=X0surf, X0=X0)\n",
    "u0vec  = SHmesh2Vec(u0mesh.reshape(lJmax+1, 2*lJmax+1, 3))\n",
    "t0vec  = Uvec2Tvec(u0vec, Cmat, Dmat)\n",
    "t0mesh = SHVec2mesh(t0vec, lmax=lJmax, SphCoord=False, Complex=True)"
   ]
  },
  {
   "cell_type": "markdown",
   "metadata": {},
   "source": [
    "### Linear transformation\n",
    "\n",
    "The linear relation between `umesh`, `Uvec`, `Tvec`, and `Tmesh` can be written as:\n",
    "\n",
    "$$\n",
    "U_{mesh} = \\sum \\hat{U}_{lmk}Y_l^m\\hat{\\mathbf{e}}_k \\\\\n",
    "\\hat{U}_{lmk} = \\mathbf{D}\\cdot A_K = \\mathbf{S}U_{mesh}\\\\\n",
    "\\hat{T}_{lmk} = \\mathbf{C}\\cdot A_K = \\mathbf{C}\\mathbf{D}^{-1}\\mathbf{S}U_{mesh} \\\\\n",
    "T_{mesh} = \\sum \\hat{T}_{lmk}Y_l^m\\hat{\\mathbf{e}}_k\n",
    "$$\n",
    "\n",
    "Thus it can be simplified as:\n",
    "\n",
    "$$\n",
    "T_{mesh} = \\mathbf{L}U_{mesh}\n",
    "$$\n",
    "\n",
    "where $\\mathbf{S}\\in\\mathbb{C}^{3M}\\times\\mathbb{C}^{3N}, \\mathbf{L}\\in\\mathbb{R}^{3N}\\times\\mathbb{R}^{3N}, M=(l_{\\max}+1)^2,N=(l_{\\max}+1)(2l_{\\max}+1)$ is the number of grid nodes on the sphere surface by GLQ meshing.\n",
    "\n",
    "Note that $\\mathbf{L}$ is positive semidefinite, which does *NOT* satisfy $L=L^T$\n",
    "\n",
    "$\\mathbf{S}$ and $\\mathbf{L}$ can be obtained by operating the algorithm on each column of an *identity matrix* $I$, since they are linear operations."
   ]
  },
  {
   "cell_type": "code",
   "execution_count": null,
   "metadata": {},
   "outputs": [],
   "source": [
    "from sphere_utils import genLmat, genSmat\n",
    "tic = time.time()\n",
    "Lmat = genLmat(lJmax)\n",
    "print('Time for generating L matrix: %.2fs'%(time.time() - tic))\n",
    "tic = time.time()\n",
    "Smat = genSmat(lJmax)\n",
    "print('Time for generating S matrix: %.2fs'%(time.time() - tic))\n",
    "tic = time.time()\n",
    "CDSmat = np.asmatrix(Cmat.dot(spm.linalg.inv(Dmat)).dot(Smat))\n",
    "SHCDS = np.asmatrix(Smat).H.dot(CDSmat)\n",
    "print('Time for generating S^HCD^{-1}S matrix: %.2fs'%(time.time() - tic))"
   ]
  },
  {
   "cell_type": "markdown",
   "metadata": {},
   "source": [
    "## Jacobian of the target function\n",
    "\n",
    "The target function is written as:\n",
    "$$\n",
    "f(\\vec{u}_s)=T_{res}+\\beta E_{el}=\n",
    "{1\\over N}\\vec{T}_{mesh}^T\\mathbf{P}\\vec{T}_{mesh}+2\\pi\\beta\\vec{U}^{(K)}\\cdot\\vec{T}^{(K)}\n",
    "$$\n",
    "\n",
    "where the surface shift $[\\vec{u}_s]_i=(\\theta,\\varphi)_i$. Thus the Jacobian for residual traction and elastic energy can be written separately as:\n",
    "\n",
    "$$\n",
    "{\\partial E_{el}\\over\\partial U_{mesh}}=\n",
    "2\\pi\\left(\\mathbf{S}^T\\mathbf{CD^{-1}S}+\\mathbf{S^TD^{-T}C}^T\\mathbf{S}\\right)\\vec{U}_{mesh}\n",
    "$$\n",
    "\n",
    "$$\n",
    "{\\partial T_{res}\\over\\partial U_{mesh}}={2\\over N}\\mathbf{L}^T\\mathbf{P}\\mathbf{L}\\vec{U}_{mesh}\n",
    "$$\n",
    "\n",
    "$$\n",
    "\\frac{\\partial f}{\\partial\\vec{u}_s}=\n",
    "\\left[{2\\over N}\\mathbf{L}^T\\mathbf{P}\\mathbf{L}+2\\pi\\beta\\left(\\mathbf{S}^T\\mathbf{CD^{-1}S}+\\mathbf{S^TD^{-T}C}^T\\mathbf{S}\\right)\\right]\\vec{U}_{mesh}\\frac{\\partial\\vec{U}_{mesh}}{\\partial\\vec{u}_s}\n",
    "$$\n",
    "\n",
    "where $\\mathbf{P}$ is the matrix that selects the traction vector on the traction-free surface."
   ]
  },
  {
   "cell_type": "code",
   "execution_count": null,
   "metadata": {},
   "outputs": [],
   "source": [
    "tic = time.time()\n",
    "P = np.diag(np.stack([isTfv]*3, axis=-1).flatten())\n",
    "TresJac = 2*np.asmatrix(np.dot(np.dot(Lmat.T, P), Lmat))/(lJmax+1)/(lJmax*2+1) \n",
    "EelJac  = 2*np.pi*(SHCDS+SHCDS.H)\n",
    "print('time of matrix build:', time.time() - tic)"
   ]
  },
  {
   "cell_type": "raw",
   "metadata": {},
   "source": [
    "# tic = time.time()\n",
    "# jac_test = approx_fprime(u0_surf.flatten(), usurf2dr, eps, *target_args)\n",
    "# print('time of numerical difference:', time.time() - tic)\n",
    "\n",
    "# tic = time.time()\n",
    "# jac_rec = grad_usurf2dr(u0_surf.flatten(), *target_args)\n",
    "# print('time of matrix multiplication', time.time() - tic)\n",
    "\n",
    "# # print(jac_test.shape, jac_rec.shape)\n",
    "# print('error of df_dus:', np.abs(jac_rec-jac_test).max())\n",
    "# # print('error of df_dus:', np.nonzero(np.abs(jac_rec-jac_test)>1e-4))"
   ]
  },
  {
   "cell_type": "code",
   "execution_count": null,
   "metadata": {
    "scrolled": true
   },
   "outputs": [],
   "source": [
    "from sphere_utils import grad_usurf2dr\n",
    "\n",
    "target_args = (f_interp, lJmax, mybeta, myord, X0surf, X0, isTfv, Cmat, Dmat, \n",
    "               mu0, nu0, np.array([1]), np.array([1]), eps, 'forward', (TresJac, EelJac))\n",
    "\n",
    "def print_iter(xk):\n",
    "    Uvec, aK, Tvec = usurf2vec(xk, f_interp, lJmax, X0surf=X0surf, X0=X0, Cmat=Cmat, Dmat=Dmat)\n",
    "    Tdist = Tvec2Tres(Tvec, lJmax, isTfv=isTfv, norm_order=myord)\n",
    "    Eel = np.vdot(Uvec, Tvec).real*2*np.pi\n",
    "    dr  = usurf2dr(xk, *target_args)\n",
    "    print('%13.4ePa%13.4epJ%13.4e%13.4e%13.4e'%(Tdist*mu0, Eel*(r0/1e6)**3*mu0*1e12, Tdist, Eel, dr))\n",
    "\n",
    "bd = Bounds(-6, 6)\n",
    "u_surf = u0_surf.copy()\n",
    "u_surf_list = [u_surf, ]\n",
    "tic_start = time.time()\n",
    "for i in range(N_period):\n",
    "    print('Period %d'%i)\n",
    "    tic = time.time()\n",
    "    u_res = minimize(usurf2dr, u_surf.flatten(), args=target_args, jac=grad_usurf2dr,\n",
    "                     method = minimizer, options=minimizer_config, callback=print_iter)\n",
    "    print('Iteration Time: %.2fs'%(time.time() - tic))\n",
    "    if u_res.success:\n",
    "        break\n",
    "    u_surf = u_res.x.copy()\n",
    "    u_surf_list.append(u_surf)\n",
    "print('Total Wall Time: %.2fs'%(time.time() - tic_start))"
   ]
  },
  {
   "cell_type": "code",
   "execution_count": null,
   "metadata": {},
   "outputs": [],
   "source": [
    "Usurfvec, aK, Tsurfvec = usurf2vec(u_surf, f_interp, lJmax, X0surf=X0surf, X0=X0, Cmat=Cmat, Dmat=Dmat)\n",
    "Tsurfdist = Tvec2Tres(Tsurfvec, lJmax, isTfv=isTfv, norm_order=myord)\n",
    "Esurfel = np.vdot(Usurfvec, Tsurfvec).real*2*np.pi\n",
    "print('Traction residual: %.4e Pa'%(Tsurfdist*mu0))\n",
    "print('Elastic energy: %.4e pJ'%(Esurfel*(r0/1e6)**3*mu0*1e12))\n",
    "print('funval: %.4e %.4e'%(Tsurfdist, Esurfel))"
   ]
  },
  {
   "cell_type": "code",
   "execution_count": null,
   "metadata": {
    "scrolled": true
   },
   "outputs": [],
   "source": [
    "print(u_res)\n",
    "u_surf = u_res.x\n",
    "\n",
    "if True:#\"#plot_figure:\n",
    "    fig, ax = plt.subplots()\n",
    "    ax.plot(np.abs(Tvec_true), label='True solution')\n",
    "    ax.plot(np.abs(Tsurfvec),  label='Reconstructed')\n",
    "    ax.set_title('Traction SH coefficients')\n",
    "    plt.show()\n",
    "\n",
    "    #     print('Displacement in Spherical Coordinates...')\n",
    "    #     fig, ax = visSHVec(Usurfvec*r0, lmax_plot=lmax_plot, SphCoord=True, Complex=True, \n",
    "    #                        s_vrange=(0,0.01), show=False,\n",
    "    #                        config_quiver=(2, 3, 'k', 10), lonshift=180, figsize=(6,3))\n",
    "    print('Traction in Spherical Coordinates...')\n",
    "    fig, ax = visSHVec((Tsurfvec)*mu0, lmax_plot=lmax_plot, SphCoord=True, Complex=True, \n",
    "                       n_vrange=(-100, 100), s_vrange=(0, 50), show=False,\n",
    "                       config_quiver=(2, 3, 'k', 500), lonshift=180, figsize=(6,3))\n",
    "    ax[0].set_title('Normal traction $T_n$')\n",
    "    ax[1].set_title('Shear traction $T_s$')\n",
    "    print('Traction in Spherical Coordinates...')\n",
    "    fig, ax = visSHVec((Tsurfvec-Tvec_true)*mu0, lmax_plot=lmax_plot, SphCoord=True, Complex=True, \n",
    "                       #n_vrange=(-100, 100), s_vrange=(0, 50), show=False,\n",
    "                       config_quiver=(2, 3, 'k', 500), lonshift=180, figsize=(6,3))\n",
    "    ax[0].set_title('Normal traction error $|T_n - T_n^{true}|$')\n",
    "    ax[1].set_title('Shear traction error $|T_s - T_s^{true}|$')\n"
   ]
  },
  {
   "cell_type": "code",
   "execution_count": null,
   "metadata": {},
   "outputs": [],
   "source": [
    "%matplotlib notebook\n",
    "#umesh1 = SHVec2mesh(U0vec, lmax=lJmax, SphCoord=False, Complex=True)\n",
    "#tmesh1 = SHVec2mesh(T0vec*mu0, lmax=lJmax, SphCoord=False, Complex=True)\n",
    "umesh_fine_scaled = SHVec2mesh(Usurfvec, lmax=lmax_plot, SphCoord=False, Complex=True)\n",
    "tmesh_fine = SHVec2mesh(Tsurfvec*mu0, lmax=lmax_plot, SphCoord=False, Complex=True)\n",
    "print('Visualize the shape in 3D...')\n",
    "fig, ax = visSH3d(umesh_fine_scaled, cmesh=tmesh_fine, \n",
    "                  r0=r0, show=False, \n",
    "                  elevation=0, azimuth=0, \n",
    "                  surface=True, figsize=plt.figaspect(1))\n",
    "\n",
    "# reference data\n",
    "nTfv = np.logical_not(Tfv)\n",
    "ax.scatter3D(Vp[Tfv, 0], Vp[Tfv, 1], Vp[Tfv, 2], marker='^', s=10)\n",
    "ax.scatter3D(Vp[nTfv, 0], Vp[nTfv, 1], Vp[nTfv, 2], marker='^', s=10)\n",
    "ax.set_title('Front view')\n",
    "if False: #savefig:\n",
    "    plt.tight_layout(); plt.savefig(savename+'_front.png', transparent=True)\n",
    "plt.show()"
   ]
  },
  {
   "cell_type": "raw",
   "metadata": {},
   "source": [
    "import glob\n",
    "filelist = glob.glob('AK_'+savename+'_??.npz')\n",
    "nfile = len(filelist)\n",
    "np.savez_compressed(('AK_'+savename+'_%02d.npz')%(nfile), AK_iter=aK, u_surf_list=u_surf_list, beta=mybeta, N=N_period)"
   ]
  }
 ],
 "metadata": {
  "kernelspec": {
   "display_name": "Python 3",
   "language": "python",
   "name": "python3"
  },
  "language_info": {
   "codemirror_mode": {
    "name": "ipython",
    "version": 3
   },
   "file_extension": ".py",
   "mimetype": "text/x-python",
   "name": "python",
   "nbconvert_exporter": "python",
   "pygments_lexer": "ipython3",
   "version": "3.6.3"
  },
  "toc": {
   "base_numbering": 1,
   "nav_menu": {},
   "number_sections": false,
   "sideBar": true,
   "skip_h1_title": false,
   "title_cell": "Table of Contents",
   "title_sidebar": "Contents",
   "toc_cell": false,
   "toc_position": {},
   "toc_section_display": true,
   "toc_window_display": false
  }
 },
 "nbformat": 4,
 "nbformat_minor": 2
}
