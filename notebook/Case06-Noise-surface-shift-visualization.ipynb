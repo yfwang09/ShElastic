{
 "cells": [
  {
   "cell_type": "markdown",
   "metadata": {},
   "source": [
    "# Hydrogel-Cell Interaction Test Case\n",
    "\n",
    "In this case, we only have the deformed shape of the spherical hydrogel as shown in the next few cells."
   ]
  },
  {
   "cell_type": "code",
   "execution_count": null,
   "metadata": {},
   "outputs": [],
   "source": [
    "import numpy as np\n",
    "import scipy as sp\n",
    "import scipy.sparse as spm\n",
    "from scipy.sparse.linalg import lsqr, spsolve\n",
    "from scipy.interpolate import RectBivariateSpline\n",
    "from scipy.optimize import minimize\n",
    "from scipy.io import loadmat, savemat\n",
    "\n",
    "import matplotlib.pyplot as plt\n",
    "from matplotlib import cm, colors\n",
    "from mpl_toolkits.mplot3d import Axes3D\n",
    "from mpl_toolkits.mplot3d.art3d import Line3DCollection\n",
    "import sys, time, os.path\n",
    "from itertools import permutations\n",
    "import pyshtools\n",
    "\n",
    "sys.path.append('..')\n",
    "from shelastic.shutil import SphCoord_to_CartCoord, CartCoord_to_SphCoord, GLQCartCoord\n",
    "from shelastic.shutil import SHCilmToVector, SHVectorToCilm, SHVec2mesh, SHmesh2Vec\n",
    "from shelastic.shutil import TransMat, l_coeffs, m_coeffs, LM_list, lmk2K, K2lmk\n",
    "from shelastic.shbv import generate_submat, Uvec2Tvec, Tvec2Uvec\n",
    "from shelastic.shvis  import plotfv, vismesh, visSHVec, visSH3d"
   ]
  },
  {
   "cell_type": "markdown",
   "metadata": {},
   "source": [
    "## Input information"
   ]
  },
  {
   "cell_type": "code",
   "execution_count": null,
   "metadata": {},
   "outputs": [],
   "source": [
    "############################# change inputs here #################################\n",
    "# Data file name\n",
    "datadir = ''\n",
    "smoothed = ''\n",
    "dilated = ''\n",
    "shapename = 'noise'\n",
    "datafile = os.path.join(datadir, shapename+'_Coordinates_Cart_'+smoothed+'.csv')\n",
    "connfile = os.path.join(datadir, shapename+'_Connectivity.csv')\n",
    "maskfile = os.path.join(datadir, shapename+'_Mask'+dilated+'.csv')\n",
    "\n",
    "# Material properties\n",
    "mu0 = 300/3; nu0 = 0.499;\n",
    "r0 = 5;           # microns\n",
    "\n",
    "# Arbitrary force field (opposite forces)\n",
    "pF = 1            # force magnitude (Pa)\n",
    "rcut_r0 = 0.3; rcut = rcut_r0 * r0\n",
    "mag = 4; dilation = 2;\n",
    "noise_level = 0.01 # noise std (um)\n",
    "\n",
    "# Spherical Harmonics Analysis Settings\n",
    "lJmax = 20; lKmax = lJmax; lmax_plot = 60;\n",
    "\n",
    "# initial guess settings\n",
    "init_guess_type = 'ur-only' #'true' #'ur-only' or 'true'\n",
    "\n",
    "# regularizations\n",
    "myalpha = 1     # traction magnitude\n",
    "mybeta  = 1  # coefficient magnitude\n",
    "\n",
    "# program switches\n",
    "plot_figure = True\n",
    "myord = 1; # myord: p-norm order (1-mean value)\n",
    "\n",
    "# minimization settings\n",
    "N_period = 100\n",
    "maxiter_per_period = 5\n",
    "CG_gtol = 1e-5\n",
    "\n",
    "minimizer = 'CG'\n",
    "minimizer_config = {'maxiter': maxiter_per_period, 'disp': True, 'gtol': CG_gtol}\n",
    "\n",
    "# dump files for minimization\n",
    "savename = shapename + ('_b%.0e_r%.1f_n%.1e_lmax%d'%(mybeta, rcut_r0, noise_level, lJmax))\n",
    "#+('_a%.0e_b%.0e'%(myalpha, mybeta))+('_lmax%d'%lJmax)+smoothed+dilated\n",
    "\n",
    "# settings for loading \\hat{U}, \\hat{T} coefficients\n",
    "shtype = 'reg'\n",
    "coeff_dir = os.path.join('..', 'shelastic', 'default_modes')\n",
    "\n",
    "#################################################################################\n",
    "mu = 1.; nu = nu0;\n",
    "Dmat = generate_submat(loadmat(os.path.join(coeff_dir, 'Umodes.mat')),\n",
    "                       mu, nu, lKmax, lJmax, shtype=shtype, verbose=True).tocsc()\n",
    "Cmat = generate_submat(loadmat(os.path.join(coeff_dir, 'Tmodes.mat')),\n",
    "                       mu, nu, lKmax, lJmax, shtype=shtype, verbose=True).tocsc()"
   ]
  },
  {
   "cell_type": "markdown",
   "metadata": {},
   "source": [
    "## Define arbitrary force field"
   ]
  },
  {
   "cell_type": "code",
   "execution_count": null,
   "metadata": {},
   "outputs": [],
   "source": [
    "N = GLQCartCoord(lJmax); X0 = N*r0;\n",
    "\n",
    "# Select contact region\n",
    "pLeft = np.array([0, -r0, 0]); pRight = np.array([0, r0, 0]);\n",
    "#rcut = r0/3; mag = 4; dilation = 2;\n",
    "distLeft = rcut - np.linalg.norm(X0 - pLeft.reshape(1, 1, 3), axis=-1)\n",
    "distRight= rcut - np.linalg.norm(X0 - pRight.reshape(1, 1, 3),axis=-1)\n",
    "regionLeft = 1/(1 + np.exp(-distLeft*mag))\n",
    "regionRight = 1/(1 + np.exp(-distRight*mag))\n",
    "\n",
    "# Add opposing forces on both sides\n",
    "T_usr_mesh_init = np.zeros_like(X0, dtype=np.complex)\n",
    "F_mesh = np.zeros_like(X0, dtype=np.complex)\n",
    "F_mesh[..., 1] = (pF+0j)*regionLeft - (pF+0j)*regionRight\n",
    "T_usr_mesh_init = F_mesh\n",
    "\n",
    "# decompose the force field into spherical harmonics\n",
    "T_usr_vec = SHmesh2Vec(T_usr_mesh_init)\n",
    "fig, axs = visSHVec(T_usr_vec*mu0, lmax_plot=lmax_plot, SphCoord=True, Complex=True,\n",
    "                   config_quiver=(2, 3, 'k', 500), lonshift=180, figsize=(6,3))#, n_vrange=(-10,0))\n",
    "\n",
    "fig, ax = plt.subplots(1, 1)\n",
    "ax.plot(np.abs(T_usr_vec))\n",
    "plt.show()\n",
    "\n",
    "T_usr_mesh = SHVec2mesh(T_usr_vec, lmax=lJmax, SphCoord=False, Complex=True)\n",
    "T_usr_mesh_sph = SHVec2mesh(T_usr_vec, lmax=lJmax, SphCoord=True, Complex=True)"
   ]
  },
  {
   "cell_type": "code",
   "execution_count": null,
   "metadata": {},
   "outputs": [],
   "source": [
    "Uvec = Tvec2Uvec(T_usr_vec, Cmat, Dmat)\n",
    "\n",
    "umesh_fine_scaled = SHVec2mesh(Uvec, lmax=lmax_plot, SphCoord=False, Complex=True)\n",
    "umesh_fine = SHVec2mesh(Uvec*r0, lmax=lmax_plot, SphCoord=False, Complex=True)\n",
    "tmesh_fine = SHVec2mesh(T_usr_vec*mu0, lmax=lmax_plot, SphCoord=False, Complex=True)\n",
    "\n",
    "if plot_figure:\n",
    "    fig, ax = visSH3d(umesh_fine_scaled, cmesh=tmesh_fine, r0=r0, show=False, \n",
    "                      elevation=15, azimuth=45, surface=True, figsize=plt.figaspect(1))\n",
    "    ax.set_xlim(-r0, r0)\n",
    "    ax.set_ylim(-r0, r0)\n",
    "    ax.set_zlim(-r0, r0)\n",
    "    plt.show()"
   ]
  },
  {
   "cell_type": "markdown",
   "metadata": {},
   "source": [
    "#### Define and visualize the traction-free region"
   ]
  },
  {
   "cell_type": "code",
   "execution_count": null,
   "metadata": {
    "scrolled": false
   },
   "outputs": [],
   "source": [
    "print(np.abs(T_usr_vec - Uvec2Tvec(Uvec, Cmat, Dmat)).max())\n",
    "\n",
    "latsdeg, lonsdeg = pyshtools.expand.GLQGridCoord(lmax_plot)\n",
    "lon = np.deg2rad(lonsdeg)\n",
    "colat = np.deg2rad(90-latsdeg)\n",
    "LONS, LATS = np.meshgrid(lonsdeg, latsdeg)\n",
    "PHI, THETA = np.meshgrid(lon, colat)\n",
    "R = np.ones_like(PHI)*r0\n",
    "X,Y,Z = SphCoord_to_CartCoord(R, THETA, PHI)\n",
    "VX0 = np.stack([X,Y,Z], axis=-1)\n",
    "print(VX0.shape)\n",
    "\n",
    "Vp = (VX0 + umesh_fine).reshape(-1, 3)\n",
    "TcLeft = (rcut+dilation) > np.linalg.norm(VX0 - pLeft.reshape(1, 1, 3), axis=-1)\n",
    "TcRight= (rcut+dilation) > np.linalg.norm(VX0 - pRight.reshape(1, 1, 3), axis=-1)\n",
    "TfRegion = np.logical_not(np.logical_or(TcLeft, TcRight))\n",
    "\n",
    "if plot_figure:\n",
    "    fig, axs = visSHVec(T_usr_vec*mu0, lmax_plot=lmax_plot, SphCoord=True, Complex=True,\n",
    "                       config_quiver=(2, 3, 'k', 1000), lonshift=180, figsize=(6,3), show=False)\n",
    "    axs[0].contour(LONS, LATS, TfRegion, [0.5,], colors='k', linewidths=1)\n",
    "    axs[1].contour(LONS, LATS, TfRegion, [0.5,], colors='k', linewidths=1)\n",
    "    plt.show()\n",
    "\n",
    "Tfv = TfRegion.flatten()"
   ]
  },
  {
   "cell_type": "markdown",
   "metadata": {},
   "source": [
    "Then we determine the original radius of the particle, assuming the particle is incompressible. The total volume can be estimated by adding the volume of the tetrahedrons. The volume of a tetrahedron is calculated as:\n",
    "\n",
    "$$\n",
    "V_{0123}=\\frac{1}{6}\n",
    "\\begin{vmatrix}\n",
    " x_1 & y_1 & z_1 & 1\\\\ \n",
    " x_2 & y_2 & z_2 & 1\\\\ \n",
    " x_3 & y_3 & z_3 & 1\\\\ \n",
    " 0 & 0 & 0 & 1\\\\ \n",
    "\\end{vmatrix}\n",
    "$$"
   ]
  },
  {
   "cell_type": "markdown",
   "metadata": {},
   "source": [
    "We need to solve the reverse problem of a deformed shape. We will try the following methods to tackle this problem:\n",
    "\n",
    "1. Assume $r$-direction deformation only, using the solution as initial guess to the optimization\n",
    "2. LSQ solving coeffs of the SH solutions for fitting both the traction-free boundary and the shape"
   ]
  },
  {
   "cell_type": "markdown",
   "metadata": {},
   "source": [
    "Conversion between complex and real spherical harmonics, for $m>0$\n",
    "\n",
    "$$\n",
    "f_{lm} = \\left[f_l^m+(-1)^mf_l^{-m}\\right]/\\sqrt{2}\\\\\n",
    "f_{l-m}=i\\left[f_l^m-(-1)^mf_l^{-m}\\right]/\\sqrt{2}\\\\\n",
    "f_l^m = (f_{lm}-if_{l-m})/\\sqrt{2}\\\\\n",
    "f_l^{-m} = (-1)^m(f_{lm}+if_{l-m})/\\sqrt{2}\n",
    "$$\n",
    "\n",
    "for $m=0$:\n",
    "\n",
    "$$\n",
    "f_{l0} = f_l^0\n",
    "$$\n"
   ]
  },
  {
   "cell_type": "markdown",
   "metadata": {},
   "source": [
    "## 1. Obtain the initial guess\n",
    "\n",
    "First thing to try is assuming that the deformation only happens on $r$-direction."
   ]
  },
  {
   "cell_type": "code",
   "execution_count": null,
   "metadata": {},
   "outputs": [],
   "source": [
    "# Vp -> ur (radial displacement) -> u1 (x,y,z)\n",
    "Vr, Vthe, Vphi = CartCoord_to_SphCoord(Vp[...,0], Vp[...,1], Vp[...,2])\n",
    "Vphi[Vphi < 0] += 2*np.pi\n",
    "Vlat = 90-np.rad2deg(Vthe)\n",
    "Vlon = np.rad2deg(Vphi)\n",
    "\n",
    "ur = (Vr - r0)/r0"
   ]
  },
  {
   "cell_type": "markdown",
   "metadata": {},
   "source": [
    "## 2. LSQ solving SH coeffs for displacement field\n",
    "\n",
    "Obviously, the decomposition is not satisfactory. It is not reasonable to assume the deformation is only on $r$-direction. In this section, we will try to optimize SH coeffs, so that the deformed shape is closest to the data. Notice that the integral of a spherical harmonic function on the sphere surface is:\n",
    "\n",
    "$$\n",
    "\\int_0^{2\\pi}\\!\\int_0^{\\pi}Y_l^m(\\theta,\\varphi)\\sin\\theta d\\theta d\\varphi = 4\\pi\\delta_{l0}\\delta_{m0}\n",
    "$$\n",
    "\n",
    "Therefore, only the $Y_0^0$ term controls the rigid body translation (constant). If we only impose higher mode spherical harmonics, there will be no rigid body motion."
   ]
  },
  {
   "cell_type": "markdown",
   "metadata": {},
   "source": [
    "### Develop the interpolation function for $u_r(\\theta,\\varphi)$ from data"
   ]
  },
  {
   "cell_type": "code",
   "execution_count": null,
   "metadata": {
    "scrolled": false
   },
   "outputs": [],
   "source": [
    "urcilm_interp, chi2 = pyshtools.expand.SHExpandLSQ(ur, Vlat, Vlon, lmax=lJmax+10)\n",
    "print(chi2)\n",
    "\n",
    "ucoeff_interp = pyshtools.SHCoeffs.from_array(urcilm_interp)\n",
    "urgrid_interp = ucoeff_interp.expand('GLQ')\n",
    "\n",
    "lats = urgrid_interp.lats(); lons = urgrid_interp.lons();\n",
    "lats_circular = np.hstack(([90.], lats, [-90.]))\n",
    "lons_circular = np.append(lons, 360)\n",
    "LONS, LATS = np.meshgrid(lons_circular, lats_circular)\n",
    "xmesh = urgrid_interp.to_array().copy()\n",
    "fpoints = np.zeros_like(LONS)\n",
    "fpoints[1:-1, :-1] = xmesh\n",
    "fpoints[0, :] = np.mean(xmesh[0,:], axis=0)  # not exact !\n",
    "fpoints[-1, :] = np.mean(xmesh[-1,:], axis=0)  # not exact !\n",
    "fpoints[1:-1, -1] = xmesh[:, 0]\n",
    "print(LATS.shape, LONS.shape, fpoints.shape)\n",
    "print(lats_circular.shape, lons_circular.shape)\n",
    "f_interp = RectBivariateSpline(lats_circular[::-1], lons_circular, fpoints[::-1, ], kx=1, ky=1)\n",
    "\n",
    "## Test the interpolation algorithm\n",
    "\n",
    "tic = time.time()\n",
    "ur_interp = f_interp.ev(Vlat, Vlon)\n",
    "toc = time.time()\n",
    "print(f_interp.get_coeffs().shape)\n",
    "print(ur_interp.shape, toc-tic)\n",
    "print(ur_interp - ur)"
   ]
  },
  {
   "cell_type": "markdown",
   "metadata": {},
   "source": [
    "### 2.3 Target function including shape and traction"
   ]
  },
  {
   "cell_type": "code",
   "execution_count": null,
   "metadata": {},
   "outputs": [],
   "source": [
    "# Define weights and traction free region\n",
    "Xt = GLQCartCoord(lJmax)*r0 + SHVec2mesh(Uvec*r0, lmax=lJmax, SphCoord=False, Complex=True)\n",
    "dist2mat = np.linalg.norm((Xt[..., np.newaxis, :] - Vp)/r0, axis=-1)\n",
    "arg_list_x = dist2mat.argmin(axis=-1)\n",
    "if dilated == '_softedge':\n",
    "    isTfv = mask[arg_list_x]\n",
    "else:\n",
    "    isTfv = Tfv[arg_list_x]\n",
    "\n",
    "print(isTfv.shape)\n",
    "#print(np.nonzero(isTfv))"
   ]
  },
  {
   "cell_type": "markdown",
   "metadata": {},
   "source": [
    "We use the solution we obtained from Section 1 `Uvec_real` for the testing:"
   ]
  },
  {
   "cell_type": "code",
   "execution_count": null,
   "metadata": {},
   "outputs": [],
   "source": [
    "latsdeg, lonsdeg = pyshtools.expand.GLQGridCoord(lJmax)\n",
    "# print(latsdeg, lonsdeg)\n",
    "lon0, lat0 = np.meshgrid(lonsdeg, latsdeg)\n",
    "X0shear = np.stack([lat0, lon0], axis=-1)\n",
    "\n",
    "def usurf2vec(u_surf, X0surf=X0shear, X0=X0/r0, f_interp=f_interp):\n",
    "    x_surf = X0surf + u_surf.reshape(X0surf.shape)\n",
    "    lat_x = x_surf[..., 0]; lon_x = x_surf[..., 1];\n",
    "    Theta_x = np.deg2rad(90 - lat_x); Phi_x = np.deg2rad(lon_x);\n",
    "    R_x = f_interp.ev(lat_x, lon_x)+1\n",
    "    x = np.stack(SphCoord_to_CartCoord(R_x, Theta_x, Phi_x), axis=-1)\n",
    "    umesh = x - X0\n",
    "    Uvec  = SHmesh2Vec(umesh, lmax=lJmax)\n",
    "    aK    = spsolve(Dmat, Uvec.T)\n",
    "    Tvec  = Cmat.dot(aK)\n",
    "    return Uvec, aK, Tvec\n",
    "\n",
    "def usurf2Eel(u_surf, X0surf=X0shear, X0=X0/r0, f_interp=f_interp):\n",
    "    Uvec, aK, Tvec = usurf2vec(u_surf, X0surf=X0surf, X0=X0, f_interp=f_interp)\n",
    "    return np.vdot(Uvec, Tvec).real*2*np.pi\n",
    "\n",
    "def usurf2Tres(u_surf, X0surf=X0shear, X0=X0/r0, f_interp=f_interp, isTfv=isTfv, lmax=lJmax, \n",
    "               lat_weights=None, vert_weight=1, norm_order=1):\n",
    "    if lat_weights is None:\n",
    "        lat_weights = np.ones((lmax+1, 2*lmax+1))\n",
    "    Uvec, aK, Tvec = usurf2vec(u_surf, X0surf=X0surf, X0=X0, f_interp=f_interp)\n",
    "    tcvec = Tvec.reshape(3, -1)\n",
    "    # expand the displacement and traction field onto a mesh\n",
    "    tmesh = np.empty((lmax+1, 2*lmax+1, 3))\n",
    "    for k in range(3):\n",
    "        tcilm = SHVectorToCilm(tcvec[k, :])\n",
    "        tgrid = pyshtools.SHCoeffs.from_array(tcilm).expand('GLQ')\n",
    "        tmesh[..., k] = tgrid.to_array().real\n",
    "    if isTfv.dtype == np.bool:\n",
    "        tvalues = np.sum((tmesh[isTfv, :]*vert_weight)**2, axis=-1)\n",
    "        lat_weights_value = lat_weights[isTfv]**2\n",
    "    else:\n",
    "        tvalues = np.sum((tmesh * vert_weight)**2, axis=-1)*isTfv\n",
    "        lat_weights_value = lat_weights**2\n",
    "    if norm_order > 1:\n",
    "        Tdist = np.linalg.norm(tvalues*lat_weights_value, ord=norm_order)\n",
    "    else:\n",
    "        Tdist = np.mean(tvalues*lat_weights_value)\n",
    "    return Tdist\n",
    "\n",
    "def usurf2dr(u_surf, beta=1, X0surf=X0shear, X0=X0/r0, f_interp=f_interp, isTfv=isTfv, lmax=lJmax, \n",
    "             lat_weights=None, vert_weight=1, norm_order=1):\n",
    "    if lat_weights is None:\n",
    "        lat_weights = np.ones((lmax+1, 2*lmax+1))\n",
    "    Uvec, aK, Tvec = usurf2vec(u_surf, X0surf=X0surf, X0=X0, f_interp=f_interp)\n",
    "    tcvec = Tvec.reshape(3, -1)\n",
    "    # expand the displacement and traction field onto a mesh\n",
    "    tmesh = np.empty((lmax+1, 2*lmax+1, 3))\n",
    "    for k in range(3):\n",
    "        tcilm = SHVectorToCilm(tcvec[k, :])\n",
    "        tgrid = pyshtools.SHCoeffs.from_array(tcilm).expand('GLQ')\n",
    "        tmesh[..., k] = tgrid.to_array().real\n",
    "    if isTfv.dtype == np.bool:\n",
    "        tvalues = np.sum((tmesh[isTfv, :]*vert_weight)**2, axis=-1)\n",
    "        lat_weights_value = lat_weights[isTfv]**2\n",
    "    else:\n",
    "        tvalues = np.sum((tmesh * vert_weight)**2, axis=-1)*isTfv\n",
    "        lat_weights_value = lat_weights**2\n",
    "    if norm_order > 1:\n",
    "        Tdist = np.linalg.norm(tvalues*lat_weights_value, ord=norm_order)\n",
    "    else:\n",
    "        Tdist = np.mean(tvalues*lat_weights_value)\n",
    "    Eel = np.vdot(Uvec, Tvec).real*2*np.pi\n",
    "    return Tdist + beta*Eel"
   ]
  },
  {
   "cell_type": "code",
   "execution_count": null,
   "metadata": {},
   "outputs": [],
   "source": [
    "import glob\n",
    "filelist = glob.glob('AK_'+savename+'_??.npz')\n",
    "nfile = len(filelist)\n",
    "if nfile > 0:\n",
    "    u0_surf = np.load('AK_'+savename+'_%02d.npz'%(nfile-1))['u_surf_list'][-1]\n",
    "elif init_guess_type == 'true':\n",
    "    u0_vec = Uvec.copy()\n",
    "    x0mesh = SHVec2mesh(u0_vec, lmax=lJmax, SphCoord=False, Complex=True) + X0/r0\n",
    "    r0surf, t0surf, p0surf = CartCoord_to_SphCoord(x0mesh[..., 0], x0mesh[..., 1], x0mesh[..., 2])\n",
    "    lat0surf = 90 - np.rad2deg(t0surf); lon0surf = np.rad2deg(p0surf);\n",
    "    u0_surf = np.stack([lat0surf, lon0surf], axis=-1) - X0shear\n",
    "elif init_guess_type == 'ur-only':\n",
    "    u0_surf = np.zeros_like(X0shear)\n",
    "\n",
    "U0vec, aK, T0vec = usurf2vec(u0_surf)\n",
    "fig, ax = plt.subplots()\n",
    "ax.plot(np.abs(T0vec))\n",
    "plt.show()\n",
    "print('Displacement in Spherical Coordinates...')\n",
    "fig, ax = visSHVec(U0vec*r0, lmax_plot=lmax_plot, SphCoord=True, Complex=True,\n",
    "                   n_vrange=(-1, 1), s_vrange=(0, 1),\n",
    "                   config_quiver=(2, 3, 'k', 10), lonshift=180, figsize=(6,3))\n",
    "print('Traction in Spherical Coordinates...')\n",
    "fig, ax = visSHVec((T0vec)*mu0, lmax_plot=lmax_plot, SphCoord=True, Complex=True, \n",
    "                   n_vrange=(-100, 100), s_vrange=(0, 50),\n",
    "                   config_quiver=(2, 3, 'k', 500), lonshift=180, figsize=(6,3))"
   ]
  },
  {
   "cell_type": "code",
   "execution_count": null,
   "metadata": {},
   "outputs": [],
   "source": [
    "u_surf = u0_surf.copy()\n",
    "\n",
    "print('Traction residual: %.4e Pa'%(usurf2Tres(u_surf)*mu0))\n",
    "print('Elastic energy: %.4e pJ'%(usurf2Eel(u_surf)*(r0/1e6)**3*mu0*1e12))\n",
    "print('funval: %.4e %.4e'%(usurf2Tres(u_surf), usurf2Eel(u_surf)))"
   ]
  },
  {
   "cell_type": "code",
   "execution_count": null,
   "metadata": {
    "scrolled": false
   },
   "outputs": [],
   "source": [
    "Usurfvec, aK, Tsurfvec = usurf2vec(u_surf)\n",
    "\n",
    "fig, ax = plt.subplots()\n",
    "ax.plot(np.abs(T_usr_vec))\n",
    "ax.plot(np.abs(Tsurfvec))\n",
    "plt.show()\n",
    "\n",
    "xmesh_ref = SHVec2mesh(Uvec, lmax=lJmax, SphCoord=False, Complex=True) + X0/r0\n",
    "x_sph_ref = CartCoord_to_SphCoord(xmesh_ref[..., 0], xmesh_ref[..., 1], xmesh_ref[..., 2])\n",
    "u_ref = np.stack([90 - np.rad2deg(x_sph_ref[1]), np.rad2deg(x_sph_ref[2])], axis=-1) - X0shear\n",
    "Uvec_ref, aK_ref, Tvec_ref = usurf2vec(u_ref)\n",
    "\n",
    "print('Displacement in Spherical Coordinates...')\n",
    "fig, ax = visSHVec(Usurfvec*r0, lmax_plot=lmax_plot, SphCoord=True, Complex=True, #s_vrange=(0,0.01),\n",
    "                   config_quiver=(2, 3, 'k', 10), lonshift=180, figsize=(6,3))\n",
    "print('Traction in Spherical Coordinates...')\n",
    "fig, ax = visSHVec((Tsurfvec-Tvec_ref)*mu0, lmax_plot=lmax_plot, SphCoord=True, Complex=True, \n",
    "                   n_vrange=(-100, 100), s_vrange=(0, 50),\n",
    "                   config_quiver=(2, 3, 'k', 500), lonshift=180, figsize=(6,3))"
   ]
  },
  {
   "cell_type": "code",
   "execution_count": null,
   "metadata": {},
   "outputs": [],
   "source": [
    "%matplotlib notebook\n",
    "print('Visualize the shape in 3D...')\n",
    "fig, ax = visSH3d(umesh_fine_scaled, cmesh=tmesh_fine, \n",
    "                  r0=r0, show=False, \n",
    "                  elevation=0, azimuth=0, \n",
    "                  surface=True, figsize=plt.figaspect(1))\n",
    "\n",
    "# reference data\n",
    "nTfv = np.logical_not(Tfv)\n",
    "ax.scatter3D(Vp[Tfv, 0], Vp[Tfv, 1], Vp[Tfv, 2], marker='^', s=10)\n",
    "ax.scatter3D(Vp[nTfv, 0], Vp[nTfv, 1], Vp[nTfv, 2], marker='^', s=10)\n",
    "ax.set_title('Front view')\n",
    "if False: #savefig:\n",
    "    plt.tight_layout(); plt.savefig(savename+'_front.png', transparent=True)\n",
    "plt.show()"
   ]
  },
  {
   "cell_type": "code",
   "execution_count": null,
   "metadata": {},
   "outputs": [],
   "source": []
  }
 ],
 "metadata": {
  "kernelspec": {
   "display_name": "Python 3",
   "language": "python",
   "name": "python3"
  },
  "language_info": {
   "codemirror_mode": {
    "name": "ipython",
    "version": 3
   },
   "file_extension": ".py",
   "mimetype": "text/x-python",
   "name": "python",
   "nbconvert_exporter": "python",
   "pygments_lexer": "ipython3",
   "version": "3.6.3"
  },
  "toc": {
   "base_numbering": 1,
   "nav_menu": {},
   "number_sections": false,
   "sideBar": true,
   "skip_h1_title": false,
   "title_cell": "Table of Contents",
   "title_sidebar": "Contents",
   "toc_cell": false,
   "toc_position": {},
   "toc_section_display": true,
   "toc_window_display": false
  }
 },
 "nbformat": 4,
 "nbformat_minor": 2
}
