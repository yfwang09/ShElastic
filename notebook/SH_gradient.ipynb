{
 "cells": [
  {
   "cell_type": "markdown",
   "metadata": {},
   "source": [
    "## Gradient of Spherical Harmonics in Cartesian Coordinates\n",
    "\n",
    "In this note, we will derive the gradient of spherical harmonics based on Hobson's differentiation (Hobson, 1931)."
   ]
  },
  {
   "cell_type": "markdown",
   "metadata": {},
   "source": [
    "### Hobson's Differentiation\n",
    "\n",
    "For convenience, we first define unnormalized spherical harmonics:\n",
    "\n",
    "$$\n",
    "\\chi_l^m(\\theta, \\varphi) = P_l^m(\\cos\\theta)e^{im\\varphi}\n",
    "$$\n",
    "\n",
    "where $P_l^m$ is the unnormalized associate Legendre polynomial."
   ]
  },
  {
   "cell_type": "markdown",
   "metadata": {},
   "source": [
    "Then the irregular and regular solid harmonics defined based on unnormalized spherical harmonics:\n",
    "\n",
    "$$\n",
    "\\mathcal{I}_l^m(r,\\theta,\\varphi) = \n",
    "\\frac{(l-\\left|m\\right|)!}{r^{l+1}}\\chi_l^m(\\theta,\\varphi);\\quad\n",
    "\\mathcal{R}_l^m(r,\\theta,\\varphi) = \n",
    "\\frac{r^{l}}{(l+\\left|m\\right|)!}\\chi_l^m(\\theta,\\varphi)\\quad(l\\geq0,\\left|m\\right|\\leq l)\n",
    "$$"
   ]
  },
  {
   "cell_type": "markdown",
   "metadata": {},
   "source": [
    "Then there are some simplified algebra relations:\n",
    "\n",
    "$$\n",
    "\\mathcal{R}_l^{-m}(\\mathbf{r})=(-1)^m\\bar{\\mathcal{R}}_l^m(\\mathbf{r}) \\quad\n",
    "\\mathcal{I}_l^{-m}(\\mathbf{r})=(-1)^m\\bar{\\mathcal{I}}_l^m(\\mathbf{r}) \\\\\n",
    "\\mathcal{R}_l^{m}(-\\mathbf{r})=(-1)^l\\mathcal{R}_l^m(\\mathbf{r}) \\quad\n",
    "\\mathcal{I}_l^{m}(-\\mathbf{r})=(-1)^l\\mathcal{I}_l^m(\\mathbf{r}) \\\\\n",
    "$$"
   ]
  },
  {
   "cell_type": "markdown",
   "metadata": {},
   "source": [
    "and the Hobson's differentiation can be written as:\n",
    "\n",
    "$$\n",
    "D_1\\mathcal{I}_l^m = \\mathcal{I}_{l+1}^{m-1},\\quad\n",
    "D_2\\mathcal{I}_l^m =-\\mathcal{I}_{l+1}^{m+1},\\quad\n",
    "D_3\\mathcal{I}_l^m =-\\mathcal{I}_{l+1}^{m};  \\\\\n",
    "D_1\\mathcal{R}_l^m = \\mathcal{R}_{l-1}^{m-1},\\quad\n",
    "D_2\\mathcal{R}_l^m =-\\mathcal{R}_{l-1}^{m+1},\\quad\n",
    "D_3\\mathcal{R}_l^m = \\mathcal{R}_{l-1}^{m}.  \\\\\n",
    "$$\n",
    "\n",
    "where $D_i$ are defined as:\n",
    "\n",
    "$$\n",
    "D_1 = \\left({\\partial\\over\\partial x}-i{\\partial\\over\\partial y}\\right),\\quad\n",
    "D_2 = \\left({\\partial\\over\\partial x}+i{\\partial\\over\\partial y}\\right),\\quad\n",
    "D_3 = {\\partial\\over\\partial z}.\n",
    "$$"
   ]
  },
  {
   "cell_type": "markdown",
   "metadata": {},
   "source": [
    "For a better understanding of the derivative, we take some examples:\n",
    "\n",
    "$$\n",
    "\\chi_1^{\\pm1} = \\sin\\theta e^{\\varphi} = \\frac{x\\pm iy}{r}, \\quad\n",
    "\\chi_1^0 = \\cos\\theta = {z\\over r}; \\\\\n",
    "\\mathcal{R}_1^{\\pm1} = x\\pm iy, \\quad \\mathcal{R}_1^{0} = z \\\\\n",
    "\\mathcal{I}_1^{\\pm1} = \\frac{x\\pm iy}{r^3}, \\quad \\mathcal{I}_1^{0} = \\frac{z}{r^3}\n",
    "$$\n",
    "\n",
    "We can see that the same $m$ level modes have the same $(x\\pm iy)$ degrees, and $z$ degree is increasing with level $l$.\n",
    "Similarly, $R_l^m$ and $R_{l+1}^{m+1}$ have the same $z$ degrees, and $(x\\pm iy)$ degrees are increasing with level $l$."
   ]
  },
  {
   "cell_type": "markdown",
   "metadata": {},
   "source": [
    "Because of the mysterious sign convention and normalization conventions in SHTOOLS, here we develop a set of tools to evaluate the solid harmonics and take numerical derivatives on a 3D mesh."
   ]
  },
  {
   "cell_type": "code",
   "execution_count": 1,
   "metadata": {
    "collapsed": true
   },
   "outputs": [],
   "source": [
    "import numpy as np\n",
    "import sys\n",
    "sys.path.append('../module/')\n",
    "\n",
    "from SHUtil import CartCoord_to_SphCoord, SphCoord_to_CartCoord"
   ]
  },
  {
   "cell_type": "markdown",
   "metadata": {},
   "source": [
    "We create a 3D meshgrid for numerically calculate the gradient:"
   ]
  },
  {
   "cell_type": "code",
   "execution_count": 2,
   "metadata": {
    "collapsed": true
   },
   "outputs": [],
   "source": [
    "# The order (Y,X,Z) makes sure that axis 0,1,2 corresponds to X,Y,Z\n",
    "normalization='4pi'\n",
    "# normalization='ortho'\n",
    "# normalization='schmidt'\n",
    "shtype = 'irr'\n",
    "lmax = 6\n",
    "xgrid = np.linspace(1, 3, 50)\n",
    "Y, X, Z = np.meshgrid(xgrid, xgrid, xgrid)\n",
    "R, THETA, PHI = CartCoord_to_SphCoord(X, Y, Z)\n",
    "LAT = 90 - np.rad2deg(THETA)\n",
    "LON = np.rad2deg(PHI)"
   ]
  },
  {
   "cell_type": "markdown",
   "metadata": {},
   "source": [
    "Then we set up the SHTOOLS coefficient class:"
   ]
  },
  {
   "cell_type": "code",
   "execution_count": 3,
   "metadata": {
    "scrolled": false
   },
   "outputs": [
    {
     "name": "stdout",
     "output_type": "stream",
     "text": [
      "kind = 'complex'\n",
      "normalization = '4pi'\n",
      "csphase = 1\n",
      "lmax = 6\n"
     ]
    },
    {
     "data": {
      "image/png": "[encoded data removed]",
      "text/plain": [
       "<matplotlib.figure.Figure at 0x7f28d0a34518>"
      ]
     },
     "metadata": {},
     "output_type": "display_data"
    },
    {
     "data": {
      "image/png": "[encoded data removed]",
      "text/plain": [
       "<matplotlib.figure.Figure at 0x7f28c894cb38>"
      ]
     },
     "metadata": {},
     "output_type": "display_data"
    },
    {
     "data": {
      "image/png": "[encoded data removed]",
      "text/plain": [
       "<matplotlib.figure.Figure at 0x7f28c86368d0>"
      ]
     },
     "metadata": {},
     "output_type": "display_data"
    },
    {
     "data": {
      "image/png": "[encoded data removed]",
      "text/plain": [
       "<matplotlib.figure.Figure at 0x7f28c8646c18>"
      ]
     },
     "metadata": {},
     "output_type": "display_data"
    }
   ],
   "source": [
    "import pyshtools\n",
    "import matplotlib.pyplot as plt\n",
    "from SHGrad import VSH1\n",
    "\n",
    "l = 4; m = -3;\n",
    "\n",
    "clm = pyshtools.SHCoeffs.from_zeros(lmax=lmax,kind='complex',normalization=normalization)\n",
    "clm.info()\n",
    "clm.set_coeffs(1.0, l, m)\n",
    "fig, ax = clm.plot_spectrum2d(vrange=(1e-8, 1))\n",
    "for i in range(3):\n",
    "    Ylm = pyshtools.SHCoeffs.from_array(VSH1(clm.to_array())[...,i])\n",
    "    Ylm.plot_spectrum2d(vrange=(1e-8, 1))"
   ]
  },
  {
   "cell_type": "markdown",
   "metadata": {},
   "source": [
    "And evaluate the spherical harmonics on the meshgrid:"
   ]
  },
  {
   "cell_type": "code",
   "execution_count": 4,
   "metadata": {
    "collapsed": true
   },
   "outputs": [],
   "source": [
    "from SHUtil import l_coeffs\n",
    "\n",
    "def eval_GridC(coeff, latin, lonin, rin=1.0, lmax_calc=None, norm=None, shtype=None):\n",
    "    if shtype == None:\n",
    "        C_n = 0.0\n",
    "    elif shtype == 'irr':\n",
    "        C_n = -l_coeffs(coeff.lmax)-1\n",
    "    elif shtype == 'reg':\n",
    "        C_n = l_coeffs(coeff.lmax)\n",
    "    elif type(shtype) is int:\n",
    "        C_n = shtype\n",
    "    else:\n",
    "        print('invalid shtype (irr, reg, float)')\n",
    "    if norm == None: # normalization not given, use the coefficient norm convention\n",
    "        if coeff.normalization == '4pi':\n",
    "            norm = 1\n",
    "        elif coeff.normalization == 'schmidt':\n",
    "            norm = 2\n",
    "        elif coeff.normalization == 'ortho':\n",
    "            norm = 4\n",
    "    if lmax_calc == None:\n",
    "        lmax_calc = coeff.lmax\n",
    "    if (type(rin) is np.ndarray) or (type(rin) is list):\n",
    "        values = np.empty_like(latin, dtype=np.complex)\n",
    "        for v, latitude, longitude, radius in np.nditer([values, latin, lonin, rin], op_flags=['readwrite']):\n",
    "            C_r = radius**C_n\n",
    "            v[...] = pyshtools.expand.MakeGridPointC(C_r*coeff.to_array(),\n",
    "                                                lat=latitude, lon=longitude, \n",
    "                                                lmax=lmax_calc, norm=norm, \n",
    "                                                csphase=coeff.csphase)\n",
    "    else:\n",
    "        values = np.empty_like(latin, dtype=np.complex)\n",
    "        C_r = rin**C_n\n",
    "        for v, latitude, longitude in np.nditer([values, latin, lonin], op_flags=['readwrite']):\n",
    "            v[...] = pyshtools.expand.MakeGridPointC(C_r*coeff.to_array(),\n",
    "                                                lat=latitude, lon=longitude, \n",
    "                                                lmax=lmax_calc, norm=norm, \n",
    "                                                csphase=coeff.csphase)\n",
    "    return values"
   ]
  },
  {
   "cell_type": "markdown",
   "metadata": {},
   "source": [
    "First, we calculate the gradients of solid harmonics numerically:"
   ]
  },
  {
   "cell_type": "code",
   "execution_count": 5,
   "metadata": {},
   "outputs": [],
   "source": [
    "# f = clm.expand(lat=LAT,lon=LON) does not work, we implement our own instead\n",
    "# print(LAT.shape)\n",
    "Ilm_num = clm.expand(lat=LAT, lon=LON)/R**(l+1)\n",
    "#Ilm_num = (clm, LAT, LON, R, shtype)#, norm=3)\n",
    "# Ilm_num = Ylm_num #/R**(l+1)\n",
    "dIlm_num = np.gradient(Ilm_num, X[:,0,0], Y[0,:,0], Z[0,0,:])"
   ]
  },
  {
   "cell_type": "markdown",
   "metadata": {
    "collapsed": true
   },
   "source": [
    "Then we evaluate the Hobson's differentiation of z direction on the meshgrid. The normalization coefficients are calculated as following:\n",
    "\n",
    "$$\n",
    "C_{irr} = \\frac{(l'-|m'|)!}{(l-|m|)!} \\\\\n",
    "C_{schmidt} = \\sqrt{\\frac{(l'+|m'|)!(l-|m|)!}{(l'-|m'|)!(l+|m|)!}} \\\\\n",
    "C_{4\\pi} = \\sqrt{\\frac{2l+1}{2l'+1}}\n",
    "$$"
   ]
  },
  {
   "cell_type": "markdown",
   "metadata": {},
   "source": [
    "Calculate the coefficients for z direction gradients:"
   ]
  },
  {
   "cell_type": "code",
   "execution_count": 6,
   "metadata": {
    "collapsed": true
   },
   "outputs": [],
   "source": [
    "from scipy.misc import factorial\n",
    "\n",
    "l_dz = l+1; m_dz = m; \n",
    "C_dz = factorial(l_dz-np.abs(m_dz))/factorial(l-np.abs(m));\n",
    "C_norm = np.sqrt(factorial(l_dz+np.abs(m_dz))*factorial(l-np.abs(m))/factorial(l_dz-np.abs(m_dz))/factorial(l+np.abs(m)))\n",
    "C_4pi = np.sqrt((2*l+1)/(2*l_dz+1))\n",
    "if normalization in ['4pi', 'ortho']:\n",
    "    C_dz = C_dz*C_norm*C_4pi\n",
    "elif normalization == 'schmidt':\n",
    "    C_dz = C_dz*C_norm\n",
    "else:\n",
    "    print('normalization not defined')"
   ]
  },
  {
   "cell_type": "code",
   "execution_count": 7,
   "metadata": {
    "scrolled": true
   },
   "outputs": [
    {
     "name": "stdout",
     "output_type": "stream",
     "text": [
      "kind = 'complex'\n",
      "normalization = '4pi'\n",
      "csphase = 1\n",
      "lmax = 6\n"
     ]
    },
    {
     "data": {
      "image/png": "[encoded data removed]",
      "text/plain": [
       "<matplotlib.figure.Figure at 0x7f28c87a38d0>"
      ]
     },
     "metadata": {},
     "output_type": "display_data"
    }
   ],
   "source": [
    "clm_dz = pyshtools.SHCoeffs.from_zeros(lmax=lmax,kind='complex',normalization=normalization)\n",
    "clm_dz.info()\n",
    "clm_dz.set_coeffs(-C_dz, l_dz, m_dz)\n",
    "fig, ax = clm_dz.plot_spectrum2d(vrange=(1e-8, 1))"
   ]
  },
  {
   "cell_type": "markdown",
   "metadata": {},
   "source": [
    "Then we evaluate the z-direction gradient on the same meshgrid:"
   ]
  },
  {
   "cell_type": "code",
   "execution_count": 8,
   "metadata": {},
   "outputs": [],
   "source": [
    "Ilm_dz = clm_dz.expand(lat=LAT, lon=LON)/R**(l_dz+1)\n",
    "#Ilm_dz = eval_GridC(clm_dz, LAT, LON, R, shtype=shtype)#, norm=3)\n",
    "# Ilm_dz = Ylm_dz #/R**(l_dz+1)"
   ]
  },
  {
   "cell_type": "markdown",
   "metadata": {},
   "source": [
    "Compare with the numerical (finite difference) results:"
   ]
  },
  {
   "cell_type": "code",
   "execution_count": 9,
   "metadata": {
    "scrolled": true
   },
   "outputs": [
    {
     "name": "stdout",
     "output_type": "stream",
     "text": [
      "(0.996442654391-5.6676428681e-16j)\n"
     ]
    }
   ],
   "source": [
    "Cdz = (Ilm_dz/dIlm_num[2])#.mean()\n",
    "print(Cdz.mean())"
   ]
  },
  {
   "cell_type": "markdown",
   "metadata": {
    "collapsed": true
   },
   "source": [
    "Then $D_1$ direction (${\\partial\\over\\partial x}-i{\\partial\\over\\partial y}$):"
   ]
  },
  {
   "cell_type": "code",
   "execution_count": 10,
   "metadata": {},
   "outputs": [
    {
     "name": "stdout",
     "output_type": "stream",
     "text": [
      "kind = 'complex'\n",
      "normalization = '4pi'\n",
      "csphase = 1\n",
      "lmax = 6\n"
     ]
    },
    {
     "data": {
      "image/png": "[encoded data removed]",
      "text/plain": [
       "<matplotlib.figure.Figure at 0x7f28c8458470>"
      ]
     },
     "metadata": {},
     "output_type": "display_data"
    }
   ],
   "source": [
    "from scipy.misc import factorial\n",
    "\n",
    "l_d1 = l+1; m_d1 = m-1; C_d1 = factorial(l_d1-np.abs(m_d1))/factorial(l-np.abs(m));\n",
    "C_norm = np.sqrt(factorial(l_d1+np.abs(m_d1))*factorial(l-np.abs(m))/factorial(l_d1-np.abs(m_d1))/factorial(l+np.abs(m)))\n",
    "C_4pi = np.sqrt((2*l+1)/(2*l_d1+1))\n",
    "if normalization in ['4pi', 'ortho']:\n",
    "    C_d1 = C_d1*C_norm*C_4pi\n",
    "elif normalization == 'schmidt':\n",
    "    C_d1 = C_d1*C_norm\n",
    "else:\n",
    "    print('normalization not defined')\n",
    "\n",
    "clm_d1 = pyshtools.SHCoeffs.from_zeros(lmax=lmax,kind='complex',normalization=normalization)\n",
    "clm_d1.info()\n",
    "clm_d1.set_coeffs(C_d1, l_d1, m_d1)\n",
    "fig, ax = clm_d1.plot_spectrum2d(vrange=(1e-8, 1))\n",
    "\n",
    "Ilm_d1 = clm_d1.expand(lat=LAT,lon=LON)/R**(l_d1+1)\n",
    "#Ilm_d1 = eval_GridC(clm_d1, LAT, LON, R, shtype=shtype)#, norm=3)\n",
    "# Ilm_d1 = Ylm_d1 #/R**(l_d1+1)"
   ]
  },
  {
   "cell_type": "markdown",
   "metadata": {},
   "source": [
    "Then $D_2$ direction (${\\partial\\over\\partial x}+i{\\partial\\over\\partial y}$):"
   ]
  },
  {
   "cell_type": "code",
   "execution_count": 11,
   "metadata": {
    "scrolled": true
   },
   "outputs": [
    {
     "name": "stdout",
     "output_type": "stream",
     "text": [
      "kind = 'complex'\n",
      "normalization = '4pi'\n",
      "csphase = 1\n",
      "lmax = 6\n"
     ]
    },
    {
     "data": {
      "image/png": "[encoded data removed]",
      "text/plain": [
       "<matplotlib.figure.Figure at 0x7f28c85dbbe0>"
      ]
     },
     "metadata": {},
     "output_type": "display_data"
    }
   ],
   "source": [
    "from scipy.misc import factorial\n",
    "\n",
    "l_d2 = l+1; m_d2 = m+1; C_d2 = factorial(l_d2-np.abs(m_d2))/factorial(l-np.abs(m));\n",
    "C_norm = np.sqrt(factorial(l_d2+np.abs(m_d2))*factorial(l-np.abs(m))/factorial(l_d2-np.abs(m_d2))/factorial(l+np.abs(m)))\n",
    "C_4pi = np.sqrt((2*l+1)/(2*l_d2+1))\n",
    "if normalization in ['4pi', 'ortho']:\n",
    "    C_d2 = C_d2*C_norm*C_4pi\n",
    "elif normalization == 'schmidt':\n",
    "    C_d2 = C_d2*C_norm\n",
    "else:\n",
    "    print('normalization not defined')\n",
    "\n",
    "clm_d2 = pyshtools.SHCoeffs.from_zeros(lmax=lmax,kind='complex',normalization=normalization)\n",
    "clm_d2.info()\n",
    "clm_d2.set_coeffs(-C_d2, l_d2, m_d2)\n",
    "fig, ax = clm_d2.plot_spectrum2d(vrange=(1e-8, 1))\n",
    "\n",
    "Ilm_d2 = clm_d2.expand(lat=LAT,lon=LON)/R**(l_d2+1)\n",
    "#Ilm_d2 = eval_GridC(clm_d2, LAT, LON, R, shtype=shtype)#, norm=3)\n",
    "# Ilm_d2 = Ylm_d2 #/R**(l_d2+1)"
   ]
  },
  {
   "cell_type": "markdown",
   "metadata": {},
   "source": [
    "Then we compare the coefficients of $D_1$ and $D_2$ directions:"
   ]
  },
  {
   "cell_type": "code",
   "execution_count": 12,
   "metadata": {},
   "outputs": [
    {
     "name": "stdout",
     "output_type": "stream",
     "text": [
      "(0.999901048003-1.71809233507e-17j) (0.993226633634-1.11617737275e-15j)\n"
     ]
    }
   ],
   "source": [
    "dIlm_num_1 = dIlm_num[0] - 1.0j*dIlm_num[1]\n",
    "dIlm_num_2 = dIlm_num[0] + 1.0j*dIlm_num[1]\n",
    "Cd1 = (Ilm_d1/dIlm_num_1)#.mean()\n",
    "Cd2 = (Ilm_d2/dIlm_num_2)#.mean()\n",
    "print(Cd1.mean(), Cd2.mean())"
   ]
  },
  {
   "cell_type": "markdown",
   "metadata": {
    "collapsed": true
   },
   "source": [
    "### Second Vector Spherical Harmonics\n",
    "\n",
    "After we figured out the coefficients for the Hobson's differentiation, we then develop the second vector spherical harmonics:\n",
    "\n",
    "$$\n",
    "\\nabla\\left(\\frac{Y_l^m}{r^{l+1}}\\right) = \n",
    "\\left[-\\frac{l+1}{r^{l+2}}\\mathbf{Y}_l^m+{1\\over r^{l+2}}\\mathbf{\\Psi}_l^m\\right]\n",
    "$$\n",
    "\n",
    "Thus we have:\n",
    "\n",
    "$$\n",
    "\\mathbf{\\Psi}_l^m \\equiv r\\nabla Y_l^m = r^{l+2}\\nabla I_{lm} + (l+1)\\mathbf{Y}_l^m\n",
    "$$"
   ]
  },
  {
   "cell_type": "markdown",
   "metadata": {},
   "source": [
    "First we develop and test the evaluation for multiple $(l,m)$ degrees:\n",
    "\n",
    "$$\n",
    "C_{reg} = \\frac{(l+|m|)!}{(l'+|m'|)!} \\\\\n",
    "C_{schmidt} = \\sqrt{\\frac{(l'+|m'|)!(l-|m|)!}{(l'-|m'|)!(l+|m|)!}} \\\\\n",
    "C_{4\\pi} = \\sqrt{\\frac{2l+1}{2l'+1}}\n",
    "$$"
   ]
  },
  {
   "cell_type": "code",
   "execution_count": 13,
   "metadata": {},
   "outputs": [
    {
     "name": "stdout",
     "output_type": "stream",
     "text": [
      "[1 1 1 2 2 2 2 2 3 3 3 3 3 3 3 4 4 4 4 4 4 4 4 4 5 5 5 5 5 5 5 5 5 5 5 6 6\n",
      " 6 6 6 6 6 6 6 6 6 6 6]\n",
      "[-1  0  1 -2 -1  0  1  2 -3 -2 -1  0  1  2  3 -4 -3 -2 -1  0  1  2  3  4 -5\n",
      " -4 -3 -2 -1  0  1  2  3  4  5 -6 -5 -4 -3 -2 -1  0  1  2  3  4  5  6]\n",
      "[0 0 0 1 1 1 1 1 2 2 2 2 2 2 2 3 3 3 3 3 3 3 3 3 4 4 4 4 4 4 4 4 4 4 4 5 5\n",
      " 5 5 5 5 5 5 5 5 5 5 5]\n"
     ]
    }
   ],
   "source": [
    "shtype = 'reg'\n",
    "normalization = '4pi'\n",
    "\n",
    "if shtype == 'irr':\n",
    "    l_list = np.empty((lmax)**2, dtype=np.int)\n",
    "    m_list = np.empty((lmax)**2, dtype=np.int)\n",
    "    for l in range(lmax):\n",
    "        l_list[l**2:(l+1)**2] = l\n",
    "        m_list[l**2:(l+1)**2] = np.arange(-l, l+1)\n",
    "    l_d = l_list + 1\n",
    "    C_denom_list = factorial(l_list-np.abs(m_list))\n",
    "    C_dz_list = factorial((l_list+1)-np.abs(m_list))/C_denom_list\n",
    "    C_d1_list = factorial((l_list+1)-np.abs(m_list-1))/C_denom_list\n",
    "    C_d2_list = factorial((l_list+1)-np.abs(m_list+1))/C_denom_list\n",
    "elif shtype == 'reg':\n",
    "    l_list = np.empty((lmax+1)**2 - 1, dtype=np.int)\n",
    "    m_list = np.empty((lmax+1)**2 - 1, dtype=np.int)\n",
    "    for l in range(1, lmax + 1):\n",
    "        l_list[l**2 - 1:(l+1)**2 - 1] = l\n",
    "        m_list[l**2 - 1:(l+1)**2 - 1] = np.arange(-l, l+1)\n",
    "    l_d = l_list - 1\n",
    "    C_denom_list = factorial(l_list+np.abs(m_list))\n",
    "    C_dz_list = C_denom_list/factorial((l_list-1)+np.abs(m_list))\n",
    "    C_d1_list = C_denom_list/factorial((l_list-1)+np.abs(m_list-1))\n",
    "    C_d2_list = C_denom_list/factorial((l_list-1)+np.abs(m_list+1))\n",
    "elif shtype == None:\n",
    "    l_list = np.empty((lmax+1)**2, dtype=np.int)\n",
    "    m_list = np.empty((lmax+1)**2, dtype=np.int)\n",
    "    for l in range(lmax + 1):\n",
    "        l_list[l**2:(l+1)**2] = l\n",
    "        m_list[l**2:(l+1)**2] = np.arange(-l, l+1)\n",
    "    l_d = l_list\n",
    "else:\n",
    "    print('invalid solid harmonics type (irr, reg, None)')\n",
    "\n",
    "print(l_list)\n",
    "print(m_list)\n",
    "print(l_d)\n"
   ]
  },
  {
   "cell_type": "markdown",
   "metadata": {},
   "source": [
    "Here we add the normalization coefficients, corresponding to different types of solid harmonics: "
   ]
  },
  {
   "cell_type": "code",
   "execution_count": 14,
   "metadata": {
    "collapsed": true
   },
   "outputs": [],
   "source": [
    "# normalization coefficient for schmidt\n",
    "C_norm = np.sqrt( factorial(l_list+np.abs(m_list)) ) / np.sqrt( factorial(l_list-np.abs(m_list)) )\n",
    "\n",
    "# only calculate valid degrees (abs(l') >= abs(m'))\n",
    "C_norm_denom_dz = np.sqrt(factorial(l_d-np.abs(m_list)))\n",
    "C_norm_denom_dz[l_d >= np.abs(m_list)] = 1.0/C_norm_denom_dz[l_d >= np.abs(m_list)]\n",
    "C_norm_dz = np.sqrt( factorial(l_d+np.abs(m_list)) ) * C_norm_denom_dz / C_norm\n",
    "\n",
    "C_norm_denom_d1 = np.sqrt(factorial(l_d-np.abs(m_list - 1)))\n",
    "C_norm_denom_d1[l_d >= np.abs(m_list - 1)] = 1.0/C_norm_denom_d1[l_d >= np.abs(m_list - 1)]\n",
    "C_norm_d1 = np.sqrt( factorial(l_d+np.abs(m_list-1)) ) * C_norm_denom_d1 /C_norm\n",
    "\n",
    "C_norm_denom_d2 = np.sqrt(factorial(l_d-np.abs(m_list + 1)))\n",
    "C_norm_denom_d2[l_d >= np.abs(m_list + 1)] = 1.0/C_norm_denom_d2[l_d >= np.abs(m_list + 1)]\n",
    "C_norm_d2 = np.sqrt( factorial(l_d+np.abs(m_list+1)) ) * C_norm_denom_d2 /C_norm\n",
    "\n",
    "# remove the invalid degrees (abs(l') < abs(m'))\n",
    "C_norm_dz[l_d < np.abs(m_list)] = 0\n",
    "C_norm_d1[l_d < np.abs(m_list - 1)] = 0\n",
    "C_norm_d2[l_d < np.abs(m_list + 1)] = 0\n",
    "\n",
    "\n",
    "#print(factorial(-1), C_norm_denom, C_norm_dz, C_norm_d1, C_norm_d2)\n",
    "# normalization coefficient for 4pi and orthonormal\n",
    "C_4pi = np.sqrt((2*l_list+1)/(2*l_d+1))\n",
    "\n",
    "# apply the normalization coefficients\n",
    "if normalization in ['4pi', 'ortho']:\n",
    "    C_dz_list = C_dz_list * C_norm_dz * C_4pi\n",
    "    C_d1_list = C_d1_list * C_norm_d1 * C_4pi\n",
    "    C_d2_list = C_d2_list * C_norm_d2 * C_4pi\n",
    "elif normalization == 'schmidt':\n",
    "    C_dz_list = C_dz_list * C_norm_dz\n",
    "    C_d1_list = C_d1_list * C_norm_d1\n",
    "    C_d2_list = C_d2_list * C_norm_d2\n",
    "else:\n",
    "    print('normalization not defined')"
   ]
  },
  {
   "cell_type": "markdown",
   "metadata": {},
   "source": [
    "Generate random coefficients for test:"
   ]
  },
  {
   "cell_type": "code",
   "execution_count": 15,
   "metadata": {},
   "outputs": [],
   "source": [
    "clms = pyshtools.SHCoeffs.from_random(1/(np.arange(lmax+1)+1), kind='complex', normalization=normalization)\n",
    "# clms = clm.copy()\n",
    "if shtype == 'irr':\n",
    "    clms.coeffs[:,-1,:] = 0\n",
    "elif shtype == 'reg':\n",
    "    clms.coeffs[:,0,:] = 0\n",
    "else:\n",
    "    print('invalid solid harmonics type (irr, reg, None)')\n",
    "\n",
    "#Ilms_num = clms.expand(lat=LAT, lon=LON)/R**(l+1)\n",
    "Ilms_num = eval_GridC(clms, LAT, LON, R, shtype=shtype)#, norm=3)\n",
    "#Ilms_num = Ylms_num/R**(l+1)\n",
    "dIlms_num = np.gradient(Ilms_num, X[:,0,0], Y[0,:,0], Z[0,0,:])"
   ]
  },
  {
   "cell_type": "markdown",
   "metadata": {},
   "source": [
    "Calculate z-direction gradient:"
   ]
  },
  {
   "cell_type": "code",
   "execution_count": 16,
   "metadata": {
    "scrolled": true
   },
   "outputs": [
    {
     "data": {
      "image/png": "[encoded data removed]",
      "text/plain": [
       "<matplotlib.figure.Figure at 0x7f28c85b29b0>"
      ]
     },
     "metadata": {},
     "output_type": "display_data"
    },
    {
     "data": {
      "image/png": "[encoded data removed]",
      "text/plain": [
       "<matplotlib.figure.Figure at 0x7f28c88dac50>"
      ]
     },
     "metadata": {},
     "output_type": "display_data"
    }
   ],
   "source": [
    "clms_dz = pyshtools.SHCoeffs.from_zeros(lmax=lmax,kind='complex',normalization=normalization)\n",
    "C_dz = pyshtools.SHCoeffs.from_zeros(lmax=lmax,kind='complex',normalization=normalization)\n",
    "\n",
    "if shtype == 'irr':\n",
    "    clms_dz.coeffs[:,1:,:] = clms.coeffs[:,:-1,:]\n",
    "    C_dz.set_coeffs(-C_dz_list, l_list + 1, m_list)\n",
    "elif shtype == 'reg':\n",
    "    clms_dz.coeffs[:,:-1,:] = clms.coeffs[:,1:,:]\n",
    "    C_dz.set_coeffs(C_dz_list, l_list - 1, m_list)\n",
    "else:\n",
    "    print('invalid solid harmonics type (irr, reg)')\n",
    "\n",
    "clms_dz.coeffs = clms_dz.to_array() * C_dz.to_array()\n",
    "\n",
    "fig,ax = clms.plot_spectrum2d(vrange=(1e-8,1))#, vscale='lin')\n",
    "fig,ax = clms_dz.plot_spectrum2d(vrange=(1e-8,1))#, vscale='lin')\n",
    "\n",
    "#Ilms_dz = clm_dz.expand(lat=LAT, lon=LON)/R**(l_dz+1)\n",
    "Ilms_dz = eval_GridC(clms_dz, LAT, LON, R, shtype=shtype)#, norm=3)\n",
    "#Ilm_dz = Ylm_dz/R**(l_dz+1)"
   ]
  },
  {
   "cell_type": "markdown",
   "metadata": {},
   "source": [
    "Calculate $D_1$ and $D_2$ direction gradients:"
   ]
  },
  {
   "cell_type": "code",
   "execution_count": 17,
   "metadata": {
    "scrolled": true
   },
   "outputs": [
    {
     "name": "stdout",
     "output_type": "stream",
     "text": [
      "[1 1 2 2 3 3 4 4 5 5 6 6]\n",
      "[-1  0 -2 -1 -3 -2 -4 -3 -5 -4 -6 -5]\n"
     ]
    },
    {
     "data": {
      "image/png": "[encoded data removed]",
      "text/plain": [
       "<matplotlib.figure.Figure at 0x7f28c869e128>"
      ]
     },
     "metadata": {},
     "output_type": "display_data"
    },
    {
     "data": {
      "image/png": "[encoded data removed]",
      "text/plain": [
       "<matplotlib.figure.Figure at 0x7f28c85ade48>"
      ]
     },
     "metadata": {},
     "output_type": "display_data"
    }
   ],
   "source": [
    "clms_d1 = pyshtools.SHCoeffs.from_zeros(lmax=lmax,kind='complex',normalization=normalization)\n",
    "C_d1 = pyshtools.SHCoeffs.from_zeros(lmax=lmax,kind='complex',normalization=normalization)\n",
    "\n",
    "if shtype == 'irr':\n",
    "    clms_d1.coeffs[0,1:,:-1] = clms.coeffs[0,:-1,1:]\n",
    "    clms_d1.coeffs[1,1:,1:] = clms.coeffs[1,:-1,:-1]\n",
    "    clms_d1.coeffs[1,1:,1] = clms.coeffs[0,:-1,0]\n",
    "    C_d1.set_coeffs(C_d1_list, l_list + 1, m_list - 1)\n",
    "elif shtype == 'reg':\n",
    "    clms_d1.coeffs[0,:-1,:-1] = clms.coeffs[0,1:,1:]\n",
    "    clms_d1.coeffs[1,:-1,1:] = clms.coeffs[1,1:,:-1]\n",
    "    clms_d1.coeffs[1,:-1,1] = clms.coeffs[0,1:,0]\n",
    "    valid_idx = l_d >= np.abs(m_list - 1)\n",
    "    print(l_list[np.logical_not(valid_idx)])\n",
    "    print(m_list[np.logical_not(valid_idx)])\n",
    "    C_d1.set_coeffs(C_d1_list[valid_idx], l_list[valid_idx] - 1, m_list[valid_idx] - 1)\n",
    "else:\n",
    "    print('invalid solid harmonics type (irr, reg)')\n",
    "    \n",
    "clms_d1.coeffs = clms_d1.to_array() * C_d1.to_array()\n",
    "\n",
    "#print(clms_d1.to_array())\n",
    "fig,ax = clms.plot_spectrum2d(vrange=(1e-8,1))#, vscale='lin')\n",
    "fig,ax = clms_d1.plot_spectrum2d(vrange=(1e-8,1))#, vscale='lin')\n",
    "\n",
    "#Ilms_d1 = clm_d1.expand(lat=LAT, lon=LON)/R**(l_d1+1)\n",
    "Ilms_d1 = eval_GridC(clms_d1, LAT, LON, R, shtype=shtype)#, norm=3)\n",
    "#Ilm_d1 = Ylm_d1/R**(l_d1+1)"
   ]
  },
  {
   "cell_type": "code",
   "execution_count": 18,
   "metadata": {
    "scrolled": true
   },
   "outputs": [
    {
     "name": "stdout",
     "output_type": "stream",
     "text": [
      "6\n",
      "[1 1 2 2 3 3 4 4 5 5 6 6]\n",
      "[0 1 1 2 2 3 3 4 4 5 5 6]\n"
     ]
    },
    {
     "data": {
      "image/png": "[encoded data removed]",
      "text/plain": [
       "<matplotlib.figure.Figure at 0x7f28c7a340b8>"
      ]
     },
     "metadata": {},
     "output_type": "display_data"
    },
    {
     "data": {
      "image/png": "[encoded data removed]",
      "text/plain": [
       "<matplotlib.figure.Figure at 0x7f28c7a34588>"
      ]
     },
     "metadata": {},
     "output_type": "display_data"
    }
   ],
   "source": [
    "clms_d2 = pyshtools.SHCoeffs.from_zeros(lmax=lmax,kind='complex',normalization=normalization)\n",
    "C_d2 = pyshtools.SHCoeffs.from_zeros(lmax=lmax,kind='complex',normalization=normalization)\n",
    "print(lmax)\n",
    "if shtype == 'irr':\n",
    "    clms_d2.coeffs[0,1:,1:] = clms.coeffs[0,:-1,:-1]\n",
    "    clms_d2.coeffs[1,1:,:-1] = clms.coeffs[1,:-1,1:]\n",
    "    clms_d2.coeffs[0,1:,0] = clms.coeffs[1,:-1,1]\n",
    "    C_d2.set_coeffs(-C_d2_list, l_list + 1, m_list + 1)\n",
    "elif shtype == 'reg':\n",
    "    clms_d2.coeffs[0,:-1,1:] = clms.coeffs[0,1:,:-1]\n",
    "    clms_d2.coeffs[1,:-1,:-1] = clms.coeffs[1,1:,1:]\n",
    "    clms_d2.coeffs[0,:-1,0] = clms.coeffs[1,1:,1]\n",
    "    valid_idx = l_d >= np.abs(m_list + 1)\n",
    "    print(l_list[np.logical_not(valid_idx)])\n",
    "    print(m_list[np.logical_not(valid_idx)])\n",
    "    C_d2.set_coeffs(-C_d2_list[valid_idx], l_list[valid_idx] - 1, m_list[valid_idx] + 1)\n",
    "else:\n",
    "    print('invalid solid harmonics type (irr, reg)')\n",
    "\n",
    "clms_d2.coeffs = clms_d2.to_array() * C_d2.to_array()\n",
    "\n",
    "fig,ax = clms.plot_spectrum2d(vrange=(1e-8,1))#, vscale='lin')\n",
    "fig,ax = clms_d2.plot_spectrum2d(vrange=(1e-8,1))#, vscale='lin')\n",
    "\n",
    "#Ilms_d2 = clm_d2.expand(lat=LAT, lon=LON)/R**(l_d2+1)\n",
    "Ilms_d2 = eval_GridC(clms_d2, LAT, LON, R, shtype=shtype)#, norm=3)\n",
    "# Ilm_d2 = Ylm_d2/R**(l_d2+1)"
   ]
  },
  {
   "cell_type": "code",
   "execution_count": 19,
   "metadata": {},
   "outputs": [
    {
     "name": "stdout",
     "output_type": "stream",
     "text": [
      "(1.00056211474-2.1506644653e-05j) (1.00048110519+0.000514031584538j) (0.999970067082-0.000539189284752j)\n"
     ]
    }
   ],
   "source": [
    "dIlms_num_1 = dIlms_num[0] - 1.0j*dIlms_num[1]\n",
    "dIlms_num_2 = dIlms_num[0] + 1.0j*dIlms_num[1]\n",
    "Cds1 = (Ilms_d1/dIlms_num_1)#.mean()\n",
    "Cds2 = (Ilms_d2/dIlms_num_2)#.mean()\n",
    "Cdsz = (Ilms_dz/dIlms_num[2])#.mean()\n",
    "print(Cds1.mean(), Cds2.mean(), Cdsz.mean())\n",
    "# print(Cds1, Cds2, Cdsz)"
   ]
  },
  {
   "cell_type": "markdown",
   "metadata": {},
   "source": [
    "Then we implement the Hobson's differentiation into `SHGrad.py`, and we do the test here:"
   ]
  },
  {
   "cell_type": "code",
   "execution_count": 20,
   "metadata": {},
   "outputs": [
    {
     "name": "stdout",
     "output_type": "stream",
     "text": [
      "35.2643896828 45.0\n"
     ]
    }
   ],
   "source": [
    "x = 1; y = 1; z = 1;\n",
    "r = np.sqrt(x**2 + y**2 + z**2)\n",
    "colat = np.arccos(z/r)\n",
    "lon = np.arctan2(y,x)\n",
    "lat_d = 90-colat/np.pi*180 # latitude in degree\n",
    "lon_d = lon/np.pi*180      # longitude in degree\n",
    "print(lat_d,lon_d)"
   ]
  },
  {
   "cell_type": "code",
   "execution_count": 21,
   "metadata": {
    "scrolled": true
   },
   "outputs": [
    {
     "name": "stdout",
     "output_type": "stream",
     "text": [
      "dy_1^-1 = [-0.4714-0.2357j  0.2357+0.4714j  0.2357-0.2357j]\n",
      "dy_1^0 = [-0.3333+0.j -0.3333+0.j  0.6667+0.j]\n",
      "dy_1^1 = [ 0.4714-0.2357j -0.2357+0.4714j -0.2357-0.2357j]\n",
      "dy_2^-2 = [ 0.9129-0.3043j -0.9129-0.3043j -0.0000+0.6086j]\n",
      "dy_2^-1 = [-0.3043-0.6086j  0.6086+0.3043j -0.3043+0.3043j]\n",
      "dy_2^0 = [-0.7454+0.j -0.7454+0.j  1.4907+0.j]\n",
      "dy_2^1 = [ 0.3043-0.6086j -0.6086+0.3043j  0.3043+0.3043j]\n",
      "dy_2^2 = [ 0.9129+0.3043j -0.9129+0.3043j -0.0000-0.6086j]\n",
      "dy_3^-3 = [-0.5693+1.1386j  1.1386-0.5693j -0.5693-0.5693j]\n",
      "dy_3^-2 = [ 1.3944+0.j -1.3944+0.j  0.0000+0.j]\n",
      "dy_3^-1 = [ 0.4410-0.8819j  0.8819-0.441j  -1.3229+1.3229j]\n",
      "dy_3^0 = [-0.5092+0.j -0.5092+0.j  1.0184+0.j]\n",
      "dy_3^1 = [-0.4410-0.8819j -0.8819-0.441j   1.3229+1.3229j]\n",
      "dy_3^2 = [ 1.3944-0.j -1.3944-0.j  0.0000-0.j]\n",
      "dy_3^3 = [ 0.5693+1.1386j -1.1386-0.5693j  0.5693-0.5693j]\n",
      "dy_4^-4 = [-0.4648-1.3944j -0.4648+1.3944j  0.9296+0.j    ]\n",
      "dy_4^-3 = [-1.3147+1.6434j  1.6434-1.3147j -0.3287-0.3287j]\n",
      "dy_4^-2 = [ 1.0541+0.8784j -1.0541+0.8784j  0.0000-1.7568j]\n",
      "dy_4^-1 = [ 0.9938-0.6211j  0.6211-0.9938j -1.6149+1.6149j]\n",
      "dy_4^0 = [ 0.5556+0.j  0.5556+0.j -1.1111+0.j]\n",
      "dy_4^1 = [-0.9938-0.6211j -0.6211-0.9938j  1.6149+1.6149j]\n",
      "dy_4^2 = [ 1.0541-0.8784j -1.0541-0.8784j  0.0000+1.7568j]\n",
      "dy_4^3 = [ 1.3147+1.6434j -1.6434-1.3147j  0.3287-0.3287j]\n",
      "dy_4^4 = [-0.4648+1.3944j -0.4648-1.3944j  0.9296-0.j    ]\n",
      "dy_5^-5 = [ 1.4073+0.7036j -0.7036-1.4073j -0.7036+0.7036j]\n",
      "dy_5^-4 = [-0.445-2.6701j -0.445+2.6701j  0.890+0.j    ]\n",
      "dy_5^-3 = [-1.8881+0.944j   0.9440-1.8881j  0.9440+0.944j ]\n",
      "dy_5^-2 = [ 0.+1.5416j -0.+1.5416j  0.-3.0832j]\n",
      "dy_5^-1 = [ 0.5827+0.2913j -0.2913-0.5827j -0.2913+0.2913j]\n",
      "dy_5^0 = [ 1.5957+0.j  1.5957+0.j -3.1914+0.j]\n",
      "dy_5^1 = [-0.5827+0.2913j  0.2913-0.5827j  0.2913+0.2913j]\n",
      "dy_5^2 = [ 0.-1.5416j -0.-1.5416j  0.+3.0832j]\n",
      "dy_5^3 = [ 1.8881+0.944j  -0.9440-1.8881j -0.9440+0.944j ]\n",
      "dy_5^4 = [-0.445+2.6701j -0.445-2.6701j  0.890-0.j    ]\n",
      "dy_5^5 = [-1.4073+0.7036j  0.7036-1.4073j  0.7036+0.7036j]\n"
     ]
    }
   ],
   "source": [
    "from SHGrad import VSH2\n",
    "#from SH_derivative import SHgradClm_VSH\n",
    "\n",
    "for l in range(1,6):\n",
    "    for m in range(-l,l+1):\n",
    "        Ylm = pyshtools.SHCoeffs.from_zeros(lmax=lmax,kind='complex',normalization=normalization)\n",
    "        Ylm.set_coeffs(1.0, l, m)\n",
    "        #print(Ylm.lmax)\n",
    "        Psilm = VSH2(Ylm.to_array(), norm=Ylm.normalization, csphase=Ylm.csphase)\n",
    "        ylm_x_val = pyshtools.expand.MakeGridPointC(Psilm[...,0],lat_d,lon_d)\n",
    "        ylm_y_val = pyshtools.expand.MakeGridPointC(Psilm[...,1],lat_d,lon_d)\n",
    "        ylm_z_val = pyshtools.expand.MakeGridPointC(Psilm[...,2],lat_d,lon_d)\n",
    "        #Ylm_x, Ylm_y, Ylm_z = VSH2(Ylm)\n",
    "        #Ylm_x, Ylm_y, Ylm_z = SHgradClm_VSH(Ylm)\n",
    "        #Ylm_x, Ylm_y, Ylm_z = SHgrad(l, m, lmax, r)\n",
    "        #ylm_x_val = pyshtools.expand.MakeGridPointC(Ylm_x.to_array(),lat_d,lon_d)\n",
    "        #ylm_y_val = pyshtools.expand.MakeGridPointC(Ylm_y.to_array(),lat_d,lon_d)\n",
    "        #ylm_z_val = pyshtools.expand.MakeGridPointC(Ylm_z.to_array(),lat_d,lon_d)\n",
    "        np.set_printoptions(precision=4,suppress=True)\n",
    "        print('dy_'+str(l)+'^'+str(m)+' =', 1/r*np.array([ylm_x_val,ylm_y_val,ylm_z_val]))"
   ]
  },
  {
   "cell_type": "markdown",
   "metadata": {},
   "source": [
    "Now we completely recovered the `SHgrad_VSH` by our new method."
   ]
  }
 ],
 "metadata": {
  "kernelspec": {
   "display_name": "Python 3",
   "language": "python",
   "name": "python3"
  },
  "language_info": {
   "codemirror_mode": {
    "name": "ipython",
    "version": 3
   },
   "file_extension": ".py",
   "mimetype": "text/x-python",
   "name": "python",
   "nbconvert_exporter": "python",
   "pygments_lexer": "ipython3",
   "version": "3.5.2"
  }
 },
 "nbformat": 4,
 "nbformat_minor": 2
}
