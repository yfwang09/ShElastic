{
 "cells": [
  {
   "cell_type": "markdown",
   "metadata": {},
   "source": [
    "# Hydrogel-Cell Interaction Test Case\n",
    "\n",
    "In this case, we only have the deformed shape of the spherical hydrogel as shown in the next few cells."
   ]
  },
  {
   "cell_type": "code",
   "execution_count": 1,
   "metadata": {},
   "outputs": [],
   "source": [
    "import numpy as np\n",
    "import scipy as sp\n",
    "import scipy.sparse as spm\n",
    "from scipy.sparse.linalg import lsqr, spsolve\n",
    "from scipy.interpolate import RectBivariateSpline\n",
    "from scipy.optimize import minimize\n",
    "from scipy.io import loadmat, savemat\n",
    "\n",
    "import matplotlib.pyplot as plt\n",
    "from matplotlib import cm, colors\n",
    "from mpl_toolkits.mplot3d import Axes3D\n",
    "from mpl_toolkits.mplot3d.art3d import Line3DCollection\n",
    "import sys, time, os, glob\n",
    "from itertools import permutations\n",
    "import pyshtools\n",
    "\n",
    "sys.path.append('..')\n",
    "from shelastic.shutil import SphCoord_to_CartCoord, CartCoord_to_SphCoord, GLQCartCoord\n",
    "from shelastic.shutil import SHCilmToVector, SHVectorToCilm, SHVec2mesh, SHmesh2Vec\n",
    "from shelastic.shutil import TransMat, l_coeffs, m_coeffs, LM_list, lmk2K, K2lmk\n",
    "from shelastic.shbv import generate_submat, Uvec2Tvec, Tvec2Uvec\n",
    "from shelastic.shvis  import plotfv, vismesh, visSHVec, visSH3d\n",
    "from sphere_utils import loadCoeffs, arbitrary_force, Ur_interp\n",
    "from sphere_utils import usurf2umesh, dumesh_dus, usurf2vec\n",
    "from sphere_utils import Tvec2Tres, usurf2dr, calculateTfv, genSmat, genLmat, grad_usurf2dr"
   ]
  },
  {
   "cell_type": "markdown",
   "metadata": {},
   "source": [
    "## Input information"
   ]
  },
  {
   "cell_type": "code",
   "execution_count": 2,
   "metadata": {},
   "outputs": [
    {
     "name": "stdout",
     "output_type": "stream",
     "text": [
      "Integrating modes to a matrix\n",
      "1323 1323\n",
      "Integrating modes to a matrix\n",
      "1323 1323\n"
     ]
    }
   ],
   "source": [
    "############################# change inputs here #################################\n",
    "# Data file name\n",
    "datadir = '../testdata'\n",
    "smoothed = 'smoothed_3'\n",
    "dilated = '_1um_dilated'\n",
    "shapename = 'Shape3'\n",
    "datafile = os.path.join(datadir, shapename+'_Coordinates_Cart_'+smoothed+'.csv')\n",
    "connfile = os.path.join(datadir, shapename+'_Connectivity.csv')\n",
    "maskfile = os.path.join(datadir, shapename+'_Mask'+dilated+'.csv')\n",
    "\n",
    "# Material properties\n",
    "mu0 = 300/3; nu0 = 0.499;\n",
    "\n",
    "# Spherical Harmonics Analysis Settings\n",
    "lJmax = 20; lKmax = lJmax; lmax_plot = 60;\n",
    "\n",
    "# initial guess settings\n",
    "init_guess_type = 'ur-only' #'ur-only' or 'true'\n",
    "\n",
    "# regularizations\n",
    "myalpha = 1     # traction magnitude\n",
    "mybeta  = 1  # coefficient magnitude\n",
    "mygamma = 1  \n",
    "\n",
    "# program switches\n",
    "plot_figure = False\n",
    "savefig = True\n",
    "myord = 1; # myord: p-norm order (1-mean value)\n",
    "\n",
    "# minimization settings\n",
    "N_period = 1000\n",
    "maxiter_per_period = 5\n",
    "CG_gtol = 1e-5\n",
    "eps = 1e-5               # for jacobian\n",
    "\n",
    "minimizer = 'CG'\n",
    "minimizer_config = {'maxiter': maxiter_per_period, 'disp': True, 'gtol': CG_gtol}\n",
    "\n",
    "# dump files for minimization\n",
    "savename = shapename+('_b%.0e'%(mybeta))+('_lmax%d'%lJmax)+smoothed+dilated + '_g%.0e'%mygamma\n",
    "\n",
    "# settings for loading \\hat{U}, \\hat{T} coefficients\n",
    "Cmat, Dmat = loadCoeffs(mu0, nu0, lJmax, 'reg')"
   ]
  },
  {
   "cell_type": "markdown",
   "metadata": {},
   "source": [
    "## Load the geometry"
   ]
  },
  {
   "cell_type": "code",
   "execution_count": 3,
   "metadata": {},
   "outputs": [
    {
     "name": "stdout",
     "output_type": "stream",
     "text": [
      "data, connectivity: (7834, 3) (15664, 3)\n",
      "id of nodes, edges, facets: (7834,) (23496, 2) (15664, 3)\n",
      "coord of nodes, edges, facets: (7834, 3) (23496, 2, 3) (15664, 3, 3)\n"
     ]
    }
   ],
   "source": [
    "#### load the geometry ####\n",
    "# Vs, Vp: list of nodes (nV, trivial), coordinates of the nodes (nVx3)\n",
    "# Es, Ep: list of edges (nEx2), list of points on the edges (nEx2x3)\n",
    "# Fs, Fp: list of facets (nFx3), list of points on the facets (nFx3x3)\n",
    "# Tfv: traction free boundary map of the node list\n",
    "# Tfe: traction free boundary map of the edge list\n",
    "# Tff: traction free boundary map of the face list\n",
    "# Tf_diluted: diluted traction free boundary map\n",
    "\n",
    "data = np.genfromtxt(datafile, delimiter=',')\n",
    "conn = np.genfromtxt(connfile, delimiter=',', dtype=np.int)\n",
    "if dilated == '_softedge':\n",
    "    masktype = np.float\n",
    "else:\n",
    "    masktype = np.int\n",
    "if shapename == 'Shape4':\n",
    "    mask = np.zeros_like(data[:,0]).astype(masktype)\n",
    "else:\n",
    "    mask = np.genfromtxt(maskfile, dtype=masktype)\n",
    "print('data, connectivity:', data.shape, conn.shape)\n",
    "\n",
    "Fs = conn - 1\n",
    "Np = data.shape[0]\n",
    "Vs = np.arange(Np)\n",
    "edge_conn = spm.lil_matrix((Np, Np), dtype=bool)\n",
    "for i, j in permutations(range(3), 2):\n",
    "    edge_conn[Fs[:, i], Fs[:, j]] = True\n",
    "Es = spm.triu(edge_conn).tocoo()\n",
    "Es = np.vstack([Es.row, Es.col]).T\n",
    "print('id of nodes, edges, facets:', Vs.shape, Es.shape, Fs.shape)\n",
    "Vp = data[..., :3]\n",
    "Ep = Vp[Es, :]; Fp = Vp[Fs, :];\n",
    "print('coord of nodes, edges, facets:', Vp.shape, Ep.shape, Fp.shape)\n",
    "\n",
    "if dilated == '_softedge':\n",
    "    Tfv = (mask > 0.5)\n",
    "else:\n",
    "    Tfv = mask.astype(np.bool)\n",
    "\n",
    "#### Plot the geometry (Vp) ####\n",
    "if plot_figure:\n",
    "    fig = plt.figure(figsize=plt.figaspect(1))\n",
    "    ax = fig.add_subplot(111, projection='3d')\n",
    "\n",
    "    nTfv = np.logical_not(Tfv)\n",
    "    ax.scatter3D(Vp[Tfv, 0], Vp[Tfv, 1], Vp[Tfv, 2])\n",
    "    ax.scatter3D(Vp[nTfv, 0], Vp[nTfv, 1], Vp[nTfv, 2])\n",
    "\n",
    "    ax.view_init(azim=0, elev=0)\n",
    "    plt.show()"
   ]
  },
  {
   "cell_type": "markdown",
   "metadata": {},
   "source": [
    "Then we determine the original radius of the particle, assuming the particle is incompressible. The total volume can be estimated by adding the volume of the tetrahedrons. The volume of a tetrahedron is calculated as:\n",
    "\n",
    "$$\n",
    "V_{0123}=\\frac{1}{6}\n",
    "\\begin{vmatrix}\n",
    " x_1 & y_1 & z_1 & 1\\\\ \n",
    " x_2 & y_2 & z_2 & 1\\\\ \n",
    " x_3 & y_3 & z_3 & 1\\\\ \n",
    " 0 & 0 & 0 & 1\\\\ \n",
    "\\end{vmatrix}\n",
    "$$"
   ]
  },
  {
   "cell_type": "code",
   "execution_count": 4,
   "metadata": {},
   "outputs": [
    {
     "name": "stdout",
     "output_type": "stream",
     "text": [
      "V = 611.4346, r0 = 5.2653\n"
     ]
    }
   ],
   "source": [
    "tet = np.zeros((Fs.shape[0], 4, 4))\n",
    "tet[:,:-1,:-1] = Fp\n",
    "tet[:,:,-1] = 1\n",
    "vol = np.sum(np.linalg.det(tet)/6, axis=0)\n",
    "r0 = np.cbrt(vol/(4/3*np.pi))\n",
    "print('V = %.4f, r0 = %.4f'%(vol, r0))"
   ]
  },
  {
   "cell_type": "markdown",
   "metadata": {},
   "source": [
    "We need to solve the reverse problem of a deformed shape. We will try the following methods to tackle this problem:\n",
    "\n",
    "1. Assume $r$-direction deformation only, using the solution as initial guess to the optimization\n",
    "2. LSQ solving coeffs of the SH solutions for fitting both the traction-free boundary and the shape"
   ]
  },
  {
   "cell_type": "markdown",
   "metadata": {},
   "source": [
    "Conversion between complex and real spherical harmonics, for $m>0$\n",
    "\n",
    "$$\n",
    "f_{lm} = \\left[f_l^m+(-1)^mf_l^{-m}\\right]/\\sqrt{2}\\\\\n",
    "f_{l-m}=i\\left[f_l^m-(-1)^mf_l^{-m}\\right]/\\sqrt{2}\\\\\n",
    "f_l^m = (f_{lm}-if_{l-m})/\\sqrt{2}\\\\\n",
    "f_l^{-m} = (-1)^m(f_{lm}+if_{l-m})/\\sqrt{2}\n",
    "$$\n",
    "\n",
    "for $m=0$:\n",
    "\n",
    "$$\n",
    "f_{l0} = f_l^0\n",
    "$$\n"
   ]
  },
  {
   "cell_type": "markdown",
   "metadata": {},
   "source": [
    "## 2. LSQ solving SH coeffs for displacement field\n",
    "\n",
    "Obviously, the decomposition is not satisfactory. It is not reasonable to assume the deformation is only on $r$-direction. In this section, we will try to optimize SH coeffs, so that the deformed shape is closest to the data. Notice that the integral of a spherical harmonic function on the sphere surface is:\n",
    "\n",
    "$$\n",
    "\\int_0^{2\\pi}\\!\\int_0^{\\pi}Y_l^m(\\theta,\\varphi)\\sin\\theta d\\theta d\\varphi = 4\\pi\\delta_{l0}\\delta_{m0}\n",
    "$$\n",
    "\n",
    "Therefore, only the $Y_0^0$ term controls the rigid body translation (constant). If we only impose higher mode spherical harmonics, there will be no rigid body motion."
   ]
  },
  {
   "cell_type": "markdown",
   "metadata": {},
   "source": [
    "### Develop the interpolation function for $u_r(\\theta,\\varphi)$ from data"
   ]
  },
  {
   "cell_type": "code",
   "execution_count": 5,
   "metadata": {
    "scrolled": false
   },
   "outputs": [
    {
     "name": "stdout",
     "output_type": "stream",
     "text": [
      "shape fitting accuracy: 0.00017407956803636496\n"
     ]
    }
   ],
   "source": [
    "f_interp = Ur_interp(Vp/r0, lmax=lJmax+20, plot_figure=plot_figure)\n",
    "# Define shape reference\n",
    "latsdeg, lonsdeg = pyshtools.expand.GLQGridCoord(lJmax)\n",
    "lon0, lat0 = np.meshgrid(lonsdeg, latsdeg)\n",
    "X0surf = np.stack([lat0, lon0], axis=-1)\n",
    "X0 = GLQCartCoord(lJmax)"
   ]
  },
  {
   "cell_type": "markdown",
   "metadata": {},
   "source": [
    "### Define the initial guess"
   ]
  },
  {
   "cell_type": "code",
   "execution_count": 6,
   "metadata": {},
   "outputs": [],
   "source": [
    "lmax = lJmax\n",
    "ldamp_hi = lmax; ldamp_lo = lmax - 5;\n",
    "lv, _ = LM_list(lmax); lv_ones = np.ones_like(lv);\n",
    "lv_lim = np.minimum(np.maximum(lv, ldamp_lo), ldamp_hi)\n",
    "ldamp = (np.maximum(lv_lim-ldamp_lo, 0) / (ldamp_hi - ldamp_lo))**1\n",
    "Q = spm.csr_matrix(np.diag(np.tile(ldamp, 3)).astype(np.complex))    "
   ]
  },
  {
   "cell_type": "code",
   "execution_count": 16,
   "metadata": {
    "scrolled": true
   },
   "outputs": [
    {
     "name": "stdout",
     "output_type": "stream",
     "text": [
      "  beta  gamma             Tres              Eel            R^2           Eel0           Epen              f\n",
      "Shape1\n",
      " 1.000  0.000   1.055080e+00Pa   8.406725e-05pJ   1.113193e-04   5.759243e-03   0.000000e+00   5.870563e-03\n",
      " 1.000  0.010   1.085912e+00Pa   8.955148e-05pJ   1.179205e-04   6.134955e-03   1.781827e-06   6.254657e-03\n",
      " 1.000  0.030   1.085051e+00Pa   8.950894e-05pJ   1.177335e-04   6.132040e-03   5.057674e-06   6.254832e-03\n",
      " 1.000  0.100   1.075607e+00Pa   8.940911e-05pJ   1.156930e-04   6.125201e-03   1.564382e-05   6.256538e-03\n",
      " 1.000  0.300   1.086817e+00Pa   8.916474e-05pJ   1.181171e-04   6.108460e-03   3.896357e-05   6.265541e-03\n",
      " 1.000  1.000   1.092652e+00Pa   8.880377e-05pJ   1.193888e-04   6.083731e-03   9.437706e-05   6.297497e-03\n",
      " 1.000  3.000   1.072299e+00Pa   8.841939e-05pJ   1.149826e-04   6.057398e-03   1.569460e-04   6.329327e-03\n",
      " 1.000 10.000   1.070944e+00Pa   8.846584e-05pJ   1.146920e-04   6.060580e-03   2.083576e-04   6.383630e-03\n",
      " 1.000 30.000   1.069947e+00Pa   8.839730e-05pJ   1.144787e-04   6.055885e-03   3.104170e-04   6.480781e-03\n",
      "Shape2\n",
      " 1.000  0.000   1.213355e+00Pa   6.792294e-04pJ   1.472230e-04   4.653236e-02   0.000000e+00   4.667959e-02\n",
      " 1.000  0.010   1.236389e+00Pa   6.635253e-04pJ   1.528657e-04   4.545651e-02   2.365773e-05   4.563303e-02\n",
      " 1.000  0.030   1.219791e+00Pa   6.792625e-04pJ   1.487891e-04   4.653463e-02   6.813324e-05   4.675155e-02\n",
      " 1.000  0.100   1.202413e+00Pa   6.799509e-04pJ   1.445797e-04   4.658179e-02   1.782157e-04   4.690458e-02\n",
      " 1.000  0.300   1.181297e+00Pa   6.839113e-04pJ   1.395461e-04   4.685310e-02   3.720415e-04   4.736469e-02\n",
      " 1.000  1.000   1.196513e+00Pa   7.184531e-04pJ   1.431644e-04   4.921948e-02   7.450451e-04   5.010769e-02\n",
      " 1.000  3.000   1.175721e+00Pa   7.237144e-04pJ   1.382320e-04   4.957992e-02   1.218754e-03   5.093691e-02\n",
      " 1.000 10.000   1.090723e+00Pa   7.036905e-04pJ   1.189677e-04   4.820813e-02   7.225581e-04   4.904966e-02\n",
      " 1.000 30.000   1.099964e+00Pa   7.153478e-04pJ   1.209921e-04   4.900674e-02   5.347649e-04   4.966250e-02\n",
      "Shape3\n",
      " 1.000  0.000   1.352556e+00Pa   4.377290e-04pJ   1.829408e-04   2.998775e-02   0.000000e+00   3.017069e-02\n",
      " 1.000  0.010   1.504998e+00Pa   4.427646e-04pJ   2.265020e-04   3.033273e-02   6.598426e-06   3.056583e-02\n",
      " 1.000  0.030   1.253331e+00Pa   4.298422e-04pJ   1.570837e-04   2.944745e-02   1.541387e-05   2.961995e-02\n",
      " 1.000  0.100   1.256307e+00Pa   4.303676e-04pJ   1.578308e-04   2.948344e-02   4.437369e-05   2.968565e-02\n",
      " 1.000  0.300   1.498838e+00Pa   4.373998e-04pJ   2.246516e-04   2.996520e-02   9.496074e-05   3.028481e-02\n",
      " 1.000  1.000   1.463325e+00Pa   4.397038e-04pJ   2.141319e-04   3.012304e-02   1.916986e-04   3.052887e-02\n",
      " 1.000  3.000   1.516397e+00Pa   4.372107e-04pJ   2.299460e-04   2.995225e-02   2.276342e-04   3.040983e-02\n",
      " 1.000 10.000   1.549212e+00Pa   4.417407e-04pJ   2.400058e-04   3.026258e-02   2.971806e-04   3.079977e-02\n",
      " 1.000 30.000   1.467797e+00Pa   4.434241e-04pJ   2.154427e-04   3.037791e-02   2.842390e-04   3.087759e-02\n"
     ]
    }
   ],
   "source": [
    "# %matplotlib inline\n",
    "slist = [1, 2, 3]\n",
    "blist = [1., ] #0., 1e-3, 3e-3, 1e-2, 3e-2, 5e-2, 0.1, 0.3, 0.5, 1, 3, 5]\n",
    "glist = [0., 1e-2, 3e-2, 0.1, 0.3, 1, 3, 10, 30]\n",
    "shape_reslist = []\n",
    "\n",
    "if plot_figure:\n",
    "    fig0, ax0 = plt.subplots()\n",
    "print('  beta  gamma             Tres              Eel            R^2           Eel0           Epen              f')\n",
    "for ish in range(len(slist)):\n",
    "    shapename = 'Shape%d'%slist[ish]\n",
    "    reslist = []\n",
    "    print(shapename)\n",
    "    for ib in range(len(blist)):\n",
    "        mybeta = blist[ib]\n",
    "        for ig in range(len(glist)):\n",
    "            g = glist[ig]\n",
    "            savename = shapename+('_b%.0e'%(mybeta))+('_lmax%d'%lJmax)+smoothed+dilated + '_g%.0e'%g\n",
    "            filelist = glob.glob('AK_'+savename+'_??.npz')\n",
    "            #print(filelist)\n",
    "            filename = 'AK_'+savename+'_%02d.npz'%(len(filelist)-1)\n",
    "            if not os.path.exists(filename):\n",
    "                reslist.append([mybeta, g, np.nan, np.nan, np.nan, np.nan, np.nan, np.nan])\n",
    "                continue\n",
    "                #u_surf_list = np.load('AK_'+savename+'_00.npz')['u_surf_list']\n",
    "                #u0_surf = u_surf_list[-1, ...]\n",
    "                #Usurfvec, aK, Tsurfvec = usurf2vec(u0_surf, f_interp, lJmax, Cmat=Cmat, Dmat=Dmat)\n",
    "            aK = np.load(filename)['AK_iter']\n",
    "            Usurfvec = Dmat.dot(aK); Tsurfvec = Cmat.dot(aK);\n",
    "            isTfv = calculateTfv(Usurfvec, lJmax, Vp/r0, mask)\n",
    "            Tsurfdist = Tvec2Tres(Tsurfvec, lJmax, isTfv=isTfv, norm_order=myord)\n",
    "            Eelsurf = np.vdot(Usurfvec, Tsurfvec).real*2*np.pi\n",
    "            Epensurf = np.vdot(Q.dot(Tsurfvec), Q.dot(Tsurfvec)).real\n",
    "            dr = Tsurfdist + mybeta * Eelsurf + g * Epensurf\n",
    "            Tres = np.sqrt(Tsurfdist)*mu0\n",
    "            Eel = Eelsurf*(r0/1e6)**3*mu0*1e12\n",
    "            reslist.append((mybeta, g, Tres, Eel, Tsurfdist, Eelsurf*mybeta, Epensurf*g, dr))\n",
    "            print('%6.3f%7.3f%15.6ePa%15.6epJ%15.6e%15.6e%15.6e%15.6e'%reslist[-1])\n",
    "            if plot_figure:\n",
    "                ax0.plot(np.arange(Tsurfvec.size)+0.1*ig, np.abs(Tsurfvec), '.', label='%.3f'%g)\n",
    "                fig, ax = visSHVec((Tsurfvec)*mu0, lmax_plot=lmax_plot, SphCoord=True, Complex=True, \n",
    "                                   n_vrange=(-100, 100), s_vrange=(0, 50), show=False,\n",
    "                                   config_quiver=(2, 3, 'k', 500), lonshift=180, figsize=(6,3))\n",
    "                ax[0].set_title(r'$\\beta=1,\\;\\gamma=%.3f,\\;\\vec{T}_n(Pa)$'%g)\n",
    "                ax[1].set_title(r'$\\beta=1,\\;\\gamma=%.3f,\\;\\vec{T}_s(Pa)$'%g)\n",
    "                umesh1_fine = SHVec2mesh(Usurfvec, lmax=lmax_plot, SphCoord=False, Complex=True)\n",
    "                tmesh1_fine = SHVec2mesh(Tsurfvec*mu0, lmax=lmax_plot, SphCoord=False, Complex=True)\n",
    "                fig, ax = visSH3d(umesh1_fine, cmesh=tmesh1_fine, \n",
    "                                  r0=r0, show=False, vmin=-100, vmax=100,\n",
    "                                  elevation=0, azimuth=0,\n",
    "                                  surface=True, figsize=(4,3))\n",
    "                # reference data\n",
    "                ax.scatter3D(Vp[Tfv, 0], Vp[Tfv, 1], Vp[Tfv, 2], marker='^', s=10)\n",
    "                ax.scatter3D(Vp[nTfv, 0], Vp[nTfv, 1], Vp[nTfv, 2], marker='^', s=10)\n",
    "                ax.set_title('Front view')\n",
    "\n",
    "        if plot_figure:\n",
    "            leg = ax0.legend()\n",
    "            plt.show()\n",
    "    # np_reslist = np.array(reslist).reshape(len(blist), len(glist), 8)\n",
    "    shape_reslist.append(np.array(reslist).reshape(len(blist), len(glist), 8))"
   ]
  },
  {
   "cell_type": "raw",
   "metadata": {},
   "source": [
    "fig = plt.figure(figsize=(10, 3)); ax0 = fig.add_subplot(121); ax1 = fig.add_subplot(122, sharex=ax0);\n",
    "for i in range(len(slist)):\n",
    "    ax0.semilogx(blist, shape_reslist[i][..., 3].flatten()/shape_reslist[i][0, 0, 3], '-*', label='Shape%d'%slist[i])\n",
    "    ax1.semilogx(blist, shape_reslist[i][..., 2].flatten(), '-*', label='Shape%d'%slist[i])\n",
    "ax0.legend(ncol=1);\n",
    "ax0.set_title('$E_{el}/E_{el}^0$');\n",
    "ax1.set_title(r'$R({\\bf{T}};\\Omega_t)(Pa)$');\n",
    "ax0.set_xlabel(r'$\\alpha$'); ax1.set_xlabel(r'$\\alpha$')\n",
    "plt.show()"
   ]
  },
  {
   "cell_type": "code",
   "execution_count": 18,
   "metadata": {},
   "outputs": [
    {
     "data": {
      "image/png": "[encoded data removed]",
      "text/plain": [
       "<Figure size 720x216 with 2 Axes>"
      ]
     },
     "metadata": {
      "needs_background": "light"
     },
     "output_type": "display_data"
    }
   ],
   "source": [
    "fig = plt.figure(figsize=(10, 3)); ax0 = fig.add_subplot(121); ax1 = fig.add_subplot(122, sharex=ax0);\n",
    "for i in range(len(slist)):\n",
    "    # print(shape_reslist[i][..., 3].flatten(), shape_reslist[i][0, 0, 3])\n",
    "    ax0.semilogx(glist, shape_reslist[i][..., 3].flatten()/shape_reslist[i][0, 0, 3], '-*', label='Shape%d'%slist[i])\n",
    "    ax1.semilogx(glist, shape_reslist[i][..., 2].flatten(), '-*', label='Shape%d'%slist[i])\n",
    "ax0.legend(ncol=1); ax0.set_ylim(top=1.6)\n",
    "ax0.set_title('$E_{el}/E_{el}^0$'); \n",
    "ax1.set_title(r'$R({\\bf{T}};\\Omega_t)(Pa)$');\n",
    "ax0.set_xlabel(r'$\\beta$'); ax1.set_xlabel(r'$\\beta$')\n",
    "plt.show()"
   ]
  },
  {
   "cell_type": "code",
   "execution_count": 19,
   "metadata": {},
   "outputs": [],
   "source": [
    "savemat('Case05_summary_beta.mat', {'beta': glist,\n",
    "                                    'Eel' : np.array(shape_reslist)[:, ..., 3],\n",
    "                                    'Tres': np.array(shape_reslist)[:, ..., 2]})"
   ]
  },
  {
   "cell_type": "raw",
   "metadata": {},
   "source": [
    "fig = plt.figure(figsize=(12, 9))\n",
    "ax0 = fig.add_subplot(411); ax1 = fig.add_subplot(412, sharex=ax0)\n",
    "ax2 = fig.add_subplot(413, sharex=ax0); ax3 = fig.add_subplot(414, sharex=ax0, sharey=ax2)\n",
    "for j in range(len(glist)):\n",
    "    ax0.semilogx(blist, np_reslist[:, j,].flatten()*(r0/1e6)**3*mu0*1e12, label='$n_r=%.1fnm$'%noise_level)\n",
    "    ax1.semilogx(blist, Treslist[i, ..., j].flatten()*mu0, label='$n_r=%.1fnm$'%noise_level)\n",
    "    ax2.semilogx(blist, eTn[i, ..., j].flatten(), label='$n_r=%.1fnm$'%noise_level)\n",
    "    ax3.semilogx(blist, eTs[i, ..., j].flatten(), label='$n_r=%.1fnm$'%noise_level)\n",
    "ax0.semilogx(blist, Eeltrues[i, ..., 0].flatten()*(r0/1e6)**3*mu0*1e12, 'k--', label='$E_{el}^{true}(pJ)$')\n",
    "ax0.legend(ncol=3); ax0.set_ylabel('$E_{el}(pJ)$');  ax0.get_xaxis().set_visible(False)\n",
    "ax1.legend(ncol=2); ax1.set_ylabel(r'$R({\\bf{T}};\\Omega_t)(Pa)$'); ax1.get_xaxis().set_visible(False)\n",
    "ax2.legend(ncol=2); ax2.set_ylabel('$max (e_{T_n})(Pa)$'); ax2.get_xaxis().set_visible(False)\n",
    "ax3.legend(ncol=2); ax3.set_ylabel('$max (e_{T_s})(Pa)$')\n",
    "ax3.set_xlabel(r'$\\beta$');\n",
    "fig.suptitle(r'$\\gamma=%.2e$'%glist[i])\n",
    "plt.show()"
   ]
  },
  {
   "cell_type": "raw",
   "metadata": {
    "collapsed": true
   },
   "source": [
    "np_reslist = np.array(reslist).reshape(len(blist), len(glist), 8)\n",
    "#np.savez_compressed('summary_'+shapename, reslist=np_reslist)"
   ]
  },
  {
   "cell_type": "raw",
   "metadata": {},
   "source": [
    "print(np_reslist[...,2].flatten())\n",
    "print(np_reslist[...,3].flatten())\n",
    "fig, ax = plt.subplots(1, 2, figsize=(10, 3))\n",
    "ax[0].semilogx(blist, np_reslist[..., 2], '-*')\n",
    "ax[1].semilogx(blist, np_reslist[..., 3]*1000, '-*')\n",
    "plt.show()"
   ]
  }
 ],
 "metadata": {
  "kernelspec": {
   "display_name": "Python 3",
   "language": "python",
   "name": "python3"
  },
  "language_info": {
   "codemirror_mode": {
    "name": "ipython",
    "version": 3
   },
   "file_extension": ".py",
   "mimetype": "text/x-python",
   "name": "python",
   "nbconvert_exporter": "python",
   "pygments_lexer": "ipython3",
   "version": "3.6.8"
  },
  "toc": {
   "base_numbering": 1,
   "nav_menu": {},
   "number_sections": false,
   "sideBar": true,
   "skip_h1_title": false,
   "title_cell": "Table of Contents",
   "title_sidebar": "Contents",
   "toc_cell": false,
   "toc_position": {},
   "toc_section_display": true,
   "toc_window_display": false
  }
 },
 "nbformat": 4,
 "nbformat_minor": 2
}
